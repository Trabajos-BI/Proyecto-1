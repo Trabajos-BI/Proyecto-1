{
 "cells": [
  {
   "cell_type": "markdown",
   "id": "0c5b6743",
   "metadata": {},
   "source": [
    "# Proyecto entrega 1"
   ]
  },
  {
   "cell_type": "markdown",
   "id": "01a015f3",
   "metadata": {},
   "source": [
    "### Integrantes\n",
    "* Santiago Gomez\n",
    "* Sebastian Martinez\n",
    "* Johan Suarez\n",
    "\n",
    "### Grupo\n",
    "36"
   ]
  },
  {
   "cell_type": "markdown",
   "id": "67e4c10e",
   "metadata": {},
   "source": [
    "## Carga de datos"
   ]
  },
  {
   "cell_type": "code",
   "execution_count": 1,
   "id": "54930e8d",
   "metadata": {},
   "outputs": [
    {
     "name": "stdout",
     "output_type": "stream",
     "text": [
      "Requirement already satisfied: spacy<3.9,>=3.8 in c:\\users\\santi\\anaconda3\\envs\\bi\\lib\\site-packages (3.8.7)\n",
      "Requirement already satisfied: spacy-legacy<3.1.0,>=3.0.11 in c:\\users\\santi\\anaconda3\\envs\\bi\\lib\\site-packages (from spacy<3.9,>=3.8) (3.0.12)\n",
      "Requirement already satisfied: spacy-loggers<2.0.0,>=1.0.0 in c:\\users\\santi\\anaconda3\\envs\\bi\\lib\\site-packages (from spacy<3.9,>=3.8) (1.0.5)\n",
      "Requirement already satisfied: murmurhash<1.1.0,>=0.28.0 in c:\\users\\santi\\anaconda3\\envs\\bi\\lib\\site-packages (from spacy<3.9,>=3.8) (1.0.13)\n",
      "Requirement already satisfied: cymem<2.1.0,>=2.0.2 in c:\\users\\santi\\anaconda3\\envs\\bi\\lib\\site-packages (from spacy<3.9,>=3.8) (2.0.11)\n",
      "Requirement already satisfied: preshed<3.1.0,>=3.0.2 in c:\\users\\santi\\anaconda3\\envs\\bi\\lib\\site-packages (from spacy<3.9,>=3.8) (3.0.10)\n",
      "Requirement already satisfied: thinc<8.4.0,>=8.3.4 in c:\\users\\santi\\anaconda3\\envs\\bi\\lib\\site-packages (from spacy<3.9,>=3.8) (8.3.6)\n",
      "Requirement already satisfied: wasabi<1.2.0,>=0.9.1 in c:\\users\\santi\\anaconda3\\envs\\bi\\lib\\site-packages (from spacy<3.9,>=3.8) (1.1.3)\n",
      "Requirement already satisfied: srsly<3.0.0,>=2.4.3 in c:\\users\\santi\\anaconda3\\envs\\bi\\lib\\site-packages (from spacy<3.9,>=3.8) (2.5.1)\n",
      "Requirement already satisfied: catalogue<2.1.0,>=2.0.6 in c:\\users\\santi\\anaconda3\\envs\\bi\\lib\\site-packages (from spacy<3.9,>=3.8) (2.0.10)\n",
      "Requirement already satisfied: weasel<0.5.0,>=0.1.0 in c:\\users\\santi\\anaconda3\\envs\\bi\\lib\\site-packages (from spacy<3.9,>=3.8) (0.4.1)\n",
      "Requirement already satisfied: typer<1.0.0,>=0.3.0 in c:\\users\\santi\\anaconda3\\envs\\bi\\lib\\site-packages (from spacy<3.9,>=3.8) (0.17.4)\n",
      "Requirement already satisfied: tqdm<5.0.0,>=4.38.0 in c:\\users\\santi\\anaconda3\\envs\\bi\\lib\\site-packages (from spacy<3.9,>=3.8) (4.67.1)\n",
      "Requirement already satisfied: numpy>=1.19.0 in c:\\users\\santi\\anaconda3\\envs\\bi\\lib\\site-packages (from spacy<3.9,>=3.8) (2.3.1)\n",
      "Requirement already satisfied: requests<3.0.0,>=2.13.0 in c:\\users\\santi\\anaconda3\\envs\\bi\\lib\\site-packages (from spacy<3.9,>=3.8) (2.32.4)\n",
      "Requirement already satisfied: pydantic!=1.8,!=1.8.1,<3.0.0,>=1.7.4 in c:\\users\\santi\\anaconda3\\envs\\bi\\lib\\site-packages (from spacy<3.9,>=3.8) (2.11.7)\n",
      "Requirement already satisfied: jinja2 in c:\\users\\santi\\anaconda3\\envs\\bi\\lib\\site-packages (from spacy<3.9,>=3.8) (3.1.6)\n",
      "Requirement already satisfied: setuptools in c:\\users\\santi\\anaconda3\\envs\\bi\\lib\\site-packages (from spacy<3.9,>=3.8) (72.1.0)\n",
      "Requirement already satisfied: packaging>=20.0 in c:\\users\\santi\\anaconda3\\envs\\bi\\lib\\site-packages (from spacy<3.9,>=3.8) (25.0)\n",
      "Requirement already satisfied: langcodes<4.0.0,>=3.2.0 in c:\\users\\santi\\anaconda3\\envs\\bi\\lib\\site-packages (from spacy<3.9,>=3.8) (3.5.0)\n",
      "Requirement already satisfied: language-data>=1.2 in c:\\users\\santi\\anaconda3\\envs\\bi\\lib\\site-packages (from langcodes<4.0.0,>=3.2.0->spacy<3.9,>=3.8) (1.3.0)\n",
      "Requirement already satisfied: annotated-types>=0.6.0 in c:\\users\\santi\\anaconda3\\envs\\bi\\lib\\site-packages (from pydantic!=1.8,!=1.8.1,<3.0.0,>=1.7.4->spacy<3.9,>=3.8) (0.7.0)\n",
      "Requirement already satisfied: pydantic-core==2.33.2 in c:\\users\\santi\\anaconda3\\envs\\bi\\lib\\site-packages (from pydantic!=1.8,!=1.8.1,<3.0.0,>=1.7.4->spacy<3.9,>=3.8) (2.33.2)\n",
      "Requirement already satisfied: typing-extensions>=4.12.2 in c:\\users\\santi\\anaconda3\\envs\\bi\\lib\\site-packages (from pydantic!=1.8,!=1.8.1,<3.0.0,>=1.7.4->spacy<3.9,>=3.8) (4.12.2)\n",
      "Requirement already satisfied: typing-inspection>=0.4.0 in c:\\users\\santi\\anaconda3\\envs\\bi\\lib\\site-packages (from pydantic!=1.8,!=1.8.1,<3.0.0,>=1.7.4->spacy<3.9,>=3.8) (0.4.1)\n",
      "Requirement already satisfied: charset_normalizer<4,>=2 in c:\\users\\santi\\anaconda3\\envs\\bi\\lib\\site-packages (from requests<3.0.0,>=2.13.0->spacy<3.9,>=3.8) (3.3.2)\n",
      "Requirement already satisfied: idna<4,>=2.5 in c:\\users\\santi\\anaconda3\\envs\\bi\\lib\\site-packages (from requests<3.0.0,>=2.13.0->spacy<3.9,>=3.8) (3.7)\n",
      "Requirement already satisfied: urllib3<3,>=1.21.1 in c:\\users\\santi\\anaconda3\\envs\\bi\\lib\\site-packages (from requests<3.0.0,>=2.13.0->spacy<3.9,>=3.8) (2.5.0)\n",
      "Requirement already satisfied: certifi>=2017.4.17 in c:\\users\\santi\\anaconda3\\envs\\bi\\lib\\site-packages (from requests<3.0.0,>=2.13.0->spacy<3.9,>=3.8) (2025.8.3)\n",
      "Requirement already satisfied: blis<1.4.0,>=1.3.0 in c:\\users\\santi\\anaconda3\\envs\\bi\\lib\\site-packages (from thinc<8.4.0,>=8.3.4->spacy<3.9,>=3.8) (1.3.0)\n",
      "Requirement already satisfied: confection<1.0.0,>=0.0.1 in c:\\users\\santi\\anaconda3\\envs\\bi\\lib\\site-packages (from thinc<8.4.0,>=8.3.4->spacy<3.9,>=3.8) (0.1.5)\n",
      "Requirement already satisfied: colorama in c:\\users\\santi\\anaconda3\\envs\\bi\\lib\\site-packages (from tqdm<5.0.0,>=4.38.0->spacy<3.9,>=3.8) (0.4.6)\n",
      "Requirement already satisfied: click>=8.0.0 in c:\\users\\santi\\anaconda3\\envs\\bi\\lib\\site-packages (from typer<1.0.0,>=0.3.0->spacy<3.9,>=3.8) (8.2.1)\n",
      "Requirement already satisfied: shellingham>=1.3.0 in c:\\users\\santi\\anaconda3\\envs\\bi\\lib\\site-packages (from typer<1.0.0,>=0.3.0->spacy<3.9,>=3.8) (1.5.4)\n",
      "Requirement already satisfied: rich>=10.11.0 in c:\\users\\santi\\anaconda3\\envs\\bi\\lib\\site-packages (from typer<1.0.0,>=0.3.0->spacy<3.9,>=3.8) (14.1.0)\n",
      "Requirement already satisfied: cloudpathlib<1.0.0,>=0.7.0 in c:\\users\\santi\\anaconda3\\envs\\bi\\lib\\site-packages (from weasel<0.5.0,>=0.1.0->spacy<3.9,>=3.8) (0.22.0)\n",
      "Requirement already satisfied: smart-open<8.0.0,>=5.2.1 in c:\\users\\santi\\anaconda3\\envs\\bi\\lib\\site-packages (from weasel<0.5.0,>=0.1.0->spacy<3.9,>=3.8) (7.3.1)\n",
      "Requirement already satisfied: wrapt in c:\\users\\santi\\anaconda3\\envs\\bi\\lib\\site-packages (from smart-open<8.0.0,>=5.2.1->weasel<0.5.0,>=0.1.0->spacy<3.9,>=3.8) (1.17.3)\n",
      "Requirement already satisfied: marisa-trie>=1.1.0 in c:\\users\\santi\\anaconda3\\envs\\bi\\lib\\site-packages (from language-data>=1.2->langcodes<4.0.0,>=3.2.0->spacy<3.9,>=3.8) (1.3.1)\n",
      "Requirement already satisfied: markdown-it-py>=2.2.0 in c:\\users\\santi\\anaconda3\\envs\\bi\\lib\\site-packages (from rich>=10.11.0->typer<1.0.0,>=0.3.0->spacy<3.9,>=3.8) (4.0.0)\n",
      "Requirement already satisfied: pygments<3.0.0,>=2.13.0 in c:\\users\\santi\\anaconda3\\envs\\bi\\lib\\site-packages (from rich>=10.11.0->typer<1.0.0,>=0.3.0->spacy<3.9,>=3.8) (2.19.1)\n",
      "Requirement already satisfied: mdurl~=0.1 in c:\\users\\santi\\anaconda3\\envs\\bi\\lib\\site-packages (from markdown-it-py>=2.2.0->rich>=10.11.0->typer<1.0.0,>=0.3.0->spacy<3.9,>=3.8) (0.1.2)\n",
      "Requirement already satisfied: MarkupSafe>=2.0 in c:\\users\\santi\\anaconda3\\envs\\bi\\lib\\site-packages (from jinja2->spacy<3.9,>=3.8) (3.0.2)\n",
      "Note: you may need to restart the kernel to use updated packages.\n",
      "Processing c:\\users\\santi\\onedrive\\escritorio\\universidad\\2025\\2025-2\\bi\\proyecto-1\\es_core_news_sm-3.8.0-py3-none-any.whl\n",
      "es-core-news-sm is already installed with the same version as the provided wheel. Use --force-reinstall to force an installation of the wheel.\n",
      "Note: you may need to restart the kernel to use updated packages.\n"
     ]
    }
   ],
   "source": [
    "%pip install -U \"spacy>=3.8,<3.9\"\n",
    "%pip install \"./es_core_news_sm-3.8.0-py3-none-any.whl\" "
   ]
  },
  {
   "cell_type": "code",
   "execution_count": 2,
   "id": "fcc893ce",
   "metadata": {},
   "outputs": [
    {
     "name": "stdout",
     "output_type": "stream",
     "text": [
      "<class 'pandas.core.frame.DataFrame'>\n",
      "RangeIndex: 2424 entries, 0 to 2423\n",
      "Data columns (total 2 columns):\n",
      " #   Column  Non-Null Count  Dtype \n",
      "---  ------  --------------  ----- \n",
      " 0   textos  2424 non-null   object\n",
      " 1   labels  2424 non-null   int64 \n",
      "dtypes: int64(1), object(1)\n",
      "memory usage: 38.0+ KB\n"
     ]
    }
   ],
   "source": [
    "import pandas as pd\n",
    "import numpy as np\n",
    "import matplotlib.pyplot as plt\n",
    "import spacy\n",
    "import es_core_news_sm\n",
    "\n",
    "nlp = spacy.load(\"es_core_news_sm\")\n",
    "dfOriginal = pd.read_excel('Datos_proyecto.xlsx')\n",
    "dfOriginal.info()\n",
    "\n"
   ]
  },
  {
   "cell_type": "markdown",
   "id": "08b52144",
   "metadata": {},
   "source": [
    "## Exploración del texto"
   ]
  },
  {
   "cell_type": "markdown",
   "id": "9acf64d6",
   "metadata": {},
   "source": [
    "Principalmente observemos el formato inicial del dataset, con especial enfasis en la columna de textos"
   ]
  },
  {
   "cell_type": "code",
   "execution_count": 3,
   "id": "8a1a5e1b",
   "metadata": {},
   "outputs": [
    {
     "name": "stdout",
     "output_type": "stream",
     "text": [
      "<class 'pandas.core.frame.DataFrame'>\n",
      "RangeIndex: 2424 entries, 0 to 2423\n",
      "Data columns (total 2 columns):\n",
      " #   Column  Non-Null Count  Dtype \n",
      "---  ------  --------------  ----- \n",
      " 0   textos  2424 non-null   string\n",
      " 1   labels  2424 non-null   int64 \n",
      "dtypes: int64(1), string(1)\n",
      "memory usage: 38.0 KB\n"
     ]
    }
   ],
   "source": [
    "dfOriginal.head()\n",
    "df = dfOriginal.copy()\n",
    "df['textos'] = df['textos'].astype(\"string\")\n",
    "df.info()"
   ]
  },
  {
   "cell_type": "markdown",
   "id": "b3c3a5bb",
   "metadata": {},
   "source": [
    "Exploracion de longitudes de los textos presentados en el dataset"
   ]
  },
  {
   "cell_type": "code",
   "execution_count": 4,
   "id": "3c04fcca",
   "metadata": {},
   "outputs": [
    {
     "data": {
      "text/html": [
       "<div>\n",
       "<style scoped>\n",
       "    .dataframe tbody tr th:only-of-type {\n",
       "        vertical-align: middle;\n",
       "    }\n",
       "\n",
       "    .dataframe tbody tr th {\n",
       "        vertical-align: top;\n",
       "    }\n",
       "\n",
       "    .dataframe thead th {\n",
       "        text-align: right;\n",
       "    }\n",
       "</style>\n",
       "<table border=\"1\" class=\"dataframe\">\n",
       "  <thead>\n",
       "    <tr style=\"text-align: right;\">\n",
       "      <th></th>\n",
       "      <th>textos</th>\n",
       "      <th>labels</th>\n",
       "      <th>Conteo</th>\n",
       "      <th>Max</th>\n",
       "      <th>Min</th>\n",
       "    </tr>\n",
       "  </thead>\n",
       "  <tbody>\n",
       "    <tr>\n",
       "      <th>0</th>\n",
       "      <td>\"Aprendizaje\" y \"educación\" se consideran sinó...</td>\n",
       "      <td>4</td>\n",
       "      <td>352</td>\n",
       "      <td>14</td>\n",
       "      <td>1</td>\n",
       "    </tr>\n",
       "    <tr>\n",
       "      <th>1</th>\n",
       "      <td>Para los niños más pequeños (bebés y niños peq...</td>\n",
       "      <td>4</td>\n",
       "      <td>516</td>\n",
       "      <td>16</td>\n",
       "      <td>1</td>\n",
       "    </tr>\n",
       "    <tr>\n",
       "      <th>2</th>\n",
       "      <td>Además, la formación de especialistas en medic...</td>\n",
       "      <td>3</td>\n",
       "      <td>659</td>\n",
       "      <td>15</td>\n",
       "      <td>1</td>\n",
       "    </tr>\n",
       "    <tr>\n",
       "      <th>3</th>\n",
       "      <td>En los países de la OCDE se tiende a pasar de ...</td>\n",
       "      <td>4</td>\n",
       "      <td>693</td>\n",
       "      <td>18</td>\n",
       "      <td>1</td>\n",
       "    </tr>\n",
       "    <tr>\n",
       "      <th>4</th>\n",
       "      <td>Este grupo se centró en las personas que padec...</td>\n",
       "      <td>3</td>\n",
       "      <td>608</td>\n",
       "      <td>14</td>\n",
       "      <td>0</td>\n",
       "    </tr>\n",
       "  </tbody>\n",
       "</table>\n",
       "</div>"
      ],
      "text/plain": [
       "                                              textos  labels  Conteo  Max  Min\n",
       "0  \"Aprendizaje\" y \"educación\" se consideran sinó...       4     352   14    1\n",
       "1  Para los niños más pequeños (bebés y niños peq...       4     516   16    1\n",
       "2  Además, la formación de especialistas en medic...       3     659   15    1\n",
       "3  En los países de la OCDE se tiende a pasar de ...       4     693   18    1\n",
       "4  Este grupo se centró en las personas que padec...       3     608   14    0"
      ]
     },
     "execution_count": 4,
     "metadata": {},
     "output_type": "execute_result"
    }
   ],
   "source": [
    "def columnasConteo(df : pd.DataFrame):\n",
    "    df['Conteo'] = [len(x) for x in df['textos']]\n",
    "    df['Max'] = [[max([len(x) for x in i.split(' ')])][0] for i in df['textos']]\n",
    "    df['Min'] = [[min([len(x) for x in i.split(' ')])][0] for i in df['textos']]\n",
    "columnasConteo(df)\n",
    "df.head()"
   ]
  },
  {
   "cell_type": "markdown",
   "id": "df8e7fc7",
   "metadata": {},
   "source": [
    "Veamos ahora los maximos, minimos y promedio de la longitud de los textos del dataset"
   ]
  },
  {
   "cell_type": "code",
   "execution_count": 5,
   "id": "dc4abf7b",
   "metadata": {},
   "outputs": [],
   "source": [
    "def longitud(df: pd.DataFrame):\n",
    "    maximo = df['Conteo'].max()\n",
    "    minimo = df['Conteo'].min()\n",
    "    promedio = int(df['Conteo'].mean())\n",
    "    print(f'El maximo de longitud es: {maximo}')\n",
    "    print(f'El minimo de longitud es: {minimo}')\n",
    "    print(f'El promedio de longitud es: {promedio:.2f}')\n",
    "    return maximo, minimo, promedio"
   ]
  },
  {
   "cell_type": "code",
   "execution_count": 6,
   "id": "691cd6d3",
   "metadata": {},
   "outputs": [
    {
     "name": "stdout",
     "output_type": "stream",
     "text": [
      "El maximo de longitud es: 1492\n",
      "El minimo de longitud es: 303\n",
      "El promedio de longitud es: 683.00\n"
     ]
    },
    {
     "data": {
      "image/png": "[encoded data removed]",
      "text/plain": [
       "<Figure size 1000x600 with 1 Axes>"
      ]
     },
     "metadata": {},
     "output_type": "display_data"
    }
   ],
   "source": [
    "maximo, minimo, promedio = longitud(df)\n",
    "plt.figure(figsize=(10,6))\n",
    "plt.bar(['Maximo', 'Minimo', 'Promedio'], [maximo, minimo, promedio], color=['red', 'green', 'blue'])\n",
    "plt.title('Estadísticas de Longitud de Textos')\n",
    "plt.ylabel('Número de Palabras')\n",
    "plt.show()\n"
   ]
  },
  {
   "cell_type": "markdown",
   "id": "adef7909",
   "metadata": {},
   "source": [
    "### Distribucion de la longitud"
   ]
  },
  {
   "cell_type": "code",
   "execution_count": 7,
   "id": "b443a5de",
   "metadata": {},
   "outputs": [
    {
     "data": {
      "image/png": "[encoded data removed]",
      "text/plain": [
       "<Figure size 1000x600 with 1 Axes>"
      ]
     },
     "metadata": {},
     "output_type": "display_data"
    }
   ],
   "source": [
    "\n",
    "plt.figure(figsize=(10,6))\n",
    "plt.hist(df['Conteo'], bins=30, color='skyblue', edgecolor='black')\n",
    "plt.title('Distribución de la Longitud de Textos')\n",
    "plt.xlabel('Longitud (Número de Palabras)')\n",
    "plt.ylabel('Frecuencia')\n",
    "plt.grid(axis='y', alpha=0.75)\n",
    "plt.show()"
   ]
  },
  {
   "cell_type": "code",
   "execution_count": 8,
   "id": "12e893cb",
   "metadata": {},
   "outputs": [
    {
     "data": {
      "image/png": "[encoded data removed]",
      "text/plain": [
       "<Figure size 800x600 with 1 Axes>"
      ]
     },
     "metadata": {},
     "output_type": "display_data"
    }
   ],
   "source": [
    "#Boxplot\n",
    "plt.figure(figsize=(8,6))\n",
    "plt.boxplot(df['Conteo'], vert=False)\n",
    "plt.title('Boxplot de la Longitud de Textos')\n",
    "plt.xlabel('Número de Palabras')\n",
    "plt.grid(axis='x', alpha=0.75)\n",
    "plt.show()"
   ]
  },
  {
   "cell_type": "markdown",
   "id": "79d8c10e",
   "metadata": {},
   "source": [
    "### Presencia de catracteres especiales"
   ]
  },
  {
   "cell_type": "code",
   "execution_count": 9,
   "id": "eb8caf71",
   "metadata": {},
   "outputs": [],
   "source": [
    "def especiales(df : pd.DataFrame):\n",
    "    signos = r\"(?:[!¡¿?;:'\\\"]|\\.{3})\"\n",
    "    signosPresentes = df['textos'].str.contains(signos).sum()\n",
    "    print(f'La cantidad de textos con signos de puntuación es: {signosPresentes}')\n",
    "    print(f'El porcentaje de textos con signos de puntuación es: {signosPresentes/len(df)*100:.2f}%')\n",
    "    especiales = r\"(?:[@#$%^&*()_+=\\[\\]{}|\\\\<>/~`])\"\n",
    "    especialesPresentes = df['textos'].str.contains(especiales).sum()\n",
    "    print(f'La cantidad de textos con caracteres especiales es: {especialesPresentes}')\n",
    "    print(f'El porcentaje de textos con caracteres especiales es: {especialesPresentes/len(df)*100:.2f}%')\n",
    "    return signosPresentes, especialesPresentes\n"
   ]
  },
  {
   "cell_type": "code",
   "execution_count": 10,
   "id": "17ab7180",
   "metadata": {},
   "outputs": [
    {
     "name": "stdout",
     "output_type": "stream",
     "text": [
      "La cantidad de textos con signos de puntuación es: 596\n",
      "El porcentaje de textos con signos de puntuación es: 24.59%\n",
      "La cantidad de textos con caracteres especiales es: 1562\n",
      "El porcentaje de textos con caracteres especiales es: 64.44%\n"
     ]
    },
    {
     "data": {
      "image/png": "[encoded data removed]",
      "text/plain": [
       "<Figure size 800x600 with 1 Axes>"
      ]
     },
     "metadata": {},
     "output_type": "display_data"
    }
   ],
   "source": [
    "#Distribucion especiales\n",
    "size = df['textos'].size\n",
    "signosPresentes, especialesPresentes = especiales(df)\n",
    "plt.figure(figsize=(8,6))\n",
    "plt.pie([signosPresentes, especialesPresentes, size - signosPresentes - especialesPresentes], labels=['Signos de Puntuación', 'Caracteres Especiales', 'Otros'], autopct='%1.1f%%', colors=['orange', 'purple', 'lightgray'])\n",
    "plt.title('Proporción de Textos con Signos y Caracteres Especiales')\n",
    "plt.show()\n"
   ]
  },
  {
   "cell_type": "code",
   "execution_count": null,
   "id": "d8abbcd8",
   "metadata": {},
   "outputs": [],
   "source": [
    "#BoxPlot\n"
   ]
  },
  {
   "cell_type": "markdown",
   "id": "d0a9e6a9",
   "metadata": {},
   "source": [
    "### Limpieza"
   ]
  },
  {
   "cell_type": "markdown",
   "id": "f81942c1",
   "metadata": {},
   "source": [
    "Procedemos a poner todo el dataset en un único formato"
   ]
  },
  {
   "cell_type": "code",
   "execution_count": 12,
   "id": "5cd9c2d6",
   "metadata": {},
   "outputs": [
    {
     "data": {
      "text/html": [
       "<div>\n",
       "<style scoped>\n",
       "    .dataframe tbody tr th:only-of-type {\n",
       "        vertical-align: middle;\n",
       "    }\n",
       "\n",
       "    .dataframe tbody tr th {\n",
       "        vertical-align: top;\n",
       "    }\n",
       "\n",
       "    .dataframe thead th {\n",
       "        text-align: right;\n",
       "    }\n",
       "</style>\n",
       "<table border=\"1\" class=\"dataframe\">\n",
       "  <thead>\n",
       "    <tr style=\"text-align: right;\">\n",
       "      <th></th>\n",
       "      <th>textos</th>\n",
       "      <th>labels</th>\n",
       "      <th>Conteo</th>\n",
       "      <th>Max</th>\n",
       "      <th>Min</th>\n",
       "    </tr>\n",
       "  </thead>\n",
       "  <tbody>\n",
       "    <tr>\n",
       "      <th>0</th>\n",
       "      <td>\"aprendizaje\" y \"educación\" se consideran sinó...</td>\n",
       "      <td>4</td>\n",
       "      <td>352</td>\n",
       "      <td>14</td>\n",
       "      <td>1</td>\n",
       "    </tr>\n",
       "    <tr>\n",
       "      <th>1</th>\n",
       "      <td>para los niños más pequeños (bebés y niños peq...</td>\n",
       "      <td>4</td>\n",
       "      <td>516</td>\n",
       "      <td>16</td>\n",
       "      <td>1</td>\n",
       "    </tr>\n",
       "    <tr>\n",
       "      <th>2</th>\n",
       "      <td>además, la formación de especialistas en medic...</td>\n",
       "      <td>3</td>\n",
       "      <td>659</td>\n",
       "      <td>15</td>\n",
       "      <td>1</td>\n",
       "    </tr>\n",
       "    <tr>\n",
       "      <th>3</th>\n",
       "      <td>en los países de la ocde se tiende a pasar de ...</td>\n",
       "      <td>4</td>\n",
       "      <td>693</td>\n",
       "      <td>18</td>\n",
       "      <td>1</td>\n",
       "    </tr>\n",
       "    <tr>\n",
       "      <th>4</th>\n",
       "      <td>este grupo se centró en las personas que padec...</td>\n",
       "      <td>3</td>\n",
       "      <td>608</td>\n",
       "      <td>14</td>\n",
       "      <td>0</td>\n",
       "    </tr>\n",
       "  </tbody>\n",
       "</table>\n",
       "</div>"
      ],
      "text/plain": [
       "                                              textos  labels  Conteo  Max  Min\n",
       "0  \"aprendizaje\" y \"educación\" se consideran sinó...       4     352   14    1\n",
       "1  para los niños más pequeños (bebés y niños peq...       4     516   16    1\n",
       "2  además, la formación de especialistas en medic...       3     659   15    1\n",
       "3  en los países de la ocde se tiende a pasar de ...       4     693   18    1\n",
       "4  este grupo se centró en las personas que padec...       3     608   14    0"
      ]
     },
     "execution_count": 12,
     "metadata": {},
     "output_type": "execute_result"
    }
   ],
   "source": [
    "def todoAmin(df: pd.DataFrame):\n",
    "    df['textos'] = df['textos'].str.lower()\n",
    "todoAmin(df)\n",
    "df.head()"
   ]
  },
  {
   "cell_type": "markdown",
   "id": "7e354925",
   "metadata": {},
   "source": [
    "Limpieza de caracteres especiales, signos y urls"
   ]
  },
  {
   "cell_type": "code",
   "execution_count": 13,
   "id": "9ef70160",
   "metadata": {},
   "outputs": [
    {
     "data": {
      "text/html": [
       "<div>\n",
       "<style scoped>\n",
       "    .dataframe tbody tr th:only-of-type {\n",
       "        vertical-align: middle;\n",
       "    }\n",
       "\n",
       "    .dataframe tbody tr th {\n",
       "        vertical-align: top;\n",
       "    }\n",
       "\n",
       "    .dataframe thead th {\n",
       "        text-align: right;\n",
       "    }\n",
       "</style>\n",
       "<table border=\"1\" class=\"dataframe\">\n",
       "  <thead>\n",
       "    <tr style=\"text-align: right;\">\n",
       "      <th></th>\n",
       "      <th>textos</th>\n",
       "      <th>labels</th>\n",
       "      <th>Conteo</th>\n",
       "      <th>Max</th>\n",
       "      <th>Min</th>\n",
       "    </tr>\n",
       "  </thead>\n",
       "  <tbody>\n",
       "    <tr>\n",
       "      <th>0</th>\n",
       "      <td>aprendizaje y educación se consideran sinónimo...</td>\n",
       "      <td>4</td>\n",
       "      <td>352</td>\n",
       "      <td>14</td>\n",
       "      <td>1</td>\n",
       "    </tr>\n",
       "    <tr>\n",
       "      <th>1</th>\n",
       "      <td>para los niños más pequeños bebés y niños pequ...</td>\n",
       "      <td>4</td>\n",
       "      <td>516</td>\n",
       "      <td>16</td>\n",
       "      <td>1</td>\n",
       "    </tr>\n",
       "    <tr>\n",
       "      <th>2</th>\n",
       "      <td>además la formación de especialistas en medici...</td>\n",
       "      <td>3</td>\n",
       "      <td>659</td>\n",
       "      <td>15</td>\n",
       "      <td>1</td>\n",
       "    </tr>\n",
       "    <tr>\n",
       "      <th>3</th>\n",
       "      <td>en los países de la ocde se tiende a pasar de ...</td>\n",
       "      <td>4</td>\n",
       "      <td>693</td>\n",
       "      <td>18</td>\n",
       "      <td>1</td>\n",
       "    </tr>\n",
       "    <tr>\n",
       "      <th>4</th>\n",
       "      <td>este grupo se centró en las personas que padec...</td>\n",
       "      <td>3</td>\n",
       "      <td>608</td>\n",
       "      <td>14</td>\n",
       "      <td>0</td>\n",
       "    </tr>\n",
       "  </tbody>\n",
       "</table>\n",
       "</div>"
      ],
      "text/plain": [
       "                                              textos  labels  Conteo  Max  Min\n",
       "0  aprendizaje y educación se consideran sinónimo...       4     352   14    1\n",
       "1  para los niños más pequeños bebés y niños pequ...       4     516   16    1\n",
       "2  además la formación de especialistas en medici...       3     659   15    1\n",
       "3  en los países de la ocde se tiende a pasar de ...       4     693   18    1\n",
       "4  este grupo se centró en las personas que padec...       3     608   14    0"
      ]
     },
     "execution_count": 13,
     "metadata": {},
     "output_type": "execute_result"
    }
   ],
   "source": [
    "def limpiza(df: pd.DataFrame):\n",
    "    df['textos'] = df['textos'].str.replace(r\"http[s]?://[^\\s)]+\", '', regex=True)\n",
    "    df['textos'] = df['textos'].str.replace(r\"(?:[!¡¿?;:'\\\".,]|\\.{3})\", '', regex=True)\n",
    "    df['textos'] = df['textos'].str.replace(r\"(?:[@#$%^&*()_+=\\[\\]{}|\\\\<>/~`])\", '', regex=True)\n",
    "    df['textos'] = df['textos'].str.replace(r\"\\s+\", ' ', regex=True).str.strip()\n",
    "limpiza(df)\n",
    "df.head()\n"
   ]
  },
  {
   "cell_type": "markdown",
   "id": "3f85fbc4",
   "metadata": {},
   "source": [
    "### Tokenización"
   ]
  },
  {
   "cell_type": "code",
   "execution_count": 14,
   "id": "b28832e2",
   "metadata": {},
   "outputs": [
    {
     "ename": "ValueError",
     "evalue": "[E1041] Expected a string, Doc, or bytes as input, but got: <class 'pandas.core.series.Series'>",
     "output_type": "error",
     "traceback": [
      "\u001b[31m---------------------------------------------------------------------------\u001b[39m",
      "\u001b[31mValueError\u001b[39m                                Traceback (most recent call last)",
      "\u001b[36mCell\u001b[39m\u001b[36m \u001b[39m\u001b[32mIn[14]\u001b[39m\u001b[32m, line 4\u001b[39m\n\u001b[32m      1\u001b[39m \u001b[38;5;28;01mdef\u001b[39;00m\u001b[38;5;250m \u001b[39m\u001b[34mtokenizacion\u001b[39m(df: pd.DataFrame):\n\u001b[32m      2\u001b[39m     df[\u001b[33m'\u001b[39m\u001b[33mtokens\u001b[39m\u001b[33m'\u001b[39m] = nlp(df[\u001b[33m'\u001b[39m\u001b[33mtextos\u001b[39m\u001b[33m'\u001b[39m])\n\u001b[32m----> \u001b[39m\u001b[32m4\u001b[39m tokenizacion(df)\n\u001b[32m      5\u001b[39m df.head()\n",
      "\u001b[36mCell\u001b[39m\u001b[36m \u001b[39m\u001b[32mIn[14]\u001b[39m\u001b[32m, line 2\u001b[39m, in \u001b[36mtokenizacion\u001b[39m\u001b[34m(df)\u001b[39m\n\u001b[32m      1\u001b[39m \u001b[38;5;28;01mdef\u001b[39;00m\u001b[38;5;250m \u001b[39m\u001b[34mtokenizacion\u001b[39m(df: pd.DataFrame):\n\u001b[32m----> \u001b[39m\u001b[32m2\u001b[39m     df[\u001b[33m'\u001b[39m\u001b[33mtokens\u001b[39m\u001b[33m'\u001b[39m] = nlp(df[\u001b[33m'\u001b[39m\u001b[33mtextos\u001b[39m\u001b[33m'\u001b[39m])\n",
      "\u001b[36mFile \u001b[39m\u001b[32mc:\\Users\\santi\\anaconda3\\envs\\BI\\Lib\\site-packages\\spacy\\language.py:1041\u001b[39m, in \u001b[36mLanguage.__call__\u001b[39m\u001b[34m(self, text, disable, component_cfg)\u001b[39m\n\u001b[32m   1020\u001b[39m \u001b[38;5;28;01mdef\u001b[39;00m\u001b[38;5;250m \u001b[39m\u001b[34m__call__\u001b[39m(\n\u001b[32m   1021\u001b[39m     \u001b[38;5;28mself\u001b[39m,\n\u001b[32m   1022\u001b[39m     text: Union[\u001b[38;5;28mstr\u001b[39m, Doc],\n\u001b[32m   (...)\u001b[39m\u001b[32m   1025\u001b[39m     component_cfg: Optional[Dict[\u001b[38;5;28mstr\u001b[39m, Dict[\u001b[38;5;28mstr\u001b[39m, Any]]] = \u001b[38;5;28;01mNone\u001b[39;00m,\n\u001b[32m   1026\u001b[39m ) -> Doc:\n\u001b[32m   1027\u001b[39m \u001b[38;5;250m    \u001b[39m\u001b[33;03m\"\"\"Apply the pipeline to some text. The text can span multiple sentences,\u001b[39;00m\n\u001b[32m   1028\u001b[39m \u001b[33;03m    and can contain arbitrary whitespace. Alignment into the original string\u001b[39;00m\n\u001b[32m   1029\u001b[39m \u001b[33;03m    is preserved.\u001b[39;00m\n\u001b[32m   (...)\u001b[39m\u001b[32m   1039\u001b[39m \u001b[33;03m    DOCS: https://spacy.io/api/language#call\u001b[39;00m\n\u001b[32m   1040\u001b[39m \u001b[33;03m    \"\"\"\u001b[39;00m\n\u001b[32m-> \u001b[39m\u001b[32m1041\u001b[39m     doc = \u001b[38;5;28mself\u001b[39m._ensure_doc(text)\n\u001b[32m   1042\u001b[39m     \u001b[38;5;28;01mif\u001b[39;00m component_cfg \u001b[38;5;129;01mis\u001b[39;00m \u001b[38;5;28;01mNone\u001b[39;00m:\n\u001b[32m   1043\u001b[39m         component_cfg = {}\n",
      "\u001b[36mFile \u001b[39m\u001b[32mc:\\Users\\santi\\anaconda3\\envs\\BI\\Lib\\site-packages\\spacy\\language.py:1135\u001b[39m, in \u001b[36mLanguage._ensure_doc\u001b[39m\u001b[34m(self, doc_like)\u001b[39m\n\u001b[32m   1133\u001b[39m \u001b[38;5;28;01mif\u001b[39;00m \u001b[38;5;28misinstance\u001b[39m(doc_like, \u001b[38;5;28mbytes\u001b[39m):\n\u001b[32m   1134\u001b[39m     \u001b[38;5;28;01mreturn\u001b[39;00m Doc(\u001b[38;5;28mself\u001b[39m.vocab).from_bytes(doc_like)\n\u001b[32m-> \u001b[39m\u001b[32m1135\u001b[39m \u001b[38;5;28;01mraise\u001b[39;00m \u001b[38;5;167;01mValueError\u001b[39;00m(Errors.E1041.format(\u001b[38;5;28mtype\u001b[39m=\u001b[38;5;28mtype\u001b[39m(doc_like)))\n",
      "\u001b[31mValueError\u001b[39m: [E1041] Expected a string, Doc, or bytes as input, but got: <class 'pandas.core.series.Series'>"
     ]
    }
   ],
   "source": [
    "def tokenizacion(df: pd.DataFrame):\n",
    "    df['tokens'] = nlp(df['textos'])\n",
    "\n",
    "tokenizacion(df)\n",
    "df.head()"
   ]
  },
  {
   "cell_type": "code",
   "execution_count": null,
   "id": "ee077050",
   "metadata": {},
   "outputs": [],
   "source": []
  }
 ],
 "metadata": {
  "kernelspec": {
   "display_name": "BI",
   "language": "python",
   "name": "python3"
  },
  "language_info": {
   "codemirror_mode": {
    "name": "ipython",
    "version": 3
   },
   "file_extension": ".py",
   "mimetype": "text/x-python",
   "name": "python",
   "nbconvert_exporter": "python",
   "pygments_lexer": "ipython3",
   "version": "3.13.5"
  }
 },
 "nbformat": 4,
 "nbformat_minor": 5
}
