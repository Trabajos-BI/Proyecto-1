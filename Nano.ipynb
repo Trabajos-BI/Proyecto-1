{
 "cells": [
  {
   "cell_type": "markdown",
   "id": "0c5b6743",
   "metadata": {},
   "source": [
    "# Proyecto entrega 1"
   ]
  },
  {
   "cell_type": "markdown",
   "id": "01a015f3",
   "metadata": {},
   "source": [
    "### Integrantes\n",
    "* Santiago Gomez\n",
    "* Sebastian Martinez\n",
    "* Johan Suarez\n",
    "\n",
    "### Grupo\n",
    "36"
   ]
  },
  {
   "cell_type": "markdown",
   "id": "67e4c10e",
   "metadata": {},
   "source": [
    "## Carga de datos"
   ]
  },
  {
   "cell_type": "code",
   "execution_count": 83,
   "id": "fcc893ce",
   "metadata": {},
   "outputs": [
    {
     "name": "stdout",
     "output_type": "stream",
     "text": [
      "<class 'pandas.core.frame.DataFrame'>\n",
      "RangeIndex: 2424 entries, 0 to 2423\n",
      "Data columns (total 2 columns):\n",
      " #   Column  Non-Null Count  Dtype \n",
      "---  ------  --------------  ----- \n",
      " 0   textos  2424 non-null   object\n",
      " 1   labels  2424 non-null   int64 \n",
      "dtypes: int64(1), object(1)\n",
      "memory usage: 38.0+ KB\n"
     ]
    }
   ],
   "source": [
    "import pandas as pd\n",
    "import numpy as np\n",
    "import matplotlib.pyplot as plt\n",
    "\n",
    "dfOriginal = pd.read_excel('Datos_proyecto.xlsx')\n",
    "dfOriginal.info()\n",
    "\n"
   ]
  },
  {
   "cell_type": "markdown",
   "id": "08b52144",
   "metadata": {},
   "source": [
    "### Exploración del texto"
   ]
  },
  {
   "cell_type": "markdown",
   "id": "9acf64d6",
   "metadata": {},
   "source": [
    "Principalmente observemos el formato inicial del dataset, con especial enfasis en la columna de textos"
   ]
  },
  {
   "cell_type": "code",
   "execution_count": 84,
   "id": "8a1a5e1b",
   "metadata": {},
   "outputs": [
    {
     "name": "stdout",
     "output_type": "stream",
     "text": [
      "<class 'pandas.core.frame.DataFrame'>\n",
      "RangeIndex: 2424 entries, 0 to 2423\n",
      "Data columns (total 2 columns):\n",
      " #   Column  Non-Null Count  Dtype \n",
      "---  ------  --------------  ----- \n",
      " 0   textos  2424 non-null   string\n",
      " 1   labels  2424 non-null   int64 \n",
      "dtypes: int64(1), string(1)\n",
      "memory usage: 38.0 KB\n"
     ]
    }
   ],
   "source": [
    "dfOriginal.head()\n",
    "df = dfOriginal.copy()\n",
    "df['textos'] = df['textos'].astype(\"string\")\n",
    "df.info()"
   ]
  },
  {
   "cell_type": "markdown",
   "id": "b3c3a5bb",
   "metadata": {},
   "source": [
    "Exploracion de longitudes de los textos presentados en el dataset"
   ]
  },
  {
   "cell_type": "code",
   "execution_count": 85,
   "id": "3c04fcca",
   "metadata": {},
   "outputs": [
    {
     "data": {
      "text/html": [
       "<div>\n",
       "<style scoped>\n",
       "    .dataframe tbody tr th:only-of-type {\n",
       "        vertical-align: middle;\n",
       "    }\n",
       "\n",
       "    .dataframe tbody tr th {\n",
       "        vertical-align: top;\n",
       "    }\n",
       "\n",
       "    .dataframe thead th {\n",
       "        text-align: right;\n",
       "    }\n",
       "</style>\n",
       "<table border=\"1\" class=\"dataframe\">\n",
       "  <thead>\n",
       "    <tr style=\"text-align: right;\">\n",
       "      <th></th>\n",
       "      <th>textos</th>\n",
       "      <th>labels</th>\n",
       "      <th>Conteo</th>\n",
       "      <th>Max</th>\n",
       "      <th>Min</th>\n",
       "    </tr>\n",
       "  </thead>\n",
       "  <tbody>\n",
       "    <tr>\n",
       "      <th>0</th>\n",
       "      <td>\"Aprendizaje\" y \"educación\" se consideran sinó...</td>\n",
       "      <td>4</td>\n",
       "      <td>352</td>\n",
       "      <td>14</td>\n",
       "      <td>1</td>\n",
       "    </tr>\n",
       "    <tr>\n",
       "      <th>1</th>\n",
       "      <td>Para los niños más pequeños (bebés y niños peq...</td>\n",
       "      <td>4</td>\n",
       "      <td>516</td>\n",
       "      <td>16</td>\n",
       "      <td>1</td>\n",
       "    </tr>\n",
       "    <tr>\n",
       "      <th>2</th>\n",
       "      <td>Además, la formación de especialistas en medic...</td>\n",
       "      <td>3</td>\n",
       "      <td>659</td>\n",
       "      <td>15</td>\n",
       "      <td>1</td>\n",
       "    </tr>\n",
       "    <tr>\n",
       "      <th>3</th>\n",
       "      <td>En los países de la OCDE se tiende a pasar de ...</td>\n",
       "      <td>4</td>\n",
       "      <td>693</td>\n",
       "      <td>18</td>\n",
       "      <td>1</td>\n",
       "    </tr>\n",
       "    <tr>\n",
       "      <th>4</th>\n",
       "      <td>Este grupo se centró en las personas que padec...</td>\n",
       "      <td>3</td>\n",
       "      <td>608</td>\n",
       "      <td>14</td>\n",
       "      <td>0</td>\n",
       "    </tr>\n",
       "  </tbody>\n",
       "</table>\n",
       "</div>"
      ],
      "text/plain": [
       "                                              textos  labels  Conteo  Max  Min\n",
       "0  \"Aprendizaje\" y \"educación\" se consideran sinó...       4     352   14    1\n",
       "1  Para los niños más pequeños (bebés y niños peq...       4     516   16    1\n",
       "2  Además, la formación de especialistas en medic...       3     659   15    1\n",
       "3  En los países de la OCDE se tiende a pasar de ...       4     693   18    1\n",
       "4  Este grupo se centró en las personas que padec...       3     608   14    0"
      ]
     },
     "execution_count": 85,
     "metadata": {},
     "output_type": "execute_result"
    }
   ],
   "source": [
    "def columnasConteo(df : pd.DataFrame):\n",
    "    df['Conteo'] = [len(x) for x in df['textos']]\n",
    "    df['Max'] = [[max([len(x) for x in i.split(' ')])][0] for i in df['textos']]\n",
    "    df['Min'] = [[min([len(x) for x in i.split(' ')])][0] for i in df['textos']]\n",
    "columnasConteo(df)\n",
    "df.head()"
   ]
  },
  {
   "cell_type": "markdown",
   "id": "df8e7fc7",
   "metadata": {},
   "source": [
    "Veamos ahora los maximos, minimos y promedio de la longitud de los textos del dataset"
   ]
  },
  {
   "cell_type": "code",
   "execution_count": 86,
   "id": "dc4abf7b",
   "metadata": {},
   "outputs": [
    {
     "name": "stdout",
     "output_type": "stream",
     "text": [
      "El maximo de longitud es: 1492\n",
      "El minimo de longitud es: 303\n",
      "El promedio de longitud es: 683.00\n"
     ]
    }
   ],
   "source": [
    "def longitud(df: pd.DataFrame):\n",
    "    maximo = df['Conteo'].max()\n",
    "    minimo = df['Conteo'].min()\n",
    "    promedio = int(df['Conteo'].mean())\n",
    "    print(f'El maximo de longitud es: {maximo}')\n",
    "    print(f'El minimo de longitud es: {minimo}')\n",
    "    print(f'El promedio de longitud es: {promedio:.2f}')\n",
    "longitud(df)"
   ]
  },
  {
   "cell_type": "markdown",
   "id": "79d8c10e",
   "metadata": {},
   "source": [
    "Presencia de catracteres especiales"
   ]
  },
  {
   "cell_type": "code",
   "execution_count": 88,
   "id": "eb8caf71",
   "metadata": {},
   "outputs": [
    {
     "name": "stdout",
     "output_type": "stream",
     "text": [
      "La cantidad de textos con signos de puntuación es: 596\n",
      "El porcentaje de textos con signos de puntuación es: 24.59%\n",
      "La cantidad de textos con caracteres especiales es: 1562\n",
      "El porcentaje de textos con caracteres especiales es: 64.44%\n"
     ]
    }
   ],
   "source": [
    "def especiales(df : pd.DataFrame):\n",
    "    signos = r\"(?:[!¡¿?;:'\\\"]|\\.{3})\"\n",
    "    signosPresentes = df['textos'].str.contains(signos).sum()\n",
    "    print(f'La cantidad de textos con signos de puntuación es: {signosPresentes}')\n",
    "    print(f'El porcentaje de textos con signos de puntuación es: {signosPresentes/len(df)*100:.2f}%')\n",
    "    especiales = r\"(?:[@#$%^&*()_+=\\[\\]{}|\\\\<>/~`])\"\n",
    "    especialesPresentes = df['textos'].str.contains(especiales).sum()\n",
    "    print(f'La cantidad de textos con caracteres especiales es: {especialesPresentes}')\n",
    "    print(f'El porcentaje de textos con caracteres especiales es: {especialesPresentes/len(df)*100:.2f}%')\n",
    "especiales(df)"
   ]
  },
  {
   "cell_type": "markdown",
   "id": "d0a9e6a9",
   "metadata": {},
   "source": [
    "### Limpieza"
   ]
  },
  {
   "cell_type": "markdown",
   "id": "f81942c1",
   "metadata": {},
   "source": [
    "Procedemos a poner todo el dataset en un único formato"
   ]
  },
  {
   "cell_type": "code",
   "execution_count": 89,
   "id": "5cd9c2d6",
   "metadata": {},
   "outputs": [
    {
     "data": {
      "text/html": [
       "<div>\n",
       "<style scoped>\n",
       "    .dataframe tbody tr th:only-of-type {\n",
       "        vertical-align: middle;\n",
       "    }\n",
       "\n",
       "    .dataframe tbody tr th {\n",
       "        vertical-align: top;\n",
       "    }\n",
       "\n",
       "    .dataframe thead th {\n",
       "        text-align: right;\n",
       "    }\n",
       "</style>\n",
       "<table border=\"1\" class=\"dataframe\">\n",
       "  <thead>\n",
       "    <tr style=\"text-align: right;\">\n",
       "      <th></th>\n",
       "      <th>textos</th>\n",
       "      <th>labels</th>\n",
       "      <th>Conteo</th>\n",
       "      <th>Max</th>\n",
       "      <th>Min</th>\n",
       "    </tr>\n",
       "  </thead>\n",
       "  <tbody>\n",
       "    <tr>\n",
       "      <th>0</th>\n",
       "      <td>\"aprendizaje\" y \"educación\" se consideran sinó...</td>\n",
       "      <td>4</td>\n",
       "      <td>352</td>\n",
       "      <td>14</td>\n",
       "      <td>1</td>\n",
       "    </tr>\n",
       "    <tr>\n",
       "      <th>1</th>\n",
       "      <td>para los niños más pequeños (bebés y niños peq...</td>\n",
       "      <td>4</td>\n",
       "      <td>516</td>\n",
       "      <td>16</td>\n",
       "      <td>1</td>\n",
       "    </tr>\n",
       "    <tr>\n",
       "      <th>2</th>\n",
       "      <td>además, la formación de especialistas en medic...</td>\n",
       "      <td>3</td>\n",
       "      <td>659</td>\n",
       "      <td>15</td>\n",
       "      <td>1</td>\n",
       "    </tr>\n",
       "    <tr>\n",
       "      <th>3</th>\n",
       "      <td>en los países de la ocde se tiende a pasar de ...</td>\n",
       "      <td>4</td>\n",
       "      <td>693</td>\n",
       "      <td>18</td>\n",
       "      <td>1</td>\n",
       "    </tr>\n",
       "    <tr>\n",
       "      <th>4</th>\n",
       "      <td>este grupo se centró en las personas que padec...</td>\n",
       "      <td>3</td>\n",
       "      <td>608</td>\n",
       "      <td>14</td>\n",
       "      <td>0</td>\n",
       "    </tr>\n",
       "  </tbody>\n",
       "</table>\n",
       "</div>"
      ],
      "text/plain": [
       "                                              textos  labels  Conteo  Max  Min\n",
       "0  \"aprendizaje\" y \"educación\" se consideran sinó...       4     352   14    1\n",
       "1  para los niños más pequeños (bebés y niños peq...       4     516   16    1\n",
       "2  además, la formación de especialistas en medic...       3     659   15    1\n",
       "3  en los países de la ocde se tiende a pasar de ...       4     693   18    1\n",
       "4  este grupo se centró en las personas que padec...       3     608   14    0"
      ]
     },
     "execution_count": 89,
     "metadata": {},
     "output_type": "execute_result"
    }
   ],
   "source": [
    "def todoAmin(df: pd.DataFrame):\n",
    "    df['textos'] = df['textos'].str.lower()\n",
    "todoAmin(df)\n",
    "df.head()"
   ]
  },
  {
   "cell_type": "markdown",
   "id": "7e354925",
   "metadata": {},
   "source": [
    "Limpieza de caracteres especiales, signos y urls"
   ]
  },
  {
   "cell_type": "code",
   "execution_count": 92,
   "id": "9ef70160",
   "metadata": {},
   "outputs": [
    {
     "data": {
      "text/html": [
       "<div>\n",
       "<style scoped>\n",
       "    .dataframe tbody tr th:only-of-type {\n",
       "        vertical-align: middle;\n",
       "    }\n",
       "\n",
       "    .dataframe tbody tr th {\n",
       "        vertical-align: top;\n",
       "    }\n",
       "\n",
       "    .dataframe thead th {\n",
       "        text-align: right;\n",
       "    }\n",
       "</style>\n",
       "<table border=\"1\" class=\"dataframe\">\n",
       "  <thead>\n",
       "    <tr style=\"text-align: right;\">\n",
       "      <th></th>\n",
       "      <th>textos</th>\n",
       "      <th>labels</th>\n",
       "      <th>Conteo</th>\n",
       "      <th>Max</th>\n",
       "      <th>Min</th>\n",
       "    </tr>\n",
       "  </thead>\n",
       "  <tbody>\n",
       "    <tr>\n",
       "      <th>0</th>\n",
       "      <td>aprendizaje y educación se consideran sinónimo...</td>\n",
       "      <td>4</td>\n",
       "      <td>352</td>\n",
       "      <td>14</td>\n",
       "      <td>1</td>\n",
       "    </tr>\n",
       "    <tr>\n",
       "      <th>1</th>\n",
       "      <td>para los niños más pequeños bebés y niños pequ...</td>\n",
       "      <td>4</td>\n",
       "      <td>516</td>\n",
       "      <td>16</td>\n",
       "      <td>1</td>\n",
       "    </tr>\n",
       "    <tr>\n",
       "      <th>2</th>\n",
       "      <td>además la formación de especialistas en medici...</td>\n",
       "      <td>3</td>\n",
       "      <td>659</td>\n",
       "      <td>15</td>\n",
       "      <td>1</td>\n",
       "    </tr>\n",
       "    <tr>\n",
       "      <th>3</th>\n",
       "      <td>en los países de la ocde se tiende a pasar de ...</td>\n",
       "      <td>4</td>\n",
       "      <td>693</td>\n",
       "      <td>18</td>\n",
       "      <td>1</td>\n",
       "    </tr>\n",
       "    <tr>\n",
       "      <th>4</th>\n",
       "      <td>este grupo se centró en las personas que padec...</td>\n",
       "      <td>3</td>\n",
       "      <td>608</td>\n",
       "      <td>14</td>\n",
       "      <td>0</td>\n",
       "    </tr>\n",
       "  </tbody>\n",
       "</table>\n",
       "</div>"
      ],
      "text/plain": [
       "                                              textos  labels  Conteo  Max  Min\n",
       "0  aprendizaje y educación se consideran sinónimo...       4     352   14    1\n",
       "1  para los niños más pequeños bebés y niños pequ...       4     516   16    1\n",
       "2  además la formación de especialistas en medici...       3     659   15    1\n",
       "3  en los países de la ocde se tiende a pasar de ...       4     693   18    1\n",
       "4  este grupo se centró en las personas que padec...       3     608   14    0"
      ]
     },
     "execution_count": 92,
     "metadata": {},
     "output_type": "execute_result"
    }
   ],
   "source": [
    "def limpiza(df: pd.DataFrame):\n",
    "    df['textos'] = df['textos'].str.replace(r\"http[s]?://[^\\s)]+\", '', regex=True)\n",
    "    df['textos'] = df['textos'].str.replace(r\"(?:[!¡¿?;:'\\\".,]|\\.{3})\", '', regex=True)\n",
    "    df['textos'] = df['textos'].str.replace(r\"(?:[@#$%^&*()_+=\\[\\]{}|\\\\<>/~`])\", '', regex=True)\n",
    "    df['textos'] = df['textos'].str.replace(r\"\\s+\", ' ', regex=True).str.strip()\n",
    "limpiza(df)\n",
    "df.head()\n"
   ]
  },
  {
   "cell_type": "markdown",
   "id": "3f85fbc4",
   "metadata": {},
   "source": [
    "### Tokenización"
   ]
  },
  {
   "cell_type": "markdown",
   "id": "b28832e2",
   "metadata": {},
   "source": []
  }
 ],
 "metadata": {
  "kernelspec": {
   "display_name": "BI",
   "language": "python",
   "name": "python3"
  },
  "language_info": {
   "codemirror_mode": {
    "name": "ipython",
    "version": 3
   },
   "file_extension": ".py",
   "mimetype": "text/x-python",
   "name": "python",
   "nbconvert_exporter": "python",
   "pygments_lexer": "ipython3",
   "version": "3.13.5"
  }
 },
 "nbformat": 4,
 "nbformat_minor": 5
}
