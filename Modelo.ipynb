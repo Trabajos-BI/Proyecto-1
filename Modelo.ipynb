{
 "cells": [
  {
   "cell_type": "markdown",
   "id": "0c5b6743",
   "metadata": {},
   "source": [
    "# Proyecto entrega 1"
   ]
  },
  {
   "cell_type": "markdown",
   "id": "01a015f3",
   "metadata": {},
   "source": [
    "### Integrantes\n",
    "* Santiago Gomez\n",
    "* Sebastian Martinez\n",
    "* Johan Suarez\n",
    "\n",
    "### Grupo\n",
    "36"
   ]
  },
  {
   "cell_type": "markdown",
   "id": "67e4c10e",
   "metadata": {},
   "source": [
    "## Carga de datos y descarga de librerias"
   ]
  },
  {
   "cell_type": "markdown",
   "id": "fcb7dbe1",
   "metadata": {},
   "source": [
    "Intsalación de spaCY y su diccipnario small en español."
   ]
  },
  {
   "cell_type": "code",
   "execution_count": 119,
   "id": "54930e8d",
   "metadata": {},
   "outputs": [],
   "source": [
    "# %pip install -U \"spacy>=3.8,<3.9\"\n",
    "# %pip install \"./es_core_news_sm-3.8.0-py3-none-any.whl\" "
   ]
  },
  {
   "cell_type": "markdown",
   "id": "66c2dff1",
   "metadata": {},
   "source": [
    "Este es el paso inicial para el proyecto, dado que acá importamos todas las librerías que se van a utilizar dentro del mismo, además de cargar algunas variables que serán de suma importancia para el desarrollo de este.\n",
    "* vectorizer = Convierte los documentos en vectores usando la técnica TF-IDF.\n",
    "* dfOriginal = Es él data frame resultante de realizar la lectura de los datos del xlsx.\n",
    "* targetNames = Son los nombres de los valores únicos de la columna de labels."
   ]
  },
  {
   "cell_type": "code",
   "execution_count": 120,
   "id": "fcc893ce",
   "metadata": {},
   "outputs": [
    {
     "name": "stdout",
     "output_type": "stream",
     "text": [
      "<class 'pandas.core.frame.DataFrame'>\n",
      "RangeIndex: 2424 entries, 0 to 2423\n",
      "Data columns (total 2 columns):\n",
      " #   Column  Non-Null Count  Dtype \n",
      "---  ------  --------------  ----- \n",
      " 0   textos  2424 non-null   object\n",
      " 1   labels  2424 non-null   int64 \n",
      "dtypes: int64(1), object(1)\n",
      "memory usage: 38.0+ KB\n",
      "Categorías encontradas: [4 3 1]\n"
     ]
    }
   ],
   "source": [
    "import pandas as pd\n",
    "import matplotlib.pyplot as plt\n",
    "import spacy\n",
    "from sklearn.feature_extraction.text import TfidfVectorizer\n",
    "import numpy as np\n",
    "from sklearn.neural_network import MLPClassifier\n",
    "from sklearn.model_selection import train_test_split\n",
    "from sklearn.metrics import (\n",
    "    accuracy_score, classification_report, confusion_matrix, roc_auc_score\n",
    ")\n",
    "from sklearn.feature_selection import chi2\n",
    "from sklearn.metrics import roc_curve, auc\n",
    "from sklearn.preprocessing import label_binarize\n",
    "\n",
    "\n",
    "vectorizer = TfidfVectorizer()\n",
    "nlp = spacy.load(\"es_core_news_sm\")\n",
    "dfOriginal = pd.read_excel('Datos_proyecto.xlsx')\n",
    "dfOriginal.info()\n",
    "targetNames = dfOriginal['labels'].unique()\n",
    "print(\"Categorías encontradas:\", targetNames)\n"
   ]
  },
  {
   "cell_type": "markdown",
   "id": "08b52144",
   "metadata": {},
   "source": [
    "## Exploración del texto"
   ]
  },
  {
   "cell_type": "markdown",
   "id": "9acf64d6",
   "metadata": {},
   "source": [
    "Principalmente, observemos el formato inicial del dataset, con especial énfasis en la columna de textos. Si observa el resultado del .info() hecho en el bloque pasado, observó que la columna de textos es un objeto, por lo que la convertiremos en string para el uso correcto de sus datos."
   ]
  },
  {
   "cell_type": "code",
   "execution_count": 121,
   "id": "8a1a5e1b",
   "metadata": {},
   "outputs": [
    {
     "name": "stdout",
     "output_type": "stream",
     "text": [
      "<class 'pandas.core.frame.DataFrame'>\n",
      "RangeIndex: 2424 entries, 0 to 2423\n",
      "Data columns (total 2 columns):\n",
      " #   Column  Non-Null Count  Dtype \n",
      "---  ------  --------------  ----- \n",
      " 0   textos  2424 non-null   string\n",
      " 1   labels  2424 non-null   int64 \n",
      "dtypes: int64(1), string(1)\n",
      "memory usage: 38.0 KB\n"
     ]
    }
   ],
   "source": [
    "targetNames =  {1:'ODS 1',3:'ODS 3',4:'ODS 4'}\n",
    "dfOriginal.head()\n",
    "df = dfOriginal.copy()\n",
    "df['textos'] = df['textos'].astype(\"string\")\n",
    "df.info()"
   ]
  },
  {
   "cell_type": "markdown",
   "id": "b3c3a5bb",
   "metadata": {},
   "source": [
    "## Exploracion del dataset"
   ]
  },
  {
   "cell_type": "markdown",
   "id": "2ca53778",
   "metadata": {},
   "source": [
    "### Longitud"
   ]
  },
  {
   "cell_type": "markdown",
   "id": "6b1ac2a4",
   "metadata": {},
   "source": [
    "Como primer análisis para nuestro dataset decidimos observar la cantidad de palabras de cada uno de nuestros datos, esto con el fin de entender mejor la longitud y variabilidad de los textos.\n",
    "* Conteo: indica el número total de caracteres de cada texto.\n",
    "* Max: registra la longitud de la palabra más larga encontrada en el texto.\n",
    "* Min: registra la longitud de la palabra más corta en el texto.\n"
   ]
  },
  {
   "cell_type": "code",
   "execution_count": 122,
   "id": "3c04fcca",
   "metadata": {},
   "outputs": [
    {
     "data": {
      "application/vnd.microsoft.datawrangler.viewer.v0+json": {
       "columns": [
        {
         "name": "index",
         "rawType": "int64",
         "type": "integer"
        },
        {
         "name": "textos",
         "rawType": "string",
         "type": "string"
        },
        {
         "name": "labels",
         "rawType": "int64",
         "type": "integer"
        },
        {
         "name": "Conteo",
         "rawType": "int64",
         "type": "integer"
        },
        {
         "name": "Max",
         "rawType": "int64",
         "type": "integer"
        },
        {
         "name": "Min",
         "rawType": "int64",
         "type": "integer"
        }
       ],
       "ref": "0ec76d63-c874-4372-b3bb-b308cd59265d",
       "rows": [
        [
         "0",
         "\"Aprendizaje\" y \"educación\" se consideran sinónimos de escolarización formal. Las organizaciones auxiliares, como las editoriales de educación, las juntas examinadoras y las organizaciones de formación de docentes, se consideran extensiones de los acuerdos establecidos por los gobiernos. Este marco de comprensión se ha vuelto cada vez más inadecuado.",
         "4",
         "352",
         "14",
         "1"
        ],
        [
         "1",
         "Para los niños más pequeños (bebés y niños pequeños), la capacitación especializada y práctica parece estar más fuertemente asociada con la calidad pedagógica y los resultados cognitivos y sociales. Los educadores de la primera infancia se encuentran con entornos sociales cada vez más complejos y se encuentran con una multiplicidad de antecedentes y experiencias familiares. Estos factores crean imperativos para adoptar nuevas pedagogías y prácticas organizacionales para acomodar este pluralismo (Elliott, 2006).",
         "4",
         "516",
         "16",
         "1"
        ],
        [
         "2",
         "Además, la formación de especialistas en medicina general también incluye tareas que requieren un conocimiento más profundo de problemas comunes de salud pública, incluida la salud mental (Cuestionario de salud mental de la OCDE, 2013). Dado que no hay control en la atención primaria para limitar el acceso a los servicios de salud (mental) especializados, muchos pacientes que necesitan tratamiento (para trastornos mentales graves en particular) pueden buscar atención de nivel especializado directamente. Los servicios de especialistas en psiquiatría se brindan principalmente en las salas ambulatorias de psiquiatría ubicadas en los hospitales generales.",
         "3",
         "659",
         "15",
         "1"
        ],
        [
         "3",
         "En los países de la OCDE se tiende a pasar de los cursos obligatorios a los optativos, abiertos a estudiantes de distintas facultades y escuelas. Este planteamiento facilita la formación de equipos de estudiantes con distintas formaciones e intereses. El trabajo en equipos interdisciplinares permite a los individuos concentrarse en lo que mejor saben y les gusta y, al mismo tiempo, familiarizarse con nuevos conocimientos que pueden asociarse a una nueva forma de resolver un problema o crear un nuevo producto o servicio. No está claro hasta qué punto estos cursos utilizan métodos pedagógicos creativos y se adaptan a las necesidades de los estudiantes de grado, postgrado y licenciatura.",
         "4",
         "693",
         "18",
         "1"
        ],
        [
         "4",
         "Este grupo se centró en las personas que padecen trastornos mentales con comorbilidad de abuso de sustancias (mientras que la demencia, la discapacidad intelectual y el abuso de sustancias por sà solos quedaron excluidos del ámbito de análisis). Con 90 millones de euros de financiación, la comisión dispuso de tres años para \"iniciar y apoyar el desarrollo de proyectos a todos los niveles (tratamiento médico, mejora de los servicios, proyectos de vivienda, mejoras legislativas y organizativas) y proponer las medidas necesarias para elevar de forma permanente el nivel de los servicios de salud mental\". ",
         "3",
         "608",
         "14",
         "0"
        ]
       ],
       "shape": {
        "columns": 5,
        "rows": 5
       }
      },
      "text/html": [
       "<div>\n",
       "<style scoped>\n",
       "    .dataframe tbody tr th:only-of-type {\n",
       "        vertical-align: middle;\n",
       "    }\n",
       "\n",
       "    .dataframe tbody tr th {\n",
       "        vertical-align: top;\n",
       "    }\n",
       "\n",
       "    .dataframe thead th {\n",
       "        text-align: right;\n",
       "    }\n",
       "</style>\n",
       "<table border=\"1\" class=\"dataframe\">\n",
       "  <thead>\n",
       "    <tr style=\"text-align: right;\">\n",
       "      <th></th>\n",
       "      <th>textos</th>\n",
       "      <th>labels</th>\n",
       "      <th>Conteo</th>\n",
       "      <th>Max</th>\n",
       "      <th>Min</th>\n",
       "    </tr>\n",
       "  </thead>\n",
       "  <tbody>\n",
       "    <tr>\n",
       "      <th>0</th>\n",
       "      <td>\"Aprendizaje\" y \"educación\" se consideran sinó...</td>\n",
       "      <td>4</td>\n",
       "      <td>352</td>\n",
       "      <td>14</td>\n",
       "      <td>1</td>\n",
       "    </tr>\n",
       "    <tr>\n",
       "      <th>1</th>\n",
       "      <td>Para los niños más pequeños (bebés y niños peq...</td>\n",
       "      <td>4</td>\n",
       "      <td>516</td>\n",
       "      <td>16</td>\n",
       "      <td>1</td>\n",
       "    </tr>\n",
       "    <tr>\n",
       "      <th>2</th>\n",
       "      <td>Además, la formación de especialistas en medic...</td>\n",
       "      <td>3</td>\n",
       "      <td>659</td>\n",
       "      <td>15</td>\n",
       "      <td>1</td>\n",
       "    </tr>\n",
       "    <tr>\n",
       "      <th>3</th>\n",
       "      <td>En los países de la OCDE se tiende a pasar de ...</td>\n",
       "      <td>4</td>\n",
       "      <td>693</td>\n",
       "      <td>18</td>\n",
       "      <td>1</td>\n",
       "    </tr>\n",
       "    <tr>\n",
       "      <th>4</th>\n",
       "      <td>Este grupo se centró en las personas que padec...</td>\n",
       "      <td>3</td>\n",
       "      <td>608</td>\n",
       "      <td>14</td>\n",
       "      <td>0</td>\n",
       "    </tr>\n",
       "  </tbody>\n",
       "</table>\n",
       "</div>"
      ],
      "text/plain": [
       "                                              textos  labels  Conteo  Max  Min\n",
       "0  \"Aprendizaje\" y \"educación\" se consideran sinó...       4     352   14    1\n",
       "1  Para los niños más pequeños (bebés y niños peq...       4     516   16    1\n",
       "2  Además, la formación de especialistas en medic...       3     659   15    1\n",
       "3  En los países de la OCDE se tiende a pasar de ...       4     693   18    1\n",
       "4  Este grupo se centró en las personas que padec...       3     608   14    0"
      ]
     },
     "execution_count": 122,
     "metadata": {},
     "output_type": "execute_result"
    }
   ],
   "source": [
    "def columnasConteo(df : pd.DataFrame):\n",
    "    df['Conteo'] = [len(x) for x in df['textos']]\n",
    "    df['Max'] = [[max([len(x) for x in i.split(' ')])][0] for i in df['textos']]\n",
    "    df['Min'] = [[min([len(x) for x in i.split(' ')])][0] for i in df['textos']]\n",
    "columnasConteo(df)\n",
    "df.head()"
   ]
  },
  {
   "cell_type": "markdown",
   "id": "df8e7fc7",
   "metadata": {},
   "source": [
    "Veamos ahora los máximos, mínimos y el promedio de la longitud de los textos del dataset.\n",
    "* Máximo: el texto con mayor cantidad de caracteres.\n",
    "* Mínimo: el texto con menor cantidad de caracteres.\n",
    "* Promedio: la longitud promedio de los textos en el dataset."
   ]
  },
  {
   "cell_type": "code",
   "execution_count": 123,
   "id": "dc4abf7b",
   "metadata": {},
   "outputs": [],
   "source": [
    "def longitud(df: pd.DataFrame):\n",
    "    maximo = df['Conteo'].max()\n",
    "    minimo = df['Conteo'].min()\n",
    "    promedio = int(df['Conteo'].mean())\n",
    "    print(f'El maximo de longitud es: {maximo}')\n",
    "    print(f'El minimo de longitud es: {minimo}')\n",
    "    print(f'El promedio de longitud es: {promedio:.2f}')\n",
    "    return maximo, minimo, promedio"
   ]
  },
  {
   "cell_type": "markdown",
   "id": "2a7d8f67",
   "metadata": {},
   "source": [
    "Luego de calcular los valores de máximo, mínimo y promedio de la longitud de los textos, realizamos una visualización con un gráfico de barras. En este gráfico se muestran los tres valores principales:\n",
    "* Máximo en color rojo.\n",
    "* Mínimo en color verde.\n",
    "* Promedio en color azul."
   ]
  },
  {
   "cell_type": "code",
   "execution_count": 124,
   "id": "691cd6d3",
   "metadata": {},
   "outputs": [
    {
     "name": "stdout",
     "output_type": "stream",
     "text": [
      "El maximo de longitud es: 1492\n",
      "El minimo de longitud es: 303\n",
      "El promedio de longitud es: 683.00\n"
     ]
    },
    {
     "data": {
      "image/png": "[encoded data removed]",
      "text/plain": [
       "<Figure size 1000x600 with 1 Axes>"
      ]
     },
     "metadata": {},
     "output_type": "display_data"
    }
   ],
   "source": [
    "maximo, minimo, promedio = longitud(df)\n",
    "plt.figure(figsize=(10,6))\n",
    "plt.bar(['Maximo', 'Minimo', 'Promedio'], [maximo, minimo, promedio], color=['red', 'green', 'blue'])\n",
    "plt.title('Estadísticas de Longitud de Textos')\n",
    "plt.ylabel('Número de Palabras')\n",
    "plt.show()\n"
   ]
  },
  {
   "cell_type": "markdown",
   "id": "adef7909",
   "metadata": {},
   "source": [
    "### Distribucion de la longitud"
   ]
  },
  {
   "cell_type": "markdown",
   "id": "0011a316",
   "metadata": {},
   "source": [
    "Posteriormente analizamos la distribución completa de esas longitudes en el dataset. Para ello utilizamos un histograma, donde en el eje X se representa la longitud de los textos y en el eje Y la frecuencia con que aparecen. Este gráfico nos permite ver de manera clara cómo se concentran la mayoría de los textos: si hay una tendencia hacia textos cortos o largos, y si existen valores atípicos con longitudes muy diferentes al resto.\n"
   ]
  },
  {
   "cell_type": "code",
   "execution_count": 125,
   "id": "b443a5de",
   "metadata": {},
   "outputs": [
    {
     "data": {
      "image/png": "[encoded data removed]",
      "text/plain": [
       "<Figure size 1000x600 with 1 Axes>"
      ]
     },
     "metadata": {},
     "output_type": "display_data"
    }
   ],
   "source": [
    "\n",
    "plt.figure(figsize=(10,6))\n",
    "plt.hist(df['Conteo'], bins=30, color='skyblue', edgecolor='black')\n",
    "plt.title('Distribución de la Longitud de Textos')\n",
    "plt.xlabel('Longitud (Número de Palabras)')\n",
    "plt.ylabel('Frecuencia')\n",
    "plt.grid(axis='y', alpha=0.75)\n",
    "plt.show()"
   ]
  },
  {
   "cell_type": "markdown",
   "id": "92682f4c",
   "metadata": {},
   "source": [
    "Finalmente, para complementar el análisis de la longitud de los textos, realizamos un boxplot. Este tipo de gráfico resume la distribución mostrando la mediana, los cuartiles y posibles valores atípicos. En el eje X se representa el número de palabras por texto, lo que nos permite identificar rápidamente:\n",
    "* El rango en el que se encuentran la mayoría de los textos.\n",
    "* La posición de la mediana respecto a los extremos.\n",
    "* Si existen outliers."
   ]
  },
  {
   "cell_type": "code",
   "execution_count": 126,
   "id": "12e893cb",
   "metadata": {},
   "outputs": [
    {
     "data": {
      "image/png": "[encoded data removed]",
      "text/plain": [
       "<Figure size 800x600 with 1 Axes>"
      ]
     },
     "metadata": {},
     "output_type": "display_data"
    }
   ],
   "source": [
    "#Boxplot\n",
    "plt.figure(figsize=(8,6))\n",
    "plt.boxplot(df['Conteo'], vert=False)\n",
    "plt.title('Boxplot de la Longitud de Textos')\n",
    "plt.xlabel('Número de Palabras')\n",
    "plt.grid(axis='x', alpha=0.75)\n",
    "plt.show()"
   ]
  },
  {
   "cell_type": "markdown",
   "id": "79d8c10e",
   "metadata": {},
   "source": [
    "### Presencia de catracteres especiales"
   ]
  },
  {
   "cell_type": "markdown",
   "id": "3bc35dae",
   "metadata": {},
   "source": [
    "Después de analizar las longitudes de los textos, procedimos a revisar la presencia de signos de puntuación y caracteres especiales dentro del dataset. Para ello se identificaron los distintos simbolos y se calculó la cantidad de textos que los contenian.Este análisis permitió estimar qué tan frecuente es la presencia de este tipo de símbolos y entender la necesidad de aplicar procesos de limpieza."
   ]
  },
  {
   "cell_type": "code",
   "execution_count": 127,
   "id": "eb8caf71",
   "metadata": {},
   "outputs": [],
   "source": [
    "def especiales(df : pd.DataFrame):\n",
    "    signos = r\"(?:[!¡¿?;:'\\\"]|\\.{3})\"\n",
    "    signosPresentes = df['textos'].str.contains(signos).sum()\n",
    "    print(f'La cantidad de textos con signos de puntuación es: {signosPresentes}')\n",
    "    print(f'El porcentaje de textos con signos de puntuación es: {signosPresentes/len(df)*100:.2f}%')\n",
    "    especiales = r\"(?:[@#$%^&*()_+=\\[\\]{}|\\\\<>/~`])\"\n",
    "    especialesPresentes = df['textos'].str.contains(especiales).sum()\n",
    "    print(f'La cantidad de textos con caracteres especiales es: {especialesPresentes}')\n",
    "    print(f'El porcentaje de textos con caracteres especiales es: {especialesPresentes/len(df)*100:.2f}%')\n",
    "    return signosPresentes, especialesPresentes\n"
   ]
  },
  {
   "cell_type": "code",
   "execution_count": 128,
   "id": "17ab7180",
   "metadata": {},
   "outputs": [
    {
     "name": "stdout",
     "output_type": "stream",
     "text": [
      "La cantidad de textos con signos de puntuación es: 596\n",
      "El porcentaje de textos con signos de puntuación es: 24.59%\n",
      "La cantidad de textos con caracteres especiales es: 1562\n",
      "El porcentaje de textos con caracteres especiales es: 64.44%\n"
     ]
    },
    {
     "data": {
      "image/png": "[encoded data removed]",
      "text/plain": [
       "<Figure size 800x600 with 1 Axes>"
      ]
     },
     "metadata": {},
     "output_type": "display_data"
    }
   ],
   "source": [
    "#Distribucion especiales\n",
    "size = df['textos'].size\n",
    "signosPresentes, especialesPresentes = especiales(df)\n",
    "plt.figure(figsize=(8,6))\n",
    "plt.pie([signosPresentes, especialesPresentes, size - signosPresentes - especialesPresentes], labels=['Signos de Puntuación', 'Caracteres Especiales', 'Otros'], autopct='%1.1f%%', colors=['orange', 'purple', 'lightgray'])\n",
    "plt.title('Proporción de Textos con Signos y Caracteres Especiales')\n",
    "plt.show()\n"
   ]
  },
  {
   "cell_type": "markdown",
   "id": "b95bdf29",
   "metadata": {},
   "source": [
    "### Distribucion de labels"
   ]
  },
  {
   "cell_type": "markdown",
   "id": "c0310897",
   "metadata": {},
   "source": [
    "Luego de revisar las características generales de los textos, se analizó la distribución de las categorías en el dataset. Para ello se contó la cantidad de registros pertenecientes a cada etiqueta y se organizaron según el nombre de la clase correspondiente para posteriormente plotear un gráfico con dicha información."
   ]
  },
  {
   "cell_type": "code",
   "execution_count": 129,
   "id": "96040b57",
   "metadata": {},
   "outputs": [
    {
     "data": {
      "application/vnd.microsoft.datawrangler.viewer.v0+json": {
       "columns": [
        {
         "name": "index",
         "rawType": "object",
         "type": "string"
        },
        {
         "name": "conteo",
         "rawType": "int64",
         "type": "integer"
        }
       ],
       "ref": "9f284c85-9dd9-473b-b936-f0c8c97bd77c",
       "rows": [
        [
         "ODS 1",
         "505"
        ],
        [
         "ODS 3",
         "894"
        ],
        [
         "ODS 4",
         "1025"
        ]
       ],
       "shape": {
        "columns": 1,
        "rows": 3
       }
      },
      "text/html": [
       "<div>\n",
       "<style scoped>\n",
       "    .dataframe tbody tr th:only-of-type {\n",
       "        vertical-align: middle;\n",
       "    }\n",
       "\n",
       "    .dataframe tbody tr th {\n",
       "        vertical-align: top;\n",
       "    }\n",
       "\n",
       "    .dataframe thead th {\n",
       "        text-align: right;\n",
       "    }\n",
       "</style>\n",
       "<table border=\"1\" class=\"dataframe\">\n",
       "  <thead>\n",
       "    <tr style=\"text-align: right;\">\n",
       "      <th></th>\n",
       "      <th>conteo</th>\n",
       "    </tr>\n",
       "  </thead>\n",
       "  <tbody>\n",
       "    <tr>\n",
       "      <th>ODS 1</th>\n",
       "      <td>505</td>\n",
       "    </tr>\n",
       "    <tr>\n",
       "      <th>ODS 3</th>\n",
       "      <td>894</td>\n",
       "    </tr>\n",
       "    <tr>\n",
       "      <th>ODS 4</th>\n",
       "      <td>1025</td>\n",
       "    </tr>\n",
       "  </tbody>\n",
       "</table>\n",
       "</div>"
      ],
      "text/plain": [
       "       conteo\n",
       "ODS 1     505\n",
       "ODS 3     894\n",
       "ODS 4    1025"
      ]
     },
     "metadata": {},
     "output_type": "display_data"
    },
    {
     "data": {
      "image/png": "[encoded data removed]",
      "text/plain": [
       "<Figure size 1000x600 with 1 Axes>"
      ]
     },
     "metadata": {},
     "output_type": "display_data"
    }
   ],
   "source": [
    "tiposComentario = df['labels'].value_counts().sort_index()\n",
    "tiposComentario.index = [targetNames[i] for i in tiposComentario.index]\n",
    "display(tiposComentario.to_frame('conteo'))\n",
    "\n",
    "labelContador = df['labels'].value_counts()\n",
    "plt.figure(figsize=(10,6))\n",
    "plt.bar(labelContador.index.map(targetNames), labelContador.values, color='lightgreen', edgecolor='black')\n",
    "plt.title('Distribución de Textos por Categoría')\n",
    "plt.xlabel('Categorías')\n",
    "plt.ylabel('Número de Textos')\n",
    "plt.xticks(rotation=45)\n",
    "plt.grid(axis='y', alpha=0.75)\n",
    "plt.show()\n"
   ]
  },
  {
   "cell_type": "markdown",
   "id": "54a6ce75",
   "metadata": {},
   "source": [
    "Con el fin de comparar la longitud de los textos entre las distintas categorías, se construyó un boxplot agrupado por etiqueta. En este gráfico se puede observar la distribución de la cantidad de palabras para cada categoría, lo que permite identificar diferencias en la extensión de los textos según la clase, así como la presencia de valores atípicos."
   ]
  },
  {
   "cell_type": "code",
   "execution_count": 130,
   "id": "6ad3fa35",
   "metadata": {},
   "outputs": [
    {
     "data": {
      "text/plain": [
       "<Figure size 1000x600 with 0 Axes>"
      ]
     },
     "metadata": {},
     "output_type": "display_data"
    },
    {
     "data": {
      "image/png": "[encoded data removed]",
      "text/plain": [
       "<Figure size 640x480 with 1 Axes>"
      ]
     },
     "metadata": {},
     "output_type": "display_data"
    }
   ],
   "source": [
    "#Boxplot por categoria\n",
    "plt.figure(figsize=(10,6))\n",
    "df.boxplot(column='Conteo', by='labels', grid=False, patch_artist=True, boxprops=dict(facecolor='lightblue'))\n",
    "plt.title('Boxplot de Longitud de Textos por Categoría')\n",
    "plt.suptitle('')  \n",
    "plt.xlabel('Categorías')\n",
    "plt.ylabel('Longitud de Textos')\n",
    "plt.show()"
   ]
  },
  {
   "cell_type": "markdown",
   "id": "d0a9e6a9",
   "metadata": {},
   "source": [
    "### Limpieza"
   ]
  },
  {
   "cell_type": "markdown",
   "id": "f81942c1",
   "metadata": {},
   "source": [
    "Procedemos a poner todo el dataset en un único formato, con el fin de evitar errores de entendimiento por diferencias entre mayusculas y minusculas."
   ]
  },
  {
   "cell_type": "code",
   "execution_count": 131,
   "id": "5cd9c2d6",
   "metadata": {},
   "outputs": [
    {
     "data": {
      "application/vnd.microsoft.datawrangler.viewer.v0+json": {
       "columns": [
        {
         "name": "index",
         "rawType": "int64",
         "type": "integer"
        },
        {
         "name": "textos",
         "rawType": "string",
         "type": "string"
        },
        {
         "name": "labels",
         "rawType": "int64",
         "type": "integer"
        },
        {
         "name": "Conteo",
         "rawType": "int64",
         "type": "integer"
        },
        {
         "name": "Max",
         "rawType": "int64",
         "type": "integer"
        },
        {
         "name": "Min",
         "rawType": "int64",
         "type": "integer"
        }
       ],
       "ref": "c857f7a6-1538-4c25-affe-64f8f46d21c3",
       "rows": [
        [
         "0",
         "\"aprendizaje\" y \"educación\" se consideran sinónimos de escolarización formal. las organizaciones auxiliares, como las editoriales de educación, las juntas examinadoras y las organizaciones de formación de docentes, se consideran extensiones de los acuerdos establecidos por los gobiernos. este marco de comprensión se ha vuelto cada vez más inadecuado.",
         "4",
         "352",
         "14",
         "1"
        ],
        [
         "1",
         "para los niños más pequeños (bebés y niños pequeños), la capacitación especializada y práctica parece estar más fuertemente asociada con la calidad pedagógica y los resultados cognitivos y sociales. los educadores de la primera infancia se encuentran con entornos sociales cada vez más complejos y se encuentran con una multiplicidad de antecedentes y experiencias familiares. estos factores crean imperativos para adoptar nuevas pedagogías y prácticas organizacionales para acomodar este pluralismo (elliott, 2006).",
         "4",
         "516",
         "16",
         "1"
        ],
        [
         "2",
         "además, la formación de especialistas en medicina general también incluye tareas que requieren un conocimiento más profundo de problemas comunes de salud pública, incluida la salud mental (cuestionario de salud mental de la ocde, 2013). dado que no hay control en la atención primaria para limitar el acceso a los servicios de salud (mental) especializados, muchos pacientes que necesitan tratamiento (para trastornos mentales graves en particular) pueden buscar atención de nivel especializado directamente. los servicios de especialistas en psiquiatría se brindan principalmente en las salas ambulatorias de psiquiatría ubicadas en los hospitales generales.",
         "3",
         "659",
         "15",
         "1"
        ],
        [
         "3",
         "en los países de la ocde se tiende a pasar de los cursos obligatorios a los optativos, abiertos a estudiantes de distintas facultades y escuelas. este planteamiento facilita la formación de equipos de estudiantes con distintas formaciones e intereses. el trabajo en equipos interdisciplinares permite a los individuos concentrarse en lo que mejor saben y les gusta y, al mismo tiempo, familiarizarse con nuevos conocimientos que pueden asociarse a una nueva forma de resolver un problema o crear un nuevo producto o servicio. no está claro hasta qué punto estos cursos utilizan métodos pedagógicos creativos y se adaptan a las necesidades de los estudiantes de grado, postgrado y licenciatura.",
         "4",
         "693",
         "18",
         "1"
        ],
        [
         "4",
         "este grupo se centró en las personas que padecen trastornos mentales con comorbilidad de abuso de sustancias (mientras que la demencia, la discapacidad intelectual y el abuso de sustancias por sà solos quedaron excluidos del ámbito de análisis). con 90 millones de euros de financiación, la comisión dispuso de tres años para \"iniciar y apoyar el desarrollo de proyectos a todos los niveles (tratamiento médico, mejora de los servicios, proyectos de vivienda, mejoras legislativas y organizativas) y proponer las medidas necesarias para elevar de forma permanente el nivel de los servicios de salud mental\". ",
         "3",
         "608",
         "14",
         "0"
        ]
       ],
       "shape": {
        "columns": 5,
        "rows": 5
       }
      },
      "text/html": [
       "<div>\n",
       "<style scoped>\n",
       "    .dataframe tbody tr th:only-of-type {\n",
       "        vertical-align: middle;\n",
       "    }\n",
       "\n",
       "    .dataframe tbody tr th {\n",
       "        vertical-align: top;\n",
       "    }\n",
       "\n",
       "    .dataframe thead th {\n",
       "        text-align: right;\n",
       "    }\n",
       "</style>\n",
       "<table border=\"1\" class=\"dataframe\">\n",
       "  <thead>\n",
       "    <tr style=\"text-align: right;\">\n",
       "      <th></th>\n",
       "      <th>textos</th>\n",
       "      <th>labels</th>\n",
       "      <th>Conteo</th>\n",
       "      <th>Max</th>\n",
       "      <th>Min</th>\n",
       "    </tr>\n",
       "  </thead>\n",
       "  <tbody>\n",
       "    <tr>\n",
       "      <th>0</th>\n",
       "      <td>\"aprendizaje\" y \"educación\" se consideran sinó...</td>\n",
       "      <td>4</td>\n",
       "      <td>352</td>\n",
       "      <td>14</td>\n",
       "      <td>1</td>\n",
       "    </tr>\n",
       "    <tr>\n",
       "      <th>1</th>\n",
       "      <td>para los niños más pequeños (bebés y niños peq...</td>\n",
       "      <td>4</td>\n",
       "      <td>516</td>\n",
       "      <td>16</td>\n",
       "      <td>1</td>\n",
       "    </tr>\n",
       "    <tr>\n",
       "      <th>2</th>\n",
       "      <td>además, la formación de especialistas en medic...</td>\n",
       "      <td>3</td>\n",
       "      <td>659</td>\n",
       "      <td>15</td>\n",
       "      <td>1</td>\n",
       "    </tr>\n",
       "    <tr>\n",
       "      <th>3</th>\n",
       "      <td>en los países de la ocde se tiende a pasar de ...</td>\n",
       "      <td>4</td>\n",
       "      <td>693</td>\n",
       "      <td>18</td>\n",
       "      <td>1</td>\n",
       "    </tr>\n",
       "    <tr>\n",
       "      <th>4</th>\n",
       "      <td>este grupo se centró en las personas que padec...</td>\n",
       "      <td>3</td>\n",
       "      <td>608</td>\n",
       "      <td>14</td>\n",
       "      <td>0</td>\n",
       "    </tr>\n",
       "  </tbody>\n",
       "</table>\n",
       "</div>"
      ],
      "text/plain": [
       "                                              textos  labels  Conteo  Max  Min\n",
       "0  \"aprendizaje\" y \"educación\" se consideran sinó...       4     352   14    1\n",
       "1  para los niños más pequeños (bebés y niños peq...       4     516   16    1\n",
       "2  además, la formación de especialistas en medic...       3     659   15    1\n",
       "3  en los países de la ocde se tiende a pasar de ...       4     693   18    1\n",
       "4  este grupo se centró en las personas que padec...       3     608   14    0"
      ]
     },
     "execution_count": 131,
     "metadata": {},
     "output_type": "execute_result"
    }
   ],
   "source": [
    "def todoAmin(df: pd.DataFrame):\n",
    "    df['textos'] = df['textos'].str.lower()\n",
    "todoAmin(df)\n",
    "df.head()"
   ]
  },
  {
   "cell_type": "markdown",
   "id": "7e354925",
   "metadata": {},
   "source": [
    "Seguido de la unificación a un solo formato, se realizó un proceso de limpieza de los textos con el objetivo de eliminar elementos que pudieran introducir ruido en el modelo. En este paso se retiraron enlaces web, signos de puntuación y caracteres especiales que no aportan información relevante, además de normalizar los espacios en blanco para que los textos quedaran más uniformes."
   ]
  },
  {
   "cell_type": "code",
   "execution_count": 132,
   "id": "9ef70160",
   "metadata": {},
   "outputs": [
    {
     "data": {
      "application/vnd.microsoft.datawrangler.viewer.v0+json": {
       "columns": [
        {
         "name": "index",
         "rawType": "int64",
         "type": "integer"
        },
        {
         "name": "textos",
         "rawType": "string",
         "type": "string"
        },
        {
         "name": "labels",
         "rawType": "int64",
         "type": "integer"
        },
        {
         "name": "Conteo",
         "rawType": "int64",
         "type": "integer"
        },
        {
         "name": "Max",
         "rawType": "int64",
         "type": "integer"
        },
        {
         "name": "Min",
         "rawType": "int64",
         "type": "integer"
        }
       ],
       "ref": "e22c3e97-ce22-4e84-9cbe-6bb4158264d5",
       "rows": [
        [
         "0",
         "aprendizaje y educación se consideran sinónimos de escolarización formal las organizaciones auxiliares como las editoriales de educación las juntas examinadoras y las organizaciones de formación de docentes se consideran extensiones de los acuerdos establecidos por los gobiernos este marco de comprensión se ha vuelto cada vez más inadecuado",
         "4",
         "352",
         "14",
         "1"
        ],
        [
         "1",
         "para los niños más pequeños bebés y niños pequeños la capacitación especializada y práctica parece estar más fuertemente asociada con la calidad pedagógica y los resultados cognitivos y sociales los educadores de la primera infancia se encuentran con entornos sociales cada vez más complejos y se encuentran con una multiplicidad de antecedentes y experiencias familiares estos factores crean imperativos para adoptar nuevas pedagogías y prácticas organizacionales para acomodar este pluralismo elliott 2006",
         "4",
         "516",
         "16",
         "1"
        ],
        [
         "2",
         "además la formación de especialistas en medicina general también incluye tareas que requieren un conocimiento más profundo de problemas comunes de salud pública incluida la salud mental cuestionario de salud mental de la ocde 2013 dado que no hay control en la atención primaria para limitar el acceso a los servicios de salud mental especializados muchos pacientes que necesitan tratamiento para trastornos mentales graves en particular pueden buscar atención de nivel especializado directamente los servicios de especialistas en psiquiatría se brindan principalmente en las salas ambulatorias de psiquiatría ubicadas en los hospitales generales",
         "3",
         "659",
         "15",
         "1"
        ],
        [
         "3",
         "en los países de la ocde se tiende a pasar de los cursos obligatorios a los optativos abiertos a estudiantes de distintas facultades y escuelas este planteamiento facilita la formación de equipos de estudiantes con distintas formaciones e intereses el trabajo en equipos interdisciplinares permite a los individuos concentrarse en lo que mejor saben y les gusta y al mismo tiempo familiarizarse con nuevos conocimientos que pueden asociarse a una nueva forma de resolver un problema o crear un nuevo producto o servicio no está claro hasta qué punto estos cursos utilizan métodos pedagógicos creativos y se adaptan a las necesidades de los estudiantes de grado postgrado y licenciatura",
         "4",
         "693",
         "18",
         "1"
        ],
        [
         "4",
         "este grupo se centró en las personas que padecen trastornos mentales con comorbilidad de abuso de sustancias mientras que la demencia la discapacidad intelectual y el abuso de sustancias por sà solos quedaron excluidos del ámbito de análisis con 90 millones de euros de financiación la comisión dispuso de tres años para iniciar y apoyar el desarrollo de proyectos a todos los niveles tratamiento médico mejora de los servicios proyectos de vivienda mejoras legislativas y organizativas y proponer las medidas necesarias para elevar de forma permanente el nivel de los servicios de salud mental",
         "3",
         "608",
         "14",
         "0"
        ]
       ],
       "shape": {
        "columns": 5,
        "rows": 5
       }
      },
      "text/html": [
       "<div>\n",
       "<style scoped>\n",
       "    .dataframe tbody tr th:only-of-type {\n",
       "        vertical-align: middle;\n",
       "    }\n",
       "\n",
       "    .dataframe tbody tr th {\n",
       "        vertical-align: top;\n",
       "    }\n",
       "\n",
       "    .dataframe thead th {\n",
       "        text-align: right;\n",
       "    }\n",
       "</style>\n",
       "<table border=\"1\" class=\"dataframe\">\n",
       "  <thead>\n",
       "    <tr style=\"text-align: right;\">\n",
       "      <th></th>\n",
       "      <th>textos</th>\n",
       "      <th>labels</th>\n",
       "      <th>Conteo</th>\n",
       "      <th>Max</th>\n",
       "      <th>Min</th>\n",
       "    </tr>\n",
       "  </thead>\n",
       "  <tbody>\n",
       "    <tr>\n",
       "      <th>0</th>\n",
       "      <td>aprendizaje y educación se consideran sinónimo...</td>\n",
       "      <td>4</td>\n",
       "      <td>352</td>\n",
       "      <td>14</td>\n",
       "      <td>1</td>\n",
       "    </tr>\n",
       "    <tr>\n",
       "      <th>1</th>\n",
       "      <td>para los niños más pequeños bebés y niños pequ...</td>\n",
       "      <td>4</td>\n",
       "      <td>516</td>\n",
       "      <td>16</td>\n",
       "      <td>1</td>\n",
       "    </tr>\n",
       "    <tr>\n",
       "      <th>2</th>\n",
       "      <td>además la formación de especialistas en medici...</td>\n",
       "      <td>3</td>\n",
       "      <td>659</td>\n",
       "      <td>15</td>\n",
       "      <td>1</td>\n",
       "    </tr>\n",
       "    <tr>\n",
       "      <th>3</th>\n",
       "      <td>en los países de la ocde se tiende a pasar de ...</td>\n",
       "      <td>4</td>\n",
       "      <td>693</td>\n",
       "      <td>18</td>\n",
       "      <td>1</td>\n",
       "    </tr>\n",
       "    <tr>\n",
       "      <th>4</th>\n",
       "      <td>este grupo se centró en las personas que padec...</td>\n",
       "      <td>3</td>\n",
       "      <td>608</td>\n",
       "      <td>14</td>\n",
       "      <td>0</td>\n",
       "    </tr>\n",
       "  </tbody>\n",
       "</table>\n",
       "</div>"
      ],
      "text/plain": [
       "                                              textos  labels  Conteo  Max  Min\n",
       "0  aprendizaje y educación se consideran sinónimo...       4     352   14    1\n",
       "1  para los niños más pequeños bebés y niños pequ...       4     516   16    1\n",
       "2  además la formación de especialistas en medici...       3     659   15    1\n",
       "3  en los países de la ocde se tiende a pasar de ...       4     693   18    1\n",
       "4  este grupo se centró en las personas que padec...       3     608   14    0"
      ]
     },
     "execution_count": 132,
     "metadata": {},
     "output_type": "execute_result"
    }
   ],
   "source": [
    "def limpiza(df: pd.DataFrame):\n",
    "    df['textos'] = df['textos'].str.replace(r\"http[s]?://[^\\s)]+\", '', regex=True)\n",
    "    df['textos'] = df['textos'].str.replace(r\"(?:[!¡¿?;:'\\\".,]|\\.{3})\", '', regex=True)\n",
    "    df['textos'] = df['textos'].str.replace(r\"(?:[@#$%^&*()_+=\\[\\]{}|\\\\<>/~`])\", '', regex=True)\n",
    "    df['textos'] = df['textos'].str.replace(r\"\\s+\", ' ', regex=True).str.strip()\n",
    "limpiza(df)\n",
    "df.head()\n"
   ]
  },
  {
   "cell_type": "markdown",
   "id": "b74abc9f",
   "metadata": {},
   "source": [
    "### Duplicados y Nulos"
   ]
  },
  {
   "cell_type": "markdown",
   "id": "e7bc3dd4",
   "metadata": {},
   "source": [
    "Como parte de la revisión de calidad de los datos, se aplicó un análisis para detectar valores nulos, duplicados y columnas constantes en el dataset. Primero se contó cuántos valores faltantes había en cada columna, luego se identificaron las filas completamente duplicadas y, finalmente, se verificó si existían columnas con un único valor en todos sus registros."
   ]
  },
  {
   "cell_type": "code",
   "execution_count": 133,
   "id": "f1055fbc",
   "metadata": {},
   "outputs": [
    {
     "name": "stdout",
     "output_type": "stream",
     "text": [
      "Valores nulos por columna:\n"
     ]
    },
    {
     "data": {
      "application/vnd.microsoft.datawrangler.viewer.v0+json": {
       "columns": [
        {
         "name": "index",
         "rawType": "object",
         "type": "string"
        },
        {
         "name": "0",
         "rawType": "int64",
         "type": "integer"
        }
       ],
       "ref": "76f55b4f-b377-48eb-8820-4bf0d65a6366",
       "rows": [
        [
         "textos",
         "0"
        ],
        [
         "labels",
         "0"
        ],
        [
         "Conteo",
         "0"
        ],
        [
         "Max",
         "0"
        ],
        [
         "Min",
         "0"
        ]
       ],
       "shape": {
        "columns": 1,
        "rows": 5
       }
      },
      "text/plain": [
       "textos    0\n",
       "labels    0\n",
       "Conteo    0\n",
       "Max       0\n",
       "Min       0\n",
       "dtype: int64"
      ]
     },
     "metadata": {},
     "output_type": "display_data"
    },
    {
     "name": "stdout",
     "output_type": "stream",
     "text": [
      "\n",
      "Duplicados (filas completas): 0\n",
      "Columnas constantes: Ninguna\n"
     ]
    }
   ],
   "source": [
    "#Codigo dado en el notebook de la clase\n",
    "def verNulosYDuplicados(df: pd.DataFrame):\n",
    "    print(\"Valores nulos por columna:\")\n",
    "    display(df.isnull().sum())\n",
    "    print(\"\\nDuplicados (filas completas):\", df.duplicated().sum())\n",
    "    const_cols = [c for c in df.columns if df[c].nunique() == 1]\n",
    "    print(\"Columnas constantes:\", const_cols if const_cols else \"Ninguna\")\n",
    "verNulosYDuplicados(df)\n"
   ]
  },
  {
   "cell_type": "markdown",
   "id": "3f85fbc4",
   "metadata": {},
   "source": [
    "### Tokenización"
   ]
  },
  {
   "cell_type": "markdown",
   "id": "98601539",
   "metadata": {},
   "source": [
    "Una vez que los textos estuvieron limpios, se procedió a realizar la tokenización, es decir, dividir cada opinión en una lista de palabras individuales."
   ]
  },
  {
   "cell_type": "code",
   "execution_count": 134,
   "id": "b28832e2",
   "metadata": {},
   "outputs": [
    {
     "data": {
      "application/vnd.microsoft.datawrangler.viewer.v0+json": {
       "columns": [
        {
         "name": "index",
         "rawType": "int64",
         "type": "integer"
        },
        {
         "name": "textos",
         "rawType": "string",
         "type": "string"
        },
        {
         "name": "labels",
         "rawType": "int64",
         "type": "integer"
        },
        {
         "name": "Conteo",
         "rawType": "int64",
         "type": "integer"
        },
        {
         "name": "Max",
         "rawType": "int64",
         "type": "integer"
        },
        {
         "name": "Min",
         "rawType": "int64",
         "type": "integer"
        },
        {
         "name": "tokens",
         "rawType": "object",
         "type": "unknown"
        }
       ],
       "ref": "e3a4f50b-94b8-4def-b2c9-156d5ea7b22e",
       "rows": [
        [
         "0",
         "aprendizaje y educación se consideran sinónimos de escolarización formal las organizaciones auxiliares como las editoriales de educación las juntas examinadoras y las organizaciones de formación de docentes se consideran extensiones de los acuerdos establecidos por los gobiernos este marco de comprensión se ha vuelto cada vez más inadecuado",
         "4",
         "352",
         "14",
         "1",
         "['aprendizaje', 'y', 'educación', 'se', 'consideran', 'sinónimos', 'de', 'escolarización', 'formal', 'las', 'organizaciones', 'auxiliares', 'como', 'las', 'editoriales', 'de', 'educación', 'las', 'juntas', 'examinadoras', 'y', 'las', 'organizaciones', 'de', 'formación', 'de', 'docentes', 'se', 'consideran', 'extensiones', 'de', 'los', 'acuerdos', 'establecidos', 'por', 'los', 'gobiernos', 'este', 'marco', 'de', 'comprensión', 'se', 'ha', 'vuelto', 'cada', 'vez', 'más', 'inadecuado']"
        ],
        [
         "1",
         "para los niños más pequeños bebés y niños pequeños la capacitación especializada y práctica parece estar más fuertemente asociada con la calidad pedagógica y los resultados cognitivos y sociales los educadores de la primera infancia se encuentran con entornos sociales cada vez más complejos y se encuentran con una multiplicidad de antecedentes y experiencias familiares estos factores crean imperativos para adoptar nuevas pedagogías y prácticas organizacionales para acomodar este pluralismo elliott 2006",
         "4",
         "516",
         "16",
         "1",
         "['para', 'los', 'niños', 'más', 'pequeños', 'bebés', 'y', 'niños', 'pequeños', 'la', 'capacitación', 'especializada', 'y', 'práctica', 'parece', 'estar', 'más', 'fuertemente', 'asociada', 'con', 'la', 'calidad', 'pedagógica', 'y', 'los', 'resultados', 'cognitivos', 'y', 'sociales', 'los', 'educadores', 'de', 'la', 'primera', 'infancia', 'se', 'encuentran', 'con', 'entornos', 'sociales', 'cada', 'vez', 'más', 'complejos', 'y', 'se', 'encuentran', 'con', 'una', 'multiplicidad', 'de', 'antecedentes', 'y', 'experiencias', 'familiares', 'estos', 'factores', 'crean', 'imperativos', 'para', 'adoptar', 'nuevas', 'pedagogías', 'y', 'prácticas', 'organizacionales', 'para', 'acomodar', 'este', 'pluralismo', 'elliott', '2006']"
        ],
        [
         "2",
         "además la formación de especialistas en medicina general también incluye tareas que requieren un conocimiento más profundo de problemas comunes de salud pública incluida la salud mental cuestionario de salud mental de la ocde 2013 dado que no hay control en la atención primaria para limitar el acceso a los servicios de salud mental especializados muchos pacientes que necesitan tratamiento para trastornos mentales graves en particular pueden buscar atención de nivel especializado directamente los servicios de especialistas en psiquiatría se brindan principalmente en las salas ambulatorias de psiquiatría ubicadas en los hospitales generales",
         "3",
         "659",
         "15",
         "1",
         "['además', 'la', 'formación', 'de', 'especialistas', 'en', 'medicina', 'general', 'también', 'incluye', 'tareas', 'que', 'requieren', 'un', 'conocimiento', 'más', 'profundo', 'de', 'problemas', 'comunes', 'de', 'salud', 'pública', 'incluida', 'la', 'salud', 'mental', 'cuestionario', 'de', 'salud', 'mental', 'de', 'la', 'ocde', '2013', 'dado', 'que', 'no', 'hay', 'control', 'en', 'la', 'atención', 'primaria', 'para', 'limitar', 'el', 'acceso', 'a', 'los', 'servicios', 'de', 'salud', 'mental', 'especializados', 'muchos', 'pacientes', 'que', 'necesitan', 'tratamiento', 'para', 'trastornos', 'mentales', 'graves', 'en', 'particular', 'pueden', 'buscar', 'atención', 'de', 'nivel', 'especializado', 'directamente', 'los', 'servicios', 'de', 'especialistas', 'en', 'psiquiatría', 'se', 'brindan', 'principalmente', 'en', 'las', 'salas', 'ambulatorias', 'de', 'psiquiatría', 'ubicadas', 'en', 'los', 'hospitales', 'generales']"
        ],
        [
         "3",
         "en los países de la ocde se tiende a pasar de los cursos obligatorios a los optativos abiertos a estudiantes de distintas facultades y escuelas este planteamiento facilita la formación de equipos de estudiantes con distintas formaciones e intereses el trabajo en equipos interdisciplinares permite a los individuos concentrarse en lo que mejor saben y les gusta y al mismo tiempo familiarizarse con nuevos conocimientos que pueden asociarse a una nueva forma de resolver un problema o crear un nuevo producto o servicio no está claro hasta qué punto estos cursos utilizan métodos pedagógicos creativos y se adaptan a las necesidades de los estudiantes de grado postgrado y licenciatura",
         "4",
         "693",
         "18",
         "1",
         "['en', 'los', 'países', 'de', 'la', 'ocde', 'se', 'tiende', 'a', 'pasar', 'de', 'los', 'cursos', 'obligatorios', 'a', 'los', 'optativos', 'abiertos', 'a', 'estudiantes', 'de', 'distintas', 'facultades', 'y', 'escuelas', 'este', 'planteamiento', 'facilita', 'la', 'formación', 'de', 'equipos', 'de', 'estudiantes', 'con', 'distintas', 'formaciones', 'e', 'intereses', 'el', 'trabajo', 'en', 'equipos', 'interdisciplinares', 'permite', 'a', 'los', 'individuos', 'concentrarse', 'en', 'lo', 'que', 'mejor', 'saben', 'y', 'les', 'gusta', 'y', 'al', 'mismo', 'tiempo', 'familiarizarse', 'con', 'nuevos', 'conocimientos', 'que', 'pueden', 'asociarse', 'a', 'una', 'nueva', 'forma', 'de', 'resolver', 'un', 'problema', 'o', 'crear', 'un', 'nuevo', 'producto', 'o', 'servicio', 'no', 'está', 'claro', 'hasta', 'qué', 'punto', 'estos', 'cursos', 'utilizan', 'métodos', 'pedagógicos', 'creativos', 'y', 'se', 'adaptan', 'a', 'las', 'necesidades', 'de', 'los', 'estudiantes', 'de', 'grado', 'postgrado', 'y', 'licenciatura']"
        ],
        [
         "4",
         "este grupo se centró en las personas que padecen trastornos mentales con comorbilidad de abuso de sustancias mientras que la demencia la discapacidad intelectual y el abuso de sustancias por sà solos quedaron excluidos del ámbito de análisis con 90 millones de euros de financiación la comisión dispuso de tres años para iniciar y apoyar el desarrollo de proyectos a todos los niveles tratamiento médico mejora de los servicios proyectos de vivienda mejoras legislativas y organizativas y proponer las medidas necesarias para elevar de forma permanente el nivel de los servicios de salud mental",
         "3",
         "608",
         "14",
         "0",
         "['este', 'grupo', 'se', 'centró', 'en', 'las', 'personas', 'que', 'padecen', 'trastornos', 'mentales', 'con', 'comorbilidad', 'de', 'abuso', 'de', 'sustancias', 'mientras', 'que', 'la', 'demencia', 'la', 'discapacidad', 'intelectual', 'y', 'el', 'abuso', 'de', 'sustancias', 'por', 'sà', 'solos', 'quedaron', 'excluidos', 'del', 'ámbito', 'de', 'análisis', 'con', '90', 'millones', 'de', 'euros', 'de', 'financiación', 'la', 'comisión', 'dispuso', 'de', 'tres', 'años', 'para', 'iniciar', 'y', 'apoyar', 'el', 'desarrollo', 'de', 'proyectos', 'a', 'todos', 'los', 'niveles', 'tratamiento', 'médico', 'mejora', 'de', 'los', 'servicios', 'proyectos', 'de', 'vivienda', 'mejoras', 'legislativas', 'y', 'organizativas', 'y', 'proponer', 'las', 'medidas', 'necesarias', 'para', 'elevar', 'de', 'forma', 'permanente', 'el', 'nivel', 'de', 'los', 'servicios', 'de', 'salud', 'mental']"
        ]
       ],
       "shape": {
        "columns": 6,
        "rows": 5
       }
      },
      "text/html": [
       "<div>\n",
       "<style scoped>\n",
       "    .dataframe tbody tr th:only-of-type {\n",
       "        vertical-align: middle;\n",
       "    }\n",
       "\n",
       "    .dataframe tbody tr th {\n",
       "        vertical-align: top;\n",
       "    }\n",
       "\n",
       "    .dataframe thead th {\n",
       "        text-align: right;\n",
       "    }\n",
       "</style>\n",
       "<table border=\"1\" class=\"dataframe\">\n",
       "  <thead>\n",
       "    <tr style=\"text-align: right;\">\n",
       "      <th></th>\n",
       "      <th>textos</th>\n",
       "      <th>labels</th>\n",
       "      <th>Conteo</th>\n",
       "      <th>Max</th>\n",
       "      <th>Min</th>\n",
       "      <th>tokens</th>\n",
       "    </tr>\n",
       "  </thead>\n",
       "  <tbody>\n",
       "    <tr>\n",
       "      <th>0</th>\n",
       "      <td>aprendizaje y educación se consideran sinónimo...</td>\n",
       "      <td>4</td>\n",
       "      <td>352</td>\n",
       "      <td>14</td>\n",
       "      <td>1</td>\n",
       "      <td>[aprendizaje, y, educación, se, consideran, si...</td>\n",
       "    </tr>\n",
       "    <tr>\n",
       "      <th>1</th>\n",
       "      <td>para los niños más pequeños bebés y niños pequ...</td>\n",
       "      <td>4</td>\n",
       "      <td>516</td>\n",
       "      <td>16</td>\n",
       "      <td>1</td>\n",
       "      <td>[para, los, niños, más, pequeños, bebés, y, ni...</td>\n",
       "    </tr>\n",
       "    <tr>\n",
       "      <th>2</th>\n",
       "      <td>además la formación de especialistas en medici...</td>\n",
       "      <td>3</td>\n",
       "      <td>659</td>\n",
       "      <td>15</td>\n",
       "      <td>1</td>\n",
       "      <td>[además, la, formación, de, especialistas, en,...</td>\n",
       "    </tr>\n",
       "    <tr>\n",
       "      <th>3</th>\n",
       "      <td>en los países de la ocde se tiende a pasar de ...</td>\n",
       "      <td>4</td>\n",
       "      <td>693</td>\n",
       "      <td>18</td>\n",
       "      <td>1</td>\n",
       "      <td>[en, los, países, de, la, ocde, se, tiende, a,...</td>\n",
       "    </tr>\n",
       "    <tr>\n",
       "      <th>4</th>\n",
       "      <td>este grupo se centró en las personas que padec...</td>\n",
       "      <td>3</td>\n",
       "      <td>608</td>\n",
       "      <td>14</td>\n",
       "      <td>0</td>\n",
       "      <td>[este, grupo, se, centró, en, las, personas, q...</td>\n",
       "    </tr>\n",
       "  </tbody>\n",
       "</table>\n",
       "</div>"
      ],
      "text/plain": [
       "                                              textos  labels  Conteo  Max  \\\n",
       "0  aprendizaje y educación se consideran sinónimo...       4     352   14   \n",
       "1  para los niños más pequeños bebés y niños pequ...       4     516   16   \n",
       "2  además la formación de especialistas en medici...       3     659   15   \n",
       "3  en los países de la ocde se tiende a pasar de ...       4     693   18   \n",
       "4  este grupo se centró en las personas que padec...       3     608   14   \n",
       "\n",
       "   Min                                             tokens  \n",
       "0    1  [aprendizaje, y, educación, se, consideran, si...  \n",
       "1    1  [para, los, niños, más, pequeños, bebés, y, ni...  \n",
       "2    1  [además, la, formación, de, especialistas, en,...  \n",
       "3    1  [en, los, países, de, la, ocde, se, tiende, a,...  \n",
       "4    0  [este, grupo, se, centró, en, las, personas, q...  "
      ]
     },
     "execution_count": 134,
     "metadata": {},
     "output_type": "execute_result"
    }
   ],
   "source": [
    "def tokenizacion(df: pd.DataFrame):\n",
    "    columnaTokens = []\n",
    "    for opinion in df['textos']:\n",
    "        columnaTokens.append(opinion.split())\n",
    "    df['tokens'] = columnaTokens\n",
    "    return df\n",
    "doc = tokenizacion(df)   \n",
    "df.head()"
   ]
  },
  {
   "cell_type": "markdown",
   "id": "63c11b86",
   "metadata": {},
   "source": [
    "### Eliminación de tockens innecesarios, articulos, preposiciones, etc."
   ]
  },
  {
   "cell_type": "markdown",
   "id": "b0887028",
   "metadata": {},
   "source": [
    "Después de tokenizar los textos, se aplicó un proceso para eliminar las stopwords, es decir, aquellas palabras muy comunes (como “de”, “la”, “en”, “y”) que no aportan valor semántico al análisis. Para ello, se utilizó la lista de palabras vacías por defecto de spaCy y se filtraron los tokens de cada texto, generando una nueva columna en el DataFrame llamada \"tokens_sin_innecesarios\"."
   ]
  },
  {
   "cell_type": "code",
   "execution_count": 135,
   "id": "c5c412c3",
   "metadata": {},
   "outputs": [
    {
     "data": {
      "application/vnd.microsoft.datawrangler.viewer.v0+json": {
       "columns": [
        {
         "name": "index",
         "rawType": "int64",
         "type": "integer"
        },
        {
         "name": "textos",
         "rawType": "string",
         "type": "string"
        },
        {
         "name": "labels",
         "rawType": "int64",
         "type": "integer"
        },
        {
         "name": "Conteo",
         "rawType": "int64",
         "type": "integer"
        },
        {
         "name": "Max",
         "rawType": "int64",
         "type": "integer"
        },
        {
         "name": "Min",
         "rawType": "int64",
         "type": "integer"
        },
        {
         "name": "tokens",
         "rawType": "object",
         "type": "unknown"
        },
        {
         "name": "tokens_sin_innecesarios",
         "rawType": "object",
         "type": "unknown"
        }
       ],
       "ref": "5544b360-af2c-4ac0-bf88-3cc1dc36933c",
       "rows": [
        [
         "0",
         "aprendizaje y educación se consideran sinónimos de escolarización formal las organizaciones auxiliares como las editoriales de educación las juntas examinadoras y las organizaciones de formación de docentes se consideran extensiones de los acuerdos establecidos por los gobiernos este marco de comprensión se ha vuelto cada vez más inadecuado",
         "4",
         "352",
         "14",
         "1",
         "['aprendizaje', 'y', 'educación', 'se', 'consideran', 'sinónimos', 'de', 'escolarización', 'formal', 'las', 'organizaciones', 'auxiliares', 'como', 'las', 'editoriales', 'de', 'educación', 'las', 'juntas', 'examinadoras', 'y', 'las', 'organizaciones', 'de', 'formación', 'de', 'docentes', 'se', 'consideran', 'extensiones', 'de', 'los', 'acuerdos', 'establecidos', 'por', 'los', 'gobiernos', 'este', 'marco', 'de', 'comprensión', 'se', 'ha', 'vuelto', 'cada', 'vez', 'más', 'inadecuado']",
         "['aprendizaje', 'educación', 'consideran', 'sinónimos', 'escolarización', 'formal', 'organizaciones', 'auxiliares', 'editoriales', 'educación', 'juntas', 'examinadoras', 'organizaciones', 'formación', 'docentes', 'consideran', 'extensiones', 'acuerdos', 'establecidos', 'gobiernos', 'marco', 'comprensión', 'vuelto', 'inadecuado']"
        ],
        [
         "1",
         "para los niños más pequeños bebés y niños pequeños la capacitación especializada y práctica parece estar más fuertemente asociada con la calidad pedagógica y los resultados cognitivos y sociales los educadores de la primera infancia se encuentran con entornos sociales cada vez más complejos y se encuentran con una multiplicidad de antecedentes y experiencias familiares estos factores crean imperativos para adoptar nuevas pedagogías y prácticas organizacionales para acomodar este pluralismo elliott 2006",
         "4",
         "516",
         "16",
         "1",
         "['para', 'los', 'niños', 'más', 'pequeños', 'bebés', 'y', 'niños', 'pequeños', 'la', 'capacitación', 'especializada', 'y', 'práctica', 'parece', 'estar', 'más', 'fuertemente', 'asociada', 'con', 'la', 'calidad', 'pedagógica', 'y', 'los', 'resultados', 'cognitivos', 'y', 'sociales', 'los', 'educadores', 'de', 'la', 'primera', 'infancia', 'se', 'encuentran', 'con', 'entornos', 'sociales', 'cada', 'vez', 'más', 'complejos', 'y', 'se', 'encuentran', 'con', 'una', 'multiplicidad', 'de', 'antecedentes', 'y', 'experiencias', 'familiares', 'estos', 'factores', 'crean', 'imperativos', 'para', 'adoptar', 'nuevas', 'pedagogías', 'y', 'prácticas', 'organizacionales', 'para', 'acomodar', 'este', 'pluralismo', 'elliott', '2006']",
         "['niños', 'pequeños', 'bebés', 'niños', 'pequeños', 'capacitación', 'especializada', 'práctica', 'fuertemente', 'asociada', 'calidad', 'pedagógica', 'resultados', 'cognitivos', 'sociales', 'educadores', 'infancia', 'encuentran', 'entornos', 'sociales', 'complejos', 'encuentran', 'multiplicidad', 'antecedentes', 'experiencias', 'familiares', 'factores', 'crean', 'imperativos', 'adoptar', 'pedagogías', 'prácticas', 'organizacionales', 'acomodar', 'pluralismo', 'elliott', '2006']"
        ],
        [
         "2",
         "además la formación de especialistas en medicina general también incluye tareas que requieren un conocimiento más profundo de problemas comunes de salud pública incluida la salud mental cuestionario de salud mental de la ocde 2013 dado que no hay control en la atención primaria para limitar el acceso a los servicios de salud mental especializados muchos pacientes que necesitan tratamiento para trastornos mentales graves en particular pueden buscar atención de nivel especializado directamente los servicios de especialistas en psiquiatría se brindan principalmente en las salas ambulatorias de psiquiatría ubicadas en los hospitales generales",
         "3",
         "659",
         "15",
         "1",
         "['además', 'la', 'formación', 'de', 'especialistas', 'en', 'medicina', 'general', 'también', 'incluye', 'tareas', 'que', 'requieren', 'un', 'conocimiento', 'más', 'profundo', 'de', 'problemas', 'comunes', 'de', 'salud', 'pública', 'incluida', 'la', 'salud', 'mental', 'cuestionario', 'de', 'salud', 'mental', 'de', 'la', 'ocde', '2013', 'dado', 'que', 'no', 'hay', 'control', 'en', 'la', 'atención', 'primaria', 'para', 'limitar', 'el', 'acceso', 'a', 'los', 'servicios', 'de', 'salud', 'mental', 'especializados', 'muchos', 'pacientes', 'que', 'necesitan', 'tratamiento', 'para', 'trastornos', 'mentales', 'graves', 'en', 'particular', 'pueden', 'buscar', 'atención', 'de', 'nivel', 'especializado', 'directamente', 'los', 'servicios', 'de', 'especialistas', 'en', 'psiquiatría', 'se', 'brindan', 'principalmente', 'en', 'las', 'salas', 'ambulatorias', 'de', 'psiquiatría', 'ubicadas', 'en', 'los', 'hospitales', 'generales']",
         "['formación', 'especialistas', 'medicina', 'general', 'incluye', 'tareas', 'requieren', 'conocimiento', 'profundo', 'problemas', 'comunes', 'salud', 'pública', 'incluida', 'salud', 'mental', 'cuestionario', 'salud', 'mental', 'ocde', '2013', 'control', 'atención', 'primaria', 'limitar', 'acceso', 'servicios', 'salud', 'mental', 'especializados', 'pacientes', 'necesitan', 'tratamiento', 'trastornos', 'mentales', 'graves', 'particular', 'buscar', 'atención', 'nivel', 'especializado', 'directamente', 'servicios', 'especialistas', 'psiquiatría', 'brindan', 'principalmente', 'salas', 'ambulatorias', 'psiquiatría', 'ubicadas', 'hospitales', 'generales']"
        ],
        [
         "3",
         "en los países de la ocde se tiende a pasar de los cursos obligatorios a los optativos abiertos a estudiantes de distintas facultades y escuelas este planteamiento facilita la formación de equipos de estudiantes con distintas formaciones e intereses el trabajo en equipos interdisciplinares permite a los individuos concentrarse en lo que mejor saben y les gusta y al mismo tiempo familiarizarse con nuevos conocimientos que pueden asociarse a una nueva forma de resolver un problema o crear un nuevo producto o servicio no está claro hasta qué punto estos cursos utilizan métodos pedagógicos creativos y se adaptan a las necesidades de los estudiantes de grado postgrado y licenciatura",
         "4",
         "693",
         "18",
         "1",
         "['en', 'los', 'países', 'de', 'la', 'ocde', 'se', 'tiende', 'a', 'pasar', 'de', 'los', 'cursos', 'obligatorios', 'a', 'los', 'optativos', 'abiertos', 'a', 'estudiantes', 'de', 'distintas', 'facultades', 'y', 'escuelas', 'este', 'planteamiento', 'facilita', 'la', 'formación', 'de', 'equipos', 'de', 'estudiantes', 'con', 'distintas', 'formaciones', 'e', 'intereses', 'el', 'trabajo', 'en', 'equipos', 'interdisciplinares', 'permite', 'a', 'los', 'individuos', 'concentrarse', 'en', 'lo', 'que', 'mejor', 'saben', 'y', 'les', 'gusta', 'y', 'al', 'mismo', 'tiempo', 'familiarizarse', 'con', 'nuevos', 'conocimientos', 'que', 'pueden', 'asociarse', 'a', 'una', 'nueva', 'forma', 'de', 'resolver', 'un', 'problema', 'o', 'crear', 'un', 'nuevo', 'producto', 'o', 'servicio', 'no', 'está', 'claro', 'hasta', 'qué', 'punto', 'estos', 'cursos', 'utilizan', 'métodos', 'pedagógicos', 'creativos', 'y', 'se', 'adaptan', 'a', 'las', 'necesidades', 'de', 'los', 'estudiantes', 'de', 'grado', 'postgrado', 'y', 'licenciatura']",
         "['países', 'ocde', 'tiende', 'pasar', 'cursos', 'obligatorios', 'optativos', 'abiertos', 'estudiantes', 'distintas', 'facultades', 'escuelas', 'planteamiento', 'facilita', 'formación', 'equipos', 'estudiantes', 'distintas', 'formaciones', 'intereses', 'trabajo', 'equipos', 'interdisciplinares', 'permite', 'individuos', 'concentrarse', 'gusta', 'tiempo', 'familiarizarse', 'conocimientos', 'asociarse', 'forma', 'resolver', 'problema', 'crear', 'producto', 'servicio', 'punto', 'cursos', 'utilizan', 'métodos', 'pedagógicos', 'creativos', 'adaptan', 'necesidades', 'estudiantes', 'grado', 'postgrado', 'licenciatura']"
        ],
        [
         "4",
         "este grupo se centró en las personas que padecen trastornos mentales con comorbilidad de abuso de sustancias mientras que la demencia la discapacidad intelectual y el abuso de sustancias por sà solos quedaron excluidos del ámbito de análisis con 90 millones de euros de financiación la comisión dispuso de tres años para iniciar y apoyar el desarrollo de proyectos a todos los niveles tratamiento médico mejora de los servicios proyectos de vivienda mejoras legislativas y organizativas y proponer las medidas necesarias para elevar de forma permanente el nivel de los servicios de salud mental",
         "3",
         "608",
         "14",
         "0",
         "['este', 'grupo', 'se', 'centró', 'en', 'las', 'personas', 'que', 'padecen', 'trastornos', 'mentales', 'con', 'comorbilidad', 'de', 'abuso', 'de', 'sustancias', 'mientras', 'que', 'la', 'demencia', 'la', 'discapacidad', 'intelectual', 'y', 'el', 'abuso', 'de', 'sustancias', 'por', 'sà', 'solos', 'quedaron', 'excluidos', 'del', 'ámbito', 'de', 'análisis', 'con', '90', 'millones', 'de', 'euros', 'de', 'financiación', 'la', 'comisión', 'dispuso', 'de', 'tres', 'años', 'para', 'iniciar', 'y', 'apoyar', 'el', 'desarrollo', 'de', 'proyectos', 'a', 'todos', 'los', 'niveles', 'tratamiento', 'médico', 'mejora', 'de', 'los', 'servicios', 'proyectos', 'de', 'vivienda', 'mejoras', 'legislativas', 'y', 'organizativas', 'y', 'proponer', 'las', 'medidas', 'necesarias', 'para', 'elevar', 'de', 'forma', 'permanente', 'el', 'nivel', 'de', 'los', 'servicios', 'de', 'salud', 'mental']",
         "['grupo', 'centró', 'personas', 'padecen', 'trastornos', 'mentales', 'comorbilidad', 'abuso', 'sustancias', 'demencia', 'discapacidad', 'intelectual', 'abuso', 'sustancias', 'sà', 'quedaron', 'excluidos', 'ámbito', 'análisis', '90', 'millones', 'euros', 'financiación', 'comisión', 'dispuso', 'años', 'iniciar', 'apoyar', 'desarrollo', 'proyectos', 'niveles', 'tratamiento', 'médico', 'mejora', 'servicios', 'proyectos', 'vivienda', 'mejoras', 'legislativas', 'organizativas', 'proponer', 'medidas', 'necesarias', 'elevar', 'forma', 'permanente', 'nivel', 'servicios', 'salud', 'mental']"
        ]
       ],
       "shape": {
        "columns": 7,
        "rows": 5
       }
      },
      "text/html": [
       "<div>\n",
       "<style scoped>\n",
       "    .dataframe tbody tr th:only-of-type {\n",
       "        vertical-align: middle;\n",
       "    }\n",
       "\n",
       "    .dataframe tbody tr th {\n",
       "        vertical-align: top;\n",
       "    }\n",
       "\n",
       "    .dataframe thead th {\n",
       "        text-align: right;\n",
       "    }\n",
       "</style>\n",
       "<table border=\"1\" class=\"dataframe\">\n",
       "  <thead>\n",
       "    <tr style=\"text-align: right;\">\n",
       "      <th></th>\n",
       "      <th>textos</th>\n",
       "      <th>labels</th>\n",
       "      <th>Conteo</th>\n",
       "      <th>Max</th>\n",
       "      <th>Min</th>\n",
       "      <th>tokens</th>\n",
       "      <th>tokens_sin_innecesarios</th>\n",
       "    </tr>\n",
       "  </thead>\n",
       "  <tbody>\n",
       "    <tr>\n",
       "      <th>0</th>\n",
       "      <td>aprendizaje y educación se consideran sinónimo...</td>\n",
       "      <td>4</td>\n",
       "      <td>352</td>\n",
       "      <td>14</td>\n",
       "      <td>1</td>\n",
       "      <td>[aprendizaje, y, educación, se, consideran, si...</td>\n",
       "      <td>[aprendizaje, educación, consideran, sinónimos...</td>\n",
       "    </tr>\n",
       "    <tr>\n",
       "      <th>1</th>\n",
       "      <td>para los niños más pequeños bebés y niños pequ...</td>\n",
       "      <td>4</td>\n",
       "      <td>516</td>\n",
       "      <td>16</td>\n",
       "      <td>1</td>\n",
       "      <td>[para, los, niños, más, pequeños, bebés, y, ni...</td>\n",
       "      <td>[niños, pequeños, bebés, niños, pequeños, capa...</td>\n",
       "    </tr>\n",
       "    <tr>\n",
       "      <th>2</th>\n",
       "      <td>además la formación de especialistas en medici...</td>\n",
       "      <td>3</td>\n",
       "      <td>659</td>\n",
       "      <td>15</td>\n",
       "      <td>1</td>\n",
       "      <td>[además, la, formación, de, especialistas, en,...</td>\n",
       "      <td>[formación, especialistas, medicina, general, ...</td>\n",
       "    </tr>\n",
       "    <tr>\n",
       "      <th>3</th>\n",
       "      <td>en los países de la ocde se tiende a pasar de ...</td>\n",
       "      <td>4</td>\n",
       "      <td>693</td>\n",
       "      <td>18</td>\n",
       "      <td>1</td>\n",
       "      <td>[en, los, países, de, la, ocde, se, tiende, a,...</td>\n",
       "      <td>[países, ocde, tiende, pasar, cursos, obligato...</td>\n",
       "    </tr>\n",
       "    <tr>\n",
       "      <th>4</th>\n",
       "      <td>este grupo se centró en las personas que padec...</td>\n",
       "      <td>3</td>\n",
       "      <td>608</td>\n",
       "      <td>14</td>\n",
       "      <td>0</td>\n",
       "      <td>[este, grupo, se, centró, en, las, personas, q...</td>\n",
       "      <td>[grupo, centró, personas, padecen, trastornos,...</td>\n",
       "    </tr>\n",
       "  </tbody>\n",
       "</table>\n",
       "</div>"
      ],
      "text/plain": [
       "                                              textos  labels  Conteo  Max  \\\n",
       "0  aprendizaje y educación se consideran sinónimo...       4     352   14   \n",
       "1  para los niños más pequeños bebés y niños pequ...       4     516   16   \n",
       "2  además la formación de especialistas en medici...       3     659   15   \n",
       "3  en los países de la ocde se tiende a pasar de ...       4     693   18   \n",
       "4  este grupo se centró en las personas que padec...       3     608   14   \n",
       "\n",
       "   Min                                             tokens  \\\n",
       "0    1  [aprendizaje, y, educación, se, consideran, si...   \n",
       "1    1  [para, los, niños, más, pequeños, bebés, y, ni...   \n",
       "2    1  [además, la, formación, de, especialistas, en,...   \n",
       "3    1  [en, los, países, de, la, ocde, se, tiende, a,...   \n",
       "4    0  [este, grupo, se, centró, en, las, personas, q...   \n",
       "\n",
       "                             tokens_sin_innecesarios  \n",
       "0  [aprendizaje, educación, consideran, sinónimos...  \n",
       "1  [niños, pequeños, bebés, niños, pequeños, capa...  \n",
       "2  [formación, especialistas, medicina, general, ...  \n",
       "3  [países, ocde, tiende, pasar, cursos, obligato...  \n",
       "4  [grupo, centró, personas, padecen, trastornos,...  "
      ]
     },
     "execution_count": 135,
     "metadata": {},
     "output_type": "execute_result"
    }
   ],
   "source": [
    "def quitar_stopwords(df: pd.DataFrame):\n",
    "    stopwords = nlp.Defaults.stop_words\n",
    "    tokensSinStopwords = []\n",
    "    \n",
    "    for lista in df['tokens']:\n",
    "        tokens_filtrados = [tok for tok in lista if tok.lower() not in stopwords]\n",
    "        tokensSinStopwords.append(tokens_filtrados)\n",
    "\n",
    "    df['tokens_sin_innecesarios'] = tokensSinStopwords\n",
    "\n",
    "quitar_stopwords(df)\n",
    "df.head()\n"
   ]
  },
  {
   "cell_type": "markdown",
   "id": "95258ab6",
   "metadata": {},
   "source": [
    "### Lematización"
   ]
  },
  {
   "cell_type": "markdown",
   "id": "9393fb6a",
   "metadata": {},
   "source": [
    "Tras la eliminación de stopwords, se realizó la lematización de los tokens, un proceso que transforma cada palabra a su forma base o raíz gramatical. Para ello, se unieron los tokens filtrados en un texto, se procesaron con spaCy y se generó una nueva lista con los lemas de cada palabra, excluyendo signos de puntuación y espacios. Finalmente, estos resultados se almacenaron en la columna lematizados."
   ]
  },
  {
   "cell_type": "code",
   "execution_count": 136,
   "id": "68ba1ba2",
   "metadata": {},
   "outputs": [
    {
     "data": {
      "application/vnd.microsoft.datawrangler.viewer.v0+json": {
       "columns": [
        {
         "name": "index",
         "rawType": "int64",
         "type": "integer"
        },
        {
         "name": "textos",
         "rawType": "string",
         "type": "string"
        },
        {
         "name": "labels",
         "rawType": "int64",
         "type": "integer"
        },
        {
         "name": "Conteo",
         "rawType": "int64",
         "type": "integer"
        },
        {
         "name": "Max",
         "rawType": "int64",
         "type": "integer"
        },
        {
         "name": "Min",
         "rawType": "int64",
         "type": "integer"
        },
        {
         "name": "tokens",
         "rawType": "object",
         "type": "unknown"
        },
        {
         "name": "tokens_sin_innecesarios",
         "rawType": "object",
         "type": "unknown"
        },
        {
         "name": "lematizados",
         "rawType": "object",
         "type": "unknown"
        }
       ],
       "ref": "d929b93d-6043-470b-8449-484c9168066c",
       "rows": [
        [
         "0",
         "aprendizaje y educación se consideran sinónimos de escolarización formal las organizaciones auxiliares como las editoriales de educación las juntas examinadoras y las organizaciones de formación de docentes se consideran extensiones de los acuerdos establecidos por los gobiernos este marco de comprensión se ha vuelto cada vez más inadecuado",
         "4",
         "352",
         "14",
         "1",
         "['aprendizaje', 'y', 'educación', 'se', 'consideran', 'sinónimos', 'de', 'escolarización', 'formal', 'las', 'organizaciones', 'auxiliares', 'como', 'las', 'editoriales', 'de', 'educación', 'las', 'juntas', 'examinadoras', 'y', 'las', 'organizaciones', 'de', 'formación', 'de', 'docentes', 'se', 'consideran', 'extensiones', 'de', 'los', 'acuerdos', 'establecidos', 'por', 'los', 'gobiernos', 'este', 'marco', 'de', 'comprensión', 'se', 'ha', 'vuelto', 'cada', 'vez', 'más', 'inadecuado']",
         "['aprendizaje', 'educación', 'consideran', 'sinónimos', 'escolarización', 'formal', 'organizaciones', 'auxiliares', 'editoriales', 'educación', 'juntas', 'examinadoras', 'organizaciones', 'formación', 'docentes', 'consideran', 'extensiones', 'acuerdos', 'establecidos', 'gobiernos', 'marco', 'comprensión', 'vuelto', 'inadecuado']",
         "['aprendizaje', 'educación', 'considerar', 'sinónir', 'escolarización', 'formal', 'organización', 'auxiliar', 'editorial', 'educación', 'junto', 'examinadora', 'organización', 'formación', 'docente', 'considerar', 'extensión', 'acuerdo', 'establecido', 'gobierno', 'marco', 'comprensión', 'vuelto', 'inadecuado']"
        ],
        [
         "1",
         "para los niños más pequeños bebés y niños pequeños la capacitación especializada y práctica parece estar más fuertemente asociada con la calidad pedagógica y los resultados cognitivos y sociales los educadores de la primera infancia se encuentran con entornos sociales cada vez más complejos y se encuentran con una multiplicidad de antecedentes y experiencias familiares estos factores crean imperativos para adoptar nuevas pedagogías y prácticas organizacionales para acomodar este pluralismo elliott 2006",
         "4",
         "516",
         "16",
         "1",
         "['para', 'los', 'niños', 'más', 'pequeños', 'bebés', 'y', 'niños', 'pequeños', 'la', 'capacitación', 'especializada', 'y', 'práctica', 'parece', 'estar', 'más', 'fuertemente', 'asociada', 'con', 'la', 'calidad', 'pedagógica', 'y', 'los', 'resultados', 'cognitivos', 'y', 'sociales', 'los', 'educadores', 'de', 'la', 'primera', 'infancia', 'se', 'encuentran', 'con', 'entornos', 'sociales', 'cada', 'vez', 'más', 'complejos', 'y', 'se', 'encuentran', 'con', 'una', 'multiplicidad', 'de', 'antecedentes', 'y', 'experiencias', 'familiares', 'estos', 'factores', 'crean', 'imperativos', 'para', 'adoptar', 'nuevas', 'pedagogías', 'y', 'prácticas', 'organizacionales', 'para', 'acomodar', 'este', 'pluralismo', 'elliott', '2006']",
         "['niños', 'pequeños', 'bebés', 'niños', 'pequeños', 'capacitación', 'especializada', 'práctica', 'fuertemente', 'asociada', 'calidad', 'pedagógica', 'resultados', 'cognitivos', 'sociales', 'educadores', 'infancia', 'encuentran', 'entornos', 'sociales', 'complejos', 'encuentran', 'multiplicidad', 'antecedentes', 'experiencias', 'familiares', 'factores', 'crean', 'imperativos', 'adoptar', 'pedagogías', 'prácticas', 'organizacionales', 'acomodar', 'pluralismo', 'elliott', '2006']",
         "['niño', 'pequeño', 'bebé', 'niño', 'pequeño', 'capacitación', 'especializado', 'práctico', 'fuertemente', 'asociado', 'calidad', 'pedagógico', 'resultado', 'cognitivo', 'social', 'educador', 'infancio', 'encontrar', 'entorno', 'social', 'complejo', 'encontrar', 'multiplicidad', 'antecedent', 'experiencia', 'familiar', 'factor', 'crear', 'imperativo', 'adoptar', 'pedagogía', 'práctico', 'organizacional', 'acomodar', 'pluralismo', 'elliott', '2006']"
        ],
        [
         "2",
         "además la formación de especialistas en medicina general también incluye tareas que requieren un conocimiento más profundo de problemas comunes de salud pública incluida la salud mental cuestionario de salud mental de la ocde 2013 dado que no hay control en la atención primaria para limitar el acceso a los servicios de salud mental especializados muchos pacientes que necesitan tratamiento para trastornos mentales graves en particular pueden buscar atención de nivel especializado directamente los servicios de especialistas en psiquiatría se brindan principalmente en las salas ambulatorias de psiquiatría ubicadas en los hospitales generales",
         "3",
         "659",
         "15",
         "1",
         "['además', 'la', 'formación', 'de', 'especialistas', 'en', 'medicina', 'general', 'también', 'incluye', 'tareas', 'que', 'requieren', 'un', 'conocimiento', 'más', 'profundo', 'de', 'problemas', 'comunes', 'de', 'salud', 'pública', 'incluida', 'la', 'salud', 'mental', 'cuestionario', 'de', 'salud', 'mental', 'de', 'la', 'ocde', '2013', 'dado', 'que', 'no', 'hay', 'control', 'en', 'la', 'atención', 'primaria', 'para', 'limitar', 'el', 'acceso', 'a', 'los', 'servicios', 'de', 'salud', 'mental', 'especializados', 'muchos', 'pacientes', 'que', 'necesitan', 'tratamiento', 'para', 'trastornos', 'mentales', 'graves', 'en', 'particular', 'pueden', 'buscar', 'atención', 'de', 'nivel', 'especializado', 'directamente', 'los', 'servicios', 'de', 'especialistas', 'en', 'psiquiatría', 'se', 'brindan', 'principalmente', 'en', 'las', 'salas', 'ambulatorias', 'de', 'psiquiatría', 'ubicadas', 'en', 'los', 'hospitales', 'generales']",
         "['formación', 'especialistas', 'medicina', 'general', 'incluye', 'tareas', 'requieren', 'conocimiento', 'profundo', 'problemas', 'comunes', 'salud', 'pública', 'incluida', 'salud', 'mental', 'cuestionario', 'salud', 'mental', 'ocde', '2013', 'control', 'atención', 'primaria', 'limitar', 'acceso', 'servicios', 'salud', 'mental', 'especializados', 'pacientes', 'necesitan', 'tratamiento', 'trastornos', 'mentales', 'graves', 'particular', 'buscar', 'atención', 'nivel', 'especializado', 'directamente', 'servicios', 'especialistas', 'psiquiatría', 'brindan', 'principalmente', 'salas', 'ambulatorias', 'psiquiatría', 'ubicadas', 'hospitales', 'generales']",
         "['formación', 'especialista', 'medicín', 'general', 'incluir', 'tarea', 'requerir', 'conocimiento', 'profundo', 'problema', 'común', 'salud', 'público', 'incluido', 'salud', 'mental', 'cuestionario', 'salud', 'mental', 'ocde', '2013', 'control', 'atención', 'primario', 'limitar', 'acceso', 'servicio', 'salud', 'mental', 'especializado', 'paciente', 'necesitar', 'tratamiento', 'trastorno', 'mental', 'grave', 'particular', 'buscar', 'atención', 'nivel', 'especializado', 'directamente', 'servicio', 'especialista', 'psiquiatrío', 'brindar', 'principalmente', 'sala', 'ambulatoria', 'psiquiater', 'ubicado', 'hospital', 'general']"
        ],
        [
         "3",
         "en los países de la ocde se tiende a pasar de los cursos obligatorios a los optativos abiertos a estudiantes de distintas facultades y escuelas este planteamiento facilita la formación de equipos de estudiantes con distintas formaciones e intereses el trabajo en equipos interdisciplinares permite a los individuos concentrarse en lo que mejor saben y les gusta y al mismo tiempo familiarizarse con nuevos conocimientos que pueden asociarse a una nueva forma de resolver un problema o crear un nuevo producto o servicio no está claro hasta qué punto estos cursos utilizan métodos pedagógicos creativos y se adaptan a las necesidades de los estudiantes de grado postgrado y licenciatura",
         "4",
         "693",
         "18",
         "1",
         "['en', 'los', 'países', 'de', 'la', 'ocde', 'se', 'tiende', 'a', 'pasar', 'de', 'los', 'cursos', 'obligatorios', 'a', 'los', 'optativos', 'abiertos', 'a', 'estudiantes', 'de', 'distintas', 'facultades', 'y', 'escuelas', 'este', 'planteamiento', 'facilita', 'la', 'formación', 'de', 'equipos', 'de', 'estudiantes', 'con', 'distintas', 'formaciones', 'e', 'intereses', 'el', 'trabajo', 'en', 'equipos', 'interdisciplinares', 'permite', 'a', 'los', 'individuos', 'concentrarse', 'en', 'lo', 'que', 'mejor', 'saben', 'y', 'les', 'gusta', 'y', 'al', 'mismo', 'tiempo', 'familiarizarse', 'con', 'nuevos', 'conocimientos', 'que', 'pueden', 'asociarse', 'a', 'una', 'nueva', 'forma', 'de', 'resolver', 'un', 'problema', 'o', 'crear', 'un', 'nuevo', 'producto', 'o', 'servicio', 'no', 'está', 'claro', 'hasta', 'qué', 'punto', 'estos', 'cursos', 'utilizan', 'métodos', 'pedagógicos', 'creativos', 'y', 'se', 'adaptan', 'a', 'las', 'necesidades', 'de', 'los', 'estudiantes', 'de', 'grado', 'postgrado', 'y', 'licenciatura']",
         "['países', 'ocde', 'tiende', 'pasar', 'cursos', 'obligatorios', 'optativos', 'abiertos', 'estudiantes', 'distintas', 'facultades', 'escuelas', 'planteamiento', 'facilita', 'formación', 'equipos', 'estudiantes', 'distintas', 'formaciones', 'intereses', 'trabajo', 'equipos', 'interdisciplinares', 'permite', 'individuos', 'concentrarse', 'gusta', 'tiempo', 'familiarizarse', 'conocimientos', 'asociarse', 'forma', 'resolver', 'problema', 'crear', 'producto', 'servicio', 'punto', 'cursos', 'utilizan', 'métodos', 'pedagógicos', 'creativos', 'adaptan', 'necesidades', 'estudiantes', 'grado', 'postgrado', 'licenciatura']",
         "['país', 'ocde', 'tender', 'pasar', 'curso', 'obligatorio', 'optativo', 'abierto', 'estudiante', 'distinto', 'facultad', 'escuela', 'planteamiento', 'facilitar', 'formación', 'equipo', 'estudiant', 'distinto', 'formación', 'interés', 'trabajar', 'equipo', 'interdisciplinar', 'permitir', 'individuo', 'concentrar él', 'gusta', 'tiempo', 'familiarizar él', 'conocimiento', 'asociar él', 'forma', 'resolver', 'problema', 'crear', 'producto', 'servicio', 'punto', 'curso', 'utilizar', 'método', 'pedagógico', 'creativo', 'adaptar', 'necesidad', 'estudiant', 'grado', 'postgrado', 'licenciatura']"
        ],
        [
         "4",
         "este grupo se centró en las personas que padecen trastornos mentales con comorbilidad de abuso de sustancias mientras que la demencia la discapacidad intelectual y el abuso de sustancias por sà solos quedaron excluidos del ámbito de análisis con 90 millones de euros de financiación la comisión dispuso de tres años para iniciar y apoyar el desarrollo de proyectos a todos los niveles tratamiento médico mejora de los servicios proyectos de vivienda mejoras legislativas y organizativas y proponer las medidas necesarias para elevar de forma permanente el nivel de los servicios de salud mental",
         "3",
         "608",
         "14",
         "0",
         "['este', 'grupo', 'se', 'centró', 'en', 'las', 'personas', 'que', 'padecen', 'trastornos', 'mentales', 'con', 'comorbilidad', 'de', 'abuso', 'de', 'sustancias', 'mientras', 'que', 'la', 'demencia', 'la', 'discapacidad', 'intelectual', 'y', 'el', 'abuso', 'de', 'sustancias', 'por', 'sà', 'solos', 'quedaron', 'excluidos', 'del', 'ámbito', 'de', 'análisis', 'con', '90', 'millones', 'de', 'euros', 'de', 'financiación', 'la', 'comisión', 'dispuso', 'de', 'tres', 'años', 'para', 'iniciar', 'y', 'apoyar', 'el', 'desarrollo', 'de', 'proyectos', 'a', 'todos', 'los', 'niveles', 'tratamiento', 'médico', 'mejora', 'de', 'los', 'servicios', 'proyectos', 'de', 'vivienda', 'mejoras', 'legislativas', 'y', 'organizativas', 'y', 'proponer', 'las', 'medidas', 'necesarias', 'para', 'elevar', 'de', 'forma', 'permanente', 'el', 'nivel', 'de', 'los', 'servicios', 'de', 'salud', 'mental']",
         "['grupo', 'centró', 'personas', 'padecen', 'trastornos', 'mentales', 'comorbilidad', 'abuso', 'sustancias', 'demencia', 'discapacidad', 'intelectual', 'abuso', 'sustancias', 'sà', 'quedaron', 'excluidos', 'ámbito', 'análisis', '90', 'millones', 'euros', 'financiación', 'comisión', 'dispuso', 'años', 'iniciar', 'apoyar', 'desarrollo', 'proyectos', 'niveles', 'tratamiento', 'médico', 'mejora', 'servicios', 'proyectos', 'vivienda', 'mejoras', 'legislativas', 'organizativas', 'proponer', 'medidas', 'necesarias', 'elevar', 'forma', 'permanente', 'nivel', 'servicios', 'salud', 'mental']",
         "['grupo', 'centrar', 'persona', 'padecer', 'trastorno', 'mental', 'comorbilidad', 'abuso', 'sustancia', 'demencia', 'discapacidad', 'intelectual', 'abuso', 'sustancia', 'sà', 'quedar', 'excluido', 'ámbito', 'análisis', '90', 'millón', 'euro', 'financiación', 'comisión', 'disponer', 'año', 'iniciar', 'apoyar', 'desarrollo', 'proyecto', 'nivel', 'tratamiento', 'médico', 'mejorar', 'servicio', 'proyecto', 'viviendar', 'mejora', 'legislativo', 'organizativo', 'proponer', 'medida', 'necesario', 'elevar', 'forma', 'permanente', 'nivel', 'servicio', 'salud', 'mental']"
        ]
       ],
       "shape": {
        "columns": 8,
        "rows": 5
       }
      },
      "text/html": [
       "<div>\n",
       "<style scoped>\n",
       "    .dataframe tbody tr th:only-of-type {\n",
       "        vertical-align: middle;\n",
       "    }\n",
       "\n",
       "    .dataframe tbody tr th {\n",
       "        vertical-align: top;\n",
       "    }\n",
       "\n",
       "    .dataframe thead th {\n",
       "        text-align: right;\n",
       "    }\n",
       "</style>\n",
       "<table border=\"1\" class=\"dataframe\">\n",
       "  <thead>\n",
       "    <tr style=\"text-align: right;\">\n",
       "      <th></th>\n",
       "      <th>textos</th>\n",
       "      <th>labels</th>\n",
       "      <th>Conteo</th>\n",
       "      <th>Max</th>\n",
       "      <th>Min</th>\n",
       "      <th>tokens</th>\n",
       "      <th>tokens_sin_innecesarios</th>\n",
       "      <th>lematizados</th>\n",
       "    </tr>\n",
       "  </thead>\n",
       "  <tbody>\n",
       "    <tr>\n",
       "      <th>0</th>\n",
       "      <td>aprendizaje y educación se consideran sinónimo...</td>\n",
       "      <td>4</td>\n",
       "      <td>352</td>\n",
       "      <td>14</td>\n",
       "      <td>1</td>\n",
       "      <td>[aprendizaje, y, educación, se, consideran, si...</td>\n",
       "      <td>[aprendizaje, educación, consideran, sinónimos...</td>\n",
       "      <td>[aprendizaje, educación, considerar, sinónir, ...</td>\n",
       "    </tr>\n",
       "    <tr>\n",
       "      <th>1</th>\n",
       "      <td>para los niños más pequeños bebés y niños pequ...</td>\n",
       "      <td>4</td>\n",
       "      <td>516</td>\n",
       "      <td>16</td>\n",
       "      <td>1</td>\n",
       "      <td>[para, los, niños, más, pequeños, bebés, y, ni...</td>\n",
       "      <td>[niños, pequeños, bebés, niños, pequeños, capa...</td>\n",
       "      <td>[niño, pequeño, bebé, niño, pequeño, capacitac...</td>\n",
       "    </tr>\n",
       "    <tr>\n",
       "      <th>2</th>\n",
       "      <td>además la formación de especialistas en medici...</td>\n",
       "      <td>3</td>\n",
       "      <td>659</td>\n",
       "      <td>15</td>\n",
       "      <td>1</td>\n",
       "      <td>[además, la, formación, de, especialistas, en,...</td>\n",
       "      <td>[formación, especialistas, medicina, general, ...</td>\n",
       "      <td>[formación, especialista, medicín, general, in...</td>\n",
       "    </tr>\n",
       "    <tr>\n",
       "      <th>3</th>\n",
       "      <td>en los países de la ocde se tiende a pasar de ...</td>\n",
       "      <td>4</td>\n",
       "      <td>693</td>\n",
       "      <td>18</td>\n",
       "      <td>1</td>\n",
       "      <td>[en, los, países, de, la, ocde, se, tiende, a,...</td>\n",
       "      <td>[países, ocde, tiende, pasar, cursos, obligato...</td>\n",
       "      <td>[país, ocde, tender, pasar, curso, obligatorio...</td>\n",
       "    </tr>\n",
       "    <tr>\n",
       "      <th>4</th>\n",
       "      <td>este grupo se centró en las personas que padec...</td>\n",
       "      <td>3</td>\n",
       "      <td>608</td>\n",
       "      <td>14</td>\n",
       "      <td>0</td>\n",
       "      <td>[este, grupo, se, centró, en, las, personas, q...</td>\n",
       "      <td>[grupo, centró, personas, padecen, trastornos,...</td>\n",
       "      <td>[grupo, centrar, persona, padecer, trastorno, ...</td>\n",
       "    </tr>\n",
       "  </tbody>\n",
       "</table>\n",
       "</div>"
      ],
      "text/plain": [
       "                                              textos  labels  Conteo  Max  \\\n",
       "0  aprendizaje y educación se consideran sinónimo...       4     352   14   \n",
       "1  para los niños más pequeños bebés y niños pequ...       4     516   16   \n",
       "2  además la formación de especialistas en medici...       3     659   15   \n",
       "3  en los países de la ocde se tiende a pasar de ...       4     693   18   \n",
       "4  este grupo se centró en las personas que padec...       3     608   14   \n",
       "\n",
       "   Min                                             tokens  \\\n",
       "0    1  [aprendizaje, y, educación, se, consideran, si...   \n",
       "1    1  [para, los, niños, más, pequeños, bebés, y, ni...   \n",
       "2    1  [además, la, formación, de, especialistas, en,...   \n",
       "3    1  [en, los, países, de, la, ocde, se, tiende, a,...   \n",
       "4    0  [este, grupo, se, centró, en, las, personas, q...   \n",
       "\n",
       "                             tokens_sin_innecesarios  \\\n",
       "0  [aprendizaje, educación, consideran, sinónimos...   \n",
       "1  [niños, pequeños, bebés, niños, pequeños, capa...   \n",
       "2  [formación, especialistas, medicina, general, ...   \n",
       "3  [países, ocde, tiende, pasar, cursos, obligato...   \n",
       "4  [grupo, centró, personas, padecen, trastornos,...   \n",
       "\n",
       "                                         lematizados  \n",
       "0  [aprendizaje, educación, considerar, sinónir, ...  \n",
       "1  [niño, pequeño, bebé, niño, pequeño, capacitac...  \n",
       "2  [formación, especialista, medicín, general, in...  \n",
       "3  [país, ocde, tender, pasar, curso, obligatorio...  \n",
       "4  [grupo, centrar, persona, padecer, trastorno, ...  "
      ]
     },
     "execution_count": 136,
     "metadata": {},
     "output_type": "execute_result"
    }
   ],
   "source": [
    "def lematizar_tokens(df: pd.DataFrame):\n",
    "    lemas = []\n",
    "    for lista in df['tokens_sin_innecesarios']:\n",
    "\n",
    "        texto = \" \".join(lista)\n",
    "        doc = nlp(texto)\n",
    "        lemas.append([token.lemma_ for token in doc if not token.is_punct and not token.is_space])\n",
    "    \n",
    "    df['lematizados'] = lemas\n",
    "    return df\n",
    "\n",
    "df = lematizar_tokens(df)\n",
    "df.head()"
   ]
  },
  {
   "cell_type": "markdown",
   "id": "beca426d",
   "metadata": {},
   "source": [
    "### Analisis de frecuencia de palabras"
   ]
  },
  {
   "cell_type": "markdown",
   "id": "c0c6ddb9",
   "metadata": {},
   "source": [
    "Luego de lematizar los textos, se realizó un análisis de frecuencia de palabras ponderadas utilizando TF-IDF. Primero se unieron los lemas de cada texto en cadenas completas y se aplicó el vectorizador para convertir los textos en vectores numéricos, donde cada palabra recibe un peso según su importancia relativa. "
   ]
  },
  {
   "cell_type": "code",
   "execution_count": 137,
   "id": "d2034e56",
   "metadata": {},
   "outputs": [
    {
     "data": {
      "application/vnd.microsoft.datawrangler.viewer.v0+json": {
       "columns": [
        {
         "name": "index",
         "rawType": "int64",
         "type": "integer"
        },
        {
         "name": "Palabra",
         "rawType": "object",
         "type": "string"
        },
        {
         "name": "Peso Promedio",
         "rawType": "float64",
         "type": "float"
        }
       ],
       "ref": "b19a7f55-35ae-4ef4-b4ff-ad9b140156bd",
       "rows": [
        [
         "0",
         "salud",
         "0.027881835481588454"
        ],
        [
         "1",
         "educación",
         "0.025477209009816707"
        ],
        [
         "2",
         "país",
         "0.025255984285644986"
        ],
        [
         "3",
         "escuela",
         "0.024556017910307863"
        ],
        [
         "4",
         "atención",
         "0.02405208694751197"
        ],
        [
         "5",
         "pobreza",
         "0.022992774506095562"
        ],
        [
         "6",
         "sistema",
         "0.01852144854089886"
        ],
        [
         "7",
         "año",
         "0.018438035650847666"
        ],
        [
         "8",
         "nivel",
         "0.018388803244835647"
        ],
        [
         "9",
         "servicio",
         "0.017348007493561943"
        ]
       ],
       "shape": {
        "columns": 2,
        "rows": 10
       }
      },
      "text/html": [
       "<div>\n",
       "<style scoped>\n",
       "    .dataframe tbody tr th:only-of-type {\n",
       "        vertical-align: middle;\n",
       "    }\n",
       "\n",
       "    .dataframe tbody tr th {\n",
       "        vertical-align: top;\n",
       "    }\n",
       "\n",
       "    .dataframe thead th {\n",
       "        text-align: right;\n",
       "    }\n",
       "</style>\n",
       "<table border=\"1\" class=\"dataframe\">\n",
       "  <thead>\n",
       "    <tr style=\"text-align: right;\">\n",
       "      <th></th>\n",
       "      <th>Palabra</th>\n",
       "      <th>Peso Promedio</th>\n",
       "    </tr>\n",
       "  </thead>\n",
       "  <tbody>\n",
       "    <tr>\n",
       "      <th>0</th>\n",
       "      <td>salud</td>\n",
       "      <td>0.027882</td>\n",
       "    </tr>\n",
       "    <tr>\n",
       "      <th>1</th>\n",
       "      <td>educación</td>\n",
       "      <td>0.025477</td>\n",
       "    </tr>\n",
       "    <tr>\n",
       "      <th>2</th>\n",
       "      <td>país</td>\n",
       "      <td>0.025256</td>\n",
       "    </tr>\n",
       "    <tr>\n",
       "      <th>3</th>\n",
       "      <td>escuela</td>\n",
       "      <td>0.024556</td>\n",
       "    </tr>\n",
       "    <tr>\n",
       "      <th>4</th>\n",
       "      <td>atención</td>\n",
       "      <td>0.024052</td>\n",
       "    </tr>\n",
       "    <tr>\n",
       "      <th>5</th>\n",
       "      <td>pobreza</td>\n",
       "      <td>0.022993</td>\n",
       "    </tr>\n",
       "    <tr>\n",
       "      <th>6</th>\n",
       "      <td>sistema</td>\n",
       "      <td>0.018521</td>\n",
       "    </tr>\n",
       "    <tr>\n",
       "      <th>7</th>\n",
       "      <td>año</td>\n",
       "      <td>0.018438</td>\n",
       "    </tr>\n",
       "    <tr>\n",
       "      <th>8</th>\n",
       "      <td>nivel</td>\n",
       "      <td>0.018389</td>\n",
       "    </tr>\n",
       "    <tr>\n",
       "      <th>9</th>\n",
       "      <td>servicio</td>\n",
       "      <td>0.017348</td>\n",
       "    </tr>\n",
       "  </tbody>\n",
       "</table>\n",
       "</div>"
      ],
      "text/plain": [
       "     Palabra  Peso Promedio\n",
       "0      salud       0.027882\n",
       "1  educación       0.025477\n",
       "2       país       0.025256\n",
       "3    escuela       0.024556\n",
       "4   atención       0.024052\n",
       "5    pobreza       0.022993\n",
       "6    sistema       0.018521\n",
       "7        año       0.018438\n",
       "8      nivel       0.018389\n",
       "9   servicio       0.017348"
      ]
     },
     "execution_count": 137,
     "metadata": {},
     "output_type": "execute_result"
    }
   ],
   "source": [
    "def frecuenciasPorPalabra(df: pd.DataFrame, vectorizer=vectorizer):\n",
    "    textos = [\" \".join(tokens) for tokens in df['lematizados']]\n",
    "    X = vectorizer.fit_transform(textos)\n",
    "    palabras = vectorizer.get_feature_names_out()\n",
    "    pesosPromedio = np.asarray(X.mean(axis=0)).ravel()\n",
    "    freq_df = pd.DataFrame({'Palabra': palabras, 'Peso Promedio': pesosPromedio})\n",
    "    freq_df = freq_df.sort_values(by='Peso Promedio', ascending=False).reset_index(drop=True)\n",
    "    return freq_df\n",
    "\n",
    "freq_df = frecuenciasPorPalabra(df)\n",
    "freq_df.head(10)\n"
   ]
  },
  {
   "cell_type": "markdown",
   "id": "67917a45",
   "metadata": {},
   "source": [
    "Posteriormente se calculó el peso promedio de cada palabra en todo el dataset y se creó un DataFrame con las palabras ordenadas de mayor a menor relevancia."
   ]
  },
  {
   "cell_type": "code",
   "execution_count": 138,
   "id": "17d60bb5",
   "metadata": {},
   "outputs": [
    {
     "data": {
      "image/png": "[encoded data removed]",
      "text/plain": [
       "<Figure size 1200x600 with 1 Axes>"
      ]
     },
     "metadata": {},
     "output_type": "display_data"
    }
   ],
   "source": [
    "#plot frecuencias\n",
    "plt.figure(figsize=(12,6))\n",
    "plt.bar(freq_df['Palabra'][:20], freq_df['Peso Promedio'][:20], color='teal', edgecolor='black')\n",
    "plt.title('Top 20 Palabras por Peso Promedio (TF-IDF)')\n",
    "plt.xlabel('Palabras')\n",
    "plt.ylabel('Peso Promedio (TF-IDF)')\n",
    "plt.xticks(rotation=45)\n",
    "plt.grid(axis='y', alpha=0.75)\n",
    "plt.show()"
   ]
  },
  {
   "cell_type": "markdown",
   "id": "fc25a9bc",
   "metadata": {},
   "source": [
    "## Busqueda de hiperpatametros"
   ]
  },
  {
   "cell_type": "markdown",
   "id": "90052405",
   "metadata": {},
   "source": [
    "```python\n",
    "Se realizó una busqueda gridi de los mejores hiperparamtros probando sobre la red neuronal con el siguiente codigo.\n",
    "\n",
    "pipe = Pipeline(steps=[\n",
    "    (\"tfidf\", TfidfVectorizer()),\n",
    "    (\"mlp\", MLPClassifier(random_state=42, early_stopping=True, max_iter=300))\n",
    "])\n",
    "\n",
    "param_grid = {\n",
    "    # TF-IDF\n",
    "    \"tfidf__max_features\": [2000, 3000],\n",
    "    \"tfidf__min_df\": [1, 2],\n",
    "    \"tfidf__max_df\": [0.7, 0.8, 0.9],\n",
    "    \"tfidf__ngram_range\": [(1, 1), (1, 2)],\n",
    "    # MLP\n",
    "    \"mlp__hidden_layer_sizes\": [(128,), (128, 64), (256, 128)],\n",
    "    \"mlp__activation\": [\"relu\"],\n",
    "    \"mlp__alpha\": [1e-4, 1e-3, 1e-2],\n",
    "    \"mlp__learning_rate_init\": [1e-3, 1e-2],\n",
    "}\n",
    "\n",
    "cv = StratifiedKFold(n_splits=3, shuffle=True, random_state=42)\n",
    "\n",
    "grid = GridSearchCV(\n",
    "    estimator=pipe,\n",
    "    param_grid=param_grid,\n",
    "    scoring=\"f1_macro\",\n",
    "    cv=cv,\n",
    "    n_jobs=-1,\n",
    "    verbose=1\n",
    ")\n",
    "\n",
    "Una vez obtenemos los hiperparametros los ubicamos directamente dentro de la red para disminuir el tiempo de ejecución de la misma\n",
    "```\n",
    "\n"
   ]
  },
  {
   "cell_type": "markdown",
   "id": "105d8da4",
   "metadata": {},
   "source": [
    "## Modelo Santiago Gomez"
   ]
  },
  {
   "cell_type": "markdown",
   "id": "d5df8f6b",
   "metadata": {},
   "source": [
    "Se construyó una red neuronal de una capa oculta con 128 neuronas usando MLPClassifier, diseñada para clasificar los textos según sus etiquetas. El dataset se dividió en tres partes: un 20% se reservó para pruebas, mientras que el 80% restante se utilizó para entrenamiento y validación, separando un 12.5% de este último para validación y asegurando que cada conjunto mantuviera aproximadamente la misma proporción de clases. Los textos fueron transformados en vectores numéricos mediante TF-IDF, con un valor de 1 a 2 n-gramas, para de ese modo poder capturar tanto palabras individuales como conjuntas. La capa oculta usa ReLU como función de activación con el fin de convertir los valores previamente vectorizados en binarios, eliminando proporciones negativas. Mientras que la capa de salida usa Softmax que convierte las puntuaciones en probabilidades que suman 1, permitiendo interpretar la confianza del modelo en cada categoría."
   ]
  },
  {
   "cell_type": "code",
   "execution_count": 139,
   "id": "eef4d2ee",
   "metadata": {},
   "outputs": [],
   "source": [
    "\n",
    "def redNeuronal(textos, labels):\n",
    "    XTrain1, XTest, yRestante, yTest = train_test_split(\n",
    "        textos, labels, test_size=0.20, random_state=42, stratify=labels\n",
    "    )\n",
    "    \n",
    "\n",
    "    XTrain2, XVal, yTrain, yVal = train_test_split(\n",
    "        XTrain1, yRestante, test_size=0.125, random_state=42, stratify=yRestante\n",
    "    )\n",
    "    \n",
    "    vectorizer = TfidfVectorizer(\n",
    "        max_features=3000,\n",
    "        min_df=1,\n",
    "        max_df=0.8,\n",
    "        ngram_range=(1, 2)\n",
    "    )\n",
    "    XTrain = vectorizer.fit_transform(XTrain2)\n",
    "    XVal   = vectorizer.transform(XVal)\n",
    "    XTest  = vectorizer.transform(XTest)\n",
    "\n",
    "    red = MLPClassifier(\n",
    "        hidden_layer_sizes=(128,),\n",
    "        activation='relu',\n",
    "        random_state=42,\n",
    "        alpha=np.float64(0.0005611516415334506),\n",
    "        learning_rate_init=np.float64(0.0005611516415334506),\n",
    "        max_iter=300,\n",
    "        early_stopping=True\n",
    "    )\n",
    "    red.fit(XTrain, yTrain)\n",
    "\n",
    "    yValPred  = red.predict(XVal)\n",
    "    yValProba = red.predict_proba(XVal)\n",
    "    yTestPred  = red.predict(XTest)\n",
    "    yTestProba = red.predict_proba(XTest)\n",
    "\n",
    "    return (red, vectorizer,\n",
    "            XTrain, XVal, XTest,\n",
    "            yTrain, yVal, yTest,\n",
    "            yValPred, yValProba, yTestPred, yTestProba)\n",
    "\n",
    "textos = [\" \".join(t) for t in df['lematizados']]\n",
    "\n",
    "(red, vectorizer,\n",
    " XTrain, XVal, XTest,\n",
    " yTrain, yVal, yTest,\n",
    " yValPred, yValProba, yTestPred, yTestProba) = redNeuronal(textos, df['labels'])\n",
    "\n"
   ]
  },
  {
   "cell_type": "markdown",
   "id": "ec0cda58",
   "metadata": {},
   "source": [
    "### Muestra de resultados"
   ]
  },
  {
   "cell_type": "markdown",
   "id": "c6769159",
   "metadata": {},
   "source": [
    "Para evaluar el desempeño del modelo, se implementó un análisis de métricas clave tanto en los conjuntos de validación como de prueba. Se calculó la exactitud, que indica qué porcentaje de predicciones fueron correctas, y el ROC AUC, que mide la capacidad del modelo para distinguir entre clases, adaptándose automáticamente a problemas binarios o multiclase. Además, se generó un reporte de clasificación que incluye precisión, recall y F1-score por categoría, proporcionando un panorama completo de cómo se comporta el modelo en cada clase."
   ]
  },
  {
   "cell_type": "code",
   "execution_count": 140,
   "id": "0846949c",
   "metadata": {},
   "outputs": [
    {
     "name": "stdout",
     "output_type": "stream",
     "text": [
      "===================== Resultados en Validación =====================\n",
      "Accuracy: 0.9588\n",
      "ROC AUC: 0.9980\n",
      "\n",
      "              precision    recall  f1-score   support\n",
      "\n",
      "           1     0.9423    0.9608    0.9515        51\n",
      "           3     0.9663    0.9663    0.9663        89\n",
      "           4     0.9608    0.9515    0.9561       103\n",
      "\n",
      "    accuracy                         0.9588       243\n",
      "   macro avg     0.9565    0.9595    0.9579       243\n",
      "weighted avg     0.9589    0.9588    0.9589       243\n",
      "\n",
      "===================== Resultados en Test =====================\n",
      "Accuracy: 0.9464\n",
      "ROC AUC: 0.9948\n",
      "\n",
      "              precision    recall  f1-score   support\n",
      "\n",
      "           1     0.9216    0.9307    0.9261       101\n",
      "           3     0.9598    0.9330    0.9462       179\n",
      "           4     0.9474    0.9659    0.9565       205\n",
      "\n",
      "    accuracy                         0.9464       485\n",
      "   macro avg     0.9429    0.9432    0.9429       485\n",
      "weighted avg     0.9466    0.9464    0.9464       485\n",
      "\n"
     ]
    }
   ],
   "source": [
    "\n",
    "def imprimir_metricas_simple(yTrue, yPred, yProba):\n",
    "    acc = accuracy_score(yTrue, yPred)\n",
    "    if yProba.shape[1] == 2:\n",
    "        roc = roc_auc_score(yTrue, yProba[:, 1])\n",
    "        roc_txt = f\"ROC AUC: {roc:.4f}\"\n",
    "    else:\n",
    "        roc = roc_auc_score(yTrue, yProba, multi_class=\"ovr\", average=\"macro\")\n",
    "        roc_txt = f\"ROC AUC: {roc:.4f}\"\n",
    "\n",
    "    print(f\"Accuracy: {acc:.4f}\\n{roc_txt}\\n\")\n",
    "    print(classification_report(yTrue, yPred, digits=4))\n",
    "\n",
    "print(\"===================== Resultados en Validación =====================\")\n",
    "imprimir_metricas_simple(yVal, yValPred, yValProba)\n",
    "print(\"===================== Resultados en Test =====================\")\n",
    "imprimir_metricas_simple(yTest, yTestPred, yTestProba)"
   ]
  },
  {
   "cell_type": "markdown",
   "id": "b70def2b",
   "metadata": {},
   "source": [
    "Para complementar la evaluación del modelo, se generó una matriz de confusión del conjunto de prueba. Este gráfico muestra cómo se distribuyen las predicciones frente a las etiquetas reales, permitiendo identificar qué clases se predicen correctamente y cuáles se confunden entre sí."
   ]
  },
  {
   "cell_type": "code",
   "execution_count": 141,
   "id": "9110e7f7",
   "metadata": {},
   "outputs": [
    {
     "data": {
      "image/png": "[encoded data removed]",
      "text/plain": [
       "<Figure size 600x500 with 1 Axes>"
      ]
     },
     "metadata": {},
     "output_type": "display_data"
    }
   ],
   "source": [
    "def plot_confusion(yTrue, yPred, classes):\n",
    "    cm = confusion_matrix(yTrue, yPred, labels=classes)\n",
    "    fig = plt.figure(figsize=(6, 5))\n",
    "    plt.imshow(cm, interpolation='nearest')\n",
    "    plt.title(\"Matriz de confusión\")\n",
    "    plt.xticks(np.arange(len(classes)), classes, rotation=45, ha=\"right\")\n",
    "    plt.yticks(np.arange(len(classes)), classes)\n",
    "    for i in range(cm.shape[0]):\n",
    "        for j in range(cm.shape[1]):\n",
    "            plt.text(j, i, cm[i, j], ha=\"center\", va=\"center\")\n",
    "    plt.xlabel(\"Predicho\")\n",
    "    plt.ylabel(\"Verdadero\")\n",
    "    plt.tight_layout()\n",
    "    plt.show()\n",
    "\n",
    "plot_confusion(yTest, yTestPred, red.classes_)"
   ]
  },
  {
   "cell_type": "markdown",
   "id": "60bd3a5e",
   "metadata": {},
   "source": [
    "Para evaluar la capacidad del modelo de distinguir entre clases, se generaron las curvas ROC multiclase."
   ]
  },
  {
   "cell_type": "code",
   "execution_count": 142,
   "id": "98c66c18",
   "metadata": {},
   "outputs": [
    {
     "data": {
      "image/png": "[encoded data removed]",
      "text/plain": [
       "<Figure size 700x600 with 1 Axes>"
      ]
     },
     "metadata": {},
     "output_type": "display_data"
    }
   ],
   "source": [
    "def plotRocCurves(yTrue, yProba, clases):\n",
    "    clases = np.array(list(clases))\n",
    "    nClases = len(clases)\n",
    "\n",
    "    yTrueB = label_binarize(yTrue, classes=clases)\n",
    "    fprDict, tprDict, aucDict = {}, {}, {}\n",
    "\n",
    "    for i, c in enumerate(clases):\n",
    "        fprDict[i], tprDict[i], _ = roc_curve(yTrueB[:, i], yProba[:, i])\n",
    "        aucDict[i] = auc(fprDict[i], tprDict[i])\n",
    "\n",
    "    allFpr = np.unique(np.concatenate([fprDict[i] for i in range(nClases)]))\n",
    "    meanTpr = np.zeros_like(allFpr)\n",
    "    for i in range(nClases):\n",
    "        meanTpr += np.interp(allFpr, fprDict[i], tprDict[i])\n",
    "    meanTpr /= nClases\n",
    "    macroAuc = auc(allFpr, meanTpr)\n",
    "\n",
    "    fig = plt.figure(figsize=(7, 6))\n",
    "    for i, c in enumerate(clases):\n",
    "        plt.plot(fprDict[i], tprDict[i], label=f\"Clase {c} (AUC={aucDict[i]:.3f})\")\n",
    "    plt.plot(allFpr, meanTpr, linewidth=2.5, label=f\"Macro-avg (AUC={macroAuc:.3f})\")\n",
    "    plt.plot([0, 1], [0, 1], linestyle=\"--\")\n",
    "    plt.title(\"ROC multiclase (OVR)\")\n",
    "    plt.xlabel(\"FPR\")\n",
    "    plt.ylabel(\"TPR\")\n",
    "    plt.legend(loc=\"lower right\")\n",
    "    plt.tight_layout()\n",
    "    plt.show()\n",
    "\n",
    "plotRocCurves(yTest, yTestProba, red.classes_)\n"
   ]
  },
  {
   "cell_type": "markdown",
   "id": "2da468c9",
   "metadata": {},
   "source": [
    "Por ultimo, para entender qué palabras son más representativas de cada clase, se realizó un análisis de importancia de términos usando la prueba chi-cuadrado sobre el conjunto de entrenamiento. Para cada categoría, se comparó la presencia de cada palabra con la pertenencia a la clase, calculando un puntaje que indica qué tan informativa es esa palabra para diferenciarla de las demás."
   ]
  },
  {
   "cell_type": "code",
   "execution_count": 143,
   "id": "fe2957bc",
   "metadata": {},
   "outputs": [
    {
     "data": {
      "image/png": "[encoded data removed]",
      "text/plain": [
       "<Figure size 800x600 with 1 Axes>"
      ]
     },
     "metadata": {},
     "output_type": "display_data"
    },
    {
     "data": {
      "image/png": "[encoded data removed]",
      "text/plain": [
       "<Figure size 800x600 with 1 Axes>"
      ]
     },
     "metadata": {},
     "output_type": "display_data"
    },
    {
     "data": {
      "image/png": "[encoded data removed]",
      "text/plain": [
       "<Figure size 800x600 with 1 Axes>"
      ]
     },
     "metadata": {},
     "output_type": "display_data"
    }
   ],
   "source": [
    "def plotTopTermsChi2(XTrain, yTrain, vectorizer, clases, k=20):\n",
    "    featNames = np.array(vectorizer.get_feature_names_out())\n",
    "    clases = np.array(list(clases))\n",
    "\n",
    "    for c in clases:\n",
    "        yBin = (yTrain == c).astype(int)\n",
    "        scores, _ = chi2(XTrain, yBin)\n",
    "        \n",
    "        orden = np.argsort(scores)[::-1]\n",
    "        ordenValid = [idx for idx in orden if np.isfinite(scores[idx])]\n",
    "        topIdx = ordenValid[:k]\n",
    "\n",
    "        topTerms = featNames[topIdx]\n",
    "        topScores = scores[topIdx]\n",
    "\n",
    "        plt.figure(figsize=(8, 6))\n",
    "        plt.barh(range(len(topTerms)), topScores, color=\"skyblue\")\n",
    "        plt.yticks(range(len(topTerms)), topTerms)\n",
    "        plt.gca().invert_yaxis()  \n",
    "        plt.title(f\"Top {k} términos — Clase {c}\")\n",
    "        plt.xlabel(\"Score\")\n",
    "        plt.tight_layout()\n",
    "        plt.show()\n",
    "\n",
    "plotTopTermsChi2(XTrain, yTrain, vectorizer, red.classes_, k=20)"
   ]
  },
  {
   "cell_type": "markdown",
   "id": "3f969fa7",
   "metadata": {},
   "source": [
    "## Modelo Sebastian Martinez"
   ]
  },
  {
   "cell_type": "markdown",
   "id": "73e1a387",
   "metadata": {},
   "source": [
    "Ahora despues de haber analizado los datos y hacer el proceso para mejorar la calidad de estos, empezaremos a hacer el modelo, en este caso haremos uso del algoritmo KNN (K-Nearest Neighbors) para poder clasificar nuestros datos. Primero hacemos los import necesarios y despues tenemos que saber que para hacer el analisis es necesario unir los tokens lematizados en un solo string por fila, ya que no se puede analizar uno por uno, sino que se analizan todas las palabras juntas"
   ]
  },
  {
   "cell_type": "code",
   "execution_count": 144,
   "id": "37b0d2f0",
   "metadata": {},
   "outputs": [
    {
     "data": {
      "application/vnd.microsoft.datawrangler.viewer.v0+json": {
       "columns": [
        {
         "name": "index",
         "rawType": "int64",
         "type": "integer"
        },
        {
         "name": "textos",
         "rawType": "string",
         "type": "string"
        },
        {
         "name": "labels",
         "rawType": "int64",
         "type": "integer"
        },
        {
         "name": "Conteo",
         "rawType": "int64",
         "type": "integer"
        },
        {
         "name": "Max",
         "rawType": "int64",
         "type": "integer"
        },
        {
         "name": "Min",
         "rawType": "int64",
         "type": "integer"
        },
        {
         "name": "tokens",
         "rawType": "object",
         "type": "unknown"
        },
        {
         "name": "tokens_sin_innecesarios",
         "rawType": "object",
         "type": "unknown"
        },
        {
         "name": "lematizados",
         "rawType": "object",
         "type": "unknown"
        },
        {
         "name": "lematizados_str",
         "rawType": "object",
         "type": "string"
        }
       ],
       "ref": "e51cd977-7ce7-4a93-8095-ae64237c1095",
       "rows": [
        [
         "0",
         "aprendizaje y educación se consideran sinónimos de escolarización formal las organizaciones auxiliares como las editoriales de educación las juntas examinadoras y las organizaciones de formación de docentes se consideran extensiones de los acuerdos establecidos por los gobiernos este marco de comprensión se ha vuelto cada vez más inadecuado",
         "4",
         "352",
         "14",
         "1",
         "['aprendizaje', 'y', 'educación', 'se', 'consideran', 'sinónimos', 'de', 'escolarización', 'formal', 'las', 'organizaciones', 'auxiliares', 'como', 'las', 'editoriales', 'de', 'educación', 'las', 'juntas', 'examinadoras', 'y', 'las', 'organizaciones', 'de', 'formación', 'de', 'docentes', 'se', 'consideran', 'extensiones', 'de', 'los', 'acuerdos', 'establecidos', 'por', 'los', 'gobiernos', 'este', 'marco', 'de', 'comprensión', 'se', 'ha', 'vuelto', 'cada', 'vez', 'más', 'inadecuado']",
         "['aprendizaje', 'educación', 'consideran', 'sinónimos', 'escolarización', 'formal', 'organizaciones', 'auxiliares', 'editoriales', 'educación', 'juntas', 'examinadoras', 'organizaciones', 'formación', 'docentes', 'consideran', 'extensiones', 'acuerdos', 'establecidos', 'gobiernos', 'marco', 'comprensión', 'vuelto', 'inadecuado']",
         "['aprendizaje', 'educación', 'considerar', 'sinónir', 'escolarización', 'formal', 'organización', 'auxiliar', 'editorial', 'educación', 'junto', 'examinadora', 'organización', 'formación', 'docente', 'considerar', 'extensión', 'acuerdo', 'establecido', 'gobierno', 'marco', 'comprensión', 'vuelto', 'inadecuado']",
         "aprendizaje educación considerar sinónir escolarización formal organización auxiliar editorial educación junto examinadora organización formación docente considerar extensión acuerdo establecido gobierno marco comprensión vuelto inadecuado"
        ],
        [
         "1",
         "para los niños más pequeños bebés y niños pequeños la capacitación especializada y práctica parece estar más fuertemente asociada con la calidad pedagógica y los resultados cognitivos y sociales los educadores de la primera infancia se encuentran con entornos sociales cada vez más complejos y se encuentran con una multiplicidad de antecedentes y experiencias familiares estos factores crean imperativos para adoptar nuevas pedagogías y prácticas organizacionales para acomodar este pluralismo elliott 2006",
         "4",
         "516",
         "16",
         "1",
         "['para', 'los', 'niños', 'más', 'pequeños', 'bebés', 'y', 'niños', 'pequeños', 'la', 'capacitación', 'especializada', 'y', 'práctica', 'parece', 'estar', 'más', 'fuertemente', 'asociada', 'con', 'la', 'calidad', 'pedagógica', 'y', 'los', 'resultados', 'cognitivos', 'y', 'sociales', 'los', 'educadores', 'de', 'la', 'primera', 'infancia', 'se', 'encuentran', 'con', 'entornos', 'sociales', 'cada', 'vez', 'más', 'complejos', 'y', 'se', 'encuentran', 'con', 'una', 'multiplicidad', 'de', 'antecedentes', 'y', 'experiencias', 'familiares', 'estos', 'factores', 'crean', 'imperativos', 'para', 'adoptar', 'nuevas', 'pedagogías', 'y', 'prácticas', 'organizacionales', 'para', 'acomodar', 'este', 'pluralismo', 'elliott', '2006']",
         "['niños', 'pequeños', 'bebés', 'niños', 'pequeños', 'capacitación', 'especializada', 'práctica', 'fuertemente', 'asociada', 'calidad', 'pedagógica', 'resultados', 'cognitivos', 'sociales', 'educadores', 'infancia', 'encuentran', 'entornos', 'sociales', 'complejos', 'encuentran', 'multiplicidad', 'antecedentes', 'experiencias', 'familiares', 'factores', 'crean', 'imperativos', 'adoptar', 'pedagogías', 'prácticas', 'organizacionales', 'acomodar', 'pluralismo', 'elliott', '2006']",
         "['niño', 'pequeño', 'bebé', 'niño', 'pequeño', 'capacitación', 'especializado', 'práctico', 'fuertemente', 'asociado', 'calidad', 'pedagógico', 'resultado', 'cognitivo', 'social', 'educador', 'infancio', 'encontrar', 'entorno', 'social', 'complejo', 'encontrar', 'multiplicidad', 'antecedent', 'experiencia', 'familiar', 'factor', 'crear', 'imperativo', 'adoptar', 'pedagogía', 'práctico', 'organizacional', 'acomodar', 'pluralismo', 'elliott', '2006']",
         "niño pequeño bebé niño pequeño capacitación especializado práctico fuertemente asociado calidad pedagógico resultado cognitivo social educador infancio encontrar entorno social complejo encontrar multiplicidad antecedent experiencia familiar factor crear imperativo adoptar pedagogía práctico organizacional acomodar pluralismo elliott 2006"
        ],
        [
         "2",
         "además la formación de especialistas en medicina general también incluye tareas que requieren un conocimiento más profundo de problemas comunes de salud pública incluida la salud mental cuestionario de salud mental de la ocde 2013 dado que no hay control en la atención primaria para limitar el acceso a los servicios de salud mental especializados muchos pacientes que necesitan tratamiento para trastornos mentales graves en particular pueden buscar atención de nivel especializado directamente los servicios de especialistas en psiquiatría se brindan principalmente en las salas ambulatorias de psiquiatría ubicadas en los hospitales generales",
         "3",
         "659",
         "15",
         "1",
         "['además', 'la', 'formación', 'de', 'especialistas', 'en', 'medicina', 'general', 'también', 'incluye', 'tareas', 'que', 'requieren', 'un', 'conocimiento', 'más', 'profundo', 'de', 'problemas', 'comunes', 'de', 'salud', 'pública', 'incluida', 'la', 'salud', 'mental', 'cuestionario', 'de', 'salud', 'mental', 'de', 'la', 'ocde', '2013', 'dado', 'que', 'no', 'hay', 'control', 'en', 'la', 'atención', 'primaria', 'para', 'limitar', 'el', 'acceso', 'a', 'los', 'servicios', 'de', 'salud', 'mental', 'especializados', 'muchos', 'pacientes', 'que', 'necesitan', 'tratamiento', 'para', 'trastornos', 'mentales', 'graves', 'en', 'particular', 'pueden', 'buscar', 'atención', 'de', 'nivel', 'especializado', 'directamente', 'los', 'servicios', 'de', 'especialistas', 'en', 'psiquiatría', 'se', 'brindan', 'principalmente', 'en', 'las', 'salas', 'ambulatorias', 'de', 'psiquiatría', 'ubicadas', 'en', 'los', 'hospitales', 'generales']",
         "['formación', 'especialistas', 'medicina', 'general', 'incluye', 'tareas', 'requieren', 'conocimiento', 'profundo', 'problemas', 'comunes', 'salud', 'pública', 'incluida', 'salud', 'mental', 'cuestionario', 'salud', 'mental', 'ocde', '2013', 'control', 'atención', 'primaria', 'limitar', 'acceso', 'servicios', 'salud', 'mental', 'especializados', 'pacientes', 'necesitan', 'tratamiento', 'trastornos', 'mentales', 'graves', 'particular', 'buscar', 'atención', 'nivel', 'especializado', 'directamente', 'servicios', 'especialistas', 'psiquiatría', 'brindan', 'principalmente', 'salas', 'ambulatorias', 'psiquiatría', 'ubicadas', 'hospitales', 'generales']",
         "['formación', 'especialista', 'medicín', 'general', 'incluir', 'tarea', 'requerir', 'conocimiento', 'profundo', 'problema', 'común', 'salud', 'público', 'incluido', 'salud', 'mental', 'cuestionario', 'salud', 'mental', 'ocde', '2013', 'control', 'atención', 'primario', 'limitar', 'acceso', 'servicio', 'salud', 'mental', 'especializado', 'paciente', 'necesitar', 'tratamiento', 'trastorno', 'mental', 'grave', 'particular', 'buscar', 'atención', 'nivel', 'especializado', 'directamente', 'servicio', 'especialista', 'psiquiatrío', 'brindar', 'principalmente', 'sala', 'ambulatoria', 'psiquiater', 'ubicado', 'hospital', 'general']",
         "formación especialista medicín general incluir tarea requerir conocimiento profundo problema común salud público incluido salud mental cuestionario salud mental ocde 2013 control atención primario limitar acceso servicio salud mental especializado paciente necesitar tratamiento trastorno mental grave particular buscar atención nivel especializado directamente servicio especialista psiquiatrío brindar principalmente sala ambulatoria psiquiater ubicado hospital general"
        ],
        [
         "3",
         "en los países de la ocde se tiende a pasar de los cursos obligatorios a los optativos abiertos a estudiantes de distintas facultades y escuelas este planteamiento facilita la formación de equipos de estudiantes con distintas formaciones e intereses el trabajo en equipos interdisciplinares permite a los individuos concentrarse en lo que mejor saben y les gusta y al mismo tiempo familiarizarse con nuevos conocimientos que pueden asociarse a una nueva forma de resolver un problema o crear un nuevo producto o servicio no está claro hasta qué punto estos cursos utilizan métodos pedagógicos creativos y se adaptan a las necesidades de los estudiantes de grado postgrado y licenciatura",
         "4",
         "693",
         "18",
         "1",
         "['en', 'los', 'países', 'de', 'la', 'ocde', 'se', 'tiende', 'a', 'pasar', 'de', 'los', 'cursos', 'obligatorios', 'a', 'los', 'optativos', 'abiertos', 'a', 'estudiantes', 'de', 'distintas', 'facultades', 'y', 'escuelas', 'este', 'planteamiento', 'facilita', 'la', 'formación', 'de', 'equipos', 'de', 'estudiantes', 'con', 'distintas', 'formaciones', 'e', 'intereses', 'el', 'trabajo', 'en', 'equipos', 'interdisciplinares', 'permite', 'a', 'los', 'individuos', 'concentrarse', 'en', 'lo', 'que', 'mejor', 'saben', 'y', 'les', 'gusta', 'y', 'al', 'mismo', 'tiempo', 'familiarizarse', 'con', 'nuevos', 'conocimientos', 'que', 'pueden', 'asociarse', 'a', 'una', 'nueva', 'forma', 'de', 'resolver', 'un', 'problema', 'o', 'crear', 'un', 'nuevo', 'producto', 'o', 'servicio', 'no', 'está', 'claro', 'hasta', 'qué', 'punto', 'estos', 'cursos', 'utilizan', 'métodos', 'pedagógicos', 'creativos', 'y', 'se', 'adaptan', 'a', 'las', 'necesidades', 'de', 'los', 'estudiantes', 'de', 'grado', 'postgrado', 'y', 'licenciatura']",
         "['países', 'ocde', 'tiende', 'pasar', 'cursos', 'obligatorios', 'optativos', 'abiertos', 'estudiantes', 'distintas', 'facultades', 'escuelas', 'planteamiento', 'facilita', 'formación', 'equipos', 'estudiantes', 'distintas', 'formaciones', 'intereses', 'trabajo', 'equipos', 'interdisciplinares', 'permite', 'individuos', 'concentrarse', 'gusta', 'tiempo', 'familiarizarse', 'conocimientos', 'asociarse', 'forma', 'resolver', 'problema', 'crear', 'producto', 'servicio', 'punto', 'cursos', 'utilizan', 'métodos', 'pedagógicos', 'creativos', 'adaptan', 'necesidades', 'estudiantes', 'grado', 'postgrado', 'licenciatura']",
         "['país', 'ocde', 'tender', 'pasar', 'curso', 'obligatorio', 'optativo', 'abierto', 'estudiante', 'distinto', 'facultad', 'escuela', 'planteamiento', 'facilitar', 'formación', 'equipo', 'estudiant', 'distinto', 'formación', 'interés', 'trabajar', 'equipo', 'interdisciplinar', 'permitir', 'individuo', 'concentrar él', 'gusta', 'tiempo', 'familiarizar él', 'conocimiento', 'asociar él', 'forma', 'resolver', 'problema', 'crear', 'producto', 'servicio', 'punto', 'curso', 'utilizar', 'método', 'pedagógico', 'creativo', 'adaptar', 'necesidad', 'estudiant', 'grado', 'postgrado', 'licenciatura']",
         "país ocde tender pasar curso obligatorio optativo abierto estudiante distinto facultad escuela planteamiento facilitar formación equipo estudiant distinto formación interés trabajar equipo interdisciplinar permitir individuo concentrar él gusta tiempo familiarizar él conocimiento asociar él forma resolver problema crear producto servicio punto curso utilizar método pedagógico creativo adaptar necesidad estudiant grado postgrado licenciatura"
        ],
        [
         "4",
         "este grupo se centró en las personas que padecen trastornos mentales con comorbilidad de abuso de sustancias mientras que la demencia la discapacidad intelectual y el abuso de sustancias por sà solos quedaron excluidos del ámbito de análisis con 90 millones de euros de financiación la comisión dispuso de tres años para iniciar y apoyar el desarrollo de proyectos a todos los niveles tratamiento médico mejora de los servicios proyectos de vivienda mejoras legislativas y organizativas y proponer las medidas necesarias para elevar de forma permanente el nivel de los servicios de salud mental",
         "3",
         "608",
         "14",
         "0",
         "['este', 'grupo', 'se', 'centró', 'en', 'las', 'personas', 'que', 'padecen', 'trastornos', 'mentales', 'con', 'comorbilidad', 'de', 'abuso', 'de', 'sustancias', 'mientras', 'que', 'la', 'demencia', 'la', 'discapacidad', 'intelectual', 'y', 'el', 'abuso', 'de', 'sustancias', 'por', 'sà', 'solos', 'quedaron', 'excluidos', 'del', 'ámbito', 'de', 'análisis', 'con', '90', 'millones', 'de', 'euros', 'de', 'financiación', 'la', 'comisión', 'dispuso', 'de', 'tres', 'años', 'para', 'iniciar', 'y', 'apoyar', 'el', 'desarrollo', 'de', 'proyectos', 'a', 'todos', 'los', 'niveles', 'tratamiento', 'médico', 'mejora', 'de', 'los', 'servicios', 'proyectos', 'de', 'vivienda', 'mejoras', 'legislativas', 'y', 'organizativas', 'y', 'proponer', 'las', 'medidas', 'necesarias', 'para', 'elevar', 'de', 'forma', 'permanente', 'el', 'nivel', 'de', 'los', 'servicios', 'de', 'salud', 'mental']",
         "['grupo', 'centró', 'personas', 'padecen', 'trastornos', 'mentales', 'comorbilidad', 'abuso', 'sustancias', 'demencia', 'discapacidad', 'intelectual', 'abuso', 'sustancias', 'sà', 'quedaron', 'excluidos', 'ámbito', 'análisis', '90', 'millones', 'euros', 'financiación', 'comisión', 'dispuso', 'años', 'iniciar', 'apoyar', 'desarrollo', 'proyectos', 'niveles', 'tratamiento', 'médico', 'mejora', 'servicios', 'proyectos', 'vivienda', 'mejoras', 'legislativas', 'organizativas', 'proponer', 'medidas', 'necesarias', 'elevar', 'forma', 'permanente', 'nivel', 'servicios', 'salud', 'mental']",
         "['grupo', 'centrar', 'persona', 'padecer', 'trastorno', 'mental', 'comorbilidad', 'abuso', 'sustancia', 'demencia', 'discapacidad', 'intelectual', 'abuso', 'sustancia', 'sà', 'quedar', 'excluido', 'ámbito', 'análisis', '90', 'millón', 'euro', 'financiación', 'comisión', 'disponer', 'año', 'iniciar', 'apoyar', 'desarrollo', 'proyecto', 'nivel', 'tratamiento', 'médico', 'mejorar', 'servicio', 'proyecto', 'viviendar', 'mejora', 'legislativo', 'organizativo', 'proponer', 'medida', 'necesario', 'elevar', 'forma', 'permanente', 'nivel', 'servicio', 'salud', 'mental']",
         "grupo centrar persona padecer trastorno mental comorbilidad abuso sustancia demencia discapacidad intelectual abuso sustancia sà quedar excluido ámbito análisis 90 millón euro financiación comisión disponer año iniciar apoyar desarrollo proyecto nivel tratamiento médico mejorar servicio proyecto viviendar mejora legislativo organizativo proponer medida necesario elevar forma permanente nivel servicio salud mental"
        ]
       ],
       "shape": {
        "columns": 9,
        "rows": 5
       }
      },
      "text/html": [
       "<div>\n",
       "<style scoped>\n",
       "    .dataframe tbody tr th:only-of-type {\n",
       "        vertical-align: middle;\n",
       "    }\n",
       "\n",
       "    .dataframe tbody tr th {\n",
       "        vertical-align: top;\n",
       "    }\n",
       "\n",
       "    .dataframe thead th {\n",
       "        text-align: right;\n",
       "    }\n",
       "</style>\n",
       "<table border=\"1\" class=\"dataframe\">\n",
       "  <thead>\n",
       "    <tr style=\"text-align: right;\">\n",
       "      <th></th>\n",
       "      <th>textos</th>\n",
       "      <th>labels</th>\n",
       "      <th>Conteo</th>\n",
       "      <th>Max</th>\n",
       "      <th>Min</th>\n",
       "      <th>tokens</th>\n",
       "      <th>tokens_sin_innecesarios</th>\n",
       "      <th>lematizados</th>\n",
       "      <th>lematizados_str</th>\n",
       "    </tr>\n",
       "  </thead>\n",
       "  <tbody>\n",
       "    <tr>\n",
       "      <th>0</th>\n",
       "      <td>aprendizaje y educación se consideran sinónimo...</td>\n",
       "      <td>4</td>\n",
       "      <td>352</td>\n",
       "      <td>14</td>\n",
       "      <td>1</td>\n",
       "      <td>[aprendizaje, y, educación, se, consideran, si...</td>\n",
       "      <td>[aprendizaje, educación, consideran, sinónimos...</td>\n",
       "      <td>[aprendizaje, educación, considerar, sinónir, ...</td>\n",
       "      <td>aprendizaje educación considerar sinónir escol...</td>\n",
       "    </tr>\n",
       "    <tr>\n",
       "      <th>1</th>\n",
       "      <td>para los niños más pequeños bebés y niños pequ...</td>\n",
       "      <td>4</td>\n",
       "      <td>516</td>\n",
       "      <td>16</td>\n",
       "      <td>1</td>\n",
       "      <td>[para, los, niños, más, pequeños, bebés, y, ni...</td>\n",
       "      <td>[niños, pequeños, bebés, niños, pequeños, capa...</td>\n",
       "      <td>[niño, pequeño, bebé, niño, pequeño, capacitac...</td>\n",
       "      <td>niño pequeño bebé niño pequeño capacitación es...</td>\n",
       "    </tr>\n",
       "    <tr>\n",
       "      <th>2</th>\n",
       "      <td>además la formación de especialistas en medici...</td>\n",
       "      <td>3</td>\n",
       "      <td>659</td>\n",
       "      <td>15</td>\n",
       "      <td>1</td>\n",
       "      <td>[además, la, formación, de, especialistas, en,...</td>\n",
       "      <td>[formación, especialistas, medicina, general, ...</td>\n",
       "      <td>[formación, especialista, medicín, general, in...</td>\n",
       "      <td>formación especialista medicín general incluir...</td>\n",
       "    </tr>\n",
       "    <tr>\n",
       "      <th>3</th>\n",
       "      <td>en los países de la ocde se tiende a pasar de ...</td>\n",
       "      <td>4</td>\n",
       "      <td>693</td>\n",
       "      <td>18</td>\n",
       "      <td>1</td>\n",
       "      <td>[en, los, países, de, la, ocde, se, tiende, a,...</td>\n",
       "      <td>[países, ocde, tiende, pasar, cursos, obligato...</td>\n",
       "      <td>[país, ocde, tender, pasar, curso, obligatorio...</td>\n",
       "      <td>país ocde tender pasar curso obligatorio optat...</td>\n",
       "    </tr>\n",
       "    <tr>\n",
       "      <th>4</th>\n",
       "      <td>este grupo se centró en las personas que padec...</td>\n",
       "      <td>3</td>\n",
       "      <td>608</td>\n",
       "      <td>14</td>\n",
       "      <td>0</td>\n",
       "      <td>[este, grupo, se, centró, en, las, personas, q...</td>\n",
       "      <td>[grupo, centró, personas, padecen, trastornos,...</td>\n",
       "      <td>[grupo, centrar, persona, padecer, trastorno, ...</td>\n",
       "      <td>grupo centrar persona padecer trastorno mental...</td>\n",
       "    </tr>\n",
       "  </tbody>\n",
       "</table>\n",
       "</div>"
      ],
      "text/plain": [
       "                                              textos  labels  Conteo  Max  \\\n",
       "0  aprendizaje y educación se consideran sinónimo...       4     352   14   \n",
       "1  para los niños más pequeños bebés y niños pequ...       4     516   16   \n",
       "2  además la formación de especialistas en medici...       3     659   15   \n",
       "3  en los países de la ocde se tiende a pasar de ...       4     693   18   \n",
       "4  este grupo se centró en las personas que padec...       3     608   14   \n",
       "\n",
       "   Min                                             tokens  \\\n",
       "0    1  [aprendizaje, y, educación, se, consideran, si...   \n",
       "1    1  [para, los, niños, más, pequeños, bebés, y, ni...   \n",
       "2    1  [además, la, formación, de, especialistas, en,...   \n",
       "3    1  [en, los, países, de, la, ocde, se, tiende, a,...   \n",
       "4    0  [este, grupo, se, centró, en, las, personas, q...   \n",
       "\n",
       "                             tokens_sin_innecesarios  \\\n",
       "0  [aprendizaje, educación, consideran, sinónimos...   \n",
       "1  [niños, pequeños, bebés, niños, pequeños, capa...   \n",
       "2  [formación, especialistas, medicina, general, ...   \n",
       "3  [países, ocde, tiende, pasar, cursos, obligato...   \n",
       "4  [grupo, centró, personas, padecen, trastornos,...   \n",
       "\n",
       "                                         lematizados  \\\n",
       "0  [aprendizaje, educación, considerar, sinónir, ...   \n",
       "1  [niño, pequeño, bebé, niño, pequeño, capacitac...   \n",
       "2  [formación, especialista, medicín, general, in...   \n",
       "3  [país, ocde, tender, pasar, curso, obligatorio...   \n",
       "4  [grupo, centrar, persona, padecer, trastorno, ...   \n",
       "\n",
       "                                     lematizados_str  \n",
       "0  aprendizaje educación considerar sinónir escol...  \n",
       "1  niño pequeño bebé niño pequeño capacitación es...  \n",
       "2  formación especialista medicín general incluir...  \n",
       "3  país ocde tender pasar curso obligatorio optat...  \n",
       "4  grupo centrar persona padecer trastorno mental...  "
      ]
     },
     "execution_count": 144,
     "metadata": {},
     "output_type": "execute_result"
    }
   ],
   "source": [
    "from sklearn.pipeline import Pipeline\n",
    "from sklearn.feature_extraction.text import TfidfVectorizer\n",
    "from sklearn.neighbors import KNeighborsClassifier\n",
    "from sklearn.model_selection import GridSearchCV, StratifiedKFold\n",
    "\n",
    "df['lematizados_str'] = df['lematizados'].apply(lambda tokens: ' '.join(tokens))\n",
    "df.head()"
   ]
  },
  {
   "cell_type": "markdown",
   "id": "b972b844",
   "metadata": {},
   "source": [
    "Asignamos un 20% del dataset para que sea analizado como parte de pruebasm mientras que el 80% se designara netamente en el entrenamiento del modelo con el algoritmo KNN"
   ]
  },
  {
   "cell_type": "code",
   "execution_count": 145,
   "id": "88814a74",
   "metadata": {},
   "outputs": [
    {
     "data": {
      "text/plain": [
       "((1939,), (485,))"
      ]
     },
     "execution_count": 145,
     "metadata": {},
     "output_type": "execute_result"
    }
   ],
   "source": [
    "X_train_Seb, X_test_Seb, y_train_Seb, y_test_Seb = train_test_split(df['lematizados_str'], df['labels'], test_size=0.20, random_state=42, stratify=df['labels'])\n",
    "\n",
    "X_train_Seb.shape, X_test_Seb.shape"
   ]
  },
  {
   "cell_type": "markdown",
   "id": "7ea01262",
   "metadata": {},
   "source": [
    "Ahora se crea una función que entrena el modelo, imprime unas metricas, siendo la precisión y el ROC AUC del modelo, muestra un reporte de la clasificación con el f1-score, facilitando la evaluación del KNN."
   ]
  },
  {
   "cell_type": "code",
   "execution_count": 146,
   "id": "9010e025",
   "metadata": {},
   "outputs": [],
   "source": [
    "def evaluar_knn(pipeline, X_train, y_train, X_test, y_test, titulo=\"KNN\"):\n",
    "    pipeline.fit(X_train, y_train)\n",
    "    y_pred = pipeline.predict(X_test)\n",
    "\n",
    "    y_proba = None\n",
    "    try:\n",
    "        y_proba = pipeline.predict_proba(X_test)\n",
    "    except Exception:\n",
    "        pass\n",
    "\n",
    "    acc = accuracy_score(y_test, y_pred)\n",
    "    print(f\"\\n=== {titulo} ===\")\n",
    "    print(\"Accuracy (test):\", round(acc, 4))\n",
    "\n",
    "    auc = roc_auc_score(y_test, y_proba, multi_class=\"ovr\")\n",
    "\n",
    "    print(\"ROC AUC (test):\", round(auc, 4))\n",
    "\n",
    "\n",
    "    print(\"\\nReporte de clasificación:\")\n",
    "    print(classification_report(y_test, y_pred, target_names=[str(c) for c in sorted(set(y_test))]))\n",
    "\n",
    "    # Matriz de confusión\n",
    "    cm = confusion_matrix(y_test, y_pred)\n",
    "    disp = ConfusionMatrixDisplay(confusion_matrix=cm, display_labels=sorted(set(y_test)))\n",
    "    fig, ax = plt.subplots(figsize=(5,4))\n",
    "    disp.plot(ax=ax, colorbar=False)\n",
    "    plt.title(f\"Matriz de confusión — {titulo}\")\n",
    "    plt.show()\n",
    "\n",
    "    # Curvas ROC solo si quieres verlas en multiclase\n",
    "    if y_proba is not None and len(set(y_test)) == 2:\n",
    "        RocCurveDisplay.from_predictions(y_test, y_proba[:,1])\n",
    "        plt.title(f\"Curva ROC — {titulo}\")\n",
    "        plt.show()"
   ]
  },
  {
   "cell_type": "markdown",
   "id": "684e2edc",
   "metadata": {},
   "source": [
    "Se define el pipeline con TfidfVectorizer para que transforme la columna de lematizados a numeros para poder hacer el analisis bien, se define el knn para el modelo y asi evaluar su rendimiento."
   ]
  },
  {
   "cell_type": "code",
   "execution_count": 147,
   "id": "1b6e6392",
   "metadata": {},
   "outputs": [
    {
     "name": "stdout",
     "output_type": "stream",
     "text": [
      "\n",
      "=== KNN ===\n",
      "Accuracy (test): 0.9546\n",
      "ROC AUC (test): 0.9929\n",
      "\n",
      "Reporte de clasificación:\n",
      "              precision    recall  f1-score   support\n",
      "\n",
      "           1       0.91      0.95      0.93       101\n",
      "           3       0.96      0.96      0.96       179\n",
      "           4       0.97      0.95      0.96       205\n",
      "\n",
      "    accuracy                           0.95       485\n",
      "   macro avg       0.95      0.95      0.95       485\n",
      "weighted avg       0.96      0.95      0.95       485\n",
      "\n"
     ]
    },
    {
     "data": {
      "image/png": "[encoded data removed]",
      "text/plain": [
       "<Figure size 500x400 with 1 Axes>"
      ]
     },
     "metadata": {},
     "output_type": "display_data"
    }
   ],
   "source": [
    "pipe_knn = Pipeline([\n",
    "    (\"tfidf\", TfidfVectorizer()), \n",
    "    (\"knn\", KNeighborsClassifier())\n",
    "])\n",
    "\n",
    "evaluar_knn(pipe_knn, X_train_Seb, y_train_Seb, X_test_Seb, y_test_Seb, titulo=\"KNN\")"
   ]
  },
  {
   "cell_type": "markdown",
   "id": "e298212e",
   "metadata": {},
   "source": [
    "Aca experimentamos con diferentes distancias para identificar cual de estas se adapta mejor al modelo planteado"
   ]
  },
  {
   "cell_type": "code",
   "execution_count": 148,
   "id": "05b408cb",
   "metadata": {},
   "outputs": [
    {
     "name": "stdout",
     "output_type": "stream",
     "text": [
      "\n",
      "=== KNN Distancia Euclídea (p=2) ===\n",
      "Accuracy (test): 0.9546\n",
      "ROC AUC (test): 0.9929\n",
      "\n",
      "Reporte de clasificación:\n",
      "              precision    recall  f1-score   support\n",
      "\n",
      "           1       0.91      0.95      0.93       101\n",
      "           3       0.96      0.96      0.96       179\n",
      "           4       0.97      0.95      0.96       205\n",
      "\n",
      "    accuracy                           0.95       485\n",
      "   macro avg       0.95      0.95      0.95       485\n",
      "weighted avg       0.96      0.95      0.95       485\n",
      "\n"
     ]
    },
    {
     "data": {
      "image/png": "[encoded data removed]",
      "text/plain": [
       "<Figure size 500x400 with 1 Axes>"
      ]
     },
     "metadata": {},
     "output_type": "display_data"
    },
    {
     "name": "stdout",
     "output_type": "stream",
     "text": [
      "\n",
      "=== KNN Distancia Manhattan (p=1) ===\n",
      "Accuracy (test): 0.5897\n",
      "ROC AUC (test): 0.7357\n",
      "\n",
      "Reporte de clasificación:\n",
      "              precision    recall  f1-score   support\n",
      "\n",
      "           1       0.88      0.14      0.24       101\n",
      "           3       0.74      0.45      0.56       179\n",
      "           4       0.53      0.93      0.68       205\n",
      "\n",
      "    accuracy                           0.59       485\n",
      "   macro avg       0.71      0.51      0.49       485\n",
      "weighted avg       0.68      0.59      0.54       485\n",
      "\n"
     ]
    },
    {
     "data": {
      "image/png": "[encoded data removed]",
      "text/plain": [
       "<Figure size 500x400 with 1 Axes>"
      ]
     },
     "metadata": {},
     "output_type": "display_data"
    },
    {
     "name": "stdout",
     "output_type": "stream",
     "text": [
      "\n",
      "=== KNN Distancia Coseno ===\n",
      "Accuracy (test): 0.9546\n",
      "ROC AUC (test): 0.9929\n",
      "\n",
      "Reporte de clasificación:\n",
      "              precision    recall  f1-score   support\n",
      "\n",
      "           1       0.91      0.95      0.93       101\n",
      "           3       0.96      0.96      0.96       179\n",
      "           4       0.97      0.95      0.96       205\n",
      "\n",
      "    accuracy                           0.95       485\n",
      "   macro avg       0.95      0.95      0.95       485\n",
      "weighted avg       0.96      0.95      0.95       485\n",
      "\n"
     ]
    },
    {
     "data": {
      "image/png": "[encoded data removed]",
      "text/plain": [
       "<Figure size 500x400 with 1 Axes>"
      ]
     },
     "metadata": {},
     "output_type": "display_data"
    }
   ],
   "source": [
    "pipe_euclid = Pipeline([(\"tfidf\", TfidfVectorizer()), (\"knn\", KNeighborsClassifier(metric=\"minkowski\", p=2))])\n",
    "\n",
    "pipe_manhat = Pipeline([(\"tfidf\", TfidfVectorizer()), (\"knn\", KNeighborsClassifier(metric=\"minkowski\", p=1))])\n",
    "\n",
    "pipe_cosine = Pipeline([(\"tfidf\", TfidfVectorizer()), (\"knn\", KNeighborsClassifier(metric=\"cosine\"))])\n",
    "\n",
    "\n",
    "evaluar_knn(pipe_euclid, X_train_Seb, y_train_Seb, X_test_Seb, y_test_Seb, titulo=\"KNN Distancia Euclídea (p=2)\")\n",
    "evaluar_knn(pipe_manhat, X_train_Seb, y_train_Seb, X_test_Seb, y_test_Seb, titulo=\"KNN Distancia Manhattan (p=1)\")\n",
    "evaluar_knn(pipe_cosine, X_train_Seb, y_train_Seb, X_test_Seb, y_test_Seb, titulo=\"KNN Distancia Coseno\")"
   ]
  },
  {
   "cell_type": "markdown",
   "id": "3ae064af",
   "metadata": {},
   "source": [
    "Se fija el valor de los n vecinos mas cercanos como 13, siendo este el mejor valor encontrado tras varias pruebas que no se presentan dentro de este archivo."
   ]
  },
  {
   "cell_type": "code",
   "execution_count": 149,
   "id": "43864f11",
   "metadata": {},
   "outputs": [
    {
     "name": "stdout",
     "output_type": "stream",
     "text": [
      "\n",
      "=== KNN k=13 (mejor modelo encontrado) ===\n",
      "Accuracy (test): 0.9608\n",
      "ROC AUC (test): 0.9959\n",
      "\n",
      "Reporte de clasificación:\n",
      "              precision    recall  f1-score   support\n",
      "\n",
      "           1       0.92      0.96      0.94       101\n",
      "           3       0.96      0.96      0.96       179\n",
      "           4       0.98      0.97      0.97       205\n",
      "\n",
      "    accuracy                           0.96       485\n",
      "   macro avg       0.95      0.96      0.96       485\n",
      "weighted avg       0.96      0.96      0.96       485\n",
      "\n"
     ]
    },
    {
     "data": {
      "image/png": "[encoded data removed]",
      "text/plain": [
       "<Figure size 500x400 with 1 Axes>"
      ]
     },
     "metadata": {},
     "output_type": "display_data"
    }
   ],
   "source": [
    "best_pipe = Pipeline([(\"tfidf\", TfidfVectorizer()), (\"knn\", KNeighborsClassifier(n_neighbors=13))])\n",
    "evaluar_knn(best_pipe, X_train_Seb, y_train_Seb, X_test_Seb, y_test_Seb, titulo=\"KNN k=13 (mejor modelo encontrado)\")"
   ]
  },
  {
   "cell_type": "markdown",
   "id": "6a40ae92",
   "metadata": {},
   "source": [
    "Finalmente usamos GridSearchCV para encontrar los mejores hiperparámetros del modelo KNN, seleccionarlos y dar el mejor modelo."
   ]
  },
  {
   "cell_type": "code",
   "execution_count": 150,
   "id": "7729dbc4",
   "metadata": {},
   "outputs": [
    {
     "name": "stdout",
     "output_type": "stream",
     "text": [
      "Fitting 5 folds for each of 32 candidates, totalling 160 fits\n",
      "Mejores hiperparámetros: {'knn__metric': 'minkowski', 'knn__n_neighbors': 21, 'knn__p': 2, 'knn__weights': 'uniform'}\n",
      "Mejor score de CV (train): 0.9598\n",
      "\n",
      "=== Mejor modelo (GridSearch) ===\n",
      "Accuracy (test): 0.9567\n",
      "ROC AUC (test): 0.996\n",
      "\n",
      "Reporte de clasificación:\n",
      "              precision    recall  f1-score   support\n",
      "\n",
      "           1       0.93      0.95      0.94       101\n",
      "           3       0.97      0.95      0.96       179\n",
      "           4       0.96      0.97      0.96       205\n",
      "\n",
      "    accuracy                           0.96       485\n",
      "   macro avg       0.95      0.96      0.95       485\n",
      "weighted avg       0.96      0.96      0.96       485\n",
      "\n"
     ]
    },
    {
     "data": {
      "image/png": "[encoded data removed]",
      "text/plain": [
       "<Figure size 500x400 with 1 Axes>"
      ]
     },
     "metadata": {},
     "output_type": "display_data"
    }
   ],
   "source": [
    "pipe = Pipeline([\n",
    "    (\"tfidf\", TfidfVectorizer()), \n",
    "    (\"knn\", KNeighborsClassifier())\n",
    "])\n",
    "\n",
    "param_grid = {\n",
    "    \"knn__n_neighbors\": [1, 3, 5, 7, 13, 15, 21, 31],\n",
    "    \"knn__weights\": [\"uniform\", \"distance\"],\n",
    "    \"knn__metric\": [\"minkowski\"],\n",
    "    \"knn__p\": [1, 2], \n",
    "}\n",
    "\n",
    "grid = GridSearchCV(\n",
    "    estimator=pipe,\n",
    "    param_grid=param_grid,\n",
    "    scoring=\"accuracy\", \n",
    "    cv=StratifiedKFold(n_splits=5, shuffle=True, random_state=42),\n",
    "    n_jobs=-1,\n",
    "    refit=True,\n",
    "    verbose=1\n",
    ")\n",
    "\n",
    "grid.fit(X_train_Seb, y_train_Seb)\n",
    "\n",
    "print(\"Mejores hiperparámetros:\", grid.best_params_)\n",
    "print(\"Mejor score de CV (train):\", round(grid.best_score_, 4))\n",
    "\n",
    "best_knn = grid.best_estimator_\n",
    "evaluar_knn(best_knn, X_train_Seb, y_train_Seb, X_test_Seb, y_test_Seb, titulo=\"Mejor modelo (GridSearch)\")"
   ]
  },
  {
   "cell_type": "markdown",
   "id": "132adcf8",
   "metadata": {},
   "source": [
    "## Modelo Johan Suarez"
   ]
  },
  {
   "cell_type": "code",
   "execution_count": null,
   "id": "b1825ca1",
   "metadata": {},
   "outputs": [],
   "source": []
  },
  {
   "cell_type": "markdown",
   "id": "fae9986a",
   "metadata": {},
   "source": [
    "## Carga de datos test"
   ]
  },
  {
   "cell_type": "code",
   "execution_count": 151,
   "id": "9500a4bc",
   "metadata": {},
   "outputs": [
    {
     "name": "stdout",
     "output_type": "stream",
     "text": [
      "Valores nulos por columna:\n"
     ]
    },
    {
     "data": {
      "application/vnd.microsoft.datawrangler.viewer.v0+json": {
       "columns": [
        {
         "name": "index",
         "rawType": "object",
         "type": "string"
        },
        {
         "name": "0",
         "rawType": "int64",
         "type": "integer"
        }
       ],
       "ref": "8a364bf3-fbd7-4e5b-b611-5f4b38743dfd",
       "rows": [
        [
         "textos",
         "0"
        ]
       ],
       "shape": {
        "columns": 1,
        "rows": 1
       }
      },
      "text/plain": [
       "textos    0\n",
       "dtype: int64"
      ]
     },
     "metadata": {},
     "output_type": "display_data"
    },
    {
     "name": "stdout",
     "output_type": "stream",
     "text": [
      "\n",
      "Duplicados (filas completas): 0\n",
      "Columnas constantes: Ninguna\n"
     ]
    },
    {
     "data": {
      "application/vnd.microsoft.datawrangler.viewer.v0+json": {
       "columns": [
        {
         "name": "index",
         "rawType": "int64",
         "type": "integer"
        },
        {
         "name": "textos",
         "rawType": "string",
         "type": "string"
        },
        {
         "name": "tokens",
         "rawType": "object",
         "type": "unknown"
        },
        {
         "name": "tokens_sin_innecesarios",
         "rawType": "object",
         "type": "unknown"
        },
        {
         "name": "lematizados",
         "rawType": "object",
         "type": "unknown"
        },
        {
         "name": "lematizados_str",
         "rawType": "object",
         "type": "string"
        }
       ],
       "ref": "b2b82792-85c1-46bd-8c8d-54a234c4d9b3",
       "rows": [
        [
         "0",
         "el rector que es el representante local del ministerio de educación tiene la responsabilidad principal de procesar la evaluación a pesar de esta centralización el sistema francés se basa en gran medida en el principio de participación y por lo tanto los docentes están involucrados en todos los procesos inca france 2008 aunque existían diferencias entre los procedimientos de evaluación en los länder alemanes la única herramienta de verificación era la recopilación de algunos documentos de muestra para la verificación central a estas alturas sin embargo la mayoría de los länder han introducido exámenes centrales hasta cierto punto",
         "['el', 'rector', 'que', 'es', 'el', 'representante', 'local', 'del', 'ministerio', 'de', 'educación', 'tiene', 'la', 'responsabilidad', 'principal', 'de', 'procesar', 'la', 'evaluación', 'a', 'pesar', 'de', 'esta', 'centralización', 'el', 'sistema', 'francés', 'se', 'basa', 'en', 'gran', 'medida', 'en', 'el', 'principio', 'de', 'participación', 'y', 'por', 'lo', 'tanto', 'los', 'docentes', 'están', 'involucrados', 'en', 'todos', 'los', 'procesos', 'inca', 'france', '2008', 'aunque', 'existían', 'diferencias', 'entre', 'los', 'procedimientos', 'de', 'evaluación', 'en', 'los', 'länder', 'alemanes', 'la', 'única', 'herramienta', 'de', 'verificación', 'era', 'la', 'recopilación', 'de', 'algunos', 'documentos', 'de', 'muestra', 'para', 'la', 'verificación', 'central', 'a', 'estas', 'alturas', 'sin', 'embargo', 'la', 'mayoría', 'de', 'los', 'länder', 'han', 'introducido', 'exámenes', 'centrales', 'hasta', 'cierto', 'punto']",
         "['rector', 'representante', 'local', 'ministerio', 'educación', 'responsabilidad', 'principal', 'procesar', 'evaluación', 'centralización', 'sistema', 'francés', 'basa', 'medida', 'principio', 'participación', 'docentes', 'involucrados', 'procesos', 'inca', 'france', '2008', 'existían', 'diferencias', 'procedimientos', 'evaluación', 'länder', 'alemanes', 'única', 'herramienta', 'verificación', 'recopilación', 'documentos', 'muestra', 'verificación', 'central', 'alturas', 'mayoría', 'länder', 'introducido', 'exámenes', 'centrales', 'punto']",
         "['rector', 'representante', 'local', 'ministerio', 'educación', 'responsabilidad', 'principal', 'procesar', 'evaluación', 'centralización', 'sistema', 'francés', 'basar', 'medida', 'principio', 'participación', 'docente', 'involucrado', 'proceso', 'inco', 'france', '2008', 'existir', 'diferencia', 'procedimiento', 'evaluación', 'länder', 'alemán', 'único', 'herramiento', 'verificación', 'recopilación', 'documento', 'mostrar', 'verificación', 'central', 'alturos', 'mayoría', 'länder', 'introducido', 'examen', 'central', 'punto']",
         "rector representante local ministerio educación responsabilidad principal procesar evaluación centralización sistema francés basar medida principio participación docente involucrado proceso inco france 2008 existir diferencia procedimiento evaluación länder alemán único herramiento verificación recopilación documento mostrar verificación central alturos mayoría länder introducido examen central punto"
        ],
        [
         "1",
         "tenga en cuenta que todos los programas antipobreza tienen condiciones incluso aquellos caracterizados como incondicionales nuestro enfoque está en las condiciones de comportamiento vinculadas a los programas antipobreza las condiciones más utilizadas son aquellas que incentivan la creación de activos físicos generalmente a nivel comunitario o la acumulación de capital humano en términos de educación o salud",
         "['tenga', 'en', 'cuenta', 'que', 'todos', 'los', 'programas', 'antipobreza', 'tienen', 'condiciones', 'incluso', 'aquellos', 'caracterizados', 'como', 'incondicionales', 'nuestro', 'enfoque', 'está', 'en', 'las', 'condiciones', 'de', 'comportamiento', 'vinculadas', 'a', 'los', 'programas', 'antipobreza', 'las', 'condiciones', 'más', 'utilizadas', 'son', 'aquellas', 'que', 'incentivan', 'la', 'creación', 'de', 'activos', 'físicos', 'generalmente', 'a', 'nivel', 'comunitario', 'o', 'la', 'acumulación', 'de', 'capital', 'humano', 'en', 'términos', 'de', 'educación', 'o', 'salud']",
         "['programas', 'antipobreza', 'condiciones', 'caracterizados', 'incondicionales', 'enfoque', 'condiciones', 'comportamiento', 'vinculadas', 'programas', 'antipobreza', 'condiciones', 'utilizadas', 'incentivan', 'creación', 'activos', 'físicos', 'generalmente', 'nivel', 'comunitario', 'acumulación', 'capital', 'humano', 'términos', 'educación', 'salud']",
         "['programa', 'antipobrezar', 'condición', 'caracterizado', 'incondicional', 'enfocar', 'condición', 'comportamiento', 'vinculado', 'programa', 'antipobrezar', 'condición', 'utilizado', 'incentivar', 'creación', 'activo', 'físico', 'generalmente', 'nivel', 'comunitario', 'acumulación', 'capital', 'humano', 'término', 'educación', 'salud']",
         "programa antipobrezar condición caracterizado incondicional enfocar condición comportamiento vinculado programa antipobrezar condición utilizado incentivar creación activo físico generalmente nivel comunitario acumulación capital humano término educación salud"
        ],
        [
         "2",
         "debido a que son en gran medida invisibles estas formas de trabajo infantil son las más difíciles de abordar las trabajadoras del hogar en su mayoría niñas se encuentran aisladas y sujetas a los caprichos y la disciplina arbitraria de sus empleadores de quienes pueden sufrir abusos el abuso sexual es frecuente pero rara vez procesado la violencia o el abuso en el hogar o en el vecindario ahuyenta a muchos como lo han demostrado estudios en ciudades tan diversas como dhaka bangladesh y moscú federación rusa67 la pobreza también juega un papel",
         "['debido', 'a', 'que', 'son', 'en', 'gran', 'medida', 'invisibles', 'estas', 'formas', 'de', 'trabajo', 'infantil', 'son', 'las', 'más', 'difíciles', 'de', 'abordar', 'las', 'trabajadoras', 'del', 'hogar', 'en', 'su', 'mayoría', 'niñas', 'se', 'encuentran', 'aisladas', 'y', 'sujetas', 'a', 'los', 'caprichos', 'y', 'la', 'disciplina', 'arbitraria', 'de', 'sus', 'empleadores', 'de', 'quienes', 'pueden', 'sufrir', 'abusos', 'el', 'abuso', 'sexual', 'es', 'frecuente', 'pero', 'rara', 'vez', 'procesado', 'la', 'violencia', 'o', 'el', 'abuso', 'en', 'el', 'hogar', 'o', 'en', 'el', 'vecindario', 'ahuyenta', 'a', 'muchos', 'como', 'lo', 'han', 'demostrado', 'estudios', 'en', 'ciudades', 'tan', 'diversas', 'como', 'dhaka', 'bangladesh', 'y', 'moscú', 'federación', 'rusa67', 'la', 'pobreza', 'también', 'juega', 'un', 'papel']",
         "['medida', 'invisibles', 'formas', 'trabajo', 'infantil', 'difíciles', 'abordar', 'trabajadoras', 'hogar', 'mayoría', 'niñas', 'encuentran', 'aisladas', 'sujetas', 'caprichos', 'disciplina', 'arbitraria', 'empleadores', 'sufrir', 'abusos', 'abuso', 'sexual', 'frecuente', 'rara', 'procesado', 'violencia', 'abuso', 'hogar', 'vecindario', 'ahuyenta', 'demostrado', 'estudios', 'ciudades', 'diversas', 'dhaka', 'bangladesh', 'moscú', 'federación', 'rusa67', 'pobreza', 'juega', 'papel']",
         "['medida', 'invisible', 'forma', 'trabajo', 'infantil', 'difícil', 'abordar', 'trabajador', 'hogar', 'mayoría', 'niña', 'encontrar', 'aislado', 'sujeto', 'capricho', 'disciplina', 'arbitrario', 'empleador', 'sufrir', 'abuso', 'abuso', 'sexual', 'frecuente', 'raro', 'procesado', 'violencia', 'abuso', 'hogar', 'vecindario', 'ahuyentar', 'demostrado', 'estudio', 'ciudad', 'diverso', 'dhaka', 'bangladesh', 'moscú', 'federación', 'rusa67', 'pobreza', 'jugar', 'papel']",
         "medida invisible forma trabajo infantil difícil abordar trabajador hogar mayoría niña encontrar aislado sujeto capricho disciplina arbitrario empleador sufrir abuso abuso sexual frecuente raro procesado violencia abuso hogar vecindario ahuyentar demostrado estudio ciudad diverso dhaka bangladesh moscú federación rusa67 pobreza jugar papel"
        ],
        [
         "3",
         "los recursos aún son limitados en este sector los servicios privados con fines de lucro y comunitarios religiosos y seculares son los principales proveedores directos de jardines de infancia y grupos de juego a pesar del crecimiento significativo en este sector todavía hay una serie de desafíos para la provisión de un servicio más universal y consistente para los niños en edad preescolar",
         "['los', 'recursos', 'aún', 'son', 'limitados', 'en', 'este', 'sector', 'los', 'servicios', 'privados', 'con', 'fines', 'de', 'lucro', 'y', 'comunitarios', 'religiosos', 'y', 'seculares', 'son', 'los', 'principales', 'proveedores', 'directos', 'de', 'jardines', 'de', 'infancia', 'y', 'grupos', 'de', 'juego', 'a', 'pesar', 'del', 'crecimiento', 'significativo', 'en', 'este', 'sector', 'todavía', 'hay', 'una', 'serie', 'de', 'desafíos', 'para', 'la', 'provisión', 'de', 'un', 'servicio', 'más', 'universal', 'y', 'consistente', 'para', 'los', 'niños', 'en', 'edad', 'preescolar']",
         "['recursos', 'limitados', 'sector', 'servicios', 'privados', 'fines', 'lucro', 'comunitarios', 'religiosos', 'seculares', 'principales', 'proveedores', 'directos', 'jardines', 'infancia', 'grupos', 'juego', 'crecimiento', 'significativo', 'sector', 'serie', 'desafíos', 'provisión', 'servicio', 'universal', 'consistente', 'niños', 'edad', 'preescolar']",
         "['recurso', 'limitado', 'sector', 'servicio', 'privado', 'fin', 'lucro', 'comunitario', 'religioso', 'secular', 'principal', 'proveedor', 'directo', 'jardín', 'infancia', 'grupo', 'juego', 'crecimiento', 'significativo', 'sector', 'serie', 'desafío', 'provisión', 'servicio', 'universal', 'consistente', 'niño', 'edad', 'preescolar']",
         "recurso limitado sector servicio privado fin lucro comunitario religioso secular principal proveedor directo jardín infancia grupo juego crecimiento significativo sector serie desafío provisión servicio universal consistente niño edad preescolar"
        ],
        [
         "4",
         "durante el período 1985-2008 la educación primaria secundaria y terciaria experimentó un aumento sin precedentes en la matrícula la educación superior mostró el mayor crecimiento con un 931 lo que representa un aumento anual del 41 la mejora del acceso se refleja en el porcentaje de matriculación en educación superior en la cohorte de edad de 19 a 24 años que creció del 06 en 1970 al 244 en 2007",
         "['durante', 'el', 'período', '1985-2008', 'la', 'educación', 'primaria', 'secundaria', 'y', 'terciaria', 'experimentó', 'un', 'aumento', 'sin', 'precedentes', 'en', 'la', 'matrícula', 'la', 'educación', 'superior', 'mostró', 'el', 'mayor', 'crecimiento', 'con', 'un', '931', 'lo', 'que', 'representa', 'un', 'aumento', 'anual', 'del', '41', 'la', 'mejora', 'del', 'acceso', 'se', 'refleja', 'en', 'el', 'porcentaje', 'de', 'matriculación', 'en', 'educación', 'superior', 'en', 'la', 'cohorte', 'de', 'edad', 'de', '19', 'a', '24', 'años', 'que', 'creció', 'del', '06', 'en', '1970', 'al', '244', 'en', '2007']",
         "['período', '1985-2008', 'educación', 'primaria', 'secundaria', 'terciaria', 'experimentó', 'aumento', 'precedentes', 'matrícula', 'educación', 'superior', 'mostró', 'crecimiento', '931', 'representa', 'aumento', 'anual', '41', 'mejora', 'acceso', 'refleja', 'porcentaje', 'matriculación', 'educación', 'superior', 'cohorte', 'edad', '19', '24', 'años', 'creció', '06', '1970', '244', '2007']",
         "['período', '1985-2008', 'educación', 'primario', 'secundario', 'terciario', 'experimentar', 'aumento', 'precedente', 'matrícula', 'educación', 'superior', 'mostrar', 'crecimiento', '931', 'representar', 'aumento', 'anual', '41', 'mejorar', 'acceso', 'reflejar', 'porcentaje', 'matriculación', 'educación', 'superior', 'cohorte', 'edad', '19', '24', 'año', 'crecer', '06', '1970', '244', '2007']",
         "período 1985-2008 educación primario secundario terciario experimentar aumento precedente matrícula educación superior mostrar crecimiento 931 representar aumento anual 41 mejorar acceso reflejar porcentaje matriculación educación superior cohorte edad 19 24 año crecer 06 1970 244 2007"
        ]
       ],
       "shape": {
        "columns": 5,
        "rows": 5
       }
      },
      "text/html": [
       "<div>\n",
       "<style scoped>\n",
       "    .dataframe tbody tr th:only-of-type {\n",
       "        vertical-align: middle;\n",
       "    }\n",
       "\n",
       "    .dataframe tbody tr th {\n",
       "        vertical-align: top;\n",
       "    }\n",
       "\n",
       "    .dataframe thead th {\n",
       "        text-align: right;\n",
       "    }\n",
       "</style>\n",
       "<table border=\"1\" class=\"dataframe\">\n",
       "  <thead>\n",
       "    <tr style=\"text-align: right;\">\n",
       "      <th></th>\n",
       "      <th>textos</th>\n",
       "      <th>tokens</th>\n",
       "      <th>tokens_sin_innecesarios</th>\n",
       "      <th>lematizados</th>\n",
       "      <th>lematizados_str</th>\n",
       "    </tr>\n",
       "  </thead>\n",
       "  <tbody>\n",
       "    <tr>\n",
       "      <th>0</th>\n",
       "      <td>el rector que es el representante local del mi...</td>\n",
       "      <td>[el, rector, que, es, el, representante, local...</td>\n",
       "      <td>[rector, representante, local, ministerio, edu...</td>\n",
       "      <td>[rector, representante, local, ministerio, edu...</td>\n",
       "      <td>rector representante local ministerio educació...</td>\n",
       "    </tr>\n",
       "    <tr>\n",
       "      <th>1</th>\n",
       "      <td>tenga en cuenta que todos los programas antipo...</td>\n",
       "      <td>[tenga, en, cuenta, que, todos, los, programas...</td>\n",
       "      <td>[programas, antipobreza, condiciones, caracter...</td>\n",
       "      <td>[programa, antipobrezar, condición, caracteriz...</td>\n",
       "      <td>programa antipobrezar condición caracterizado ...</td>\n",
       "    </tr>\n",
       "    <tr>\n",
       "      <th>2</th>\n",
       "      <td>debido a que son en gran medida invisibles est...</td>\n",
       "      <td>[debido, a, que, son, en, gran, medida, invisi...</td>\n",
       "      <td>[medida, invisibles, formas, trabajo, infantil...</td>\n",
       "      <td>[medida, invisible, forma, trabajo, infantil, ...</td>\n",
       "      <td>medida invisible forma trabajo infantil difíci...</td>\n",
       "    </tr>\n",
       "    <tr>\n",
       "      <th>3</th>\n",
       "      <td>los recursos aún son limitados en este sector ...</td>\n",
       "      <td>[los, recursos, aún, son, limitados, en, este,...</td>\n",
       "      <td>[recursos, limitados, sector, servicios, priva...</td>\n",
       "      <td>[recurso, limitado, sector, servicio, privado,...</td>\n",
       "      <td>recurso limitado sector servicio privado fin l...</td>\n",
       "    </tr>\n",
       "    <tr>\n",
       "      <th>4</th>\n",
       "      <td>durante el período 1985-2008 la educación prim...</td>\n",
       "      <td>[durante, el, período, 1985-2008, la, educació...</td>\n",
       "      <td>[período, 1985-2008, educación, primaria, secu...</td>\n",
       "      <td>[período, 1985-2008, educación, primario, secu...</td>\n",
       "      <td>período 1985-2008 educación primario secundari...</td>\n",
       "    </tr>\n",
       "  </tbody>\n",
       "</table>\n",
       "</div>"
      ],
      "text/plain": [
       "                                              textos  \\\n",
       "0  el rector que es el representante local del mi...   \n",
       "1  tenga en cuenta que todos los programas antipo...   \n",
       "2  debido a que son en gran medida invisibles est...   \n",
       "3  los recursos aún son limitados en este sector ...   \n",
       "4  durante el período 1985-2008 la educación prim...   \n",
       "\n",
       "                                              tokens  \\\n",
       "0  [el, rector, que, es, el, representante, local...   \n",
       "1  [tenga, en, cuenta, que, todos, los, programas...   \n",
       "2  [debido, a, que, son, en, gran, medida, invisi...   \n",
       "3  [los, recursos, aún, son, limitados, en, este,...   \n",
       "4  [durante, el, período, 1985-2008, la, educació...   \n",
       "\n",
       "                             tokens_sin_innecesarios  \\\n",
       "0  [rector, representante, local, ministerio, edu...   \n",
       "1  [programas, antipobreza, condiciones, caracter...   \n",
       "2  [medida, invisibles, formas, trabajo, infantil...   \n",
       "3  [recursos, limitados, sector, servicios, priva...   \n",
       "4  [período, 1985-2008, educación, primaria, secu...   \n",
       "\n",
       "                                         lematizados  \\\n",
       "0  [rector, representante, local, ministerio, edu...   \n",
       "1  [programa, antipobrezar, condición, caracteriz...   \n",
       "2  [medida, invisible, forma, trabajo, infantil, ...   \n",
       "3  [recurso, limitado, sector, servicio, privado,...   \n",
       "4  [período, 1985-2008, educación, primario, secu...   \n",
       "\n",
       "                                     lematizados_str  \n",
       "0  rector representante local ministerio educació...  \n",
       "1  programa antipobrezar condición caracterizado ...  \n",
       "2  medida invisible forma trabajo infantil difíci...  \n",
       "3  recurso limitado sector servicio privado fin l...  \n",
       "4  período 1985-2008 educación primario secundari...  "
      ]
     },
     "execution_count": 151,
     "metadata": {},
     "output_type": "execute_result"
    }
   ],
   "source": [
    "def cargar_datos(file: str):\n",
    "    df_prueba = pd.read_excel(file)\n",
    "    df_prueba = df_prueba.rename(columns={\"Textos_espanol\": \"textos\"})\n",
    "    df_prueba['textos'] = df_prueba['textos'].astype(\"string\")\n",
    "    todoAmin(df_prueba)\n",
    "    limpiza(df_prueba)\n",
    "    verNulosYDuplicados(df_prueba)\n",
    "    df_prueba = tokenizacion(df_prueba)   \n",
    "    quitar_stopwords(df_prueba)\n",
    "    df_prueba =lematizar_tokens(df_prueba)\n",
    "\n",
    "\n",
    "    df_prueba = lematizar_tokens(df_prueba)\n",
    "    df_prueba['lematizados_str'] = df_prueba['lematizados'].apply(lambda tokens: ' '.join(tokens))\n",
    "    return df_prueba\n",
    "\n",
    "test = cargar_datos('Datos de prueba_proyecto.xlsx')\n",
    "test.head()"
   ]
  }
 ],
 "metadata": {
  "kernelspec": {
   "display_name": "BI",
   "language": "python",
   "name": "python3"
  },
  "language_info": {
   "codemirror_mode": {
    "name": "ipython",
    "version": 3
   },
   "file_extension": ".py",
   "mimetype": "text/x-python",
   "name": "python",
   "nbconvert_exporter": "python",
   "pygments_lexer": "ipython3",
   "version": "3.13.5"
  }
 },
 "nbformat": 4,
 "nbformat_minor": 5
}
