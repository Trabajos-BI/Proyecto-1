{
 "cells": [
  {
   "cell_type": "markdown",
   "id": "95faa2c2",
   "metadata": {},
   "source": [
    "# Preparación del entorno\n",
    "Primero debemos instalar e importar las librerias necesarias para hacer la ejecución de nuestro código"
   ]
  },
  {
   "cell_type": "code",
   "execution_count": 38,
   "id": "4876e5d4",
   "metadata": {},
   "outputs": [
    {
     "name": "stdout",
     "output_type": "stream",
     "text": [
      "Requirement already satisfied: pandas in c:\\users\\sebastian\\anaconda3\\envs\\bi\\lib\\site-packages (2.3.1)\n",
      "Requirement already satisfied: numpy>=1.26.0 in c:\\users\\sebastian\\anaconda3\\envs\\bi\\lib\\site-packages (from pandas) (2.0.1)\n",
      "Requirement already satisfied: python-dateutil>=2.8.2 in c:\\users\\sebastian\\anaconda3\\envs\\bi\\lib\\site-packages (from pandas) (2.9.0.post0)\n",
      "Requirement already satisfied: pytz>=2020.1 in c:\\users\\sebastian\\anaconda3\\envs\\bi\\lib\\site-packages (from pandas) (2025.2)\n",
      "Requirement already satisfied: tzdata>=2022.7 in c:\\users\\sebastian\\anaconda3\\envs\\bi\\lib\\site-packages (from pandas) (2025.2)\n",
      "Requirement already satisfied: six>=1.5 in c:\\users\\sebastian\\anaconda3\\envs\\bi\\lib\\site-packages (from python-dateutil>=2.8.2->pandas) (1.17.0)\n",
      "Note: you may need to restart the kernel to use updated packages.\n",
      "Requirement already satisfied: numpy in c:\\users\\sebastian\\anaconda3\\envs\\bi\\lib\\site-packages (2.0.1)\n",
      "Note: you may need to restart the kernel to use updated packages.\n",
      "Requirement already satisfied: openpyxl in c:\\users\\sebastian\\anaconda3\\envs\\bi\\lib\\site-packages (3.1.5)\n",
      "Requirement already satisfied: et-xmlfile in c:\\users\\sebastian\\anaconda3\\envs\\bi\\lib\\site-packages (from openpyxl) (2.0.0)\n",
      "Note: you may need to restart the kernel to use updated packages.\n"
     ]
    }
   ],
   "source": [
    "%pip install pandas\n",
    "%pip install numpy\n",
    "%pip install openpyxl\n",
    "\n",
    "import pandas as pd\n",
    "import numpy as np\n",
    "import matplotlib.pyplot as plt\n",
    "import re\n",
    "import unicodedata"
   ]
  },
  {
   "cell_type": "markdown",
   "id": "c19fcb22",
   "metadata": {},
   "source": [
    "Ahora al momento de hacer esto debemos cargar neustra información (el archivo con los datos) dentro de una variable, por lo cual vamos a tomar el excel y asignarlo a una variable:"
   ]
  },
  {
   "cell_type": "code",
   "execution_count": 28,
   "id": "f53d5670",
   "metadata": {},
   "outputs": [],
   "source": [
    "df = pd.read_excel('Datos_proyecto.xlsx')"
   ]
  },
  {
   "cell_type": "markdown",
   "id": "883aa8ce",
   "metadata": {},
   "source": [
    "Ahora gracias a que cargamos el dataset, podemos empezar a hacer el entendimiento de sus filas y datos agregados!!!"
   ]
  },
  {
   "cell_type": "markdown",
   "id": "e6b20e2e",
   "metadata": {},
   "source": [
    "# 1. Entendimiento del dataset\n",
    "Es necesario entender el dfset antes de hacer el proceso de limpieza y calidad de datos, y por supuesto el de clasificación"
   ]
  },
  {
   "cell_type": "code",
   "execution_count": 29,
   "id": "a5347198",
   "metadata": {},
   "outputs": [
    {
     "name": "stdout",
     "output_type": "stream",
     "text": [
      "<class 'pandas.core.frame.DataFrame'>\n",
      "RangeIndex: 2424 entries, 0 to 2423\n",
      "Data columns (total 2 columns):\n",
      " #   Column  Non-Null Count  Dtype \n",
      "---  ------  --------------  ----- \n",
      " 0   textos  2424 non-null   object\n",
      " 1   labels  2424 non-null   int64 \n",
      "dtypes: int64(1), object(1)\n",
      "memory usage: 38.0+ KB\n"
     ]
    }
   ],
   "source": [
    "df.info()"
   ]
  },
  {
   "cell_type": "code",
   "execution_count": 30,
   "id": "45a0d4de",
   "metadata": {},
   "outputs": [
    {
     "name": "stdout",
     "output_type": "stream",
     "text": [
      "Primeras filas del DataFrame:\n",
      "                                              textos  labels\n",
      "0  \"Aprendizaje\" y \"educación\" se consideran sinó...       4\n",
      "1  Para los niños más pequeños (bebés y niños peq...       4\n",
      "2  Además, la formación de especialistas en medic...       3\n",
      "3  En los países de la OCDE se tiende a pasar de ...       4\n",
      "4  Este grupo se centró en las personas que padec...       3\n",
      "\n",
      "-------------------------------------------------------------\n",
      "\n",
      "Número de filas: 2424\n",
      "Número de columnas: 2\n"
     ]
    }
   ],
   "source": [
    "print(\"Primeras filas del DataFrame:\")\n",
    "print(df.head())\n",
    "print(\"\\n-------------------------------------------------------------\\n\")\n",
    "print(\"Número de filas:\", df.shape[0])\n",
    "print(\"Número de columnas:\", df.shape[1])"
   ]
  },
  {
   "cell_type": "code",
   "execution_count": 31,
   "id": "562e5147",
   "metadata": {},
   "outputs": [
    {
     "data": {
      "application/vnd.microsoft.datawrangler.viewer.v0+json": {
       "columns": [
        {
         "name": "labels",
         "rawType": "int64",
         "type": "integer"
        },
        {
         "name": "count",
         "rawType": "int64",
         "type": "integer"
        }
       ],
       "ref": "180d2485-d04b-4177-9ad3-b8683485987e",
       "rows": [
        [
         "4",
         "1025"
        ],
        [
         "3",
         "894"
        ],
        [
         "1",
         "505"
        ]
       ],
       "shape": {
        "columns": 1,
        "rows": 3
       }
      },
      "text/plain": [
       "labels\n",
       "4    1025\n",
       "3     894\n",
       "1     505\n",
       "Name: count, dtype: int64"
      ]
     },
     "execution_count": 31,
     "metadata": {},
     "output_type": "execute_result"
    }
   ],
   "source": [
    "df['labels'].value_counts()"
   ]
  },
  {
   "cell_type": "markdown",
   "id": "c6f96667",
   "metadata": {},
   "source": [
    "Con este ultimo codigo podemos ver la distribución de los ODS con respecto a los textos, podemos incluso verlo en un diagrama de pastel para mejor visualización y entendimiento"
   ]
  },
  {
   "cell_type": "code",
   "execution_count": 32,
   "id": "5804a3bf",
   "metadata": {},
   "outputs": [
    {
     "data": {
      "image/png": "[encoded data removed]",
      "text/plain": [
       "<Figure size 640x480 with 1 Axes>"
      ]
     },
     "metadata": {},
     "output_type": "display_data"
    }
   ],
   "source": [
    "counts = df['labels'].value_counts()\n",
    "plt.pie(counts, labels=counts.index, autopct='%1.1f%%')\n",
    "plt.title(\"Distribución de Labels\")\n",
    "plt.show()"
   ]
  },
  {
   "cell_type": "code",
   "execution_count": 36,
   "id": "025aa770",
   "metadata": {},
   "outputs": [
    {
     "name": "stdout",
     "output_type": "stream",
     "text": [
      "Cantidad de valores nulos dentro del DataFrame:\n",
      "textos    0\n",
      "labels    0\n",
      "dtype: int64\n",
      "Número de duplicados: 0\n"
     ]
    }
   ],
   "source": [
    "print(\"Cantidad de valores nulos dentro del DataFrame:\")\n",
    "print(df.isnull().sum())\n",
    "\n",
    "print(\"Número de duplicados:\", df.duplicated().sum())"
   ]
  },
  {
   "cell_type": "code",
   "execution_count": null,
   "id": "19bf549e",
   "metadata": {},
   "outputs": [
    {
     "name": "stdout",
     "output_type": "stream",
     "text": [
      "count    2424.000000\n",
      "mean      107.924092\n",
      "std        35.575349\n",
      "min        41.000000\n",
      "25%        81.000000\n",
      "50%       102.000000\n",
      "75%       129.000000\n",
      "max       260.000000\n",
      "Name: longitud, dtype: float64\n",
      "Texto más corto:\n",
      " Pacto internacional de derechos económicos, sociales y culturales\", Treaty Series, vol. Mejorando la protección social y reduciendo la vulnerabilidad en un mundo globalizado\" (E/CN.5/2001), consultado en http://www.icsw.org/un-news/pdfs/csdsocprotect.PDF el 5 de octubre de 2010. Human Informe de Desarrollo, 2010 (Nueva York, Oxford).\n",
      "Texto más largo:\n",
      " El cuarenta y tres por ciento de las personas de 25 a 34 años han completado la educación secundaria (en comparación con el promedio de la OCDE del 82 %) y el 19 % han obtenido la educación terciaria (en comparación con el promedio de la OCDE del 39 %). Turquía ha logrado una mejora significativa en las evaluaciones PISA en matemáticas (de 2003 a 2009) y ciencias (de 2006 a 2009), pero sigue siendo uno de los países con el desempeño más bajo entre los países de la OCDE en lectura, matemáticas y ciencias, y la proporción de estudiantes de 15 años niños que obtuvieron un desempeño inferior en la evaluación de lectura de PISA 2009 está por encima del promedio de la OCDE (Figura 3). El impacto del estatus socioeconómico de los estudiantes en el rendimiento y la diferencia en el rendimiento académico entre chicos y chicas son superiores a la media de la OCDE (ver Anexo B). Aproximadamente el 12 % de los niños de 3 a 4 años y el 67 % de los niños de 5 años (la edad típica de inicio) están matriculados en educación preescolar. En Turquía, la mayoría de las mujeres con al menos un hijo de entre 3 y 5 años no participan en el mercado laboral (21,4% están empleadas en comparación con el promedio de la OCDE de 64,3%, 2009). Para garantizar tasas más altas de finalización de la educación secundaria superior, Turquía ha aumentado la escolaridad obligatoria de 8 a 12 años, con una edad inicial de 5,5 años.\n"
     ]
    }
   ],
   "source": [
    "df['longitud'] = df['textos'].astype(str).apply(lambda x: len(x.split()))\n",
    "\n",
    "print(df['longitud'].describe())\n",
    "\n",
    "\n",
    "print(\"Texto más corto:\\n\", df.loc[df['longitud'].idxmin(), 'textos'])\n",
    "print(\"Texto más largo:\\n\", df.loc[df['longitud'].idxmax(), 'textos'])"
   ]
  },
  {
   "cell_type": "markdown",
   "id": "10668295",
   "metadata": {},
   "source": [
    "# 2. Limpieza y tratado de datos\n",
    "Ahora tras haber revisado los datos, procederemos a hacer una cuidadosa limpieza de estos, para tener todos dentro de un mismo estandar."
   ]
  },
  {
   "cell_type": "code",
   "execution_count": null,
   "id": "5acc5965",
   "metadata": {},
   "outputs": [
    {
     "data": {
      "application/vnd.microsoft.datawrangler.viewer.v0+json": {
       "columns": [
        {
         "name": "index",
         "rawType": "int64",
         "type": "integer"
        },
        {
         "name": "textos",
         "rawType": "object",
         "type": "string"
        },
        {
         "name": "labels",
         "rawType": "int64",
         "type": "integer"
        },
        {
         "name": "longitud",
         "rawType": "int64",
         "type": "integer"
        },
        {
         "name": "textos_limpios",
         "rawType": "object",
         "type": "string"
        },
        {
         "name": "longitud_actualizada",
         "rawType": "int64",
         "type": "integer"
        }
       ],
       "ref": "1cff0592-42ef-4503-b0c7-4e143bbd37bf",
       "rows": [
        [
         "0",
         "\"Aprendizaje\" y \"educación\" se consideran sinónimos de escolarización formal. Las organizaciones auxiliares, como las editoriales de educación, las juntas examinadoras y las organizaciones de formación de docentes, se consideran extensiones de los acuerdos establecidos por los gobiernos. Este marco de comprensión se ha vuelto cada vez más inadecuado.",
         "4",
         "48",
         "aprendizaje y educacion se consideran sinonimos de escolarizacion formal las organizaciones auxiliares como las editoriales de educacion las juntas examinadoras y las organizaciones de formacion de docentes se consideran extensiones de los acuerdos establecidos por los gobiernos este marco de comprension se ha vuelto cada vez mas inadecuado",
         "48"
        ],
        [
         "1",
         "Para los niños más pequeños (bebés y niños pequeños), la capacitación especializada y práctica parece estar más fuertemente asociada con la calidad pedagógica y los resultados cognitivos y sociales. Los educadores de la primera infancia se encuentran con entornos sociales cada vez más complejos y se encuentran con una multiplicidad de antecedentes y experiencias familiares. Estos factores crean imperativos para adoptar nuevas pedagogías y prácticas organizacionales para acomodar este pluralismo (Elliott, 2006).",
         "4",
         "72",
         "para los ninos mas pequenos bebes y ninos pequenos la capacitacion especializada y practica parece estar mas fuertemente asociada con la calidad pedagogica y los resultados cognitivos y sociales los educadores de la primera infancia se encuentran con entornos sociales cada vez mas complejos y se encuentran con una multiplicidad de antecedentes y experiencias familiares estos factores crean imperativos para adoptar nuevas pedagogias y practicas organizacionales para acomodar este pluralismo elliott",
         "71"
        ],
        [
         "2",
         "Además, la formación de especialistas en medicina general también incluye tareas que requieren un conocimiento más profundo de problemas comunes de salud pública, incluida la salud mental (Cuestionario de salud mental de la OCDE, 2013). Dado que no hay control en la atención primaria para limitar el acceso a los servicios de salud (mental) especializados, muchos pacientes que necesitan tratamiento (para trastornos mentales graves en particular) pueden buscar atención de nivel especializado directamente. Los servicios de especialistas en psiquiatría se brindan principalmente en las salas ambulatorias de psiquiatría ubicadas en los hospitales generales.",
         "3",
         "93",
         "ademas la formacion de especialistas en medicina general tambien incluye tareas que requieren un conocimiento mas profundo de problemas comunes de salud publica incluida la salud mental cuestionario de salud mental de la ocde dado que no hay control en la atencion primaria para limitar el acceso a los servicios de salud mental especializados muchos pacientes que necesitan tratamiento para trastornos mentales graves en particular pueden buscar atencion de nivel especializado directamente los servicios de especialistas en psiquiatria se brindan principalmente en las salas ambulatorias de psiquiatria ubicadas en los hospitales generales",
         "92"
        ],
        [
         "3",
         "En los países de la OCDE se tiende a pasar de los cursos obligatorios a los optativos, abiertos a estudiantes de distintas facultades y escuelas. Este planteamiento facilita la formación de equipos de estudiantes con distintas formaciones e intereses. El trabajo en equipos interdisciplinares permite a los individuos concentrarse en lo que mejor saben y les gusta y, al mismo tiempo, familiarizarse con nuevos conocimientos que pueden asociarse a una nueva forma de resolver un problema o crear un nuevo producto o servicio. No está claro hasta qué punto estos cursos utilizan métodos pedagógicos creativos y se adaptan a las necesidades de los estudiantes de grado, postgrado y licenciatura.",
         "4",
         "109",
         "en los paises de la ocde se tiende a pasar de los cursos obligatorios a los optativos abiertos a estudiantes de distintas facultades y escuelas este planteamiento facilita la formacion de equipos de estudiantes con distintas formaciones e intereses el trabajo en equipos interdisciplinares permite a los individuos concentrarse en lo que mejor saben y les gusta y al mismo tiempo familiarizarse con nuevos conocimientos que pueden asociarse a una nueva forma de resolver un problema o crear un nuevo producto o servicio no esta claro hasta que punto estos cursos utilizan metodos pedagogicos creativos y se adaptan a las necesidades de los estudiantes de grado postgrado y licenciatura",
         "109"
        ],
        [
         "4",
         "Este grupo se centró en las personas que padecen trastornos mentales con comorbilidad de abuso de sustancias (mientras que la demencia, la discapacidad intelectual y el abuso de sustancias por sà solos quedaron excluidos del ámbito de análisis). Con 90 millones de euros de financiación, la comisión dispuso de tres años para \"iniciar y apoyar el desarrollo de proyectos a todos los niveles (tratamiento médico, mejora de los servicios, proyectos de vivienda, mejoras legislativas y organizativas) y proponer las medidas necesarias para elevar de forma permanente el nivel de los servicios de salud mental\". ",
         "3",
         "94",
         "este grupo se centro en las personas que padecen trastornos mentales con comorbilidad de abuso de sustancias mientras que la demencia la discapacidad intelectual y el abuso de sustancias por sa solos quedaron excluidos del ambito de analisis con millones de euros de financiacion la comision dispuso de tres anos para iniciar y apoyar el desarrollo de proyectos a todos los niveles tratamiento medico mejora de los servicios proyectos de vivienda mejoras legislativas y organizativas y proponer las medidas necesarias para elevar de forma permanente el nivel de los servicios de salud mental",
         "93"
        ]
       ],
       "shape": {
        "columns": 5,
        "rows": 5
       }
      },
      "text/html": [
       "<div>\n",
       "<style scoped>\n",
       "    .dataframe tbody tr th:only-of-type {\n",
       "        vertical-align: middle;\n",
       "    }\n",
       "\n",
       "    .dataframe tbody tr th {\n",
       "        vertical-align: top;\n",
       "    }\n",
       "\n",
       "    .dataframe thead th {\n",
       "        text-align: right;\n",
       "    }\n",
       "</style>\n",
       "<table border=\"1\" class=\"dataframe\">\n",
       "  <thead>\n",
       "    <tr style=\"text-align: right;\">\n",
       "      <th></th>\n",
       "      <th>textos</th>\n",
       "      <th>labels</th>\n",
       "      <th>longitud</th>\n",
       "      <th>textos_limpios</th>\n",
       "      <th>longitud_actualizada</th>\n",
       "    </tr>\n",
       "  </thead>\n",
       "  <tbody>\n",
       "    <tr>\n",
       "      <th>0</th>\n",
       "      <td>\"Aprendizaje\" y \"educación\" se consideran sinó...</td>\n",
       "      <td>4</td>\n",
       "      <td>48</td>\n",
       "      <td>aprendizaje y educacion se consideran sinonimo...</td>\n",
       "      <td>48</td>\n",
       "    </tr>\n",
       "    <tr>\n",
       "      <th>1</th>\n",
       "      <td>Para los niños más pequeños (bebés y niños peq...</td>\n",
       "      <td>4</td>\n",
       "      <td>72</td>\n",
       "      <td>para los ninos mas pequenos bebes y ninos pequ...</td>\n",
       "      <td>71</td>\n",
       "    </tr>\n",
       "    <tr>\n",
       "      <th>2</th>\n",
       "      <td>Además, la formación de especialistas en medic...</td>\n",
       "      <td>3</td>\n",
       "      <td>93</td>\n",
       "      <td>ademas la formacion de especialistas en medici...</td>\n",
       "      <td>92</td>\n",
       "    </tr>\n",
       "    <tr>\n",
       "      <th>3</th>\n",
       "      <td>En los países de la OCDE se tiende a pasar de ...</td>\n",
       "      <td>4</td>\n",
       "      <td>109</td>\n",
       "      <td>en los paises de la ocde se tiende a pasar de ...</td>\n",
       "      <td>109</td>\n",
       "    </tr>\n",
       "    <tr>\n",
       "      <th>4</th>\n",
       "      <td>Este grupo se centró en las personas que padec...</td>\n",
       "      <td>3</td>\n",
       "      <td>94</td>\n",
       "      <td>este grupo se centro en las personas que padec...</td>\n",
       "      <td>93</td>\n",
       "    </tr>\n",
       "  </tbody>\n",
       "</table>\n",
       "</div>"
      ],
      "text/plain": [
       "                                              textos  labels  longitud  \\\n",
       "0  \"Aprendizaje\" y \"educación\" se consideran sinó...       4        48   \n",
       "1  Para los niños más pequeños (bebés y niños peq...       4        72   \n",
       "2  Además, la formación de especialistas en medic...       3        93   \n",
       "3  En los países de la OCDE se tiende a pasar de ...       4       109   \n",
       "4  Este grupo se centró en las personas que padec...       3        94   \n",
       "\n",
       "                                      textos_limpios  longitud_actualizada  \n",
       "0  aprendizaje y educacion se consideran sinonimo...                    48  \n",
       "1  para los ninos mas pequenos bebes y ninos pequ...                    71  \n",
       "2  ademas la formacion de especialistas en medici...                    92  \n",
       "3  en los paises de la ocde se tiende a pasar de ...                   109  \n",
       "4  este grupo se centro en las personas que padec...                    93  "
      ]
     },
     "execution_count": 40,
     "metadata": {},
     "output_type": "execute_result"
    }
   ],
   "source": [
    "def quitar_acentos(texto):\n",
    "    texto = unicodedata.normalize('NFD', texto)\n",
    "    texto = ''.join(c for c in texto if unicodedata.category(c) != 'Mn')\n",
    "    return texto\n",
    "\n",
    "def limpiar_texto(texto):\n",
    "    if pd.isna(texto):\n",
    "        return \"\"\n",
    "    texto = str(texto).lower()\n",
    "    texto = quitar_acentos(texto)\n",
    "    texto = re.sub(r\"http\\S+|www\\.\\S+\", \" \", texto)\n",
    "    texto = re.sub(r\"[^a-zñáéíóúü\\s]\", \" \", texto)\n",
    "    texto = re.sub(r\"\\s+\", \" \", texto).strip()\n",
    "    palabras = [p for p in texto.split()]\n",
    "    return \" \".join(palabras)\n",
    "\n",
    "df['textos_limpios'] = df['textos'].apply(limpiar_texto)\n",
    "df['longitud_actualizada'] = df['textos_limpios'].astype(str).apply(lambda x: len(x.split()))\n",
    "df.head()"
   ]
  },
  {
   "cell_type": "markdown",
   "id": "2d32cb9a",
   "metadata": {},
   "source": [
    "Si bien en el caso de ejemplo no tuvimos ningun valor nulo o duplicado vamos a asegurarnos que en el dataframe que pase por este codigo no tenga valores nulos o duplicados"
   ]
  },
  {
   "cell_type": "code",
   "execution_count": 42,
   "id": "65cb219e",
   "metadata": {},
   "outputs": [
    {
     "name": "stdout",
     "output_type": "stream",
     "text": [
      "Número de filas antes de limpieza: 2424\n",
      "Número de filas después de limpieza: 2424\n"
     ]
    }
   ],
   "source": [
    "print(\"Número de filas antes de limpieza:\", df.shape[0])\n",
    "\n",
    "f = df.dropna(subset=['textos', 'labels'])\n",
    "df = df.drop_duplicates(subset=['textos'])\n",
    "df = df.reset_index(drop=True)\n",
    "\n",
    "print(\"Número de filas después de limpieza:\", df.shape[0])"
   ]
  },
  {
   "cell_type": "code",
   "execution_count": 43,
   "id": "f327fd26",
   "metadata": {},
   "outputs": [
    {
     "data": {
      "application/vnd.microsoft.datawrangler.viewer.v0+json": {
       "columns": [
        {
         "name": "labels",
         "rawType": "int64",
         "type": "integer"
        },
        {
         "name": "proporcion",
         "rawType": "float64",
         "type": "float"
        }
       ],
       "ref": "166e3339-d6f0-4181-8674-eb4a025349a6",
       "rows": [
        [
         "4",
         "0.4228547854785479"
        ],
        [
         "3",
         "0.3688118811881188"
        ],
        [
         "1",
         "0.20833333333333334"
        ]
       ],
       "shape": {
        "columns": 1,
        "rows": 3
       }
      },
      "text/html": [
       "<div>\n",
       "<style scoped>\n",
       "    .dataframe tbody tr th:only-of-type {\n",
       "        vertical-align: middle;\n",
       "    }\n",
       "\n",
       "    .dataframe tbody tr th {\n",
       "        vertical-align: top;\n",
       "    }\n",
       "\n",
       "    .dataframe thead th {\n",
       "        text-align: right;\n",
       "    }\n",
       "</style>\n",
       "<table border=\"1\" class=\"dataframe\">\n",
       "  <thead>\n",
       "    <tr style=\"text-align: right;\">\n",
       "      <th></th>\n",
       "      <th>proporcion</th>\n",
       "    </tr>\n",
       "    <tr>\n",
       "      <th>labels</th>\n",
       "      <th></th>\n",
       "    </tr>\n",
       "  </thead>\n",
       "  <tbody>\n",
       "    <tr>\n",
       "      <th>4</th>\n",
       "      <td>0.422855</td>\n",
       "    </tr>\n",
       "    <tr>\n",
       "      <th>3</th>\n",
       "      <td>0.368812</td>\n",
       "    </tr>\n",
       "    <tr>\n",
       "      <th>1</th>\n",
       "      <td>0.208333</td>\n",
       "    </tr>\n",
       "  </tbody>\n",
       "</table>\n",
       "</div>"
      ],
      "text/plain": [
       "        proporcion\n",
       "labels            \n",
       "4         0.422855\n",
       "3         0.368812\n",
       "1         0.208333"
      ]
     },
     "metadata": {},
     "output_type": "display_data"
    }
   ],
   "source": [
    "ratio = counts / counts.sum()\n",
    "display(ratio.to_frame('proporcion'))"
   ]
  }
 ],
 "metadata": {
  "kernelspec": {
   "display_name": "BI",
   "language": "python",
   "name": "python3"
  },
  "language_info": {
   "codemirror_mode": {
    "name": "ipython",
    "version": 3
   },
   "file_extension": ".py",
   "mimetype": "text/x-python",
   "name": "python",
   "nbconvert_exporter": "python",
   "pygments_lexer": "ipython3",
   "version": "3.12.11"
  }
 },
 "nbformat": 4,
 "nbformat_minor": 5
}
