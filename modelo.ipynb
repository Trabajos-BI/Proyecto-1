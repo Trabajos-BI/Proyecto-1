{
 "cells": [
  {
   "cell_type": "markdown",
   "id": "0c5b6743",
   "metadata": {},
   "source": [
    "# Proyecto entrega 1"
   ]
  },
  {
   "cell_type": "markdown",
   "id": "01a015f3",
   "metadata": {},
   "source": [
    "### Integrantes\n",
    "* Santiago Gomez\n",
    "* Sebastian Martinez\n",
    "* Johan Suarez\n",
    "\n",
    "### Grupo\n",
    "36"
   ]
  },
  {
   "cell_type": "markdown",
   "id": "67e4c10e",
   "metadata": {},
   "source": [
    "## Carga de datos"
   ]
  },
  {
   "cell_type": "code",
   "execution_count": 36,
   "id": "54930e8d",
   "metadata": {},
   "outputs": [
    {
     "name": "stdout",
     "output_type": "stream",
     "text": [
      "Defaulting to user installation because normal site-packages is not writeable\n",
      "Requirement already satisfied: spacy<3.9,>=3.8 in c:\\users\\sebastian\\appdata\\roaming\\python\\python313\\site-packages (3.8.7)\n",
      "Requirement already satisfied: spacy-legacy<3.1.0,>=3.0.11 in c:\\users\\sebastian\\appdata\\roaming\\python\\python313\\site-packages (from spacy<3.9,>=3.8) (3.0.12)\n",
      "Requirement already satisfied: spacy-loggers<2.0.0,>=1.0.0 in c:\\users\\sebastian\\appdata\\roaming\\python\\python313\\site-packages (from spacy<3.9,>=3.8) (1.0.5)\n",
      "Requirement already satisfied: murmurhash<1.1.0,>=0.28.0 in c:\\users\\sebastian\\appdata\\roaming\\python\\python313\\site-packages (from spacy<3.9,>=3.8) (1.0.13)\n",
      "Requirement already satisfied: cymem<2.1.0,>=2.0.2 in c:\\users\\sebastian\\appdata\\roaming\\python\\python313\\site-packages (from spacy<3.9,>=3.8) (2.0.11)\n",
      "Requirement already satisfied: preshed<3.1.0,>=3.0.2 in c:\\users\\sebastian\\appdata\\roaming\\python\\python313\\site-packages (from spacy<3.9,>=3.8) (3.0.10)\n",
      "Requirement already satisfied: thinc<8.4.0,>=8.3.4 in c:\\users\\sebastian\\appdata\\roaming\\python\\python313\\site-packages (from spacy<3.9,>=3.8) (8.3.6)\n",
      "Requirement already satisfied: wasabi<1.2.0,>=0.9.1 in c:\\users\\sebastian\\appdata\\roaming\\python\\python313\\site-packages (from spacy<3.9,>=3.8) (1.1.3)\n",
      "Requirement already satisfied: srsly<3.0.0,>=2.4.3 in c:\\users\\sebastian\\appdata\\roaming\\python\\python313\\site-packages (from spacy<3.9,>=3.8) (2.5.1)\n",
      "Requirement already satisfied: catalogue<2.1.0,>=2.0.6 in c:\\users\\sebastian\\appdata\\roaming\\python\\python313\\site-packages (from spacy<3.9,>=3.8) (2.0.10)\n",
      "Requirement already satisfied: weasel<0.5.0,>=0.1.0 in c:\\users\\sebastian\\appdata\\roaming\\python\\python313\\site-packages (from spacy<3.9,>=3.8) (0.4.1)\n",
      "Requirement already satisfied: typer<1.0.0,>=0.3.0 in c:\\users\\sebastian\\appdata\\roaming\\python\\python313\\site-packages (from spacy<3.9,>=3.8) (0.17.4)\n",
      "Requirement already satisfied: tqdm<5.0.0,>=4.38.0 in c:\\users\\sebastian\\appdata\\roaming\\python\\python313\\site-packages (from spacy<3.9,>=3.8) (4.67.1)\n",
      "Requirement already satisfied: numpy>=1.19.0 in c:\\users\\sebastian\\appdata\\roaming\\python\\python313\\site-packages (from spacy<3.9,>=3.8) (2.3.0)\n",
      "Requirement already satisfied: requests<3.0.0,>=2.13.0 in c:\\users\\sebastian\\appdata\\roaming\\python\\python313\\site-packages (from spacy<3.9,>=3.8) (2.32.4)\n",
      "Requirement already satisfied: pydantic!=1.8,!=1.8.1,<3.0.0,>=1.7.4 in c:\\users\\sebastian\\appdata\\roaming\\python\\python313\\site-packages (from spacy<3.9,>=3.8) (2.11.5)\n",
      "Requirement already satisfied: jinja2 in c:\\users\\sebastian\\appdata\\roaming\\python\\python313\\site-packages (from spacy<3.9,>=3.8) (3.1.6)\n",
      "Requirement already satisfied: setuptools in c:\\users\\sebastian\\appdata\\roaming\\python\\python313\\site-packages (from spacy<3.9,>=3.8) (80.9.0)\n",
      "Requirement already satisfied: packaging>=20.0 in c:\\users\\sebastian\\appdata\\roaming\\python\\python313\\site-packages (from spacy<3.9,>=3.8) (25.0)\n",
      "Requirement already satisfied: langcodes<4.0.0,>=3.2.0 in c:\\users\\sebastian\\appdata\\roaming\\python\\python313\\site-packages (from spacy<3.9,>=3.8) (3.5.0)\n",
      "Requirement already satisfied: language-data>=1.2 in c:\\users\\sebastian\\appdata\\roaming\\python\\python313\\site-packages (from langcodes<4.0.0,>=3.2.0->spacy<3.9,>=3.8) (1.3.0)\n",
      "Requirement already satisfied: annotated-types>=0.6.0 in c:\\users\\sebastian\\appdata\\roaming\\python\\python313\\site-packages (from pydantic!=1.8,!=1.8.1,<3.0.0,>=1.7.4->spacy<3.9,>=3.8) (0.7.0)\n",
      "Requirement already satisfied: pydantic-core==2.33.2 in c:\\users\\sebastian\\appdata\\roaming\\python\\python313\\site-packages (from pydantic!=1.8,!=1.8.1,<3.0.0,>=1.7.4->spacy<3.9,>=3.8) (2.33.2)\n",
      "Requirement already satisfied: typing-extensions>=4.12.2 in c:\\users\\sebastian\\appdata\\roaming\\python\\python313\\site-packages (from pydantic!=1.8,!=1.8.1,<3.0.0,>=1.7.4->spacy<3.9,>=3.8) (4.14.0)\n",
      "Requirement already satisfied: typing-inspection>=0.4.0 in c:\\users\\sebastian\\appdata\\roaming\\python\\python313\\site-packages (from pydantic!=1.8,!=1.8.1,<3.0.0,>=1.7.4->spacy<3.9,>=3.8) (0.4.1)\n",
      "Requirement already satisfied: charset_normalizer<4,>=2 in c:\\users\\sebastian\\appdata\\roaming\\python\\python313\\site-packages (from requests<3.0.0,>=2.13.0->spacy<3.9,>=3.8) (3.4.2)\n",
      "Requirement already satisfied: idna<4,>=2.5 in c:\\users\\sebastian\\appdata\\roaming\\python\\python313\\site-packages (from requests<3.0.0,>=2.13.0->spacy<3.9,>=3.8) (3.10)\n",
      "Requirement already satisfied: urllib3<3,>=1.21.1 in c:\\users\\sebastian\\appdata\\roaming\\python\\python313\\site-packages (from requests<3.0.0,>=2.13.0->spacy<3.9,>=3.8) (2.5.0)\n",
      "Requirement already satisfied: certifi>=2017.4.17 in c:\\users\\sebastian\\appdata\\roaming\\python\\python313\\site-packages (from requests<3.0.0,>=2.13.0->spacy<3.9,>=3.8) (2025.4.26)\n",
      "Requirement already satisfied: blis<1.4.0,>=1.3.0 in c:\\users\\sebastian\\appdata\\roaming\\python\\python313\\site-packages (from thinc<8.4.0,>=8.3.4->spacy<3.9,>=3.8) (1.3.0)\n",
      "Requirement already satisfied: confection<1.0.0,>=0.0.1 in c:\\users\\sebastian\\appdata\\roaming\\python\\python313\\site-packages (from thinc<8.4.0,>=8.3.4->spacy<3.9,>=3.8) (0.1.5)\n",
      "Requirement already satisfied: colorama in c:\\users\\sebastian\\appdata\\roaming\\python\\python313\\site-packages (from tqdm<5.0.0,>=4.38.0->spacy<3.9,>=3.8) (0.4.6)\n",
      "Requirement already satisfied: click>=8.0.0 in c:\\users\\sebastian\\appdata\\roaming\\python\\python313\\site-packages (from typer<1.0.0,>=0.3.0->spacy<3.9,>=3.8) (8.2.1)\n",
      "Requirement already satisfied: shellingham>=1.3.0 in c:\\users\\sebastian\\appdata\\roaming\\python\\python313\\site-packages (from typer<1.0.0,>=0.3.0->spacy<3.9,>=3.8) (1.5.4)\n",
      "Requirement already satisfied: rich>=10.11.0 in c:\\users\\sebastian\\appdata\\roaming\\python\\python313\\site-packages (from typer<1.0.0,>=0.3.0->spacy<3.9,>=3.8) (14.1.0)\n",
      "Requirement already satisfied: cloudpathlib<1.0.0,>=0.7.0 in c:\\users\\sebastian\\appdata\\roaming\\python\\python313\\site-packages (from weasel<0.5.0,>=0.1.0->spacy<3.9,>=3.8) (0.22.0)\n",
      "Requirement already satisfied: smart-open<8.0.0,>=5.2.1 in c:\\users\\sebastian\\appdata\\roaming\\python\\python313\\site-packages (from weasel<0.5.0,>=0.1.0->spacy<3.9,>=3.8) (7.3.1)\n",
      "Requirement already satisfied: wrapt in c:\\users\\sebastian\\appdata\\roaming\\python\\python313\\site-packages (from smart-open<8.0.0,>=5.2.1->weasel<0.5.0,>=0.1.0->spacy<3.9,>=3.8) (1.17.3)\n",
      "Requirement already satisfied: marisa-trie>=1.1.0 in c:\\users\\sebastian\\appdata\\roaming\\python\\python313\\site-packages (from language-data>=1.2->langcodes<4.0.0,>=3.2.0->spacy<3.9,>=3.8) (1.3.1)\n",
      "Requirement already satisfied: markdown-it-py>=2.2.0 in c:\\users\\sebastian\\appdata\\roaming\\python\\python313\\site-packages (from rich>=10.11.0->typer<1.0.0,>=0.3.0->spacy<3.9,>=3.8) (4.0.0)\n",
      "Requirement already satisfied: pygments<3.0.0,>=2.13.0 in c:\\users\\sebastian\\appdata\\roaming\\python\\python313\\site-packages (from rich>=10.11.0->typer<1.0.0,>=0.3.0->spacy<3.9,>=3.8) (2.19.1)\n",
      "Requirement already satisfied: mdurl~=0.1 in c:\\users\\sebastian\\appdata\\roaming\\python\\python313\\site-packages (from markdown-it-py>=2.2.0->rich>=10.11.0->typer<1.0.0,>=0.3.0->spacy<3.9,>=3.8) (0.1.2)\n",
      "Requirement already satisfied: MarkupSafe>=2.0 in c:\\users\\sebastian\\appdata\\roaming\\python\\python313\\site-packages (from jinja2->spacy<3.9,>=3.8) (3.0.2)\n",
      "Note: you may need to restart the kernel to use updated packages.\n"
     ]
    },
    {
     "name": "stderr",
     "output_type": "stream",
     "text": [
      "\n",
      "[notice] A new release of pip is available: 25.1.1 -> 25.2\n",
      "[notice] To update, run: python.exe -m pip install --upgrade pip\n"
     ]
    },
    {
     "name": "stdout",
     "output_type": "stream",
     "text": [
      "Defaulting to user installation because normal site-packages is not writeable\n",
      "Processing c:\\users\\sebastian\\onedrive\\escritorio\\uni\\bi\\proyectos\\p1\\es_core_news_sm-3.8.0-py3-none-any.whl\n",
      "es-core-news-sm is already installed with the same version as the provided wheel. Use --force-reinstall to force an installation of the wheel.\n",
      "Note: you may need to restart the kernel to use updated packages.\n"
     ]
    },
    {
     "name": "stderr",
     "output_type": "stream",
     "text": [
      "\n",
      "[notice] A new release of pip is available: 25.1.1 -> 25.2\n",
      "[notice] To update, run: python.exe -m pip install --upgrade pip\n"
     ]
    },
    {
     "name": "stdout",
     "output_type": "stream",
     "text": [
      "Defaulting to user installation because normal site-packages is not writeable\n",
      "Requirement already satisfied: openpyxl in c:\\users\\sebastian\\appdata\\roaming\\python\\python313\\site-packages (3.1.5)\n",
      "Requirement already satisfied: et-xmlfile in c:\\users\\sebastian\\appdata\\roaming\\python\\python313\\site-packages (from openpyxl) (2.0.0)\n",
      "Note: you may need to restart the kernel to use updated packages.\n"
     ]
    },
    {
     "name": "stderr",
     "output_type": "stream",
     "text": [
      "\n",
      "[notice] A new release of pip is available: 25.1.1 -> 25.2\n",
      "[notice] To update, run: python.exe -m pip install --upgrade pip\n"
     ]
    }
   ],
   "source": [
    "%pip install -U \"spacy>=3.8,<3.9\"\n",
    "%pip install \"./es_core_news_sm-3.8.0-py3-none-any.whl\" \n",
    "%pip install openpyxl"
   ]
  },
  {
   "cell_type": "code",
   "execution_count": 37,
   "id": "fcc893ce",
   "metadata": {},
   "outputs": [
    {
     "name": "stdout",
     "output_type": "stream",
     "text": [
      "<class 'pandas.core.frame.DataFrame'>\n",
      "RangeIndex: 2424 entries, 0 to 2423\n",
      "Data columns (total 2 columns):\n",
      " #   Column  Non-Null Count  Dtype \n",
      "---  ------  --------------  ----- \n",
      " 0   textos  2424 non-null   object\n",
      " 1   labels  2424 non-null   int64 \n",
      "dtypes: int64(1), object(1)\n",
      "memory usage: 38.0+ KB\n",
      "Categorías encontradas: [4 3 1]\n"
     ]
    }
   ],
   "source": [
    "import pandas as pd\n",
    "import matplotlib.pyplot as plt\n",
    "import spacy\n",
    "from sklearn.feature_extraction.text import TfidfVectorizer\n",
    "from sklearn.model_selection import train_test_split\n",
    "from sklearn.metrics import (\n",
    "    accuracy_score, classification_report, confusion_matrix, ConfusionMatrixDisplay,\n",
    "    roc_auc_score, RocCurveDisplay\n",
    ")\n",
    "from sklearn.preprocessing import StandardScaler\n",
    "from sklearn.pipeline import Pipeline\n",
    "from sklearn.neighbors import KNeighborsClassifier\n",
    "import numpy as np\n",
    "\n",
    "vectorizer = TfidfVectorizer()\n",
    "nlp = spacy.load(\"es_core_news_sm\")\n",
    "dfOriginal = pd.read_excel('Datos_proyecto.xlsx')\n",
    "dfOriginal.info()\n",
    "target_names = dfOriginal['labels'].unique()\n",
    "print(\"Categorías encontradas:\", target_names)\n"
   ]
  },
  {
   "cell_type": "markdown",
   "id": "08b52144",
   "metadata": {},
   "source": [
    "## Exploración del texto"
   ]
  },
  {
   "cell_type": "markdown",
   "id": "9acf64d6",
   "metadata": {},
   "source": [
    "Principalmente observemos el formato inicial del dataset, con especial enfasis en la columna de textos"
   ]
  },
  {
   "cell_type": "code",
   "execution_count": 38,
   "id": "8a1a5e1b",
   "metadata": {},
   "outputs": [
    {
     "name": "stdout",
     "output_type": "stream",
     "text": [
      "<class 'pandas.core.frame.DataFrame'>\n",
      "RangeIndex: 2424 entries, 0 to 2423\n",
      "Data columns (total 2 columns):\n",
      " #   Column  Non-Null Count  Dtype \n",
      "---  ------  --------------  ----- \n",
      " 0   textos  2424 non-null   string\n",
      " 1   labels  2424 non-null   int64 \n",
      "dtypes: int64(1), string(1)\n",
      "memory usage: 38.0 KB\n"
     ]
    }
   ],
   "source": [
    "target_names =  {1:'ODS 1',3:'ODS 3',4:'ODS 4'}\n",
    "dfOriginal.head()\n",
    "df = dfOriginal.copy()\n",
    "df['textos'] = df['textos'].astype(\"string\")\n",
    "df.info()"
   ]
  },
  {
   "cell_type": "markdown",
   "id": "b3c3a5bb",
   "metadata": {},
   "source": [
    "### Exploracion de longitudes de los textos presentados en el dataset"
   ]
  },
  {
   "cell_type": "code",
   "execution_count": 39,
   "id": "3c04fcca",
   "metadata": {},
   "outputs": [
    {
     "data": {
      "application/vnd.microsoft.datawrangler.viewer.v0+json": {
       "columns": [
        {
         "name": "index",
         "rawType": "int64",
         "type": "integer"
        },
        {
         "name": "textos",
         "rawType": "string",
         "type": "string"
        },
        {
         "name": "labels",
         "rawType": "int64",
         "type": "integer"
        },
        {
         "name": "Conteo",
         "rawType": "int64",
         "type": "integer"
        },
        {
         "name": "Max",
         "rawType": "int64",
         "type": "integer"
        },
        {
         "name": "Min",
         "rawType": "int64",
         "type": "integer"
        }
       ],
       "ref": "db0fd20c-138b-4ba2-9ab4-1135ba6850a9",
       "rows": [
        [
         "0",
         "\"Aprendizaje\" y \"educación\" se consideran sinónimos de escolarización formal. Las organizaciones auxiliares, como las editoriales de educación, las juntas examinadoras y las organizaciones de formación de docentes, se consideran extensiones de los acuerdos establecidos por los gobiernos. Este marco de comprensión se ha vuelto cada vez más inadecuado.",
         "4",
         "352",
         "14",
         "1"
        ],
        [
         "1",
         "Para los niños más pequeños (bebés y niños pequeños), la capacitación especializada y práctica parece estar más fuertemente asociada con la calidad pedagógica y los resultados cognitivos y sociales. Los educadores de la primera infancia se encuentran con entornos sociales cada vez más complejos y se encuentran con una multiplicidad de antecedentes y experiencias familiares. Estos factores crean imperativos para adoptar nuevas pedagogías y prácticas organizacionales para acomodar este pluralismo (Elliott, 2006).",
         "4",
         "516",
         "16",
         "1"
        ],
        [
         "2",
         "Además, la formación de especialistas en medicina general también incluye tareas que requieren un conocimiento más profundo de problemas comunes de salud pública, incluida la salud mental (Cuestionario de salud mental de la OCDE, 2013). Dado que no hay control en la atención primaria para limitar el acceso a los servicios de salud (mental) especializados, muchos pacientes que necesitan tratamiento (para trastornos mentales graves en particular) pueden buscar atención de nivel especializado directamente. Los servicios de especialistas en psiquiatría se brindan principalmente en las salas ambulatorias de psiquiatría ubicadas en los hospitales generales.",
         "3",
         "659",
         "15",
         "1"
        ],
        [
         "3",
         "En los países de la OCDE se tiende a pasar de los cursos obligatorios a los optativos, abiertos a estudiantes de distintas facultades y escuelas. Este planteamiento facilita la formación de equipos de estudiantes con distintas formaciones e intereses. El trabajo en equipos interdisciplinares permite a los individuos concentrarse en lo que mejor saben y les gusta y, al mismo tiempo, familiarizarse con nuevos conocimientos que pueden asociarse a una nueva forma de resolver un problema o crear un nuevo producto o servicio. No está claro hasta qué punto estos cursos utilizan métodos pedagógicos creativos y se adaptan a las necesidades de los estudiantes de grado, postgrado y licenciatura.",
         "4",
         "693",
         "18",
         "1"
        ],
        [
         "4",
         "Este grupo se centró en las personas que padecen trastornos mentales con comorbilidad de abuso de sustancias (mientras que la demencia, la discapacidad intelectual y el abuso de sustancias por sà solos quedaron excluidos del ámbito de análisis). Con 90 millones de euros de financiación, la comisión dispuso de tres años para \"iniciar y apoyar el desarrollo de proyectos a todos los niveles (tratamiento médico, mejora de los servicios, proyectos de vivienda, mejoras legislativas y organizativas) y proponer las medidas necesarias para elevar de forma permanente el nivel de los servicios de salud mental\". ",
         "3",
         "608",
         "14",
         "0"
        ]
       ],
       "shape": {
        "columns": 5,
        "rows": 5
       }
      },
      "text/html": [
       "<div>\n",
       "<style scoped>\n",
       "    .dataframe tbody tr th:only-of-type {\n",
       "        vertical-align: middle;\n",
       "    }\n",
       "\n",
       "    .dataframe tbody tr th {\n",
       "        vertical-align: top;\n",
       "    }\n",
       "\n",
       "    .dataframe thead th {\n",
       "        text-align: right;\n",
       "    }\n",
       "</style>\n",
       "<table border=\"1\" class=\"dataframe\">\n",
       "  <thead>\n",
       "    <tr style=\"text-align: right;\">\n",
       "      <th></th>\n",
       "      <th>textos</th>\n",
       "      <th>labels</th>\n",
       "      <th>Conteo</th>\n",
       "      <th>Max</th>\n",
       "      <th>Min</th>\n",
       "    </tr>\n",
       "  </thead>\n",
       "  <tbody>\n",
       "    <tr>\n",
       "      <th>0</th>\n",
       "      <td>\"Aprendizaje\" y \"educación\" se consideran sinó...</td>\n",
       "      <td>4</td>\n",
       "      <td>352</td>\n",
       "      <td>14</td>\n",
       "      <td>1</td>\n",
       "    </tr>\n",
       "    <tr>\n",
       "      <th>1</th>\n",
       "      <td>Para los niños más pequeños (bebés y niños peq...</td>\n",
       "      <td>4</td>\n",
       "      <td>516</td>\n",
       "      <td>16</td>\n",
       "      <td>1</td>\n",
       "    </tr>\n",
       "    <tr>\n",
       "      <th>2</th>\n",
       "      <td>Además, la formación de especialistas en medic...</td>\n",
       "      <td>3</td>\n",
       "      <td>659</td>\n",
       "      <td>15</td>\n",
       "      <td>1</td>\n",
       "    </tr>\n",
       "    <tr>\n",
       "      <th>3</th>\n",
       "      <td>En los países de la OCDE se tiende a pasar de ...</td>\n",
       "      <td>4</td>\n",
       "      <td>693</td>\n",
       "      <td>18</td>\n",
       "      <td>1</td>\n",
       "    </tr>\n",
       "    <tr>\n",
       "      <th>4</th>\n",
       "      <td>Este grupo se centró en las personas que padec...</td>\n",
       "      <td>3</td>\n",
       "      <td>608</td>\n",
       "      <td>14</td>\n",
       "      <td>0</td>\n",
       "    </tr>\n",
       "  </tbody>\n",
       "</table>\n",
       "</div>"
      ],
      "text/plain": [
       "                                              textos  labels  Conteo  Max  Min\n",
       "0  \"Aprendizaje\" y \"educación\" se consideran sinó...       4     352   14    1\n",
       "1  Para los niños más pequeños (bebés y niños peq...       4     516   16    1\n",
       "2  Además, la formación de especialistas en medic...       3     659   15    1\n",
       "3  En los países de la OCDE se tiende a pasar de ...       4     693   18    1\n",
       "4  Este grupo se centró en las personas que padec...       3     608   14    0"
      ]
     },
     "execution_count": 39,
     "metadata": {},
     "output_type": "execute_result"
    }
   ],
   "source": [
    "def columnasConteo(df : pd.DataFrame):\n",
    "    df['Conteo'] = [len(x) for x in df['textos']]\n",
    "    df['Max'] = [[max([len(x) for x in i.split(' ')])][0] for i in df['textos']]\n",
    "    df['Min'] = [[min([len(x) for x in i.split(' ')])][0] for i in df['textos']]\n",
    "columnasConteo(df)\n",
    "df.head()"
   ]
  },
  {
   "cell_type": "markdown",
   "id": "df8e7fc7",
   "metadata": {},
   "source": [
    "Veamos ahora los maximos, minimos y promedio de la longitud de los textos del dataset"
   ]
  },
  {
   "cell_type": "code",
   "execution_count": 40,
   "id": "dc4abf7b",
   "metadata": {},
   "outputs": [],
   "source": [
    "def longitud(df: pd.DataFrame):\n",
    "    maximo = df['Conteo'].max()\n",
    "    minimo = df['Conteo'].min()\n",
    "    promedio = int(df['Conteo'].mean())\n",
    "    print(f'El maximo de longitud es: {maximo}')\n",
    "    print(f'El minimo de longitud es: {minimo}')\n",
    "    print(f'El promedio de longitud es: {promedio:.2f}')\n",
    "    return maximo, minimo, promedio"
   ]
  },
  {
   "cell_type": "code",
   "execution_count": 41,
   "id": "691cd6d3",
   "metadata": {},
   "outputs": [
    {
     "name": "stdout",
     "output_type": "stream",
     "text": [
      "El maximo de longitud es: 1492\n",
      "El minimo de longitud es: 303\n",
      "El promedio de longitud es: 683.00\n"
     ]
    },
    {
     "data": {
      "image/png": "[encoded data removed]",
      "text/plain": [
       "<Figure size 1000x600 with 1 Axes>"
      ]
     },
     "metadata": {},
     "output_type": "display_data"
    }
   ],
   "source": [
    "maximo, minimo, promedio = longitud(df)\n",
    "plt.figure(figsize=(10,6))\n",
    "plt.bar(['Maximo', 'Minimo', 'Promedio'], [maximo, minimo, promedio], color=['red', 'green', 'blue'])\n",
    "plt.title('Estadísticas de Longitud de Textos')\n",
    "plt.ylabel('Número de Palabras')\n",
    "plt.show()\n"
   ]
  },
  {
   "cell_type": "markdown",
   "id": "adef7909",
   "metadata": {},
   "source": [
    "### Distribucion de la longitud"
   ]
  },
  {
   "cell_type": "code",
   "execution_count": 42,
   "id": "b443a5de",
   "metadata": {},
   "outputs": [
    {
     "data": {
      "image/png": "[encoded data removed]",
      "text/plain": [
       "<Figure size 1000x600 with 1 Axes>"
      ]
     },
     "metadata": {},
     "output_type": "display_data"
    }
   ],
   "source": [
    "\n",
    "plt.figure(figsize=(10,6))\n",
    "plt.hist(df['Conteo'], bins=30, color='skyblue', edgecolor='black')\n",
    "plt.title('Distribución de la Longitud de Textos')\n",
    "plt.xlabel('Longitud (Número de Palabras)')\n",
    "plt.ylabel('Frecuencia')\n",
    "plt.grid(axis='y', alpha=0.75)\n",
    "plt.show()"
   ]
  },
  {
   "cell_type": "code",
   "execution_count": 43,
   "id": "12e893cb",
   "metadata": {},
   "outputs": [
    {
     "data": {
      "image/png": "[encoded data removed]",
      "text/plain": [
       "<Figure size 800x600 with 1 Axes>"
      ]
     },
     "metadata": {},
     "output_type": "display_data"
    }
   ],
   "source": [
    "#Boxplot\n",
    "plt.figure(figsize=(8,6))\n",
    "plt.boxplot(df['Conteo'], vert=False)\n",
    "plt.title('Boxplot de la Longitud de Textos')\n",
    "plt.xlabel('Número de Palabras')\n",
    "plt.grid(axis='x', alpha=0.75)\n",
    "plt.show()"
   ]
  },
  {
   "cell_type": "markdown",
   "id": "79d8c10e",
   "metadata": {},
   "source": [
    "### Presencia de catracteres especiales"
   ]
  },
  {
   "cell_type": "code",
   "execution_count": 44,
   "id": "eb8caf71",
   "metadata": {},
   "outputs": [],
   "source": [
    "def especiales(df : pd.DataFrame):\n",
    "    signos = r\"(?:[!¡¿?;:'\\\"]|\\.{3})\"\n",
    "    signosPresentes = df['textos'].str.contains(signos).sum()\n",
    "    print(f'La cantidad de textos con signos de puntuación es: {signosPresentes}')\n",
    "    print(f'El porcentaje de textos con signos de puntuación es: {signosPresentes/len(df)*100:.2f}%')\n",
    "    especiales = r\"(?:[@#$%^&*()_+=\\[\\]{}|\\\\<>/~`])\"\n",
    "    especialesPresentes = df['textos'].str.contains(especiales).sum()\n",
    "    print(f'La cantidad de textos con caracteres especiales es: {especialesPresentes}')\n",
    "    print(f'El porcentaje de textos con caracteres especiales es: {especialesPresentes/len(df)*100:.2f}%')\n",
    "    return signosPresentes, especialesPresentes\n"
   ]
  },
  {
   "cell_type": "code",
   "execution_count": 45,
   "id": "17ab7180",
   "metadata": {},
   "outputs": [
    {
     "name": "stdout",
     "output_type": "stream",
     "text": [
      "La cantidad de textos con signos de puntuación es: 596\n",
      "El porcentaje de textos con signos de puntuación es: 24.59%\n",
      "La cantidad de textos con caracteres especiales es: 1562\n",
      "El porcentaje de textos con caracteres especiales es: 64.44%\n"
     ]
    },
    {
     "data": {
      "image/png": "[encoded data removed]",
      "text/plain": [
       "<Figure size 800x600 with 1 Axes>"
      ]
     },
     "metadata": {},
     "output_type": "display_data"
    }
   ],
   "source": [
    "#Distribucion especiales\n",
    "size = df['textos'].size\n",
    "signosPresentes, especialesPresentes = especiales(df)\n",
    "plt.figure(figsize=(8,6))\n",
    "plt.pie([signosPresentes, especialesPresentes, size - signosPresentes - especialesPresentes], labels=['Signos de Puntuación', 'Caracteres Especiales', 'Otros'], autopct='%1.1f%%', colors=['orange', 'purple', 'lightgray'])\n",
    "plt.title('Proporción de Textos con Signos y Caracteres Especiales')\n",
    "plt.show()\n"
   ]
  },
  {
   "cell_type": "markdown",
   "id": "b95bdf29",
   "metadata": {},
   "source": [
    "### Distribucion de labels"
   ]
  },
  {
   "cell_type": "code",
   "execution_count": 46,
   "id": "96040b57",
   "metadata": {},
   "outputs": [
    {
     "data": {
      "application/vnd.microsoft.datawrangler.viewer.v0+json": {
       "columns": [
        {
         "name": "index",
         "rawType": "object",
         "type": "string"
        },
        {
         "name": "conteo",
         "rawType": "int64",
         "type": "integer"
        }
       ],
       "ref": "042c5d79-e7b0-48b2-a012-27c42335a517",
       "rows": [
        [
         "ODS 1",
         "505"
        ],
        [
         "ODS 3",
         "894"
        ],
        [
         "ODS 4",
         "1025"
        ]
       ],
       "shape": {
        "columns": 1,
        "rows": 3
       }
      },
      "text/html": [
       "<div>\n",
       "<style scoped>\n",
       "    .dataframe tbody tr th:only-of-type {\n",
       "        vertical-align: middle;\n",
       "    }\n",
       "\n",
       "    .dataframe tbody tr th {\n",
       "        vertical-align: top;\n",
       "    }\n",
       "\n",
       "    .dataframe thead th {\n",
       "        text-align: right;\n",
       "    }\n",
       "</style>\n",
       "<table border=\"1\" class=\"dataframe\">\n",
       "  <thead>\n",
       "    <tr style=\"text-align: right;\">\n",
       "      <th></th>\n",
       "      <th>conteo</th>\n",
       "    </tr>\n",
       "  </thead>\n",
       "  <tbody>\n",
       "    <tr>\n",
       "      <th>ODS 1</th>\n",
       "      <td>505</td>\n",
       "    </tr>\n",
       "    <tr>\n",
       "      <th>ODS 3</th>\n",
       "      <td>894</td>\n",
       "    </tr>\n",
       "    <tr>\n",
       "      <th>ODS 4</th>\n",
       "      <td>1025</td>\n",
       "    </tr>\n",
       "  </tbody>\n",
       "</table>\n",
       "</div>"
      ],
      "text/plain": [
       "       conteo\n",
       "ODS 1     505\n",
       "ODS 3     894\n",
       "ODS 4    1025"
      ]
     },
     "metadata": {},
     "output_type": "display_data"
    },
    {
     "data": {
      "image/png": "[encoded data removed]",
      "text/plain": [
       "<Figure size 1000x600 with 1 Axes>"
      ]
     },
     "metadata": {},
     "output_type": "display_data"
    }
   ],
   "source": [
    "class_counts = df['labels'].value_counts().sort_index()\n",
    "class_counts.index = [target_names[i] for i in class_counts.index]\n",
    "display(class_counts.to_frame('conteo'))\n",
    "\n",
    "label_counts = df['labels'].value_counts()\n",
    "plt.figure(figsize=(10,6))\n",
    "plt.bar(label_counts.index.map(target_names), label_counts.values, color='lightgreen', edgecolor='black')\n",
    "plt.title('Distribución de Textos por Categoría')\n",
    "plt.xlabel('Categorías')\n",
    "plt.ylabel('Número de Textos')\n",
    "plt.xticks(rotation=45)\n",
    "plt.grid(axis='y', alpha=0.75)\n",
    "plt.show()\n"
   ]
  },
  {
   "cell_type": "code",
   "execution_count": 47,
   "id": "6ad3fa35",
   "metadata": {},
   "outputs": [
    {
     "data": {
      "text/plain": [
       "<Figure size 1000x600 with 0 Axes>"
      ]
     },
     "metadata": {},
     "output_type": "display_data"
    },
    {
     "data": {
      "image/png": "[encoded data removed]",
      "text/plain": [
       "<Figure size 640x480 with 1 Axes>"
      ]
     },
     "metadata": {},
     "output_type": "display_data"
    }
   ],
   "source": [
    "#Boxplot por categoria\n",
    "plt.figure(figsize=(10,6))\n",
    "df.boxplot(column='Conteo', by='labels', grid=False, patch_artist=True, boxprops=dict(facecolor='lightblue'))\n",
    "plt.title('Boxplot de Longitud de Textos por Categoría')\n",
    "plt.suptitle('')  \n",
    "plt.xlabel('Categorías')\n",
    "plt.ylabel('Longitud de Textos')\n",
    "plt.show()"
   ]
  },
  {
   "cell_type": "markdown",
   "id": "d0a9e6a9",
   "metadata": {},
   "source": [
    "### Limpieza"
   ]
  },
  {
   "cell_type": "markdown",
   "id": "f81942c1",
   "metadata": {},
   "source": [
    "Procedemos a poner todo el dataset en un único formato"
   ]
  },
  {
   "cell_type": "code",
   "execution_count": 48,
   "id": "5cd9c2d6",
   "metadata": {},
   "outputs": [
    {
     "data": {
      "application/vnd.microsoft.datawrangler.viewer.v0+json": {
       "columns": [
        {
         "name": "index",
         "rawType": "int64",
         "type": "integer"
        },
        {
         "name": "textos",
         "rawType": "string",
         "type": "string"
        },
        {
         "name": "labels",
         "rawType": "int64",
         "type": "integer"
        },
        {
         "name": "Conteo",
         "rawType": "int64",
         "type": "integer"
        },
        {
         "name": "Max",
         "rawType": "int64",
         "type": "integer"
        },
        {
         "name": "Min",
         "rawType": "int64",
         "type": "integer"
        }
       ],
       "ref": "4dcd77a7-c698-4191-b3c0-6f0f15a4a427",
       "rows": [
        [
         "0",
         "\"aprendizaje\" y \"educación\" se consideran sinónimos de escolarización formal. las organizaciones auxiliares, como las editoriales de educación, las juntas examinadoras y las organizaciones de formación de docentes, se consideran extensiones de los acuerdos establecidos por los gobiernos. este marco de comprensión se ha vuelto cada vez más inadecuado.",
         "4",
         "352",
         "14",
         "1"
        ],
        [
         "1",
         "para los niños más pequeños (bebés y niños pequeños), la capacitación especializada y práctica parece estar más fuertemente asociada con la calidad pedagógica y los resultados cognitivos y sociales. los educadores de la primera infancia se encuentran con entornos sociales cada vez más complejos y se encuentran con una multiplicidad de antecedentes y experiencias familiares. estos factores crean imperativos para adoptar nuevas pedagogías y prácticas organizacionales para acomodar este pluralismo (elliott, 2006).",
         "4",
         "516",
         "16",
         "1"
        ],
        [
         "2",
         "además, la formación de especialistas en medicina general también incluye tareas que requieren un conocimiento más profundo de problemas comunes de salud pública, incluida la salud mental (cuestionario de salud mental de la ocde, 2013). dado que no hay control en la atención primaria para limitar el acceso a los servicios de salud (mental) especializados, muchos pacientes que necesitan tratamiento (para trastornos mentales graves en particular) pueden buscar atención de nivel especializado directamente. los servicios de especialistas en psiquiatría se brindan principalmente en las salas ambulatorias de psiquiatría ubicadas en los hospitales generales.",
         "3",
         "659",
         "15",
         "1"
        ],
        [
         "3",
         "en los países de la ocde se tiende a pasar de los cursos obligatorios a los optativos, abiertos a estudiantes de distintas facultades y escuelas. este planteamiento facilita la formación de equipos de estudiantes con distintas formaciones e intereses. el trabajo en equipos interdisciplinares permite a los individuos concentrarse en lo que mejor saben y les gusta y, al mismo tiempo, familiarizarse con nuevos conocimientos que pueden asociarse a una nueva forma de resolver un problema o crear un nuevo producto o servicio. no está claro hasta qué punto estos cursos utilizan métodos pedagógicos creativos y se adaptan a las necesidades de los estudiantes de grado, postgrado y licenciatura.",
         "4",
         "693",
         "18",
         "1"
        ],
        [
         "4",
         "este grupo se centró en las personas que padecen trastornos mentales con comorbilidad de abuso de sustancias (mientras que la demencia, la discapacidad intelectual y el abuso de sustancias por sà solos quedaron excluidos del ámbito de análisis). con 90 millones de euros de financiación, la comisión dispuso de tres años para \"iniciar y apoyar el desarrollo de proyectos a todos los niveles (tratamiento médico, mejora de los servicios, proyectos de vivienda, mejoras legislativas y organizativas) y proponer las medidas necesarias para elevar de forma permanente el nivel de los servicios de salud mental\". ",
         "3",
         "608",
         "14",
         "0"
        ]
       ],
       "shape": {
        "columns": 5,
        "rows": 5
       }
      },
      "text/html": [
       "<div>\n",
       "<style scoped>\n",
       "    .dataframe tbody tr th:only-of-type {\n",
       "        vertical-align: middle;\n",
       "    }\n",
       "\n",
       "    .dataframe tbody tr th {\n",
       "        vertical-align: top;\n",
       "    }\n",
       "\n",
       "    .dataframe thead th {\n",
       "        text-align: right;\n",
       "    }\n",
       "</style>\n",
       "<table border=\"1\" class=\"dataframe\">\n",
       "  <thead>\n",
       "    <tr style=\"text-align: right;\">\n",
       "      <th></th>\n",
       "      <th>textos</th>\n",
       "      <th>labels</th>\n",
       "      <th>Conteo</th>\n",
       "      <th>Max</th>\n",
       "      <th>Min</th>\n",
       "    </tr>\n",
       "  </thead>\n",
       "  <tbody>\n",
       "    <tr>\n",
       "      <th>0</th>\n",
       "      <td>\"aprendizaje\" y \"educación\" se consideran sinó...</td>\n",
       "      <td>4</td>\n",
       "      <td>352</td>\n",
       "      <td>14</td>\n",
       "      <td>1</td>\n",
       "    </tr>\n",
       "    <tr>\n",
       "      <th>1</th>\n",
       "      <td>para los niños más pequeños (bebés y niños peq...</td>\n",
       "      <td>4</td>\n",
       "      <td>516</td>\n",
       "      <td>16</td>\n",
       "      <td>1</td>\n",
       "    </tr>\n",
       "    <tr>\n",
       "      <th>2</th>\n",
       "      <td>además, la formación de especialistas en medic...</td>\n",
       "      <td>3</td>\n",
       "      <td>659</td>\n",
       "      <td>15</td>\n",
       "      <td>1</td>\n",
       "    </tr>\n",
       "    <tr>\n",
       "      <th>3</th>\n",
       "      <td>en los países de la ocde se tiende a pasar de ...</td>\n",
       "      <td>4</td>\n",
       "      <td>693</td>\n",
       "      <td>18</td>\n",
       "      <td>1</td>\n",
       "    </tr>\n",
       "    <tr>\n",
       "      <th>4</th>\n",
       "      <td>este grupo se centró en las personas que padec...</td>\n",
       "      <td>3</td>\n",
       "      <td>608</td>\n",
       "      <td>14</td>\n",
       "      <td>0</td>\n",
       "    </tr>\n",
       "  </tbody>\n",
       "</table>\n",
       "</div>"
      ],
      "text/plain": [
       "                                              textos  labels  Conteo  Max  Min\n",
       "0  \"aprendizaje\" y \"educación\" se consideran sinó...       4     352   14    1\n",
       "1  para los niños más pequeños (bebés y niños peq...       4     516   16    1\n",
       "2  además, la formación de especialistas en medic...       3     659   15    1\n",
       "3  en los países de la ocde se tiende a pasar de ...       4     693   18    1\n",
       "4  este grupo se centró en las personas que padec...       3     608   14    0"
      ]
     },
     "execution_count": 48,
     "metadata": {},
     "output_type": "execute_result"
    }
   ],
   "source": [
    "def todoAmin(df: pd.DataFrame):\n",
    "    df['textos'] = df['textos'].str.lower()\n",
    "todoAmin(df)\n",
    "df.head()"
   ]
  },
  {
   "cell_type": "markdown",
   "id": "7e354925",
   "metadata": {},
   "source": [
    "Limpieza de caracteres especiales, signos y urls"
   ]
  },
  {
   "cell_type": "code",
   "execution_count": 49,
   "id": "9ef70160",
   "metadata": {},
   "outputs": [
    {
     "data": {
      "application/vnd.microsoft.datawrangler.viewer.v0+json": {
       "columns": [
        {
         "name": "index",
         "rawType": "int64",
         "type": "integer"
        },
        {
         "name": "textos",
         "rawType": "string",
         "type": "string"
        },
        {
         "name": "labels",
         "rawType": "int64",
         "type": "integer"
        },
        {
         "name": "Conteo",
         "rawType": "int64",
         "type": "integer"
        },
        {
         "name": "Max",
         "rawType": "int64",
         "type": "integer"
        },
        {
         "name": "Min",
         "rawType": "int64",
         "type": "integer"
        }
       ],
       "ref": "623ce96f-4aaf-4743-b03c-6f945db6cbe3",
       "rows": [
        [
         "0",
         "aprendizaje y educación se consideran sinónimos de escolarización formal las organizaciones auxiliares como las editoriales de educación las juntas examinadoras y las organizaciones de formación de docentes se consideran extensiones de los acuerdos establecidos por los gobiernos este marco de comprensión se ha vuelto cada vez más inadecuado",
         "4",
         "352",
         "14",
         "1"
        ],
        [
         "1",
         "para los niños más pequeños bebés y niños pequeños la capacitación especializada y práctica parece estar más fuertemente asociada con la calidad pedagógica y los resultados cognitivos y sociales los educadores de la primera infancia se encuentran con entornos sociales cada vez más complejos y se encuentran con una multiplicidad de antecedentes y experiencias familiares estos factores crean imperativos para adoptar nuevas pedagogías y prácticas organizacionales para acomodar este pluralismo elliott 2006",
         "4",
         "516",
         "16",
         "1"
        ],
        [
         "2",
         "además la formación de especialistas en medicina general también incluye tareas que requieren un conocimiento más profundo de problemas comunes de salud pública incluida la salud mental cuestionario de salud mental de la ocde 2013 dado que no hay control en la atención primaria para limitar el acceso a los servicios de salud mental especializados muchos pacientes que necesitan tratamiento para trastornos mentales graves en particular pueden buscar atención de nivel especializado directamente los servicios de especialistas en psiquiatría se brindan principalmente en las salas ambulatorias de psiquiatría ubicadas en los hospitales generales",
         "3",
         "659",
         "15",
         "1"
        ],
        [
         "3",
         "en los países de la ocde se tiende a pasar de los cursos obligatorios a los optativos abiertos a estudiantes de distintas facultades y escuelas este planteamiento facilita la formación de equipos de estudiantes con distintas formaciones e intereses el trabajo en equipos interdisciplinares permite a los individuos concentrarse en lo que mejor saben y les gusta y al mismo tiempo familiarizarse con nuevos conocimientos que pueden asociarse a una nueva forma de resolver un problema o crear un nuevo producto o servicio no está claro hasta qué punto estos cursos utilizan métodos pedagógicos creativos y se adaptan a las necesidades de los estudiantes de grado postgrado y licenciatura",
         "4",
         "693",
         "18",
         "1"
        ],
        [
         "4",
         "este grupo se centró en las personas que padecen trastornos mentales con comorbilidad de abuso de sustancias mientras que la demencia la discapacidad intelectual y el abuso de sustancias por sà solos quedaron excluidos del ámbito de análisis con 90 millones de euros de financiación la comisión dispuso de tres años para iniciar y apoyar el desarrollo de proyectos a todos los niveles tratamiento médico mejora de los servicios proyectos de vivienda mejoras legislativas y organizativas y proponer las medidas necesarias para elevar de forma permanente el nivel de los servicios de salud mental",
         "3",
         "608",
         "14",
         "0"
        ]
       ],
       "shape": {
        "columns": 5,
        "rows": 5
       }
      },
      "text/html": [
       "<div>\n",
       "<style scoped>\n",
       "    .dataframe tbody tr th:only-of-type {\n",
       "        vertical-align: middle;\n",
       "    }\n",
       "\n",
       "    .dataframe tbody tr th {\n",
       "        vertical-align: top;\n",
       "    }\n",
       "\n",
       "    .dataframe thead th {\n",
       "        text-align: right;\n",
       "    }\n",
       "</style>\n",
       "<table border=\"1\" class=\"dataframe\">\n",
       "  <thead>\n",
       "    <tr style=\"text-align: right;\">\n",
       "      <th></th>\n",
       "      <th>textos</th>\n",
       "      <th>labels</th>\n",
       "      <th>Conteo</th>\n",
       "      <th>Max</th>\n",
       "      <th>Min</th>\n",
       "    </tr>\n",
       "  </thead>\n",
       "  <tbody>\n",
       "    <tr>\n",
       "      <th>0</th>\n",
       "      <td>aprendizaje y educación se consideran sinónimo...</td>\n",
       "      <td>4</td>\n",
       "      <td>352</td>\n",
       "      <td>14</td>\n",
       "      <td>1</td>\n",
       "    </tr>\n",
       "    <tr>\n",
       "      <th>1</th>\n",
       "      <td>para los niños más pequeños bebés y niños pequ...</td>\n",
       "      <td>4</td>\n",
       "      <td>516</td>\n",
       "      <td>16</td>\n",
       "      <td>1</td>\n",
       "    </tr>\n",
       "    <tr>\n",
       "      <th>2</th>\n",
       "      <td>además la formación de especialistas en medici...</td>\n",
       "      <td>3</td>\n",
       "      <td>659</td>\n",
       "      <td>15</td>\n",
       "      <td>1</td>\n",
       "    </tr>\n",
       "    <tr>\n",
       "      <th>3</th>\n",
       "      <td>en los países de la ocde se tiende a pasar de ...</td>\n",
       "      <td>4</td>\n",
       "      <td>693</td>\n",
       "      <td>18</td>\n",
       "      <td>1</td>\n",
       "    </tr>\n",
       "    <tr>\n",
       "      <th>4</th>\n",
       "      <td>este grupo se centró en las personas que padec...</td>\n",
       "      <td>3</td>\n",
       "      <td>608</td>\n",
       "      <td>14</td>\n",
       "      <td>0</td>\n",
       "    </tr>\n",
       "  </tbody>\n",
       "</table>\n",
       "</div>"
      ],
      "text/plain": [
       "                                              textos  labels  Conteo  Max  Min\n",
       "0  aprendizaje y educación se consideran sinónimo...       4     352   14    1\n",
       "1  para los niños más pequeños bebés y niños pequ...       4     516   16    1\n",
       "2  además la formación de especialistas en medici...       3     659   15    1\n",
       "3  en los países de la ocde se tiende a pasar de ...       4     693   18    1\n",
       "4  este grupo se centró en las personas que padec...       3     608   14    0"
      ]
     },
     "execution_count": 49,
     "metadata": {},
     "output_type": "execute_result"
    }
   ],
   "source": [
    "def limpiza(df: pd.DataFrame):\n",
    "    df['textos'] = df['textos'].str.replace(r\"http[s]?://[^\\s)]+\", '', regex=True)\n",
    "    df['textos'] = df['textos'].str.replace(r\"(?:[!¡¿?;:'\\\".,]|\\.{3})\", '', regex=True)\n",
    "    df['textos'] = df['textos'].str.replace(r\"(?:[@#$%^&*()_+=\\[\\]{}|\\\\<>/~`])\", '', regex=True)\n",
    "    df['textos'] = df['textos'].str.replace(r\"\\s+\", ' ', regex=True).str.strip()\n",
    "limpiza(df)\n",
    "df.head()\n"
   ]
  },
  {
   "cell_type": "markdown",
   "id": "b74abc9f",
   "metadata": {},
   "source": [
    "### Duplicados y Nulos"
   ]
  },
  {
   "cell_type": "code",
   "execution_count": 50,
   "id": "f1055fbc",
   "metadata": {},
   "outputs": [
    {
     "name": "stdout",
     "output_type": "stream",
     "text": [
      "Valores nulos por columna:\n"
     ]
    },
    {
     "data": {
      "application/vnd.microsoft.datawrangler.viewer.v0+json": {
       "columns": [
        {
         "name": "index",
         "rawType": "object",
         "type": "string"
        },
        {
         "name": "0",
         "rawType": "int64",
         "type": "integer"
        }
       ],
       "ref": "7bd2a93d-a3d1-48c1-87ad-79016e928a06",
       "rows": [
        [
         "textos",
         "0"
        ],
        [
         "labels",
         "0"
        ],
        [
         "Conteo",
         "0"
        ],
        [
         "Max",
         "0"
        ],
        [
         "Min",
         "0"
        ]
       ],
       "shape": {
        "columns": 1,
        "rows": 5
       }
      },
      "text/plain": [
       "textos    0\n",
       "labels    0\n",
       "Conteo    0\n",
       "Max       0\n",
       "Min       0\n",
       "dtype: int64"
      ]
     },
     "metadata": {},
     "output_type": "display_data"
    },
    {
     "name": "stdout",
     "output_type": "stream",
     "text": [
      "\n",
      "Duplicados (filas completas): 0\n",
      "Columnas constantes: Ninguna\n"
     ]
    }
   ],
   "source": [
    "def verNulosYDuplicados(df: pd.DataFrame):\n",
    "    print(\"Valores nulos por columna:\")\n",
    "    display(df.isnull().sum())\n",
    "    print(\"\\nDuplicados (filas completas):\", df.duplicated().sum())\n",
    "    const_cols = [c for c in df.columns if df[c].nunique() == 1]\n",
    "    print(\"Columnas constantes:\", const_cols if const_cols else \"Ninguna\")\n",
    "verNulosYDuplicados(df)\n"
   ]
  },
  {
   "cell_type": "markdown",
   "id": "3f85fbc4",
   "metadata": {},
   "source": [
    "### Tokenización"
   ]
  },
  {
   "cell_type": "code",
   "execution_count": 51,
   "id": "b28832e2",
   "metadata": {},
   "outputs": [
    {
     "data": {
      "application/vnd.microsoft.datawrangler.viewer.v0+json": {
       "columns": [
        {
         "name": "index",
         "rawType": "int64",
         "type": "integer"
        },
        {
         "name": "textos",
         "rawType": "string",
         "type": "string"
        },
        {
         "name": "labels",
         "rawType": "int64",
         "type": "integer"
        },
        {
         "name": "Conteo",
         "rawType": "int64",
         "type": "integer"
        },
        {
         "name": "Max",
         "rawType": "int64",
         "type": "integer"
        },
        {
         "name": "Min",
         "rawType": "int64",
         "type": "integer"
        },
        {
         "name": "tokens",
         "rawType": "object",
         "type": "unknown"
        }
       ],
       "ref": "d81c9add-33cf-4e87-acc1-9569f0956a80",
       "rows": [
        [
         "0",
         "aprendizaje y educación se consideran sinónimos de escolarización formal las organizaciones auxiliares como las editoriales de educación las juntas examinadoras y las organizaciones de formación de docentes se consideran extensiones de los acuerdos establecidos por los gobiernos este marco de comprensión se ha vuelto cada vez más inadecuado",
         "4",
         "352",
         "14",
         "1",
         "['aprendizaje', 'y', 'educación', 'se', 'consideran', 'sinónimos', 'de', 'escolarización', 'formal', 'las', 'organizaciones', 'auxiliares', 'como', 'las', 'editoriales', 'de', 'educación', 'las', 'juntas', 'examinadoras', 'y', 'las', 'organizaciones', 'de', 'formación', 'de', 'docentes', 'se', 'consideran', 'extensiones', 'de', 'los', 'acuerdos', 'establecidos', 'por', 'los', 'gobiernos', 'este', 'marco', 'de', 'comprensión', 'se', 'ha', 'vuelto', 'cada', 'vez', 'más', 'inadecuado']"
        ],
        [
         "1",
         "para los niños más pequeños bebés y niños pequeños la capacitación especializada y práctica parece estar más fuertemente asociada con la calidad pedagógica y los resultados cognitivos y sociales los educadores de la primera infancia se encuentran con entornos sociales cada vez más complejos y se encuentran con una multiplicidad de antecedentes y experiencias familiares estos factores crean imperativos para adoptar nuevas pedagogías y prácticas organizacionales para acomodar este pluralismo elliott 2006",
         "4",
         "516",
         "16",
         "1",
         "['para', 'los', 'niños', 'más', 'pequeños', 'bebés', 'y', 'niños', 'pequeños', 'la', 'capacitación', 'especializada', 'y', 'práctica', 'parece', 'estar', 'más', 'fuertemente', 'asociada', 'con', 'la', 'calidad', 'pedagógica', 'y', 'los', 'resultados', 'cognitivos', 'y', 'sociales', 'los', 'educadores', 'de', 'la', 'primera', 'infancia', 'se', 'encuentran', 'con', 'entornos', 'sociales', 'cada', 'vez', 'más', 'complejos', 'y', 'se', 'encuentran', 'con', 'una', 'multiplicidad', 'de', 'antecedentes', 'y', 'experiencias', 'familiares', 'estos', 'factores', 'crean', 'imperativos', 'para', 'adoptar', 'nuevas', 'pedagogías', 'y', 'prácticas', 'organizacionales', 'para', 'acomodar', 'este', 'pluralismo', 'elliott', '2006']"
        ],
        [
         "2",
         "además la formación de especialistas en medicina general también incluye tareas que requieren un conocimiento más profundo de problemas comunes de salud pública incluida la salud mental cuestionario de salud mental de la ocde 2013 dado que no hay control en la atención primaria para limitar el acceso a los servicios de salud mental especializados muchos pacientes que necesitan tratamiento para trastornos mentales graves en particular pueden buscar atención de nivel especializado directamente los servicios de especialistas en psiquiatría se brindan principalmente en las salas ambulatorias de psiquiatría ubicadas en los hospitales generales",
         "3",
         "659",
         "15",
         "1",
         "['además', 'la', 'formación', 'de', 'especialistas', 'en', 'medicina', 'general', 'también', 'incluye', 'tareas', 'que', 'requieren', 'un', 'conocimiento', 'más', 'profundo', 'de', 'problemas', 'comunes', 'de', 'salud', 'pública', 'incluida', 'la', 'salud', 'mental', 'cuestionario', 'de', 'salud', 'mental', 'de', 'la', 'ocde', '2013', 'dado', 'que', 'no', 'hay', 'control', 'en', 'la', 'atención', 'primaria', 'para', 'limitar', 'el', 'acceso', 'a', 'los', 'servicios', 'de', 'salud', 'mental', 'especializados', 'muchos', 'pacientes', 'que', 'necesitan', 'tratamiento', 'para', 'trastornos', 'mentales', 'graves', 'en', 'particular', 'pueden', 'buscar', 'atención', 'de', 'nivel', 'especializado', 'directamente', 'los', 'servicios', 'de', 'especialistas', 'en', 'psiquiatría', 'se', 'brindan', 'principalmente', 'en', 'las', 'salas', 'ambulatorias', 'de', 'psiquiatría', 'ubicadas', 'en', 'los', 'hospitales', 'generales']"
        ],
        [
         "3",
         "en los países de la ocde se tiende a pasar de los cursos obligatorios a los optativos abiertos a estudiantes de distintas facultades y escuelas este planteamiento facilita la formación de equipos de estudiantes con distintas formaciones e intereses el trabajo en equipos interdisciplinares permite a los individuos concentrarse en lo que mejor saben y les gusta y al mismo tiempo familiarizarse con nuevos conocimientos que pueden asociarse a una nueva forma de resolver un problema o crear un nuevo producto o servicio no está claro hasta qué punto estos cursos utilizan métodos pedagógicos creativos y se adaptan a las necesidades de los estudiantes de grado postgrado y licenciatura",
         "4",
         "693",
         "18",
         "1",
         "['en', 'los', 'países', 'de', 'la', 'ocde', 'se', 'tiende', 'a', 'pasar', 'de', 'los', 'cursos', 'obligatorios', 'a', 'los', 'optativos', 'abiertos', 'a', 'estudiantes', 'de', 'distintas', 'facultades', 'y', 'escuelas', 'este', 'planteamiento', 'facilita', 'la', 'formación', 'de', 'equipos', 'de', 'estudiantes', 'con', 'distintas', 'formaciones', 'e', 'intereses', 'el', 'trabajo', 'en', 'equipos', 'interdisciplinares', 'permite', 'a', 'los', 'individuos', 'concentrarse', 'en', 'lo', 'que', 'mejor', 'saben', 'y', 'les', 'gusta', 'y', 'al', 'mismo', 'tiempo', 'familiarizarse', 'con', 'nuevos', 'conocimientos', 'que', 'pueden', 'asociarse', 'a', 'una', 'nueva', 'forma', 'de', 'resolver', 'un', 'problema', 'o', 'crear', 'un', 'nuevo', 'producto', 'o', 'servicio', 'no', 'está', 'claro', 'hasta', 'qué', 'punto', 'estos', 'cursos', 'utilizan', 'métodos', 'pedagógicos', 'creativos', 'y', 'se', 'adaptan', 'a', 'las', 'necesidades', 'de', 'los', 'estudiantes', 'de', 'grado', 'postgrado', 'y', 'licenciatura']"
        ],
        [
         "4",
         "este grupo se centró en las personas que padecen trastornos mentales con comorbilidad de abuso de sustancias mientras que la demencia la discapacidad intelectual y el abuso de sustancias por sà solos quedaron excluidos del ámbito de análisis con 90 millones de euros de financiación la comisión dispuso de tres años para iniciar y apoyar el desarrollo de proyectos a todos los niveles tratamiento médico mejora de los servicios proyectos de vivienda mejoras legislativas y organizativas y proponer las medidas necesarias para elevar de forma permanente el nivel de los servicios de salud mental",
         "3",
         "608",
         "14",
         "0",
         "['este', 'grupo', 'se', 'centró', 'en', 'las', 'personas', 'que', 'padecen', 'trastornos', 'mentales', 'con', 'comorbilidad', 'de', 'abuso', 'de', 'sustancias', 'mientras', 'que', 'la', 'demencia', 'la', 'discapacidad', 'intelectual', 'y', 'el', 'abuso', 'de', 'sustancias', 'por', 'sà', 'solos', 'quedaron', 'excluidos', 'del', 'ámbito', 'de', 'análisis', 'con', '90', 'millones', 'de', 'euros', 'de', 'financiación', 'la', 'comisión', 'dispuso', 'de', 'tres', 'años', 'para', 'iniciar', 'y', 'apoyar', 'el', 'desarrollo', 'de', 'proyectos', 'a', 'todos', 'los', 'niveles', 'tratamiento', 'médico', 'mejora', 'de', 'los', 'servicios', 'proyectos', 'de', 'vivienda', 'mejoras', 'legislativas', 'y', 'organizativas', 'y', 'proponer', 'las', 'medidas', 'necesarias', 'para', 'elevar', 'de', 'forma', 'permanente', 'el', 'nivel', 'de', 'los', 'servicios', 'de', 'salud', 'mental']"
        ]
       ],
       "shape": {
        "columns": 6,
        "rows": 5
       }
      },
      "text/html": [
       "<div>\n",
       "<style scoped>\n",
       "    .dataframe tbody tr th:only-of-type {\n",
       "        vertical-align: middle;\n",
       "    }\n",
       "\n",
       "    .dataframe tbody tr th {\n",
       "        vertical-align: top;\n",
       "    }\n",
       "\n",
       "    .dataframe thead th {\n",
       "        text-align: right;\n",
       "    }\n",
       "</style>\n",
       "<table border=\"1\" class=\"dataframe\">\n",
       "  <thead>\n",
       "    <tr style=\"text-align: right;\">\n",
       "      <th></th>\n",
       "      <th>textos</th>\n",
       "      <th>labels</th>\n",
       "      <th>Conteo</th>\n",
       "      <th>Max</th>\n",
       "      <th>Min</th>\n",
       "      <th>tokens</th>\n",
       "    </tr>\n",
       "  </thead>\n",
       "  <tbody>\n",
       "    <tr>\n",
       "      <th>0</th>\n",
       "      <td>aprendizaje y educación se consideran sinónimo...</td>\n",
       "      <td>4</td>\n",
       "      <td>352</td>\n",
       "      <td>14</td>\n",
       "      <td>1</td>\n",
       "      <td>[aprendizaje, y, educación, se, consideran, si...</td>\n",
       "    </tr>\n",
       "    <tr>\n",
       "      <th>1</th>\n",
       "      <td>para los niños más pequeños bebés y niños pequ...</td>\n",
       "      <td>4</td>\n",
       "      <td>516</td>\n",
       "      <td>16</td>\n",
       "      <td>1</td>\n",
       "      <td>[para, los, niños, más, pequeños, bebés, y, ni...</td>\n",
       "    </tr>\n",
       "    <tr>\n",
       "      <th>2</th>\n",
       "      <td>además la formación de especialistas en medici...</td>\n",
       "      <td>3</td>\n",
       "      <td>659</td>\n",
       "      <td>15</td>\n",
       "      <td>1</td>\n",
       "      <td>[además, la, formación, de, especialistas, en,...</td>\n",
       "    </tr>\n",
       "    <tr>\n",
       "      <th>3</th>\n",
       "      <td>en los países de la ocde se tiende a pasar de ...</td>\n",
       "      <td>4</td>\n",
       "      <td>693</td>\n",
       "      <td>18</td>\n",
       "      <td>1</td>\n",
       "      <td>[en, los, países, de, la, ocde, se, tiende, a,...</td>\n",
       "    </tr>\n",
       "    <tr>\n",
       "      <th>4</th>\n",
       "      <td>este grupo se centró en las personas que padec...</td>\n",
       "      <td>3</td>\n",
       "      <td>608</td>\n",
       "      <td>14</td>\n",
       "      <td>0</td>\n",
       "      <td>[este, grupo, se, centró, en, las, personas, q...</td>\n",
       "    </tr>\n",
       "  </tbody>\n",
       "</table>\n",
       "</div>"
      ],
      "text/plain": [
       "                                              textos  labels  Conteo  Max  \\\n",
       "0  aprendizaje y educación se consideran sinónimo...       4     352   14   \n",
       "1  para los niños más pequeños bebés y niños pequ...       4     516   16   \n",
       "2  además la formación de especialistas en medici...       3     659   15   \n",
       "3  en los países de la ocde se tiende a pasar de ...       4     693   18   \n",
       "4  este grupo se centró en las personas que padec...       3     608   14   \n",
       "\n",
       "   Min                                             tokens  \n",
       "0    1  [aprendizaje, y, educación, se, consideran, si...  \n",
       "1    1  [para, los, niños, más, pequeños, bebés, y, ni...  \n",
       "2    1  [además, la, formación, de, especialistas, en,...  \n",
       "3    1  [en, los, países, de, la, ocde, se, tiende, a,...  \n",
       "4    0  [este, grupo, se, centró, en, las, personas, q...  "
      ]
     },
     "execution_count": 51,
     "metadata": {},
     "output_type": "execute_result"
    }
   ],
   "source": [
    "def tokenizacion(df: pd.DataFrame):\n",
    "    columnaTokens = []\n",
    "    for opinion in df['textos']:\n",
    "        columnaTokens.append(opinion.split())\n",
    "    df['tokens'] = columnaTokens\n",
    "    return df\n",
    "doc = tokenizacion(df)   \n",
    "df.head()"
   ]
  },
  {
   "cell_type": "markdown",
   "id": "63c11b86",
   "metadata": {},
   "source": [
    "### Eliminación de tockens innecesarios, articulos, preposiciones, etc."
   ]
  },
  {
   "cell_type": "code",
   "execution_count": 52,
   "id": "c5c412c3",
   "metadata": {},
   "outputs": [
    {
     "data": {
      "application/vnd.microsoft.datawrangler.viewer.v0+json": {
       "columns": [
        {
         "name": "index",
         "rawType": "int64",
         "type": "integer"
        },
        {
         "name": "textos",
         "rawType": "string",
         "type": "string"
        },
        {
         "name": "labels",
         "rawType": "int64",
         "type": "integer"
        },
        {
         "name": "Conteo",
         "rawType": "int64",
         "type": "integer"
        },
        {
         "name": "Max",
         "rawType": "int64",
         "type": "integer"
        },
        {
         "name": "Min",
         "rawType": "int64",
         "type": "integer"
        },
        {
         "name": "tokens",
         "rawType": "object",
         "type": "unknown"
        },
        {
         "name": "tokens_sin_innecesarios",
         "rawType": "object",
         "type": "unknown"
        }
       ],
       "ref": "9950c4bd-ef77-4ca9-8594-30eb846aabc8",
       "rows": [
        [
         "0",
         "aprendizaje y educación se consideran sinónimos de escolarización formal las organizaciones auxiliares como las editoriales de educación las juntas examinadoras y las organizaciones de formación de docentes se consideran extensiones de los acuerdos establecidos por los gobiernos este marco de comprensión se ha vuelto cada vez más inadecuado",
         "4",
         "352",
         "14",
         "1",
         "['aprendizaje', 'y', 'educación', 'se', 'consideran', 'sinónimos', 'de', 'escolarización', 'formal', 'las', 'organizaciones', 'auxiliares', 'como', 'las', 'editoriales', 'de', 'educación', 'las', 'juntas', 'examinadoras', 'y', 'las', 'organizaciones', 'de', 'formación', 'de', 'docentes', 'se', 'consideran', 'extensiones', 'de', 'los', 'acuerdos', 'establecidos', 'por', 'los', 'gobiernos', 'este', 'marco', 'de', 'comprensión', 'se', 'ha', 'vuelto', 'cada', 'vez', 'más', 'inadecuado']",
         "['aprendizaje', 'educación', 'consideran', 'sinónimos', 'escolarización', 'formal', 'organizaciones', 'auxiliares', 'editoriales', 'educación', 'juntas', 'examinadoras', 'organizaciones', 'formación', 'docentes', 'consideran', 'extensiones', 'acuerdos', 'establecidos', 'gobiernos', 'marco', 'comprensión', 'vuelto', 'inadecuado']"
        ],
        [
         "1",
         "para los niños más pequeños bebés y niños pequeños la capacitación especializada y práctica parece estar más fuertemente asociada con la calidad pedagógica y los resultados cognitivos y sociales los educadores de la primera infancia se encuentran con entornos sociales cada vez más complejos y se encuentran con una multiplicidad de antecedentes y experiencias familiares estos factores crean imperativos para adoptar nuevas pedagogías y prácticas organizacionales para acomodar este pluralismo elliott 2006",
         "4",
         "516",
         "16",
         "1",
         "['para', 'los', 'niños', 'más', 'pequeños', 'bebés', 'y', 'niños', 'pequeños', 'la', 'capacitación', 'especializada', 'y', 'práctica', 'parece', 'estar', 'más', 'fuertemente', 'asociada', 'con', 'la', 'calidad', 'pedagógica', 'y', 'los', 'resultados', 'cognitivos', 'y', 'sociales', 'los', 'educadores', 'de', 'la', 'primera', 'infancia', 'se', 'encuentran', 'con', 'entornos', 'sociales', 'cada', 'vez', 'más', 'complejos', 'y', 'se', 'encuentran', 'con', 'una', 'multiplicidad', 'de', 'antecedentes', 'y', 'experiencias', 'familiares', 'estos', 'factores', 'crean', 'imperativos', 'para', 'adoptar', 'nuevas', 'pedagogías', 'y', 'prácticas', 'organizacionales', 'para', 'acomodar', 'este', 'pluralismo', 'elliott', '2006']",
         "['niños', 'pequeños', 'bebés', 'niños', 'pequeños', 'capacitación', 'especializada', 'práctica', 'fuertemente', 'asociada', 'calidad', 'pedagógica', 'resultados', 'cognitivos', 'sociales', 'educadores', 'infancia', 'encuentran', 'entornos', 'sociales', 'complejos', 'encuentran', 'multiplicidad', 'antecedentes', 'experiencias', 'familiares', 'factores', 'crean', 'imperativos', 'adoptar', 'pedagogías', 'prácticas', 'organizacionales', 'acomodar', 'pluralismo', 'elliott', '2006']"
        ],
        [
         "2",
         "además la formación de especialistas en medicina general también incluye tareas que requieren un conocimiento más profundo de problemas comunes de salud pública incluida la salud mental cuestionario de salud mental de la ocde 2013 dado que no hay control en la atención primaria para limitar el acceso a los servicios de salud mental especializados muchos pacientes que necesitan tratamiento para trastornos mentales graves en particular pueden buscar atención de nivel especializado directamente los servicios de especialistas en psiquiatría se brindan principalmente en las salas ambulatorias de psiquiatría ubicadas en los hospitales generales",
         "3",
         "659",
         "15",
         "1",
         "['además', 'la', 'formación', 'de', 'especialistas', 'en', 'medicina', 'general', 'también', 'incluye', 'tareas', 'que', 'requieren', 'un', 'conocimiento', 'más', 'profundo', 'de', 'problemas', 'comunes', 'de', 'salud', 'pública', 'incluida', 'la', 'salud', 'mental', 'cuestionario', 'de', 'salud', 'mental', 'de', 'la', 'ocde', '2013', 'dado', 'que', 'no', 'hay', 'control', 'en', 'la', 'atención', 'primaria', 'para', 'limitar', 'el', 'acceso', 'a', 'los', 'servicios', 'de', 'salud', 'mental', 'especializados', 'muchos', 'pacientes', 'que', 'necesitan', 'tratamiento', 'para', 'trastornos', 'mentales', 'graves', 'en', 'particular', 'pueden', 'buscar', 'atención', 'de', 'nivel', 'especializado', 'directamente', 'los', 'servicios', 'de', 'especialistas', 'en', 'psiquiatría', 'se', 'brindan', 'principalmente', 'en', 'las', 'salas', 'ambulatorias', 'de', 'psiquiatría', 'ubicadas', 'en', 'los', 'hospitales', 'generales']",
         "['formación', 'especialistas', 'medicina', 'general', 'incluye', 'tareas', 'requieren', 'conocimiento', 'profundo', 'problemas', 'comunes', 'salud', 'pública', 'incluida', 'salud', 'mental', 'cuestionario', 'salud', 'mental', 'ocde', '2013', 'control', 'atención', 'primaria', 'limitar', 'acceso', 'servicios', 'salud', 'mental', 'especializados', 'pacientes', 'necesitan', 'tratamiento', 'trastornos', 'mentales', 'graves', 'particular', 'buscar', 'atención', 'nivel', 'especializado', 'directamente', 'servicios', 'especialistas', 'psiquiatría', 'brindan', 'principalmente', 'salas', 'ambulatorias', 'psiquiatría', 'ubicadas', 'hospitales', 'generales']"
        ],
        [
         "3",
         "en los países de la ocde se tiende a pasar de los cursos obligatorios a los optativos abiertos a estudiantes de distintas facultades y escuelas este planteamiento facilita la formación de equipos de estudiantes con distintas formaciones e intereses el trabajo en equipos interdisciplinares permite a los individuos concentrarse en lo que mejor saben y les gusta y al mismo tiempo familiarizarse con nuevos conocimientos que pueden asociarse a una nueva forma de resolver un problema o crear un nuevo producto o servicio no está claro hasta qué punto estos cursos utilizan métodos pedagógicos creativos y se adaptan a las necesidades de los estudiantes de grado postgrado y licenciatura",
         "4",
         "693",
         "18",
         "1",
         "['en', 'los', 'países', 'de', 'la', 'ocde', 'se', 'tiende', 'a', 'pasar', 'de', 'los', 'cursos', 'obligatorios', 'a', 'los', 'optativos', 'abiertos', 'a', 'estudiantes', 'de', 'distintas', 'facultades', 'y', 'escuelas', 'este', 'planteamiento', 'facilita', 'la', 'formación', 'de', 'equipos', 'de', 'estudiantes', 'con', 'distintas', 'formaciones', 'e', 'intereses', 'el', 'trabajo', 'en', 'equipos', 'interdisciplinares', 'permite', 'a', 'los', 'individuos', 'concentrarse', 'en', 'lo', 'que', 'mejor', 'saben', 'y', 'les', 'gusta', 'y', 'al', 'mismo', 'tiempo', 'familiarizarse', 'con', 'nuevos', 'conocimientos', 'que', 'pueden', 'asociarse', 'a', 'una', 'nueva', 'forma', 'de', 'resolver', 'un', 'problema', 'o', 'crear', 'un', 'nuevo', 'producto', 'o', 'servicio', 'no', 'está', 'claro', 'hasta', 'qué', 'punto', 'estos', 'cursos', 'utilizan', 'métodos', 'pedagógicos', 'creativos', 'y', 'se', 'adaptan', 'a', 'las', 'necesidades', 'de', 'los', 'estudiantes', 'de', 'grado', 'postgrado', 'y', 'licenciatura']",
         "['países', 'ocde', 'tiende', 'pasar', 'cursos', 'obligatorios', 'optativos', 'abiertos', 'estudiantes', 'distintas', 'facultades', 'escuelas', 'planteamiento', 'facilita', 'formación', 'equipos', 'estudiantes', 'distintas', 'formaciones', 'intereses', 'trabajo', 'equipos', 'interdisciplinares', 'permite', 'individuos', 'concentrarse', 'gusta', 'tiempo', 'familiarizarse', 'conocimientos', 'asociarse', 'forma', 'resolver', 'problema', 'crear', 'producto', 'servicio', 'punto', 'cursos', 'utilizan', 'métodos', 'pedagógicos', 'creativos', 'adaptan', 'necesidades', 'estudiantes', 'grado', 'postgrado', 'licenciatura']"
        ],
        [
         "4",
         "este grupo se centró en las personas que padecen trastornos mentales con comorbilidad de abuso de sustancias mientras que la demencia la discapacidad intelectual y el abuso de sustancias por sà solos quedaron excluidos del ámbito de análisis con 90 millones de euros de financiación la comisión dispuso de tres años para iniciar y apoyar el desarrollo de proyectos a todos los niveles tratamiento médico mejora de los servicios proyectos de vivienda mejoras legislativas y organizativas y proponer las medidas necesarias para elevar de forma permanente el nivel de los servicios de salud mental",
         "3",
         "608",
         "14",
         "0",
         "['este', 'grupo', 'se', 'centró', 'en', 'las', 'personas', 'que', 'padecen', 'trastornos', 'mentales', 'con', 'comorbilidad', 'de', 'abuso', 'de', 'sustancias', 'mientras', 'que', 'la', 'demencia', 'la', 'discapacidad', 'intelectual', 'y', 'el', 'abuso', 'de', 'sustancias', 'por', 'sà', 'solos', 'quedaron', 'excluidos', 'del', 'ámbito', 'de', 'análisis', 'con', '90', 'millones', 'de', 'euros', 'de', 'financiación', 'la', 'comisión', 'dispuso', 'de', 'tres', 'años', 'para', 'iniciar', 'y', 'apoyar', 'el', 'desarrollo', 'de', 'proyectos', 'a', 'todos', 'los', 'niveles', 'tratamiento', 'médico', 'mejora', 'de', 'los', 'servicios', 'proyectos', 'de', 'vivienda', 'mejoras', 'legislativas', 'y', 'organizativas', 'y', 'proponer', 'las', 'medidas', 'necesarias', 'para', 'elevar', 'de', 'forma', 'permanente', 'el', 'nivel', 'de', 'los', 'servicios', 'de', 'salud', 'mental']",
         "['grupo', 'centró', 'personas', 'padecen', 'trastornos', 'mentales', 'comorbilidad', 'abuso', 'sustancias', 'demencia', 'discapacidad', 'intelectual', 'abuso', 'sustancias', 'sà', 'quedaron', 'excluidos', 'ámbito', 'análisis', '90', 'millones', 'euros', 'financiación', 'comisión', 'dispuso', 'años', 'iniciar', 'apoyar', 'desarrollo', 'proyectos', 'niveles', 'tratamiento', 'médico', 'mejora', 'servicios', 'proyectos', 'vivienda', 'mejoras', 'legislativas', 'organizativas', 'proponer', 'medidas', 'necesarias', 'elevar', 'forma', 'permanente', 'nivel', 'servicios', 'salud', 'mental']"
        ]
       ],
       "shape": {
        "columns": 7,
        "rows": 5
       }
      },
      "text/html": [
       "<div>\n",
       "<style scoped>\n",
       "    .dataframe tbody tr th:only-of-type {\n",
       "        vertical-align: middle;\n",
       "    }\n",
       "\n",
       "    .dataframe tbody tr th {\n",
       "        vertical-align: top;\n",
       "    }\n",
       "\n",
       "    .dataframe thead th {\n",
       "        text-align: right;\n",
       "    }\n",
       "</style>\n",
       "<table border=\"1\" class=\"dataframe\">\n",
       "  <thead>\n",
       "    <tr style=\"text-align: right;\">\n",
       "      <th></th>\n",
       "      <th>textos</th>\n",
       "      <th>labels</th>\n",
       "      <th>Conteo</th>\n",
       "      <th>Max</th>\n",
       "      <th>Min</th>\n",
       "      <th>tokens</th>\n",
       "      <th>tokens_sin_innecesarios</th>\n",
       "    </tr>\n",
       "  </thead>\n",
       "  <tbody>\n",
       "    <tr>\n",
       "      <th>0</th>\n",
       "      <td>aprendizaje y educación se consideran sinónimo...</td>\n",
       "      <td>4</td>\n",
       "      <td>352</td>\n",
       "      <td>14</td>\n",
       "      <td>1</td>\n",
       "      <td>[aprendizaje, y, educación, se, consideran, si...</td>\n",
       "      <td>[aprendizaje, educación, consideran, sinónimos...</td>\n",
       "    </tr>\n",
       "    <tr>\n",
       "      <th>1</th>\n",
       "      <td>para los niños más pequeños bebés y niños pequ...</td>\n",
       "      <td>4</td>\n",
       "      <td>516</td>\n",
       "      <td>16</td>\n",
       "      <td>1</td>\n",
       "      <td>[para, los, niños, más, pequeños, bebés, y, ni...</td>\n",
       "      <td>[niños, pequeños, bebés, niños, pequeños, capa...</td>\n",
       "    </tr>\n",
       "    <tr>\n",
       "      <th>2</th>\n",
       "      <td>además la formación de especialistas en medici...</td>\n",
       "      <td>3</td>\n",
       "      <td>659</td>\n",
       "      <td>15</td>\n",
       "      <td>1</td>\n",
       "      <td>[además, la, formación, de, especialistas, en,...</td>\n",
       "      <td>[formación, especialistas, medicina, general, ...</td>\n",
       "    </tr>\n",
       "    <tr>\n",
       "      <th>3</th>\n",
       "      <td>en los países de la ocde se tiende a pasar de ...</td>\n",
       "      <td>4</td>\n",
       "      <td>693</td>\n",
       "      <td>18</td>\n",
       "      <td>1</td>\n",
       "      <td>[en, los, países, de, la, ocde, se, tiende, a,...</td>\n",
       "      <td>[países, ocde, tiende, pasar, cursos, obligato...</td>\n",
       "    </tr>\n",
       "    <tr>\n",
       "      <th>4</th>\n",
       "      <td>este grupo se centró en las personas que padec...</td>\n",
       "      <td>3</td>\n",
       "      <td>608</td>\n",
       "      <td>14</td>\n",
       "      <td>0</td>\n",
       "      <td>[este, grupo, se, centró, en, las, personas, q...</td>\n",
       "      <td>[grupo, centró, personas, padecen, trastornos,...</td>\n",
       "    </tr>\n",
       "  </tbody>\n",
       "</table>\n",
       "</div>"
      ],
      "text/plain": [
       "                                              textos  labels  Conteo  Max  \\\n",
       "0  aprendizaje y educación se consideran sinónimo...       4     352   14   \n",
       "1  para los niños más pequeños bebés y niños pequ...       4     516   16   \n",
       "2  además la formación de especialistas en medici...       3     659   15   \n",
       "3  en los países de la ocde se tiende a pasar de ...       4     693   18   \n",
       "4  este grupo se centró en las personas que padec...       3     608   14   \n",
       "\n",
       "   Min                                             tokens  \\\n",
       "0    1  [aprendizaje, y, educación, se, consideran, si...   \n",
       "1    1  [para, los, niños, más, pequeños, bebés, y, ni...   \n",
       "2    1  [además, la, formación, de, especialistas, en,...   \n",
       "3    1  [en, los, países, de, la, ocde, se, tiende, a,...   \n",
       "4    0  [este, grupo, se, centró, en, las, personas, q...   \n",
       "\n",
       "                             tokens_sin_innecesarios  \n",
       "0  [aprendizaje, educación, consideran, sinónimos...  \n",
       "1  [niños, pequeños, bebés, niños, pequeños, capa...  \n",
       "2  [formación, especialistas, medicina, general, ...  \n",
       "3  [países, ocde, tiende, pasar, cursos, obligato...  \n",
       "4  [grupo, centró, personas, padecen, trastornos,...  "
      ]
     },
     "execution_count": 52,
     "metadata": {},
     "output_type": "execute_result"
    }
   ],
   "source": [
    "def quitar_stopwords(df: pd.DataFrame):\n",
    "    stopwords = nlp.Defaults.stop_words\n",
    "    tokens_sin_stopwords = []\n",
    "    \n",
    "    for lista in df['tokens']:\n",
    "        tokens_filtrados = [tok for tok in lista if tok.lower() not in stopwords]\n",
    "        tokens_sin_stopwords.append(tokens_filtrados)\n",
    "    \n",
    "    df['tokens_sin_innecesarios'] = tokens_sin_stopwords\n",
    "\n",
    "quitar_stopwords(df)\n",
    "df.head()\n"
   ]
  },
  {
   "cell_type": "markdown",
   "id": "95258ab6",
   "metadata": {},
   "source": [
    "### Lematización"
   ]
  },
  {
   "cell_type": "code",
   "execution_count": 53,
   "id": "68ba1ba2",
   "metadata": {},
   "outputs": [
    {
     "data": {
      "application/vnd.microsoft.datawrangler.viewer.v0+json": {
       "columns": [
        {
         "name": "index",
         "rawType": "int64",
         "type": "integer"
        },
        {
         "name": "textos",
         "rawType": "string",
         "type": "string"
        },
        {
         "name": "labels",
         "rawType": "int64",
         "type": "integer"
        },
        {
         "name": "Conteo",
         "rawType": "int64",
         "type": "integer"
        },
        {
         "name": "Max",
         "rawType": "int64",
         "type": "integer"
        },
        {
         "name": "Min",
         "rawType": "int64",
         "type": "integer"
        },
        {
         "name": "tokens",
         "rawType": "object",
         "type": "unknown"
        },
        {
         "name": "tokens_sin_innecesarios",
         "rawType": "object",
         "type": "unknown"
        },
        {
         "name": "lematizados",
         "rawType": "object",
         "type": "unknown"
        }
       ],
       "ref": "724fdb24-37d2-448f-8ae7-392cd9ba1cfa",
       "rows": [
        [
         "0",
         "aprendizaje y educación se consideran sinónimos de escolarización formal las organizaciones auxiliares como las editoriales de educación las juntas examinadoras y las organizaciones de formación de docentes se consideran extensiones de los acuerdos establecidos por los gobiernos este marco de comprensión se ha vuelto cada vez más inadecuado",
         "4",
         "352",
         "14",
         "1",
         "['aprendizaje', 'y', 'educación', 'se', 'consideran', 'sinónimos', 'de', 'escolarización', 'formal', 'las', 'organizaciones', 'auxiliares', 'como', 'las', 'editoriales', 'de', 'educación', 'las', 'juntas', 'examinadoras', 'y', 'las', 'organizaciones', 'de', 'formación', 'de', 'docentes', 'se', 'consideran', 'extensiones', 'de', 'los', 'acuerdos', 'establecidos', 'por', 'los', 'gobiernos', 'este', 'marco', 'de', 'comprensión', 'se', 'ha', 'vuelto', 'cada', 'vez', 'más', 'inadecuado']",
         "['aprendizaje', 'educación', 'consideran', 'sinónimos', 'escolarización', 'formal', 'organizaciones', 'auxiliares', 'editoriales', 'educación', 'juntas', 'examinadoras', 'organizaciones', 'formación', 'docentes', 'consideran', 'extensiones', 'acuerdos', 'establecidos', 'gobiernos', 'marco', 'comprensión', 'vuelto', 'inadecuado']",
         "['aprendizaje', 'educación', 'considerar', 'sinónir', 'escolarización', 'formal', 'organización', 'auxiliar', 'editorial', 'educación', 'junto', 'examinadora', 'organización', 'formación', 'docente', 'considerar', 'extensión', 'acuerdo', 'establecido', 'gobierno', 'marco', 'comprensión', 'vuelto', 'inadecuado']"
        ],
        [
         "1",
         "para los niños más pequeños bebés y niños pequeños la capacitación especializada y práctica parece estar más fuertemente asociada con la calidad pedagógica y los resultados cognitivos y sociales los educadores de la primera infancia se encuentran con entornos sociales cada vez más complejos y se encuentran con una multiplicidad de antecedentes y experiencias familiares estos factores crean imperativos para adoptar nuevas pedagogías y prácticas organizacionales para acomodar este pluralismo elliott 2006",
         "4",
         "516",
         "16",
         "1",
         "['para', 'los', 'niños', 'más', 'pequeños', 'bebés', 'y', 'niños', 'pequeños', 'la', 'capacitación', 'especializada', 'y', 'práctica', 'parece', 'estar', 'más', 'fuertemente', 'asociada', 'con', 'la', 'calidad', 'pedagógica', 'y', 'los', 'resultados', 'cognitivos', 'y', 'sociales', 'los', 'educadores', 'de', 'la', 'primera', 'infancia', 'se', 'encuentran', 'con', 'entornos', 'sociales', 'cada', 'vez', 'más', 'complejos', 'y', 'se', 'encuentran', 'con', 'una', 'multiplicidad', 'de', 'antecedentes', 'y', 'experiencias', 'familiares', 'estos', 'factores', 'crean', 'imperativos', 'para', 'adoptar', 'nuevas', 'pedagogías', 'y', 'prácticas', 'organizacionales', 'para', 'acomodar', 'este', 'pluralismo', 'elliott', '2006']",
         "['niños', 'pequeños', 'bebés', 'niños', 'pequeños', 'capacitación', 'especializada', 'práctica', 'fuertemente', 'asociada', 'calidad', 'pedagógica', 'resultados', 'cognitivos', 'sociales', 'educadores', 'infancia', 'encuentran', 'entornos', 'sociales', 'complejos', 'encuentran', 'multiplicidad', 'antecedentes', 'experiencias', 'familiares', 'factores', 'crean', 'imperativos', 'adoptar', 'pedagogías', 'prácticas', 'organizacionales', 'acomodar', 'pluralismo', 'elliott', '2006']",
         "['niño', 'pequeño', 'bebé', 'niño', 'pequeño', 'capacitación', 'especializado', 'práctico', 'fuertemente', 'asociado', 'calidad', 'pedagógico', 'resultado', 'cognitivo', 'social', 'educador', 'infancio', 'encontrar', 'entorno', 'social', 'complejo', 'encontrar', 'multiplicidad', 'antecedent', 'experiencia', 'familiar', 'factor', 'crear', 'imperativo', 'adoptar', 'pedagogía', 'práctico', 'organizacional', 'acomodar', 'pluralismo', 'elliott', '2006']"
        ],
        [
         "2",
         "además la formación de especialistas en medicina general también incluye tareas que requieren un conocimiento más profundo de problemas comunes de salud pública incluida la salud mental cuestionario de salud mental de la ocde 2013 dado que no hay control en la atención primaria para limitar el acceso a los servicios de salud mental especializados muchos pacientes que necesitan tratamiento para trastornos mentales graves en particular pueden buscar atención de nivel especializado directamente los servicios de especialistas en psiquiatría se brindan principalmente en las salas ambulatorias de psiquiatría ubicadas en los hospitales generales",
         "3",
         "659",
         "15",
         "1",
         "['además', 'la', 'formación', 'de', 'especialistas', 'en', 'medicina', 'general', 'también', 'incluye', 'tareas', 'que', 'requieren', 'un', 'conocimiento', 'más', 'profundo', 'de', 'problemas', 'comunes', 'de', 'salud', 'pública', 'incluida', 'la', 'salud', 'mental', 'cuestionario', 'de', 'salud', 'mental', 'de', 'la', 'ocde', '2013', 'dado', 'que', 'no', 'hay', 'control', 'en', 'la', 'atención', 'primaria', 'para', 'limitar', 'el', 'acceso', 'a', 'los', 'servicios', 'de', 'salud', 'mental', 'especializados', 'muchos', 'pacientes', 'que', 'necesitan', 'tratamiento', 'para', 'trastornos', 'mentales', 'graves', 'en', 'particular', 'pueden', 'buscar', 'atención', 'de', 'nivel', 'especializado', 'directamente', 'los', 'servicios', 'de', 'especialistas', 'en', 'psiquiatría', 'se', 'brindan', 'principalmente', 'en', 'las', 'salas', 'ambulatorias', 'de', 'psiquiatría', 'ubicadas', 'en', 'los', 'hospitales', 'generales']",
         "['formación', 'especialistas', 'medicina', 'general', 'incluye', 'tareas', 'requieren', 'conocimiento', 'profundo', 'problemas', 'comunes', 'salud', 'pública', 'incluida', 'salud', 'mental', 'cuestionario', 'salud', 'mental', 'ocde', '2013', 'control', 'atención', 'primaria', 'limitar', 'acceso', 'servicios', 'salud', 'mental', 'especializados', 'pacientes', 'necesitan', 'tratamiento', 'trastornos', 'mentales', 'graves', 'particular', 'buscar', 'atención', 'nivel', 'especializado', 'directamente', 'servicios', 'especialistas', 'psiquiatría', 'brindan', 'principalmente', 'salas', 'ambulatorias', 'psiquiatría', 'ubicadas', 'hospitales', 'generales']",
         "['formación', 'especialista', 'medicín', 'general', 'incluir', 'tarea', 'requerir', 'conocimiento', 'profundo', 'problema', 'común', 'salud', 'público', 'incluido', 'salud', 'mental', 'cuestionario', 'salud', 'mental', 'ocde', '2013', 'control', 'atención', 'primario', 'limitar', 'acceso', 'servicio', 'salud', 'mental', 'especializado', 'paciente', 'necesitar', 'tratamiento', 'trastorno', 'mental', 'grave', 'particular', 'buscar', 'atención', 'nivel', 'especializado', 'directamente', 'servicio', 'especialista', 'psiquiatrío', 'brindar', 'principalmente', 'sala', 'ambulatoria', 'psiquiater', 'ubicado', 'hospital', 'general']"
        ],
        [
         "3",
         "en los países de la ocde se tiende a pasar de los cursos obligatorios a los optativos abiertos a estudiantes de distintas facultades y escuelas este planteamiento facilita la formación de equipos de estudiantes con distintas formaciones e intereses el trabajo en equipos interdisciplinares permite a los individuos concentrarse en lo que mejor saben y les gusta y al mismo tiempo familiarizarse con nuevos conocimientos que pueden asociarse a una nueva forma de resolver un problema o crear un nuevo producto o servicio no está claro hasta qué punto estos cursos utilizan métodos pedagógicos creativos y se adaptan a las necesidades de los estudiantes de grado postgrado y licenciatura",
         "4",
         "693",
         "18",
         "1",
         "['en', 'los', 'países', 'de', 'la', 'ocde', 'se', 'tiende', 'a', 'pasar', 'de', 'los', 'cursos', 'obligatorios', 'a', 'los', 'optativos', 'abiertos', 'a', 'estudiantes', 'de', 'distintas', 'facultades', 'y', 'escuelas', 'este', 'planteamiento', 'facilita', 'la', 'formación', 'de', 'equipos', 'de', 'estudiantes', 'con', 'distintas', 'formaciones', 'e', 'intereses', 'el', 'trabajo', 'en', 'equipos', 'interdisciplinares', 'permite', 'a', 'los', 'individuos', 'concentrarse', 'en', 'lo', 'que', 'mejor', 'saben', 'y', 'les', 'gusta', 'y', 'al', 'mismo', 'tiempo', 'familiarizarse', 'con', 'nuevos', 'conocimientos', 'que', 'pueden', 'asociarse', 'a', 'una', 'nueva', 'forma', 'de', 'resolver', 'un', 'problema', 'o', 'crear', 'un', 'nuevo', 'producto', 'o', 'servicio', 'no', 'está', 'claro', 'hasta', 'qué', 'punto', 'estos', 'cursos', 'utilizan', 'métodos', 'pedagógicos', 'creativos', 'y', 'se', 'adaptan', 'a', 'las', 'necesidades', 'de', 'los', 'estudiantes', 'de', 'grado', 'postgrado', 'y', 'licenciatura']",
         "['países', 'ocde', 'tiende', 'pasar', 'cursos', 'obligatorios', 'optativos', 'abiertos', 'estudiantes', 'distintas', 'facultades', 'escuelas', 'planteamiento', 'facilita', 'formación', 'equipos', 'estudiantes', 'distintas', 'formaciones', 'intereses', 'trabajo', 'equipos', 'interdisciplinares', 'permite', 'individuos', 'concentrarse', 'gusta', 'tiempo', 'familiarizarse', 'conocimientos', 'asociarse', 'forma', 'resolver', 'problema', 'crear', 'producto', 'servicio', 'punto', 'cursos', 'utilizan', 'métodos', 'pedagógicos', 'creativos', 'adaptan', 'necesidades', 'estudiantes', 'grado', 'postgrado', 'licenciatura']",
         "['país', 'ocde', 'tender', 'pasar', 'curso', 'obligatorio', 'optativo', 'abierto', 'estudiante', 'distinto', 'facultad', 'escuela', 'planteamiento', 'facilitar', 'formación', 'equipo', 'estudiant', 'distinto', 'formación', 'interés', 'trabajar', 'equipo', 'interdisciplinar', 'permitir', 'individuo', 'concentrar él', 'gusta', 'tiempo', 'familiarizar él', 'conocimiento', 'asociar él', 'forma', 'resolver', 'problema', 'crear', 'producto', 'servicio', 'punto', 'curso', 'utilizar', 'método', 'pedagógico', 'creativo', 'adaptar', 'necesidad', 'estudiant', 'grado', 'postgrado', 'licenciatura']"
        ],
        [
         "4",
         "este grupo se centró en las personas que padecen trastornos mentales con comorbilidad de abuso de sustancias mientras que la demencia la discapacidad intelectual y el abuso de sustancias por sà solos quedaron excluidos del ámbito de análisis con 90 millones de euros de financiación la comisión dispuso de tres años para iniciar y apoyar el desarrollo de proyectos a todos los niveles tratamiento médico mejora de los servicios proyectos de vivienda mejoras legislativas y organizativas y proponer las medidas necesarias para elevar de forma permanente el nivel de los servicios de salud mental",
         "3",
         "608",
         "14",
         "0",
         "['este', 'grupo', 'se', 'centró', 'en', 'las', 'personas', 'que', 'padecen', 'trastornos', 'mentales', 'con', 'comorbilidad', 'de', 'abuso', 'de', 'sustancias', 'mientras', 'que', 'la', 'demencia', 'la', 'discapacidad', 'intelectual', 'y', 'el', 'abuso', 'de', 'sustancias', 'por', 'sà', 'solos', 'quedaron', 'excluidos', 'del', 'ámbito', 'de', 'análisis', 'con', '90', 'millones', 'de', 'euros', 'de', 'financiación', 'la', 'comisión', 'dispuso', 'de', 'tres', 'años', 'para', 'iniciar', 'y', 'apoyar', 'el', 'desarrollo', 'de', 'proyectos', 'a', 'todos', 'los', 'niveles', 'tratamiento', 'médico', 'mejora', 'de', 'los', 'servicios', 'proyectos', 'de', 'vivienda', 'mejoras', 'legislativas', 'y', 'organizativas', 'y', 'proponer', 'las', 'medidas', 'necesarias', 'para', 'elevar', 'de', 'forma', 'permanente', 'el', 'nivel', 'de', 'los', 'servicios', 'de', 'salud', 'mental']",
         "['grupo', 'centró', 'personas', 'padecen', 'trastornos', 'mentales', 'comorbilidad', 'abuso', 'sustancias', 'demencia', 'discapacidad', 'intelectual', 'abuso', 'sustancias', 'sà', 'quedaron', 'excluidos', 'ámbito', 'análisis', '90', 'millones', 'euros', 'financiación', 'comisión', 'dispuso', 'años', 'iniciar', 'apoyar', 'desarrollo', 'proyectos', 'niveles', 'tratamiento', 'médico', 'mejora', 'servicios', 'proyectos', 'vivienda', 'mejoras', 'legislativas', 'organizativas', 'proponer', 'medidas', 'necesarias', 'elevar', 'forma', 'permanente', 'nivel', 'servicios', 'salud', 'mental']",
         "['grupo', 'centrar', 'persona', 'padecer', 'trastorno', 'mental', 'comorbilidad', 'abuso', 'sustancia', 'demencia', 'discapacidad', 'intelectual', 'abuso', 'sustancia', 'sà', 'quedar', 'excluido', 'ámbito', 'análisis', '90', 'millón', 'euro', 'financiación', 'comisión', 'disponer', 'año', 'iniciar', 'apoyar', 'desarrollo', 'proyecto', 'nivel', 'tratamiento', 'médico', 'mejorar', 'servicio', 'proyecto', 'viviendar', 'mejora', 'legislativo', 'organizativo', 'proponer', 'medida', 'necesario', 'elevar', 'forma', 'permanente', 'nivel', 'servicio', 'salud', 'mental']"
        ]
       ],
       "shape": {
        "columns": 8,
        "rows": 5
       }
      },
      "text/html": [
       "<div>\n",
       "<style scoped>\n",
       "    .dataframe tbody tr th:only-of-type {\n",
       "        vertical-align: middle;\n",
       "    }\n",
       "\n",
       "    .dataframe tbody tr th {\n",
       "        vertical-align: top;\n",
       "    }\n",
       "\n",
       "    .dataframe thead th {\n",
       "        text-align: right;\n",
       "    }\n",
       "</style>\n",
       "<table border=\"1\" class=\"dataframe\">\n",
       "  <thead>\n",
       "    <tr style=\"text-align: right;\">\n",
       "      <th></th>\n",
       "      <th>textos</th>\n",
       "      <th>labels</th>\n",
       "      <th>Conteo</th>\n",
       "      <th>Max</th>\n",
       "      <th>Min</th>\n",
       "      <th>tokens</th>\n",
       "      <th>tokens_sin_innecesarios</th>\n",
       "      <th>lematizados</th>\n",
       "    </tr>\n",
       "  </thead>\n",
       "  <tbody>\n",
       "    <tr>\n",
       "      <th>0</th>\n",
       "      <td>aprendizaje y educación se consideran sinónimo...</td>\n",
       "      <td>4</td>\n",
       "      <td>352</td>\n",
       "      <td>14</td>\n",
       "      <td>1</td>\n",
       "      <td>[aprendizaje, y, educación, se, consideran, si...</td>\n",
       "      <td>[aprendizaje, educación, consideran, sinónimos...</td>\n",
       "      <td>[aprendizaje, educación, considerar, sinónir, ...</td>\n",
       "    </tr>\n",
       "    <tr>\n",
       "      <th>1</th>\n",
       "      <td>para los niños más pequeños bebés y niños pequ...</td>\n",
       "      <td>4</td>\n",
       "      <td>516</td>\n",
       "      <td>16</td>\n",
       "      <td>1</td>\n",
       "      <td>[para, los, niños, más, pequeños, bebés, y, ni...</td>\n",
       "      <td>[niños, pequeños, bebés, niños, pequeños, capa...</td>\n",
       "      <td>[niño, pequeño, bebé, niño, pequeño, capacitac...</td>\n",
       "    </tr>\n",
       "    <tr>\n",
       "      <th>2</th>\n",
       "      <td>además la formación de especialistas en medici...</td>\n",
       "      <td>3</td>\n",
       "      <td>659</td>\n",
       "      <td>15</td>\n",
       "      <td>1</td>\n",
       "      <td>[además, la, formación, de, especialistas, en,...</td>\n",
       "      <td>[formación, especialistas, medicina, general, ...</td>\n",
       "      <td>[formación, especialista, medicín, general, in...</td>\n",
       "    </tr>\n",
       "    <tr>\n",
       "      <th>3</th>\n",
       "      <td>en los países de la ocde se tiende a pasar de ...</td>\n",
       "      <td>4</td>\n",
       "      <td>693</td>\n",
       "      <td>18</td>\n",
       "      <td>1</td>\n",
       "      <td>[en, los, países, de, la, ocde, se, tiende, a,...</td>\n",
       "      <td>[países, ocde, tiende, pasar, cursos, obligato...</td>\n",
       "      <td>[país, ocde, tender, pasar, curso, obligatorio...</td>\n",
       "    </tr>\n",
       "    <tr>\n",
       "      <th>4</th>\n",
       "      <td>este grupo se centró en las personas que padec...</td>\n",
       "      <td>3</td>\n",
       "      <td>608</td>\n",
       "      <td>14</td>\n",
       "      <td>0</td>\n",
       "      <td>[este, grupo, se, centró, en, las, personas, q...</td>\n",
       "      <td>[grupo, centró, personas, padecen, trastornos,...</td>\n",
       "      <td>[grupo, centrar, persona, padecer, trastorno, ...</td>\n",
       "    </tr>\n",
       "  </tbody>\n",
       "</table>\n",
       "</div>"
      ],
      "text/plain": [
       "                                              textos  labels  Conteo  Max  \\\n",
       "0  aprendizaje y educación se consideran sinónimo...       4     352   14   \n",
       "1  para los niños más pequeños bebés y niños pequ...       4     516   16   \n",
       "2  además la formación de especialistas en medici...       3     659   15   \n",
       "3  en los países de la ocde se tiende a pasar de ...       4     693   18   \n",
       "4  este grupo se centró en las personas que padec...       3     608   14   \n",
       "\n",
       "   Min                                             tokens  \\\n",
       "0    1  [aprendizaje, y, educación, se, consideran, si...   \n",
       "1    1  [para, los, niños, más, pequeños, bebés, y, ni...   \n",
       "2    1  [además, la, formación, de, especialistas, en,...   \n",
       "3    1  [en, los, países, de, la, ocde, se, tiende, a,...   \n",
       "4    0  [este, grupo, se, centró, en, las, personas, q...   \n",
       "\n",
       "                             tokens_sin_innecesarios  \\\n",
       "0  [aprendizaje, educación, consideran, sinónimos...   \n",
       "1  [niños, pequeños, bebés, niños, pequeños, capa...   \n",
       "2  [formación, especialistas, medicina, general, ...   \n",
       "3  [países, ocde, tiende, pasar, cursos, obligato...   \n",
       "4  [grupo, centró, personas, padecen, trastornos,...   \n",
       "\n",
       "                                         lematizados  \n",
       "0  [aprendizaje, educación, considerar, sinónir, ...  \n",
       "1  [niño, pequeño, bebé, niño, pequeño, capacitac...  \n",
       "2  [formación, especialista, medicín, general, in...  \n",
       "3  [país, ocde, tender, pasar, curso, obligatorio...  \n",
       "4  [grupo, centrar, persona, padecer, trastorno, ...  "
      ]
     },
     "execution_count": 53,
     "metadata": {},
     "output_type": "execute_result"
    }
   ],
   "source": [
    "def lematizar_tokens(df: pd.DataFrame):\n",
    "    lemas = []\n",
    "    for lista in df['tokens_sin_innecesarios']:\n",
    "\n",
    "        texto = \" \".join(lista)\n",
    "        doc = nlp(texto)\n",
    "        lemas.append([token.lemma_ for token in doc if not token.is_punct and not token.is_space])\n",
    "    \n",
    "    df['lematizados'] = lemas\n",
    "    return df\n",
    "\n",
    "df = lematizar_tokens(df)\n",
    "df.head()"
   ]
  },
  {
   "cell_type": "markdown",
   "id": "beca426d",
   "metadata": {},
   "source": [
    "### Analisis de frecuencia de palabras"
   ]
  },
  {
   "cell_type": "code",
   "execution_count": 54,
   "id": "d2034e56",
   "metadata": {},
   "outputs": [
    {
     "data": {
      "application/vnd.microsoft.datawrangler.viewer.v0+json": {
       "columns": [
        {
         "name": "index",
         "rawType": "int64",
         "type": "integer"
        },
        {
         "name": "Palabra",
         "rawType": "object",
         "type": "string"
        },
        {
         "name": "Peso Promedio",
         "rawType": "float64",
         "type": "float"
        }
       ],
       "ref": "4d801a72-ca33-4ebe-94e2-59bc38bcf0e0",
       "rows": [
        [
         "0",
         "salud",
         "0.027881835481588454"
        ],
        [
         "1",
         "educación",
         "0.025477209009816707"
        ],
        [
         "2",
         "país",
         "0.025255984285644986"
        ],
        [
         "3",
         "escuela",
         "0.024556017910307863"
        ],
        [
         "4",
         "atención",
         "0.02405208694751197"
        ],
        [
         "5",
         "pobreza",
         "0.022992774506095562"
        ],
        [
         "6",
         "sistema",
         "0.01852144854089886"
        ],
        [
         "7",
         "año",
         "0.018438035650847666"
        ],
        [
         "8",
         "nivel",
         "0.018388803244835647"
        ],
        [
         "9",
         "servicio",
         "0.017348007493561943"
        ]
       ],
       "shape": {
        "columns": 2,
        "rows": 10
       }
      },
      "text/html": [
       "<div>\n",
       "<style scoped>\n",
       "    .dataframe tbody tr th:only-of-type {\n",
       "        vertical-align: middle;\n",
       "    }\n",
       "\n",
       "    .dataframe tbody tr th {\n",
       "        vertical-align: top;\n",
       "    }\n",
       "\n",
       "    .dataframe thead th {\n",
       "        text-align: right;\n",
       "    }\n",
       "</style>\n",
       "<table border=\"1\" class=\"dataframe\">\n",
       "  <thead>\n",
       "    <tr style=\"text-align: right;\">\n",
       "      <th></th>\n",
       "      <th>Palabra</th>\n",
       "      <th>Peso Promedio</th>\n",
       "    </tr>\n",
       "  </thead>\n",
       "  <tbody>\n",
       "    <tr>\n",
       "      <th>0</th>\n",
       "      <td>salud</td>\n",
       "      <td>0.027882</td>\n",
       "    </tr>\n",
       "    <tr>\n",
       "      <th>1</th>\n",
       "      <td>educación</td>\n",
       "      <td>0.025477</td>\n",
       "    </tr>\n",
       "    <tr>\n",
       "      <th>2</th>\n",
       "      <td>país</td>\n",
       "      <td>0.025256</td>\n",
       "    </tr>\n",
       "    <tr>\n",
       "      <th>3</th>\n",
       "      <td>escuela</td>\n",
       "      <td>0.024556</td>\n",
       "    </tr>\n",
       "    <tr>\n",
       "      <th>4</th>\n",
       "      <td>atención</td>\n",
       "      <td>0.024052</td>\n",
       "    </tr>\n",
       "    <tr>\n",
       "      <th>5</th>\n",
       "      <td>pobreza</td>\n",
       "      <td>0.022993</td>\n",
       "    </tr>\n",
       "    <tr>\n",
       "      <th>6</th>\n",
       "      <td>sistema</td>\n",
       "      <td>0.018521</td>\n",
       "    </tr>\n",
       "    <tr>\n",
       "      <th>7</th>\n",
       "      <td>año</td>\n",
       "      <td>0.018438</td>\n",
       "    </tr>\n",
       "    <tr>\n",
       "      <th>8</th>\n",
       "      <td>nivel</td>\n",
       "      <td>0.018389</td>\n",
       "    </tr>\n",
       "    <tr>\n",
       "      <th>9</th>\n",
       "      <td>servicio</td>\n",
       "      <td>0.017348</td>\n",
       "    </tr>\n",
       "  </tbody>\n",
       "</table>\n",
       "</div>"
      ],
      "text/plain": [
       "     Palabra  Peso Promedio\n",
       "0      salud       0.027882\n",
       "1  educación       0.025477\n",
       "2       país       0.025256\n",
       "3    escuela       0.024556\n",
       "4   atención       0.024052\n",
       "5    pobreza       0.022993\n",
       "6    sistema       0.018521\n",
       "7        año       0.018438\n",
       "8      nivel       0.018389\n",
       "9   servicio       0.017348"
      ]
     },
     "execution_count": 54,
     "metadata": {},
     "output_type": "execute_result"
    }
   ],
   "source": [
    "def frecuenciasPorPalabra(df: pd.DataFrame, vectorizer=vectorizer):\n",
    "    textos = [\" \".join(tokens) for tokens in df['lematizados']]\n",
    "    X = vectorizer.fit_transform(textos)\n",
    "    palabras = vectorizer.get_feature_names_out()\n",
    "    pesosPromedio = np.asarray(X.mean(axis=0)).ravel()\n",
    "    freq_df = pd.DataFrame({'Palabra': palabras, 'Peso Promedio': pesosPromedio})\n",
    "    freq_df = freq_df.sort_values(by='Peso Promedio', ascending=False).reset_index(drop=True)\n",
    "    return freq_df\n",
    "\n",
    "freq_df = frecuenciasPorPalabra(df)\n",
    "freq_df.head(10)\n"
   ]
  },
  {
   "cell_type": "code",
   "execution_count": 55,
   "id": "17d60bb5",
   "metadata": {},
   "outputs": [
    {
     "data": {
      "image/png": "[encoded data removed]",
      "text/plain": [
       "<Figure size 1200x600 with 1 Axes>"
      ]
     },
     "metadata": {},
     "output_type": "display_data"
    }
   ],
   "source": [
    "#plot frecuencias\n",
    "plt.figure(figsize=(12,6))\n",
    "plt.bar(freq_df['Palabra'][:20], freq_df['Peso Promedio'][:20], color='teal', edgecolor='black')\n",
    "plt.title('Top 20 Palabras por Peso Promedio (TF-IDF)')\n",
    "plt.xlabel('Palabras')\n",
    "plt.ylabel('Peso Promedio (TF-IDF)')\n",
    "plt.xticks(rotation=45)\n",
    "plt.grid(axis='y', alpha=0.75)\n",
    "plt.show()"
   ]
  },
  {
   "cell_type": "markdown",
   "id": "2228810e",
   "metadata": {},
   "source": [
    "# Implementación del modelo\n",
    "Ahora despues de haber analizado los datos y hacer el proceso para mejorar la calidad de estos, empezaremos a hacer el modelo, en este caso haremos uso del algoritmo KNN (K-Nearest Neighbors) para poder clasificar nuestros datos"
   ]
  },
  {
   "cell_type": "code",
   "execution_count": 56,
   "id": "b94db3dc",
   "metadata": {},
   "outputs": [
    {
     "data": {
      "application/vnd.microsoft.datawrangler.viewer.v0+json": {
       "columns": [
        {
         "name": "index",
         "rawType": "int64",
         "type": "integer"
        },
        {
         "name": "textos",
         "rawType": "string",
         "type": "string"
        },
        {
         "name": "labels",
         "rawType": "int64",
         "type": "integer"
        },
        {
         "name": "Conteo",
         "rawType": "int64",
         "type": "integer"
        },
        {
         "name": "Max",
         "rawType": "int64",
         "type": "integer"
        },
        {
         "name": "Min",
         "rawType": "int64",
         "type": "integer"
        },
        {
         "name": "tokens",
         "rawType": "object",
         "type": "unknown"
        },
        {
         "name": "tokens_sin_innecesarios",
         "rawType": "object",
         "type": "unknown"
        },
        {
         "name": "lematizados",
         "rawType": "object",
         "type": "unknown"
        }
       ],
       "ref": "f5ccf839-522d-4369-ab21-86bd0eeaffa0",
       "rows": [
        [
         "0",
         "aprendizaje y educación se consideran sinónimos de escolarización formal las organizaciones auxiliares como las editoriales de educación las juntas examinadoras y las organizaciones de formación de docentes se consideran extensiones de los acuerdos establecidos por los gobiernos este marco de comprensión se ha vuelto cada vez más inadecuado",
         "4",
         "352",
         "14",
         "1",
         "['aprendizaje', 'y', 'educación', 'se', 'consideran', 'sinónimos', 'de', 'escolarización', 'formal', 'las', 'organizaciones', 'auxiliares', 'como', 'las', 'editoriales', 'de', 'educación', 'las', 'juntas', 'examinadoras', 'y', 'las', 'organizaciones', 'de', 'formación', 'de', 'docentes', 'se', 'consideran', 'extensiones', 'de', 'los', 'acuerdos', 'establecidos', 'por', 'los', 'gobiernos', 'este', 'marco', 'de', 'comprensión', 'se', 'ha', 'vuelto', 'cada', 'vez', 'más', 'inadecuado']",
         "['aprendizaje', 'educación', 'consideran', 'sinónimos', 'escolarización', 'formal', 'organizaciones', 'auxiliares', 'editoriales', 'educación', 'juntas', 'examinadoras', 'organizaciones', 'formación', 'docentes', 'consideran', 'extensiones', 'acuerdos', 'establecidos', 'gobiernos', 'marco', 'comprensión', 'vuelto', 'inadecuado']",
         "['aprendizaje', 'educación', 'considerar', 'sinónir', 'escolarización', 'formal', 'organización', 'auxiliar', 'editorial', 'educación', 'junto', 'examinadora', 'organización', 'formación', 'docente', 'considerar', 'extensión', 'acuerdo', 'establecido', 'gobierno', 'marco', 'comprensión', 'vuelto', 'inadecuado']"
        ],
        [
         "1",
         "para los niños más pequeños bebés y niños pequeños la capacitación especializada y práctica parece estar más fuertemente asociada con la calidad pedagógica y los resultados cognitivos y sociales los educadores de la primera infancia se encuentran con entornos sociales cada vez más complejos y se encuentran con una multiplicidad de antecedentes y experiencias familiares estos factores crean imperativos para adoptar nuevas pedagogías y prácticas organizacionales para acomodar este pluralismo elliott 2006",
         "4",
         "516",
         "16",
         "1",
         "['para', 'los', 'niños', 'más', 'pequeños', 'bebés', 'y', 'niños', 'pequeños', 'la', 'capacitación', 'especializada', 'y', 'práctica', 'parece', 'estar', 'más', 'fuertemente', 'asociada', 'con', 'la', 'calidad', 'pedagógica', 'y', 'los', 'resultados', 'cognitivos', 'y', 'sociales', 'los', 'educadores', 'de', 'la', 'primera', 'infancia', 'se', 'encuentran', 'con', 'entornos', 'sociales', 'cada', 'vez', 'más', 'complejos', 'y', 'se', 'encuentran', 'con', 'una', 'multiplicidad', 'de', 'antecedentes', 'y', 'experiencias', 'familiares', 'estos', 'factores', 'crean', 'imperativos', 'para', 'adoptar', 'nuevas', 'pedagogías', 'y', 'prácticas', 'organizacionales', 'para', 'acomodar', 'este', 'pluralismo', 'elliott', '2006']",
         "['niños', 'pequeños', 'bebés', 'niños', 'pequeños', 'capacitación', 'especializada', 'práctica', 'fuertemente', 'asociada', 'calidad', 'pedagógica', 'resultados', 'cognitivos', 'sociales', 'educadores', 'infancia', 'encuentran', 'entornos', 'sociales', 'complejos', 'encuentran', 'multiplicidad', 'antecedentes', 'experiencias', 'familiares', 'factores', 'crean', 'imperativos', 'adoptar', 'pedagogías', 'prácticas', 'organizacionales', 'acomodar', 'pluralismo', 'elliott', '2006']",
         "['niño', 'pequeño', 'bebé', 'niño', 'pequeño', 'capacitación', 'especializado', 'práctico', 'fuertemente', 'asociado', 'calidad', 'pedagógico', 'resultado', 'cognitivo', 'social', 'educador', 'infancio', 'encontrar', 'entorno', 'social', 'complejo', 'encontrar', 'multiplicidad', 'antecedent', 'experiencia', 'familiar', 'factor', 'crear', 'imperativo', 'adoptar', 'pedagogía', 'práctico', 'organizacional', 'acomodar', 'pluralismo', 'elliott', '2006']"
        ],
        [
         "2",
         "además la formación de especialistas en medicina general también incluye tareas que requieren un conocimiento más profundo de problemas comunes de salud pública incluida la salud mental cuestionario de salud mental de la ocde 2013 dado que no hay control en la atención primaria para limitar el acceso a los servicios de salud mental especializados muchos pacientes que necesitan tratamiento para trastornos mentales graves en particular pueden buscar atención de nivel especializado directamente los servicios de especialistas en psiquiatría se brindan principalmente en las salas ambulatorias de psiquiatría ubicadas en los hospitales generales",
         "3",
         "659",
         "15",
         "1",
         "['además', 'la', 'formación', 'de', 'especialistas', 'en', 'medicina', 'general', 'también', 'incluye', 'tareas', 'que', 'requieren', 'un', 'conocimiento', 'más', 'profundo', 'de', 'problemas', 'comunes', 'de', 'salud', 'pública', 'incluida', 'la', 'salud', 'mental', 'cuestionario', 'de', 'salud', 'mental', 'de', 'la', 'ocde', '2013', 'dado', 'que', 'no', 'hay', 'control', 'en', 'la', 'atención', 'primaria', 'para', 'limitar', 'el', 'acceso', 'a', 'los', 'servicios', 'de', 'salud', 'mental', 'especializados', 'muchos', 'pacientes', 'que', 'necesitan', 'tratamiento', 'para', 'trastornos', 'mentales', 'graves', 'en', 'particular', 'pueden', 'buscar', 'atención', 'de', 'nivel', 'especializado', 'directamente', 'los', 'servicios', 'de', 'especialistas', 'en', 'psiquiatría', 'se', 'brindan', 'principalmente', 'en', 'las', 'salas', 'ambulatorias', 'de', 'psiquiatría', 'ubicadas', 'en', 'los', 'hospitales', 'generales']",
         "['formación', 'especialistas', 'medicina', 'general', 'incluye', 'tareas', 'requieren', 'conocimiento', 'profundo', 'problemas', 'comunes', 'salud', 'pública', 'incluida', 'salud', 'mental', 'cuestionario', 'salud', 'mental', 'ocde', '2013', 'control', 'atención', 'primaria', 'limitar', 'acceso', 'servicios', 'salud', 'mental', 'especializados', 'pacientes', 'necesitan', 'tratamiento', 'trastornos', 'mentales', 'graves', 'particular', 'buscar', 'atención', 'nivel', 'especializado', 'directamente', 'servicios', 'especialistas', 'psiquiatría', 'brindan', 'principalmente', 'salas', 'ambulatorias', 'psiquiatría', 'ubicadas', 'hospitales', 'generales']",
         "['formación', 'especialista', 'medicín', 'general', 'incluir', 'tarea', 'requerir', 'conocimiento', 'profundo', 'problema', 'común', 'salud', 'público', 'incluido', 'salud', 'mental', 'cuestionario', 'salud', 'mental', 'ocde', '2013', 'control', 'atención', 'primario', 'limitar', 'acceso', 'servicio', 'salud', 'mental', 'especializado', 'paciente', 'necesitar', 'tratamiento', 'trastorno', 'mental', 'grave', 'particular', 'buscar', 'atención', 'nivel', 'especializado', 'directamente', 'servicio', 'especialista', 'psiquiatrío', 'brindar', 'principalmente', 'sala', 'ambulatoria', 'psiquiater', 'ubicado', 'hospital', 'general']"
        ],
        [
         "3",
         "en los países de la ocde se tiende a pasar de los cursos obligatorios a los optativos abiertos a estudiantes de distintas facultades y escuelas este planteamiento facilita la formación de equipos de estudiantes con distintas formaciones e intereses el trabajo en equipos interdisciplinares permite a los individuos concentrarse en lo que mejor saben y les gusta y al mismo tiempo familiarizarse con nuevos conocimientos que pueden asociarse a una nueva forma de resolver un problema o crear un nuevo producto o servicio no está claro hasta qué punto estos cursos utilizan métodos pedagógicos creativos y se adaptan a las necesidades de los estudiantes de grado postgrado y licenciatura",
         "4",
         "693",
         "18",
         "1",
         "['en', 'los', 'países', 'de', 'la', 'ocde', 'se', 'tiende', 'a', 'pasar', 'de', 'los', 'cursos', 'obligatorios', 'a', 'los', 'optativos', 'abiertos', 'a', 'estudiantes', 'de', 'distintas', 'facultades', 'y', 'escuelas', 'este', 'planteamiento', 'facilita', 'la', 'formación', 'de', 'equipos', 'de', 'estudiantes', 'con', 'distintas', 'formaciones', 'e', 'intereses', 'el', 'trabajo', 'en', 'equipos', 'interdisciplinares', 'permite', 'a', 'los', 'individuos', 'concentrarse', 'en', 'lo', 'que', 'mejor', 'saben', 'y', 'les', 'gusta', 'y', 'al', 'mismo', 'tiempo', 'familiarizarse', 'con', 'nuevos', 'conocimientos', 'que', 'pueden', 'asociarse', 'a', 'una', 'nueva', 'forma', 'de', 'resolver', 'un', 'problema', 'o', 'crear', 'un', 'nuevo', 'producto', 'o', 'servicio', 'no', 'está', 'claro', 'hasta', 'qué', 'punto', 'estos', 'cursos', 'utilizan', 'métodos', 'pedagógicos', 'creativos', 'y', 'se', 'adaptan', 'a', 'las', 'necesidades', 'de', 'los', 'estudiantes', 'de', 'grado', 'postgrado', 'y', 'licenciatura']",
         "['países', 'ocde', 'tiende', 'pasar', 'cursos', 'obligatorios', 'optativos', 'abiertos', 'estudiantes', 'distintas', 'facultades', 'escuelas', 'planteamiento', 'facilita', 'formación', 'equipos', 'estudiantes', 'distintas', 'formaciones', 'intereses', 'trabajo', 'equipos', 'interdisciplinares', 'permite', 'individuos', 'concentrarse', 'gusta', 'tiempo', 'familiarizarse', 'conocimientos', 'asociarse', 'forma', 'resolver', 'problema', 'crear', 'producto', 'servicio', 'punto', 'cursos', 'utilizan', 'métodos', 'pedagógicos', 'creativos', 'adaptan', 'necesidades', 'estudiantes', 'grado', 'postgrado', 'licenciatura']",
         "['país', 'ocde', 'tender', 'pasar', 'curso', 'obligatorio', 'optativo', 'abierto', 'estudiante', 'distinto', 'facultad', 'escuela', 'planteamiento', 'facilitar', 'formación', 'equipo', 'estudiant', 'distinto', 'formación', 'interés', 'trabajar', 'equipo', 'interdisciplinar', 'permitir', 'individuo', 'concentrar él', 'gusta', 'tiempo', 'familiarizar él', 'conocimiento', 'asociar él', 'forma', 'resolver', 'problema', 'crear', 'producto', 'servicio', 'punto', 'curso', 'utilizar', 'método', 'pedagógico', 'creativo', 'adaptar', 'necesidad', 'estudiant', 'grado', 'postgrado', 'licenciatura']"
        ],
        [
         "4",
         "este grupo se centró en las personas que padecen trastornos mentales con comorbilidad de abuso de sustancias mientras que la demencia la discapacidad intelectual y el abuso de sustancias por sà solos quedaron excluidos del ámbito de análisis con 90 millones de euros de financiación la comisión dispuso de tres años para iniciar y apoyar el desarrollo de proyectos a todos los niveles tratamiento médico mejora de los servicios proyectos de vivienda mejoras legislativas y organizativas y proponer las medidas necesarias para elevar de forma permanente el nivel de los servicios de salud mental",
         "3",
         "608",
         "14",
         "0",
         "['este', 'grupo', 'se', 'centró', 'en', 'las', 'personas', 'que', 'padecen', 'trastornos', 'mentales', 'con', 'comorbilidad', 'de', 'abuso', 'de', 'sustancias', 'mientras', 'que', 'la', 'demencia', 'la', 'discapacidad', 'intelectual', 'y', 'el', 'abuso', 'de', 'sustancias', 'por', 'sà', 'solos', 'quedaron', 'excluidos', 'del', 'ámbito', 'de', 'análisis', 'con', '90', 'millones', 'de', 'euros', 'de', 'financiación', 'la', 'comisión', 'dispuso', 'de', 'tres', 'años', 'para', 'iniciar', 'y', 'apoyar', 'el', 'desarrollo', 'de', 'proyectos', 'a', 'todos', 'los', 'niveles', 'tratamiento', 'médico', 'mejora', 'de', 'los', 'servicios', 'proyectos', 'de', 'vivienda', 'mejoras', 'legislativas', 'y', 'organizativas', 'y', 'proponer', 'las', 'medidas', 'necesarias', 'para', 'elevar', 'de', 'forma', 'permanente', 'el', 'nivel', 'de', 'los', 'servicios', 'de', 'salud', 'mental']",
         "['grupo', 'centró', 'personas', 'padecen', 'trastornos', 'mentales', 'comorbilidad', 'abuso', 'sustancias', 'demencia', 'discapacidad', 'intelectual', 'abuso', 'sustancias', 'sà', 'quedaron', 'excluidos', 'ámbito', 'análisis', '90', 'millones', 'euros', 'financiación', 'comisión', 'dispuso', 'años', 'iniciar', 'apoyar', 'desarrollo', 'proyectos', 'niveles', 'tratamiento', 'médico', 'mejora', 'servicios', 'proyectos', 'vivienda', 'mejoras', 'legislativas', 'organizativas', 'proponer', 'medidas', 'necesarias', 'elevar', 'forma', 'permanente', 'nivel', 'servicios', 'salud', 'mental']",
         "['grupo', 'centrar', 'persona', 'padecer', 'trastorno', 'mental', 'comorbilidad', 'abuso', 'sustancia', 'demencia', 'discapacidad', 'intelectual', 'abuso', 'sustancia', 'sà', 'quedar', 'excluido', 'ámbito', 'análisis', '90', 'millón', 'euro', 'financiación', 'comisión', 'disponer', 'año', 'iniciar', 'apoyar', 'desarrollo', 'proyecto', 'nivel', 'tratamiento', 'médico', 'mejorar', 'servicio', 'proyecto', 'viviendar', 'mejora', 'legislativo', 'organizativo', 'proponer', 'medida', 'necesario', 'elevar', 'forma', 'permanente', 'nivel', 'servicio', 'salud', 'mental']"
        ]
       ],
       "shape": {
        "columns": 8,
        "rows": 5
       }
      },
      "text/html": [
       "<div>\n",
       "<style scoped>\n",
       "    .dataframe tbody tr th:only-of-type {\n",
       "        vertical-align: middle;\n",
       "    }\n",
       "\n",
       "    .dataframe tbody tr th {\n",
       "        vertical-align: top;\n",
       "    }\n",
       "\n",
       "    .dataframe thead th {\n",
       "        text-align: right;\n",
       "    }\n",
       "</style>\n",
       "<table border=\"1\" class=\"dataframe\">\n",
       "  <thead>\n",
       "    <tr style=\"text-align: right;\">\n",
       "      <th></th>\n",
       "      <th>textos</th>\n",
       "      <th>labels</th>\n",
       "      <th>Conteo</th>\n",
       "      <th>Max</th>\n",
       "      <th>Min</th>\n",
       "      <th>tokens</th>\n",
       "      <th>tokens_sin_innecesarios</th>\n",
       "      <th>lematizados</th>\n",
       "    </tr>\n",
       "  </thead>\n",
       "  <tbody>\n",
       "    <tr>\n",
       "      <th>0</th>\n",
       "      <td>aprendizaje y educación se consideran sinónimo...</td>\n",
       "      <td>4</td>\n",
       "      <td>352</td>\n",
       "      <td>14</td>\n",
       "      <td>1</td>\n",
       "      <td>[aprendizaje, y, educación, se, consideran, si...</td>\n",
       "      <td>[aprendizaje, educación, consideran, sinónimos...</td>\n",
       "      <td>[aprendizaje, educación, considerar, sinónir, ...</td>\n",
       "    </tr>\n",
       "    <tr>\n",
       "      <th>1</th>\n",
       "      <td>para los niños más pequeños bebés y niños pequ...</td>\n",
       "      <td>4</td>\n",
       "      <td>516</td>\n",
       "      <td>16</td>\n",
       "      <td>1</td>\n",
       "      <td>[para, los, niños, más, pequeños, bebés, y, ni...</td>\n",
       "      <td>[niños, pequeños, bebés, niños, pequeños, capa...</td>\n",
       "      <td>[niño, pequeño, bebé, niño, pequeño, capacitac...</td>\n",
       "    </tr>\n",
       "    <tr>\n",
       "      <th>2</th>\n",
       "      <td>además la formación de especialistas en medici...</td>\n",
       "      <td>3</td>\n",
       "      <td>659</td>\n",
       "      <td>15</td>\n",
       "      <td>1</td>\n",
       "      <td>[además, la, formación, de, especialistas, en,...</td>\n",
       "      <td>[formación, especialistas, medicina, general, ...</td>\n",
       "      <td>[formación, especialista, medicín, general, in...</td>\n",
       "    </tr>\n",
       "    <tr>\n",
       "      <th>3</th>\n",
       "      <td>en los países de la ocde se tiende a pasar de ...</td>\n",
       "      <td>4</td>\n",
       "      <td>693</td>\n",
       "      <td>18</td>\n",
       "      <td>1</td>\n",
       "      <td>[en, los, países, de, la, ocde, se, tiende, a,...</td>\n",
       "      <td>[países, ocde, tiende, pasar, cursos, obligato...</td>\n",
       "      <td>[país, ocde, tender, pasar, curso, obligatorio...</td>\n",
       "    </tr>\n",
       "    <tr>\n",
       "      <th>4</th>\n",
       "      <td>este grupo se centró en las personas que padec...</td>\n",
       "      <td>3</td>\n",
       "      <td>608</td>\n",
       "      <td>14</td>\n",
       "      <td>0</td>\n",
       "      <td>[este, grupo, se, centró, en, las, personas, q...</td>\n",
       "      <td>[grupo, centró, personas, padecen, trastornos,...</td>\n",
       "      <td>[grupo, centrar, persona, padecer, trastorno, ...</td>\n",
       "    </tr>\n",
       "  </tbody>\n",
       "</table>\n",
       "</div>"
      ],
      "text/plain": [
       "                                              textos  labels  Conteo  Max  \\\n",
       "0  aprendizaje y educación se consideran sinónimo...       4     352   14   \n",
       "1  para los niños más pequeños bebés y niños pequ...       4     516   16   \n",
       "2  además la formación de especialistas en medici...       3     659   15   \n",
       "3  en los países de la ocde se tiende a pasar de ...       4     693   18   \n",
       "4  este grupo se centró en las personas que padec...       3     608   14   \n",
       "\n",
       "   Min                                             tokens  \\\n",
       "0    1  [aprendizaje, y, educación, se, consideran, si...   \n",
       "1    1  [para, los, niños, más, pequeños, bebés, y, ni...   \n",
       "2    1  [además, la, formación, de, especialistas, en,...   \n",
       "3    1  [en, los, países, de, la, ocde, se, tiende, a,...   \n",
       "4    0  [este, grupo, se, centró, en, las, personas, q...   \n",
       "\n",
       "                             tokens_sin_innecesarios  \\\n",
       "0  [aprendizaje, educación, consideran, sinónimos...   \n",
       "1  [niños, pequeños, bebés, niños, pequeños, capa...   \n",
       "2  [formación, especialistas, medicina, general, ...   \n",
       "3  [países, ocde, tiende, pasar, cursos, obligato...   \n",
       "4  [grupo, centró, personas, padecen, trastornos,...   \n",
       "\n",
       "                                         lematizados  \n",
       "0  [aprendizaje, educación, considerar, sinónir, ...  \n",
       "1  [niño, pequeño, bebé, niño, pequeño, capacitac...  \n",
       "2  [formación, especialista, medicín, general, in...  \n",
       "3  [país, ocde, tender, pasar, curso, obligatorio...  \n",
       "4  [grupo, centrar, persona, padecer, trastorno, ...  "
      ]
     },
     "execution_count": 56,
     "metadata": {},
     "output_type": "execute_result"
    }
   ],
   "source": [
    "df.head()"
   ]
  },
  {
   "cell_type": "markdown",
   "id": "cbe9da15",
   "metadata": {},
   "source": [
    "Para hacer el analisis es necesario unir los tokens lematizados en un solo string por fila, ya que no se puede analizar uno por uno, sino que se analizan todas las palabras juntas"
   ]
  },
  {
   "cell_type": "code",
   "execution_count": 57,
   "id": "e3d876a0",
   "metadata": {},
   "outputs": [
    {
     "data": {
      "application/vnd.microsoft.datawrangler.viewer.v0+json": {
       "columns": [
        {
         "name": "index",
         "rawType": "int64",
         "type": "integer"
        },
        {
         "name": "textos",
         "rawType": "string",
         "type": "string"
        },
        {
         "name": "labels",
         "rawType": "int64",
         "type": "integer"
        },
        {
         "name": "Conteo",
         "rawType": "int64",
         "type": "integer"
        },
        {
         "name": "Max",
         "rawType": "int64",
         "type": "integer"
        },
        {
         "name": "Min",
         "rawType": "int64",
         "type": "integer"
        },
        {
         "name": "tokens",
         "rawType": "object",
         "type": "unknown"
        },
        {
         "name": "tokens_sin_innecesarios",
         "rawType": "object",
         "type": "unknown"
        },
        {
         "name": "lematizados",
         "rawType": "object",
         "type": "unknown"
        },
        {
         "name": "lematizados_str",
         "rawType": "object",
         "type": "string"
        }
       ],
       "ref": "7175c41b-ba90-4a1c-8aa0-cd24fbeae317",
       "rows": [
        [
         "0",
         "aprendizaje y educación se consideran sinónimos de escolarización formal las organizaciones auxiliares como las editoriales de educación las juntas examinadoras y las organizaciones de formación de docentes se consideran extensiones de los acuerdos establecidos por los gobiernos este marco de comprensión se ha vuelto cada vez más inadecuado",
         "4",
         "352",
         "14",
         "1",
         "['aprendizaje', 'y', 'educación', 'se', 'consideran', 'sinónimos', 'de', 'escolarización', 'formal', 'las', 'organizaciones', 'auxiliares', 'como', 'las', 'editoriales', 'de', 'educación', 'las', 'juntas', 'examinadoras', 'y', 'las', 'organizaciones', 'de', 'formación', 'de', 'docentes', 'se', 'consideran', 'extensiones', 'de', 'los', 'acuerdos', 'establecidos', 'por', 'los', 'gobiernos', 'este', 'marco', 'de', 'comprensión', 'se', 'ha', 'vuelto', 'cada', 'vez', 'más', 'inadecuado']",
         "['aprendizaje', 'educación', 'consideran', 'sinónimos', 'escolarización', 'formal', 'organizaciones', 'auxiliares', 'editoriales', 'educación', 'juntas', 'examinadoras', 'organizaciones', 'formación', 'docentes', 'consideran', 'extensiones', 'acuerdos', 'establecidos', 'gobiernos', 'marco', 'comprensión', 'vuelto', 'inadecuado']",
         "['aprendizaje', 'educación', 'considerar', 'sinónir', 'escolarización', 'formal', 'organización', 'auxiliar', 'editorial', 'educación', 'junto', 'examinadora', 'organización', 'formación', 'docente', 'considerar', 'extensión', 'acuerdo', 'establecido', 'gobierno', 'marco', 'comprensión', 'vuelto', 'inadecuado']",
         "aprendizaje educación considerar sinónir escolarización formal organización auxiliar editorial educación junto examinadora organización formación docente considerar extensión acuerdo establecido gobierno marco comprensión vuelto inadecuado"
        ],
        [
         "1",
         "para los niños más pequeños bebés y niños pequeños la capacitación especializada y práctica parece estar más fuertemente asociada con la calidad pedagógica y los resultados cognitivos y sociales los educadores de la primera infancia se encuentran con entornos sociales cada vez más complejos y se encuentran con una multiplicidad de antecedentes y experiencias familiares estos factores crean imperativos para adoptar nuevas pedagogías y prácticas organizacionales para acomodar este pluralismo elliott 2006",
         "4",
         "516",
         "16",
         "1",
         "['para', 'los', 'niños', 'más', 'pequeños', 'bebés', 'y', 'niños', 'pequeños', 'la', 'capacitación', 'especializada', 'y', 'práctica', 'parece', 'estar', 'más', 'fuertemente', 'asociada', 'con', 'la', 'calidad', 'pedagógica', 'y', 'los', 'resultados', 'cognitivos', 'y', 'sociales', 'los', 'educadores', 'de', 'la', 'primera', 'infancia', 'se', 'encuentran', 'con', 'entornos', 'sociales', 'cada', 'vez', 'más', 'complejos', 'y', 'se', 'encuentran', 'con', 'una', 'multiplicidad', 'de', 'antecedentes', 'y', 'experiencias', 'familiares', 'estos', 'factores', 'crean', 'imperativos', 'para', 'adoptar', 'nuevas', 'pedagogías', 'y', 'prácticas', 'organizacionales', 'para', 'acomodar', 'este', 'pluralismo', 'elliott', '2006']",
         "['niños', 'pequeños', 'bebés', 'niños', 'pequeños', 'capacitación', 'especializada', 'práctica', 'fuertemente', 'asociada', 'calidad', 'pedagógica', 'resultados', 'cognitivos', 'sociales', 'educadores', 'infancia', 'encuentran', 'entornos', 'sociales', 'complejos', 'encuentran', 'multiplicidad', 'antecedentes', 'experiencias', 'familiares', 'factores', 'crean', 'imperativos', 'adoptar', 'pedagogías', 'prácticas', 'organizacionales', 'acomodar', 'pluralismo', 'elliott', '2006']",
         "['niño', 'pequeño', 'bebé', 'niño', 'pequeño', 'capacitación', 'especializado', 'práctico', 'fuertemente', 'asociado', 'calidad', 'pedagógico', 'resultado', 'cognitivo', 'social', 'educador', 'infancio', 'encontrar', 'entorno', 'social', 'complejo', 'encontrar', 'multiplicidad', 'antecedent', 'experiencia', 'familiar', 'factor', 'crear', 'imperativo', 'adoptar', 'pedagogía', 'práctico', 'organizacional', 'acomodar', 'pluralismo', 'elliott', '2006']",
         "niño pequeño bebé niño pequeño capacitación especializado práctico fuertemente asociado calidad pedagógico resultado cognitivo social educador infancio encontrar entorno social complejo encontrar multiplicidad antecedent experiencia familiar factor crear imperativo adoptar pedagogía práctico organizacional acomodar pluralismo elliott 2006"
        ],
        [
         "2",
         "además la formación de especialistas en medicina general también incluye tareas que requieren un conocimiento más profundo de problemas comunes de salud pública incluida la salud mental cuestionario de salud mental de la ocde 2013 dado que no hay control en la atención primaria para limitar el acceso a los servicios de salud mental especializados muchos pacientes que necesitan tratamiento para trastornos mentales graves en particular pueden buscar atención de nivel especializado directamente los servicios de especialistas en psiquiatría se brindan principalmente en las salas ambulatorias de psiquiatría ubicadas en los hospitales generales",
         "3",
         "659",
         "15",
         "1",
         "['además', 'la', 'formación', 'de', 'especialistas', 'en', 'medicina', 'general', 'también', 'incluye', 'tareas', 'que', 'requieren', 'un', 'conocimiento', 'más', 'profundo', 'de', 'problemas', 'comunes', 'de', 'salud', 'pública', 'incluida', 'la', 'salud', 'mental', 'cuestionario', 'de', 'salud', 'mental', 'de', 'la', 'ocde', '2013', 'dado', 'que', 'no', 'hay', 'control', 'en', 'la', 'atención', 'primaria', 'para', 'limitar', 'el', 'acceso', 'a', 'los', 'servicios', 'de', 'salud', 'mental', 'especializados', 'muchos', 'pacientes', 'que', 'necesitan', 'tratamiento', 'para', 'trastornos', 'mentales', 'graves', 'en', 'particular', 'pueden', 'buscar', 'atención', 'de', 'nivel', 'especializado', 'directamente', 'los', 'servicios', 'de', 'especialistas', 'en', 'psiquiatría', 'se', 'brindan', 'principalmente', 'en', 'las', 'salas', 'ambulatorias', 'de', 'psiquiatría', 'ubicadas', 'en', 'los', 'hospitales', 'generales']",
         "['formación', 'especialistas', 'medicina', 'general', 'incluye', 'tareas', 'requieren', 'conocimiento', 'profundo', 'problemas', 'comunes', 'salud', 'pública', 'incluida', 'salud', 'mental', 'cuestionario', 'salud', 'mental', 'ocde', '2013', 'control', 'atención', 'primaria', 'limitar', 'acceso', 'servicios', 'salud', 'mental', 'especializados', 'pacientes', 'necesitan', 'tratamiento', 'trastornos', 'mentales', 'graves', 'particular', 'buscar', 'atención', 'nivel', 'especializado', 'directamente', 'servicios', 'especialistas', 'psiquiatría', 'brindan', 'principalmente', 'salas', 'ambulatorias', 'psiquiatría', 'ubicadas', 'hospitales', 'generales']",
         "['formación', 'especialista', 'medicín', 'general', 'incluir', 'tarea', 'requerir', 'conocimiento', 'profundo', 'problema', 'común', 'salud', 'público', 'incluido', 'salud', 'mental', 'cuestionario', 'salud', 'mental', 'ocde', '2013', 'control', 'atención', 'primario', 'limitar', 'acceso', 'servicio', 'salud', 'mental', 'especializado', 'paciente', 'necesitar', 'tratamiento', 'trastorno', 'mental', 'grave', 'particular', 'buscar', 'atención', 'nivel', 'especializado', 'directamente', 'servicio', 'especialista', 'psiquiatrío', 'brindar', 'principalmente', 'sala', 'ambulatoria', 'psiquiater', 'ubicado', 'hospital', 'general']",
         "formación especialista medicín general incluir tarea requerir conocimiento profundo problema común salud público incluido salud mental cuestionario salud mental ocde 2013 control atención primario limitar acceso servicio salud mental especializado paciente necesitar tratamiento trastorno mental grave particular buscar atención nivel especializado directamente servicio especialista psiquiatrío brindar principalmente sala ambulatoria psiquiater ubicado hospital general"
        ],
        [
         "3",
         "en los países de la ocde se tiende a pasar de los cursos obligatorios a los optativos abiertos a estudiantes de distintas facultades y escuelas este planteamiento facilita la formación de equipos de estudiantes con distintas formaciones e intereses el trabajo en equipos interdisciplinares permite a los individuos concentrarse en lo que mejor saben y les gusta y al mismo tiempo familiarizarse con nuevos conocimientos que pueden asociarse a una nueva forma de resolver un problema o crear un nuevo producto o servicio no está claro hasta qué punto estos cursos utilizan métodos pedagógicos creativos y se adaptan a las necesidades de los estudiantes de grado postgrado y licenciatura",
         "4",
         "693",
         "18",
         "1",
         "['en', 'los', 'países', 'de', 'la', 'ocde', 'se', 'tiende', 'a', 'pasar', 'de', 'los', 'cursos', 'obligatorios', 'a', 'los', 'optativos', 'abiertos', 'a', 'estudiantes', 'de', 'distintas', 'facultades', 'y', 'escuelas', 'este', 'planteamiento', 'facilita', 'la', 'formación', 'de', 'equipos', 'de', 'estudiantes', 'con', 'distintas', 'formaciones', 'e', 'intereses', 'el', 'trabajo', 'en', 'equipos', 'interdisciplinares', 'permite', 'a', 'los', 'individuos', 'concentrarse', 'en', 'lo', 'que', 'mejor', 'saben', 'y', 'les', 'gusta', 'y', 'al', 'mismo', 'tiempo', 'familiarizarse', 'con', 'nuevos', 'conocimientos', 'que', 'pueden', 'asociarse', 'a', 'una', 'nueva', 'forma', 'de', 'resolver', 'un', 'problema', 'o', 'crear', 'un', 'nuevo', 'producto', 'o', 'servicio', 'no', 'está', 'claro', 'hasta', 'qué', 'punto', 'estos', 'cursos', 'utilizan', 'métodos', 'pedagógicos', 'creativos', 'y', 'se', 'adaptan', 'a', 'las', 'necesidades', 'de', 'los', 'estudiantes', 'de', 'grado', 'postgrado', 'y', 'licenciatura']",
         "['países', 'ocde', 'tiende', 'pasar', 'cursos', 'obligatorios', 'optativos', 'abiertos', 'estudiantes', 'distintas', 'facultades', 'escuelas', 'planteamiento', 'facilita', 'formación', 'equipos', 'estudiantes', 'distintas', 'formaciones', 'intereses', 'trabajo', 'equipos', 'interdisciplinares', 'permite', 'individuos', 'concentrarse', 'gusta', 'tiempo', 'familiarizarse', 'conocimientos', 'asociarse', 'forma', 'resolver', 'problema', 'crear', 'producto', 'servicio', 'punto', 'cursos', 'utilizan', 'métodos', 'pedagógicos', 'creativos', 'adaptan', 'necesidades', 'estudiantes', 'grado', 'postgrado', 'licenciatura']",
         "['país', 'ocde', 'tender', 'pasar', 'curso', 'obligatorio', 'optativo', 'abierto', 'estudiante', 'distinto', 'facultad', 'escuela', 'planteamiento', 'facilitar', 'formación', 'equipo', 'estudiant', 'distinto', 'formación', 'interés', 'trabajar', 'equipo', 'interdisciplinar', 'permitir', 'individuo', 'concentrar él', 'gusta', 'tiempo', 'familiarizar él', 'conocimiento', 'asociar él', 'forma', 'resolver', 'problema', 'crear', 'producto', 'servicio', 'punto', 'curso', 'utilizar', 'método', 'pedagógico', 'creativo', 'adaptar', 'necesidad', 'estudiant', 'grado', 'postgrado', 'licenciatura']",
         "país ocde tender pasar curso obligatorio optativo abierto estudiante distinto facultad escuela planteamiento facilitar formación equipo estudiant distinto formación interés trabajar equipo interdisciplinar permitir individuo concentrar él gusta tiempo familiarizar él conocimiento asociar él forma resolver problema crear producto servicio punto curso utilizar método pedagógico creativo adaptar necesidad estudiant grado postgrado licenciatura"
        ],
        [
         "4",
         "este grupo se centró en las personas que padecen trastornos mentales con comorbilidad de abuso de sustancias mientras que la demencia la discapacidad intelectual y el abuso de sustancias por sà solos quedaron excluidos del ámbito de análisis con 90 millones de euros de financiación la comisión dispuso de tres años para iniciar y apoyar el desarrollo de proyectos a todos los niveles tratamiento médico mejora de los servicios proyectos de vivienda mejoras legislativas y organizativas y proponer las medidas necesarias para elevar de forma permanente el nivel de los servicios de salud mental",
         "3",
         "608",
         "14",
         "0",
         "['este', 'grupo', 'se', 'centró', 'en', 'las', 'personas', 'que', 'padecen', 'trastornos', 'mentales', 'con', 'comorbilidad', 'de', 'abuso', 'de', 'sustancias', 'mientras', 'que', 'la', 'demencia', 'la', 'discapacidad', 'intelectual', 'y', 'el', 'abuso', 'de', 'sustancias', 'por', 'sà', 'solos', 'quedaron', 'excluidos', 'del', 'ámbito', 'de', 'análisis', 'con', '90', 'millones', 'de', 'euros', 'de', 'financiación', 'la', 'comisión', 'dispuso', 'de', 'tres', 'años', 'para', 'iniciar', 'y', 'apoyar', 'el', 'desarrollo', 'de', 'proyectos', 'a', 'todos', 'los', 'niveles', 'tratamiento', 'médico', 'mejora', 'de', 'los', 'servicios', 'proyectos', 'de', 'vivienda', 'mejoras', 'legislativas', 'y', 'organizativas', 'y', 'proponer', 'las', 'medidas', 'necesarias', 'para', 'elevar', 'de', 'forma', 'permanente', 'el', 'nivel', 'de', 'los', 'servicios', 'de', 'salud', 'mental']",
         "['grupo', 'centró', 'personas', 'padecen', 'trastornos', 'mentales', 'comorbilidad', 'abuso', 'sustancias', 'demencia', 'discapacidad', 'intelectual', 'abuso', 'sustancias', 'sà', 'quedaron', 'excluidos', 'ámbito', 'análisis', '90', 'millones', 'euros', 'financiación', 'comisión', 'dispuso', 'años', 'iniciar', 'apoyar', 'desarrollo', 'proyectos', 'niveles', 'tratamiento', 'médico', 'mejora', 'servicios', 'proyectos', 'vivienda', 'mejoras', 'legislativas', 'organizativas', 'proponer', 'medidas', 'necesarias', 'elevar', 'forma', 'permanente', 'nivel', 'servicios', 'salud', 'mental']",
         "['grupo', 'centrar', 'persona', 'padecer', 'trastorno', 'mental', 'comorbilidad', 'abuso', 'sustancia', 'demencia', 'discapacidad', 'intelectual', 'abuso', 'sustancia', 'sà', 'quedar', 'excluido', 'ámbito', 'análisis', '90', 'millón', 'euro', 'financiación', 'comisión', 'disponer', 'año', 'iniciar', 'apoyar', 'desarrollo', 'proyecto', 'nivel', 'tratamiento', 'médico', 'mejorar', 'servicio', 'proyecto', 'viviendar', 'mejora', 'legislativo', 'organizativo', 'proponer', 'medida', 'necesario', 'elevar', 'forma', 'permanente', 'nivel', 'servicio', 'salud', 'mental']",
         "grupo centrar persona padecer trastorno mental comorbilidad abuso sustancia demencia discapacidad intelectual abuso sustancia sà quedar excluido ámbito análisis 90 millón euro financiación comisión disponer año iniciar apoyar desarrollo proyecto nivel tratamiento médico mejorar servicio proyecto viviendar mejora legislativo organizativo proponer medida necesario elevar forma permanente nivel servicio salud mental"
        ]
       ],
       "shape": {
        "columns": 9,
        "rows": 5
       }
      },
      "text/html": [
       "<div>\n",
       "<style scoped>\n",
       "    .dataframe tbody tr th:only-of-type {\n",
       "        vertical-align: middle;\n",
       "    }\n",
       "\n",
       "    .dataframe tbody tr th {\n",
       "        vertical-align: top;\n",
       "    }\n",
       "\n",
       "    .dataframe thead th {\n",
       "        text-align: right;\n",
       "    }\n",
       "</style>\n",
       "<table border=\"1\" class=\"dataframe\">\n",
       "  <thead>\n",
       "    <tr style=\"text-align: right;\">\n",
       "      <th></th>\n",
       "      <th>textos</th>\n",
       "      <th>labels</th>\n",
       "      <th>Conteo</th>\n",
       "      <th>Max</th>\n",
       "      <th>Min</th>\n",
       "      <th>tokens</th>\n",
       "      <th>tokens_sin_innecesarios</th>\n",
       "      <th>lematizados</th>\n",
       "      <th>lematizados_str</th>\n",
       "    </tr>\n",
       "  </thead>\n",
       "  <tbody>\n",
       "    <tr>\n",
       "      <th>0</th>\n",
       "      <td>aprendizaje y educación se consideran sinónimo...</td>\n",
       "      <td>4</td>\n",
       "      <td>352</td>\n",
       "      <td>14</td>\n",
       "      <td>1</td>\n",
       "      <td>[aprendizaje, y, educación, se, consideran, si...</td>\n",
       "      <td>[aprendizaje, educación, consideran, sinónimos...</td>\n",
       "      <td>[aprendizaje, educación, considerar, sinónir, ...</td>\n",
       "      <td>aprendizaje educación considerar sinónir escol...</td>\n",
       "    </tr>\n",
       "    <tr>\n",
       "      <th>1</th>\n",
       "      <td>para los niños más pequeños bebés y niños pequ...</td>\n",
       "      <td>4</td>\n",
       "      <td>516</td>\n",
       "      <td>16</td>\n",
       "      <td>1</td>\n",
       "      <td>[para, los, niños, más, pequeños, bebés, y, ni...</td>\n",
       "      <td>[niños, pequeños, bebés, niños, pequeños, capa...</td>\n",
       "      <td>[niño, pequeño, bebé, niño, pequeño, capacitac...</td>\n",
       "      <td>niño pequeño bebé niño pequeño capacitación es...</td>\n",
       "    </tr>\n",
       "    <tr>\n",
       "      <th>2</th>\n",
       "      <td>además la formación de especialistas en medici...</td>\n",
       "      <td>3</td>\n",
       "      <td>659</td>\n",
       "      <td>15</td>\n",
       "      <td>1</td>\n",
       "      <td>[además, la, formación, de, especialistas, en,...</td>\n",
       "      <td>[formación, especialistas, medicina, general, ...</td>\n",
       "      <td>[formación, especialista, medicín, general, in...</td>\n",
       "      <td>formación especialista medicín general incluir...</td>\n",
       "    </tr>\n",
       "    <tr>\n",
       "      <th>3</th>\n",
       "      <td>en los países de la ocde se tiende a pasar de ...</td>\n",
       "      <td>4</td>\n",
       "      <td>693</td>\n",
       "      <td>18</td>\n",
       "      <td>1</td>\n",
       "      <td>[en, los, países, de, la, ocde, se, tiende, a,...</td>\n",
       "      <td>[países, ocde, tiende, pasar, cursos, obligato...</td>\n",
       "      <td>[país, ocde, tender, pasar, curso, obligatorio...</td>\n",
       "      <td>país ocde tender pasar curso obligatorio optat...</td>\n",
       "    </tr>\n",
       "    <tr>\n",
       "      <th>4</th>\n",
       "      <td>este grupo se centró en las personas que padec...</td>\n",
       "      <td>3</td>\n",
       "      <td>608</td>\n",
       "      <td>14</td>\n",
       "      <td>0</td>\n",
       "      <td>[este, grupo, se, centró, en, las, personas, q...</td>\n",
       "      <td>[grupo, centró, personas, padecen, trastornos,...</td>\n",
       "      <td>[grupo, centrar, persona, padecer, trastorno, ...</td>\n",
       "      <td>grupo centrar persona padecer trastorno mental...</td>\n",
       "    </tr>\n",
       "  </tbody>\n",
       "</table>\n",
       "</div>"
      ],
      "text/plain": [
       "                                              textos  labels  Conteo  Max  \\\n",
       "0  aprendizaje y educación se consideran sinónimo...       4     352   14   \n",
       "1  para los niños más pequeños bebés y niños pequ...       4     516   16   \n",
       "2  además la formación de especialistas en medici...       3     659   15   \n",
       "3  en los países de la ocde se tiende a pasar de ...       4     693   18   \n",
       "4  este grupo se centró en las personas que padec...       3     608   14   \n",
       "\n",
       "   Min                                             tokens  \\\n",
       "0    1  [aprendizaje, y, educación, se, consideran, si...   \n",
       "1    1  [para, los, niños, más, pequeños, bebés, y, ni...   \n",
       "2    1  [además, la, formación, de, especialistas, en,...   \n",
       "3    1  [en, los, países, de, la, ocde, se, tiende, a,...   \n",
       "4    0  [este, grupo, se, centró, en, las, personas, q...   \n",
       "\n",
       "                             tokens_sin_innecesarios  \\\n",
       "0  [aprendizaje, educación, consideran, sinónimos...   \n",
       "1  [niños, pequeños, bebés, niños, pequeños, capa...   \n",
       "2  [formación, especialistas, medicina, general, ...   \n",
       "3  [países, ocde, tiende, pasar, cursos, obligato...   \n",
       "4  [grupo, centró, personas, padecen, trastornos,...   \n",
       "\n",
       "                                         lematizados  \\\n",
       "0  [aprendizaje, educación, considerar, sinónir, ...   \n",
       "1  [niño, pequeño, bebé, niño, pequeño, capacitac...   \n",
       "2  [formación, especialista, medicín, general, in...   \n",
       "3  [país, ocde, tender, pasar, curso, obligatorio...   \n",
       "4  [grupo, centrar, persona, padecer, trastorno, ...   \n",
       "\n",
       "                                     lematizados_str  \n",
       "0  aprendizaje educación considerar sinónir escol...  \n",
       "1  niño pequeño bebé niño pequeño capacitación es...  \n",
       "2  formación especialista medicín general incluir...  \n",
       "3  país ocde tender pasar curso obligatorio optat...  \n",
       "4  grupo centrar persona padecer trastorno mental...  "
      ]
     },
     "execution_count": 57,
     "metadata": {},
     "output_type": "execute_result"
    }
   ],
   "source": [
    "df['lematizados_str'] = df['lematizados'].apply(lambda tokens: ' '.join(tokens))\n",
    "df.head()"
   ]
  },
  {
   "cell_type": "markdown",
   "id": "36431643",
   "metadata": {},
   "source": [
    "Asignamos un 20% del dataset para que sea analizado como parte de pruebasm mientras que el 80% se designara netamente en el entrenamiento del modelo con el algoritmo KNN"
   ]
  },
  {
   "cell_type": "code",
   "execution_count": null,
   "id": "b68b6eed",
   "metadata": {},
   "outputs": [
    {
     "name": "stdout",
     "output_type": "stream",
     "text": [
      "Train: 1696 registros (69.97%)\n",
      "Validation: 243 registros (10.02%)\n",
      "Test: 485 registros (20.01%)\n"
     ]
    }
   ],
   "source": [
    "X_train1, X_test, yRestante, yTest = train_test_split(df['lematizados_str'], df['labels'], test_size=0.20, random_state=42, stratify=df['labels'])\n",
    "\n",
    "X_train.shape, X_test.shape"
   ]
  },
  {
   "cell_type": "markdown",
   "id": "0de04d1d",
   "metadata": {},
   "source": [
    "Ahora se crea una función que entrena el modelo, imprime unas metricas, siendo la precisión y el ROC AUC del modelo, muestra un reporte de la clasificación con el f1-score, facilitando la evaluación del KNN."
   ]
  },
  {
   "cell_type": "code",
   "execution_count": 59,
   "id": "880d26eb",
   "metadata": {},
   "outputs": [],
   "source": [
    "def evaluar_knn(pipeline, X_train, y_train, X_test, y_test, titulo=\"KNN\"):\n",
    "    pipeline.fit(X_train, y_train)\n",
    "    y_pred = pipeline.predict(X_test)\n",
    "\n",
    "    y_proba = None\n",
    "    try:\n",
    "        y_proba = pipeline.predict_proba(X_test)\n",
    "    except Exception:\n",
    "        pass\n",
    "\n",
    "    acc = accuracy_score(y_test, y_pred)\n",
    "    print(f\"\\n=== {titulo} ===\")\n",
    "    print(\"Accuracy (test):\", round(acc, 4))\n",
    "\n",
    "    auc = roc_auc_score(y_test, y_proba, multi_class=\"ovr\")\n",
    "\n",
    "    print(\"ROC AUC (test):\", round(auc, 4))\n",
    "\n",
    "\n",
    "    print(\"\\nReporte de clasificación:\")\n",
    "    print(classification_report(y_test, y_pred, target_names=[str(c) for c in sorted(set(y_test))]))\n",
    "\n",
    "    # Matriz de confusión\n",
    "    cm = confusion_matrix(y_test, y_pred)\n",
    "    disp = ConfusionMatrixDisplay(confusion_matrix=cm, display_labels=sorted(set(y_test)))\n",
    "    fig, ax = plt.subplots(figsize=(5,4))\n",
    "    disp.plot(ax=ax, colorbar=False)\n",
    "    plt.title(f\"Matriz de confusión — {titulo}\")\n",
    "    plt.show()\n",
    "\n",
    "    # Curvas ROC solo si quieres verlas en multiclase\n",
    "    if y_proba is not None and len(set(y_test)) == 2:\n",
    "        RocCurveDisplay.from_predictions(y_test, y_proba[:,1])\n",
    "        plt.title(f\"Curva ROC — {titulo}\")\n",
    "        plt.show()"
   ]
  },
  {
   "cell_type": "markdown",
   "id": "5b0a8e0e",
   "metadata": {},
   "source": [
    "Se define el pipeline con TfidfVectorizer para que transforme la columna de lematizados a numeros para poder hacer el analisis bien, se define el knn para el modelo y asi evaluar su rendimiento."
   ]
  },
  {
   "cell_type": "code",
   "execution_count": null,
   "id": "471d2b6d",
   "metadata": {},
   "outputs": [
    {
     "name": "stdout",
     "output_type": "stream",
     "text": [
      "\n",
      "=== KNN ===\n",
      "Accuracy (test): 0.9465\n",
      "ROC AUC (test): 0.9836\n",
      "\n",
      "Reporte de clasificación:\n",
      "              precision    recall  f1-score   support\n",
      "\n",
      "           1       0.91      0.96      0.93        51\n",
      "           3       0.96      0.96      0.96        89\n",
      "           4       0.96      0.93      0.95       103\n",
      "\n",
      "    accuracy                           0.95       243\n",
      "   macro avg       0.94      0.95      0.94       243\n",
      "weighted avg       0.95      0.95      0.95       243\n",
      "\n"
     ]
    },
    {
     "data": {
      "image/png": "[encoded data removed]",
      "text/plain": [
       "<Figure size 500x400 with 1 Axes>"
      ]
     },
     "metadata": {},
     "output_type": "display_data"
    }
   ],
   "source": [
    "pipe_knn = Pipeline([\n",
    "    (\"tfidf\", TfidfVectorizer()), \n",
    "    (\"knn\", KNeighborsClassifier())\n",
    "])\n",
    "\n",
    "evaluar_knn(pipe_knn, X_train, y_train, X_test, y_test, titulo=\"KNN\")"
   ]
  },
  {
   "cell_type": "markdown",
   "id": "c9274991",
   "metadata": {},
   "source": [
    "Aca experimentamos con diferentes distancias para identificar cual de estas se adapta mejor al modelo planteado"
   ]
  },
  {
   "cell_type": "code",
   "execution_count": 81,
   "id": "f3562e6d",
   "metadata": {},
   "outputs": [
    {
     "name": "stdout",
     "output_type": "stream",
     "text": [
      "\n",
      "=== KNN Distancia Euclídea (p=2) ===\n",
      "Accuracy (test): 0.9546\n",
      "ROC AUC (test): 0.9929\n",
      "\n",
      "Reporte de clasificación:\n",
      "              precision    recall  f1-score   support\n",
      "\n",
      "           1       0.91      0.95      0.93       101\n",
      "           3       0.96      0.96      0.96       179\n",
      "           4       0.97      0.95      0.96       205\n",
      "\n",
      "    accuracy                           0.95       485\n",
      "   macro avg       0.95      0.95      0.95       485\n",
      "weighted avg       0.96      0.95      0.95       485\n",
      "\n"
     ]
    },
    {
     "data": {
      "image/png": "[encoded data removed]",
      "text/plain": [
       "<Figure size 500x400 with 1 Axes>"
      ]
     },
     "metadata": {},
     "output_type": "display_data"
    },
    {
     "name": "stdout",
     "output_type": "stream",
     "text": [
      "\n",
      "=== KNN Distancia Manhattan (p=1) ===\n",
      "Accuracy (test): 0.5897\n",
      "ROC AUC (test): 0.7357\n",
      "\n",
      "Reporte de clasificación:\n",
      "              precision    recall  f1-score   support\n",
      "\n",
      "           1       0.88      0.14      0.24       101\n",
      "           3       0.74      0.45      0.56       179\n",
      "           4       0.53      0.93      0.68       205\n",
      "\n",
      "    accuracy                           0.59       485\n",
      "   macro avg       0.71      0.51      0.49       485\n",
      "weighted avg       0.68      0.59      0.54       485\n",
      "\n"
     ]
    },
    {
     "data": {
      "image/png": "[encoded data removed]",
      "text/plain": [
       "<Figure size 500x400 with 1 Axes>"
      ]
     },
     "metadata": {},
     "output_type": "display_data"
    },
    {
     "name": "stdout",
     "output_type": "stream",
     "text": [
      "\n",
      "=== KNN Distancia Coseno ===\n",
      "Accuracy (test): 0.9546\n",
      "ROC AUC (test): 0.9929\n",
      "\n",
      "Reporte de clasificación:\n",
      "              precision    recall  f1-score   support\n",
      "\n",
      "           1       0.91      0.95      0.93       101\n",
      "           3       0.96      0.96      0.96       179\n",
      "           4       0.97      0.95      0.96       205\n",
      "\n",
      "    accuracy                           0.95       485\n",
      "   macro avg       0.95      0.95      0.95       485\n",
      "weighted avg       0.96      0.95      0.95       485\n",
      "\n"
     ]
    },
    {
     "data": {
      "image/png": "[encoded data removed]",
      "text/plain": [
       "<Figure size 500x400 with 1 Axes>"
      ]
     },
     "metadata": {},
     "output_type": "display_data"
    }
   ],
   "source": [
    "pipe_euclid = Pipeline([(\"tfidf\", TfidfVectorizer()), (\"knn\", KNeighborsClassifier(metric=\"minkowski\", p=2))])\n",
    "\n",
    "pipe_manhat = Pipeline([(\"tfidf\", TfidfVectorizer()), (\"knn\", KNeighborsClassifier(metric=\"minkowski\", p=1))])\n",
    "\n",
    "pipe_cosine = Pipeline([(\"tfidf\", TfidfVectorizer()), (\"knn\", KNeighborsClassifier(metric=\"cosine\"))])\n",
    "\n",
    "\n",
    "evaluar_knn(pipe_euclid, X_train, y_train, X_test, y_test, titulo=\"KNN Distancia Euclídea (p=2)\")\n",
    "evaluar_knn(pipe_manhat, X_train, y_train, X_test, y_test, titulo=\"KNN Distancia Manhattan (p=1)\")\n",
    "evaluar_knn(pipe_cosine, X_train, y_train, X_test, y_test, titulo=\"KNN Distancia Coseno\")"
   ]
  },
  {
   "cell_type": "markdown",
   "id": "b18a9251",
   "metadata": {},
   "source": [
    "Se fija el valor de los n vecinos mas cercanos como 13, siendo este el mejor valor encontrado tras varias pruebas que no se presentan dentro de este archivo."
   ]
  },
  {
   "cell_type": "code",
   "execution_count": null,
   "id": "5ea4ac9e",
   "metadata": {},
   "outputs": [
    {
     "name": "stdout",
     "output_type": "stream",
     "text": [
      "\n",
      "=== KNN k=13 (mejor modelo encontrado) ===\n",
      "Accuracy (test): 0.9383\n",
      "ROC AUC (test): 0.9924\n",
      "\n",
      "Reporte de clasificación:\n",
      "              precision    recall  f1-score   support\n",
      "\n",
      "           1       0.89      0.98      0.93        51\n",
      "           3       0.94      0.93      0.94        89\n",
      "           4       0.96      0.92      0.94       103\n",
      "\n",
      "    accuracy                           0.94       243\n",
      "   macro avg       0.93      0.95      0.94       243\n",
      "weighted avg       0.94      0.94      0.94       243\n",
      "\n"
     ]
    },
    {
     "data": {
      "image/png": "[encoded data removed]",
      "text/plain": [
       "<Figure size 500x400 with 1 Axes>"
      ]
     },
     "metadata": {},
     "output_type": "display_data"
    }
   ],
   "source": [
    "best_pipe = Pipeline([(\"tfidf\", TfidfVectorizer()), (\"knn\", KNeighborsClassifier(n_neighbors=13))])\n",
    "evaluar_knn(best_pipe, X_train, y_train, X_test, y_test, titulo=\"KNN k=13 (mejor modelo encontrado)\")"
   ]
  },
  {
   "cell_type": "markdown",
   "id": "6ceb1398",
   "metadata": {},
   "source": [
    "Finalmente usamos GridSearchCV para encontrar los mejores hiperparámetros del modelo KNN, seleccionarlos y dar el mejor modelo."
   ]
  },
  {
   "cell_type": "code",
   "execution_count": 79,
   "id": "a7ead9eb",
   "metadata": {},
   "outputs": [
    {
     "name": "stdout",
     "output_type": "stream",
     "text": [
      "Fitting 5 folds for each of 32 candidates, totalling 160 fits\n",
      "Mejores hiperparámetros: {'knn__metric': 'minkowski', 'knn__n_neighbors': 21, 'knn__p': 2, 'knn__weights': 'uniform'}\n",
      "Mejor score de CV (train): 0.9598\n",
      "\n",
      "=== Mejor modelo (GridSearch) ===\n",
      "Accuracy (test): 0.9567\n",
      "ROC AUC (test): 0.996\n",
      "\n",
      "Reporte de clasificación:\n",
      "              precision    recall  f1-score   support\n",
      "\n",
      "           1       0.93      0.95      0.94       101\n",
      "           3       0.97      0.95      0.96       179\n",
      "           4       0.96      0.97      0.96       205\n",
      "\n",
      "    accuracy                           0.96       485\n",
      "   macro avg       0.95      0.96      0.95       485\n",
      "weighted avg       0.96      0.96      0.96       485\n",
      "\n"
     ]
    },
    {
     "data": {
      "image/png": "[encoded data removed]",
      "text/plain": [
       "<Figure size 500x400 with 1 Axes>"
      ]
     },
     "metadata": {},
     "output_type": "display_data"
    }
   ],
   "source": [
    "from sklearn.pipeline import Pipeline\n",
    "from sklearn.feature_extraction.text import TfidfVectorizer\n",
    "from sklearn.neighbors import KNeighborsClassifier\n",
    "from sklearn.model_selection import GridSearchCV, StratifiedKFold\n",
    "\n",
    "\n",
    "pipe = Pipeline([\n",
    "    (\"tfidf\", TfidfVectorizer()), \n",
    "    (\"knn\", KNeighborsClassifier())\n",
    "])\n",
    "\n",
    "param_grid = {\n",
    "    \"knn__n_neighbors\": [1, 3, 5, 7, 13, 15, 21, 31],\n",
    "    \"knn__weights\": [\"uniform\", \"distance\"],\n",
    "    \"knn__metric\": [\"minkowski\"],\n",
    "    \"knn__p\": [1, 2], \n",
    "}\n",
    "\n",
    "grid = GridSearchCV(\n",
    "    estimator=pipe,\n",
    "    param_grid=param_grid,\n",
    "    scoring=\"accuracy\", \n",
    "    cv=StratifiedKFold(n_splits=5, shuffle=True, random_state=42),\n",
    "    n_jobs=-1,\n",
    "    refit=True,\n",
    "    verbose=1\n",
    ")\n",
    "\n",
    "grid.fit(X_train, y_train)\n",
    "\n",
    "print(\"Mejores hiperparámetros:\", grid.best_params_)\n",
    "print(\"Mejor score de CV (train):\", round(grid.best_score_, 4))\n",
    "\n",
    "best_knn = grid.best_estimator_\n",
    "evaluar_knn(best_knn, X_train, y_train, X_test, y_test, titulo=\"Mejor modelo (GridSearch)\")\n"
   ]
  },
  {
   "cell_type": "markdown",
   "id": "e320daa5",
   "metadata": {},
   "source": [
    "### **Resultados y modelo aplicado sobre datos de prueba**\n",
    "Tras tener un modelo ya usable, procederemos a hacer la ejecución del codigo sobre el campo de pruebas para categorizar los textos."
   ]
  },
  {
   "cell_type": "code",
   "execution_count": 64,
   "id": "bf5d81f2",
   "metadata": {},
   "outputs": [
    {
     "name": "stdout",
     "output_type": "stream",
     "text": [
      "Valores nulos por columna:\n"
     ]
    },
    {
     "data": {
      "application/vnd.microsoft.datawrangler.viewer.v0+json": {
       "columns": [
        {
         "name": "index",
         "rawType": "object",
         "type": "string"
        },
        {
         "name": "0",
         "rawType": "int64",
         "type": "integer"
        }
       ],
       "ref": "4b16321f-2301-47d4-b497-d8d7e43cfaa5",
       "rows": [
        [
         "textos",
         "0"
        ]
       ],
       "shape": {
        "columns": 1,
        "rows": 1
       }
      },
      "text/plain": [
       "textos    0\n",
       "dtype: int64"
      ]
     },
     "metadata": {},
     "output_type": "display_data"
    },
    {
     "name": "stdout",
     "output_type": "stream",
     "text": [
      "\n",
      "Duplicados (filas completas): 0\n",
      "Columnas constantes: Ninguna\n"
     ]
    },
    {
     "data": {
      "application/vnd.microsoft.datawrangler.viewer.v0+json": {
       "columns": [
        {
         "name": "index",
         "rawType": "int64",
         "type": "integer"
        },
        {
         "name": "textos",
         "rawType": "string",
         "type": "string"
        },
        {
         "name": "tokens",
         "rawType": "object",
         "type": "unknown"
        },
        {
         "name": "tokens_sin_innecesarios",
         "rawType": "object",
         "type": "unknown"
        },
        {
         "name": "lematizados",
         "rawType": "object",
         "type": "unknown"
        },
        {
         "name": "lematizados_str",
         "rawType": "object",
         "type": "string"
        }
       ],
       "ref": "3b9e0881-6b55-479e-b613-07a28171e31d",
       "rows": [
        [
         "0",
         "el rector que es el representante local del ministerio de educación tiene la responsabilidad principal de procesar la evaluación a pesar de esta centralización el sistema francés se basa en gran medida en el principio de participación y por lo tanto los docentes están involucrados en todos los procesos inca france 2008 aunque existían diferencias entre los procedimientos de evaluación en los länder alemanes la única herramienta de verificación era la recopilación de algunos documentos de muestra para la verificación central a estas alturas sin embargo la mayoría de los länder han introducido exámenes centrales hasta cierto punto",
         "['el', 'rector', 'que', 'es', 'el', 'representante', 'local', 'del', 'ministerio', 'de', 'educación', 'tiene', 'la', 'responsabilidad', 'principal', 'de', 'procesar', 'la', 'evaluación', 'a', 'pesar', 'de', 'esta', 'centralización', 'el', 'sistema', 'francés', 'se', 'basa', 'en', 'gran', 'medida', 'en', 'el', 'principio', 'de', 'participación', 'y', 'por', 'lo', 'tanto', 'los', 'docentes', 'están', 'involucrados', 'en', 'todos', 'los', 'procesos', 'inca', 'france', '2008', 'aunque', 'existían', 'diferencias', 'entre', 'los', 'procedimientos', 'de', 'evaluación', 'en', 'los', 'länder', 'alemanes', 'la', 'única', 'herramienta', 'de', 'verificación', 'era', 'la', 'recopilación', 'de', 'algunos', 'documentos', 'de', 'muestra', 'para', 'la', 'verificación', 'central', 'a', 'estas', 'alturas', 'sin', 'embargo', 'la', 'mayoría', 'de', 'los', 'länder', 'han', 'introducido', 'exámenes', 'centrales', 'hasta', 'cierto', 'punto']",
         "['rector', 'representante', 'local', 'ministerio', 'educación', 'responsabilidad', 'principal', 'procesar', 'evaluación', 'centralización', 'sistema', 'francés', 'basa', 'medida', 'principio', 'participación', 'docentes', 'involucrados', 'procesos', 'inca', 'france', '2008', 'existían', 'diferencias', 'procedimientos', 'evaluación', 'länder', 'alemanes', 'única', 'herramienta', 'verificación', 'recopilación', 'documentos', 'muestra', 'verificación', 'central', 'alturas', 'mayoría', 'länder', 'introducido', 'exámenes', 'centrales', 'punto']",
         "['rector', 'representante', 'local', 'ministerio', 'educación', 'responsabilidad', 'principal', 'procesar', 'evaluación', 'centralización', 'sistema', 'francés', 'basar', 'medida', 'principio', 'participación', 'docente', 'involucrado', 'proceso', 'inco', 'france', '2008', 'existir', 'diferencia', 'procedimiento', 'evaluación', 'länder', 'alemán', 'único', 'herramiento', 'verificación', 'recopilación', 'documento', 'mostrar', 'verificación', 'central', 'alturos', 'mayoría', 'länder', 'introducido', 'examen', 'central', 'punto']",
         "rector representante local ministerio educación responsabilidad principal procesar evaluación centralización sistema francés basar medida principio participación docente involucrado proceso inco france 2008 existir diferencia procedimiento evaluación länder alemán único herramiento verificación recopilación documento mostrar verificación central alturos mayoría länder introducido examen central punto"
        ],
        [
         "1",
         "tenga en cuenta que todos los programas antipobreza tienen condiciones incluso aquellos caracterizados como incondicionales nuestro enfoque está en las condiciones de comportamiento vinculadas a los programas antipobreza las condiciones más utilizadas son aquellas que incentivan la creación de activos físicos generalmente a nivel comunitario o la acumulación de capital humano en términos de educación o salud",
         "['tenga', 'en', 'cuenta', 'que', 'todos', 'los', 'programas', 'antipobreza', 'tienen', 'condiciones', 'incluso', 'aquellos', 'caracterizados', 'como', 'incondicionales', 'nuestro', 'enfoque', 'está', 'en', 'las', 'condiciones', 'de', 'comportamiento', 'vinculadas', 'a', 'los', 'programas', 'antipobreza', 'las', 'condiciones', 'más', 'utilizadas', 'son', 'aquellas', 'que', 'incentivan', 'la', 'creación', 'de', 'activos', 'físicos', 'generalmente', 'a', 'nivel', 'comunitario', 'o', 'la', 'acumulación', 'de', 'capital', 'humano', 'en', 'términos', 'de', 'educación', 'o', 'salud']",
         "['programas', 'antipobreza', 'condiciones', 'caracterizados', 'incondicionales', 'enfoque', 'condiciones', 'comportamiento', 'vinculadas', 'programas', 'antipobreza', 'condiciones', 'utilizadas', 'incentivan', 'creación', 'activos', 'físicos', 'generalmente', 'nivel', 'comunitario', 'acumulación', 'capital', 'humano', 'términos', 'educación', 'salud']",
         "['programa', 'antipobrezar', 'condición', 'caracterizado', 'incondicional', 'enfocar', 'condición', 'comportamiento', 'vinculado', 'programa', 'antipobrezar', 'condición', 'utilizado', 'incentivar', 'creación', 'activo', 'físico', 'generalmente', 'nivel', 'comunitario', 'acumulación', 'capital', 'humano', 'término', 'educación', 'salud']",
         "programa antipobrezar condición caracterizado incondicional enfocar condición comportamiento vinculado programa antipobrezar condición utilizado incentivar creación activo físico generalmente nivel comunitario acumulación capital humano término educación salud"
        ],
        [
         "2",
         "debido a que son en gran medida invisibles estas formas de trabajo infantil son las más difíciles de abordar las trabajadoras del hogar en su mayoría niñas se encuentran aisladas y sujetas a los caprichos y la disciplina arbitraria de sus empleadores de quienes pueden sufrir abusos el abuso sexual es frecuente pero rara vez procesado la violencia o el abuso en el hogar o en el vecindario ahuyenta a muchos como lo han demostrado estudios en ciudades tan diversas como dhaka bangladesh y moscú federación rusa67 la pobreza también juega un papel",
         "['debido', 'a', 'que', 'son', 'en', 'gran', 'medida', 'invisibles', 'estas', 'formas', 'de', 'trabajo', 'infantil', 'son', 'las', 'más', 'difíciles', 'de', 'abordar', 'las', 'trabajadoras', 'del', 'hogar', 'en', 'su', 'mayoría', 'niñas', 'se', 'encuentran', 'aisladas', 'y', 'sujetas', 'a', 'los', 'caprichos', 'y', 'la', 'disciplina', 'arbitraria', 'de', 'sus', 'empleadores', 'de', 'quienes', 'pueden', 'sufrir', 'abusos', 'el', 'abuso', 'sexual', 'es', 'frecuente', 'pero', 'rara', 'vez', 'procesado', 'la', 'violencia', 'o', 'el', 'abuso', 'en', 'el', 'hogar', 'o', 'en', 'el', 'vecindario', 'ahuyenta', 'a', 'muchos', 'como', 'lo', 'han', 'demostrado', 'estudios', 'en', 'ciudades', 'tan', 'diversas', 'como', 'dhaka', 'bangladesh', 'y', 'moscú', 'federación', 'rusa67', 'la', 'pobreza', 'también', 'juega', 'un', 'papel']",
         "['medida', 'invisibles', 'formas', 'trabajo', 'infantil', 'difíciles', 'abordar', 'trabajadoras', 'hogar', 'mayoría', 'niñas', 'encuentran', 'aisladas', 'sujetas', 'caprichos', 'disciplina', 'arbitraria', 'empleadores', 'sufrir', 'abusos', 'abuso', 'sexual', 'frecuente', 'rara', 'procesado', 'violencia', 'abuso', 'hogar', 'vecindario', 'ahuyenta', 'demostrado', 'estudios', 'ciudades', 'diversas', 'dhaka', 'bangladesh', 'moscú', 'federación', 'rusa67', 'pobreza', 'juega', 'papel']",
         "['medida', 'invisible', 'forma', 'trabajo', 'infantil', 'difícil', 'abordar', 'trabajador', 'hogar', 'mayoría', 'niña', 'encontrar', 'aislado', 'sujeto', 'capricho', 'disciplina', 'arbitrario', 'empleador', 'sufrir', 'abuso', 'abuso', 'sexual', 'frecuente', 'raro', 'procesado', 'violencia', 'abuso', 'hogar', 'vecindario', 'ahuyentar', 'demostrado', 'estudio', 'ciudad', 'diverso', 'dhaka', 'bangladesh', 'moscú', 'federación', 'rusa67', 'pobreza', 'jugar', 'papel']",
         "medida invisible forma trabajo infantil difícil abordar trabajador hogar mayoría niña encontrar aislado sujeto capricho disciplina arbitrario empleador sufrir abuso abuso sexual frecuente raro procesado violencia abuso hogar vecindario ahuyentar demostrado estudio ciudad diverso dhaka bangladesh moscú federación rusa67 pobreza jugar papel"
        ],
        [
         "3",
         "los recursos aún son limitados en este sector los servicios privados con fines de lucro y comunitarios religiosos y seculares son los principales proveedores directos de jardines de infancia y grupos de juego a pesar del crecimiento significativo en este sector todavía hay una serie de desafíos para la provisión de un servicio más universal y consistente para los niños en edad preescolar",
         "['los', 'recursos', 'aún', 'son', 'limitados', 'en', 'este', 'sector', 'los', 'servicios', 'privados', 'con', 'fines', 'de', 'lucro', 'y', 'comunitarios', 'religiosos', 'y', 'seculares', 'son', 'los', 'principales', 'proveedores', 'directos', 'de', 'jardines', 'de', 'infancia', 'y', 'grupos', 'de', 'juego', 'a', 'pesar', 'del', 'crecimiento', 'significativo', 'en', 'este', 'sector', 'todavía', 'hay', 'una', 'serie', 'de', 'desafíos', 'para', 'la', 'provisión', 'de', 'un', 'servicio', 'más', 'universal', 'y', 'consistente', 'para', 'los', 'niños', 'en', 'edad', 'preescolar']",
         "['recursos', 'limitados', 'sector', 'servicios', 'privados', 'fines', 'lucro', 'comunitarios', 'religiosos', 'seculares', 'principales', 'proveedores', 'directos', 'jardines', 'infancia', 'grupos', 'juego', 'crecimiento', 'significativo', 'sector', 'serie', 'desafíos', 'provisión', 'servicio', 'universal', 'consistente', 'niños', 'edad', 'preescolar']",
         "['recurso', 'limitado', 'sector', 'servicio', 'privado', 'fin', 'lucro', 'comunitario', 'religioso', 'secular', 'principal', 'proveedor', 'directo', 'jardín', 'infancia', 'grupo', 'juego', 'crecimiento', 'significativo', 'sector', 'serie', 'desafío', 'provisión', 'servicio', 'universal', 'consistente', 'niño', 'edad', 'preescolar']",
         "recurso limitado sector servicio privado fin lucro comunitario religioso secular principal proveedor directo jardín infancia grupo juego crecimiento significativo sector serie desafío provisión servicio universal consistente niño edad preescolar"
        ],
        [
         "4",
         "durante el período 1985-2008 la educación primaria secundaria y terciaria experimentó un aumento sin precedentes en la matrícula la educación superior mostró el mayor crecimiento con un 931 lo que representa un aumento anual del 41 la mejora del acceso se refleja en el porcentaje de matriculación en educación superior en la cohorte de edad de 19 a 24 años que creció del 06 en 1970 al 244 en 2007",
         "['durante', 'el', 'período', '1985-2008', 'la', 'educación', 'primaria', 'secundaria', 'y', 'terciaria', 'experimentó', 'un', 'aumento', 'sin', 'precedentes', 'en', 'la', 'matrícula', 'la', 'educación', 'superior', 'mostró', 'el', 'mayor', 'crecimiento', 'con', 'un', '931', 'lo', 'que', 'representa', 'un', 'aumento', 'anual', 'del', '41', 'la', 'mejora', 'del', 'acceso', 'se', 'refleja', 'en', 'el', 'porcentaje', 'de', 'matriculación', 'en', 'educación', 'superior', 'en', 'la', 'cohorte', 'de', 'edad', 'de', '19', 'a', '24', 'años', 'que', 'creció', 'del', '06', 'en', '1970', 'al', '244', 'en', '2007']",
         "['período', '1985-2008', 'educación', 'primaria', 'secundaria', 'terciaria', 'experimentó', 'aumento', 'precedentes', 'matrícula', 'educación', 'superior', 'mostró', 'crecimiento', '931', 'representa', 'aumento', 'anual', '41', 'mejora', 'acceso', 'refleja', 'porcentaje', 'matriculación', 'educación', 'superior', 'cohorte', 'edad', '19', '24', 'años', 'creció', '06', '1970', '244', '2007']",
         "['período', '1985-2008', 'educación', 'primario', 'secundario', 'terciario', 'experimentar', 'aumento', 'precedente', 'matrícula', 'educación', 'superior', 'mostrar', 'crecimiento', '931', 'representar', 'aumento', 'anual', '41', 'mejorar', 'acceso', 'reflejar', 'porcentaje', 'matriculación', 'educación', 'superior', 'cohorte', 'edad', '19', '24', 'año', 'crecer', '06', '1970', '244', '2007']",
         "período 1985-2008 educación primario secundario terciario experimentar aumento precedente matrícula educación superior mostrar crecimiento 931 representar aumento anual 41 mejorar acceso reflejar porcentaje matriculación educación superior cohorte edad 19 24 año crecer 06 1970 244 2007"
        ]
       ],
       "shape": {
        "columns": 5,
        "rows": 5
       }
      },
      "text/html": [
       "<div>\n",
       "<style scoped>\n",
       "    .dataframe tbody tr th:only-of-type {\n",
       "        vertical-align: middle;\n",
       "    }\n",
       "\n",
       "    .dataframe tbody tr th {\n",
       "        vertical-align: top;\n",
       "    }\n",
       "\n",
       "    .dataframe thead th {\n",
       "        text-align: right;\n",
       "    }\n",
       "</style>\n",
       "<table border=\"1\" class=\"dataframe\">\n",
       "  <thead>\n",
       "    <tr style=\"text-align: right;\">\n",
       "      <th></th>\n",
       "      <th>textos</th>\n",
       "      <th>tokens</th>\n",
       "      <th>tokens_sin_innecesarios</th>\n",
       "      <th>lematizados</th>\n",
       "      <th>lematizados_str</th>\n",
       "    </tr>\n",
       "  </thead>\n",
       "  <tbody>\n",
       "    <tr>\n",
       "      <th>0</th>\n",
       "      <td>el rector que es el representante local del mi...</td>\n",
       "      <td>[el, rector, que, es, el, representante, local...</td>\n",
       "      <td>[rector, representante, local, ministerio, edu...</td>\n",
       "      <td>[rector, representante, local, ministerio, edu...</td>\n",
       "      <td>rector representante local ministerio educació...</td>\n",
       "    </tr>\n",
       "    <tr>\n",
       "      <th>1</th>\n",
       "      <td>tenga en cuenta que todos los programas antipo...</td>\n",
       "      <td>[tenga, en, cuenta, que, todos, los, programas...</td>\n",
       "      <td>[programas, antipobreza, condiciones, caracter...</td>\n",
       "      <td>[programa, antipobrezar, condición, caracteriz...</td>\n",
       "      <td>programa antipobrezar condición caracterizado ...</td>\n",
       "    </tr>\n",
       "    <tr>\n",
       "      <th>2</th>\n",
       "      <td>debido a que son en gran medida invisibles est...</td>\n",
       "      <td>[debido, a, que, son, en, gran, medida, invisi...</td>\n",
       "      <td>[medida, invisibles, formas, trabajo, infantil...</td>\n",
       "      <td>[medida, invisible, forma, trabajo, infantil, ...</td>\n",
       "      <td>medida invisible forma trabajo infantil difíci...</td>\n",
       "    </tr>\n",
       "    <tr>\n",
       "      <th>3</th>\n",
       "      <td>los recursos aún son limitados en este sector ...</td>\n",
       "      <td>[los, recursos, aún, son, limitados, en, este,...</td>\n",
       "      <td>[recursos, limitados, sector, servicios, priva...</td>\n",
       "      <td>[recurso, limitado, sector, servicio, privado,...</td>\n",
       "      <td>recurso limitado sector servicio privado fin l...</td>\n",
       "    </tr>\n",
       "    <tr>\n",
       "      <th>4</th>\n",
       "      <td>durante el período 1985-2008 la educación prim...</td>\n",
       "      <td>[durante, el, período, 1985-2008, la, educació...</td>\n",
       "      <td>[período, 1985-2008, educación, primaria, secu...</td>\n",
       "      <td>[período, 1985-2008, educación, primario, secu...</td>\n",
       "      <td>período 1985-2008 educación primario secundari...</td>\n",
       "    </tr>\n",
       "  </tbody>\n",
       "</table>\n",
       "</div>"
      ],
      "text/plain": [
       "                                              textos  \\\n",
       "0  el rector que es el representante local del mi...   \n",
       "1  tenga en cuenta que todos los programas antipo...   \n",
       "2  debido a que son en gran medida invisibles est...   \n",
       "3  los recursos aún son limitados en este sector ...   \n",
       "4  durante el período 1985-2008 la educación prim...   \n",
       "\n",
       "                                              tokens  \\\n",
       "0  [el, rector, que, es, el, representante, local...   \n",
       "1  [tenga, en, cuenta, que, todos, los, programas...   \n",
       "2  [debido, a, que, son, en, gran, medida, invisi...   \n",
       "3  [los, recursos, aún, son, limitados, en, este,...   \n",
       "4  [durante, el, período, 1985-2008, la, educació...   \n",
       "\n",
       "                             tokens_sin_innecesarios  \\\n",
       "0  [rector, representante, local, ministerio, edu...   \n",
       "1  [programas, antipobreza, condiciones, caracter...   \n",
       "2  [medida, invisibles, formas, trabajo, infantil...   \n",
       "3  [recursos, limitados, sector, servicios, priva...   \n",
       "4  [período, 1985-2008, educación, primaria, secu...   \n",
       "\n",
       "                                         lematizados  \\\n",
       "0  [rector, representante, local, ministerio, edu...   \n",
       "1  [programa, antipobrezar, condición, caracteriz...   \n",
       "2  [medida, invisible, forma, trabajo, infantil, ...   \n",
       "3  [recurso, limitado, sector, servicio, privado,...   \n",
       "4  [período, 1985-2008, educación, primario, secu...   \n",
       "\n",
       "                                     lematizados_str  \n",
       "0  rector representante local ministerio educació...  \n",
       "1  programa antipobrezar condición caracterizado ...  \n",
       "2  medida invisible forma trabajo infantil difíci...  \n",
       "3  recurso limitado sector servicio privado fin l...  \n",
       "4  período 1985-2008 educación primario secundari...  "
      ]
     },
     "execution_count": 64,
     "metadata": {},
     "output_type": "execute_result"
    }
   ],
   "source": [
    "def cargar_datos(file: str):\n",
    "    df_prueba = pd.read_excel(file)\n",
    "    df_prueba = df_prueba.rename(columns={\"Textos_espanol\": \"textos\"})\n",
    "    df_prueba['textos'] = df_prueba['textos'].astype(\"string\")\n",
    "    todoAmin(df_prueba)\n",
    "    limpiza(df_prueba)\n",
    "    verNulosYDuplicados(df_prueba)\n",
    "    df_prueba = tokenizacion(df_prueba)   \n",
    "    quitar_stopwords(df_prueba)\n",
    "    df_prueba =lematizar_tokens(df_prueba)\n",
    "\n",
    "\n",
    "    df_prueba = lematizar_tokens(df_prueba)\n",
    "    df_prueba['lematizados_str'] = df_prueba['lematizados'].apply(lambda tokens: ' '.join(tokens))\n",
    "    return df_prueba\n",
    "\n",
    "df_prueba = cargar_datos('Datos_prueba.xlsx')\n",
    "df_prueba.head()"
   ]
  },
  {
   "cell_type": "markdown",
   "id": "905d141e",
   "metadata": {},
   "source": [
    "Ahora tras dejar los datos en el mismo formato de nuestro codigo, sacando las palabras lematizadas usaremos el mejor modelo, en este caso el de GridSearch ya que ofrece una buen ROC AUC, lo cual indica que tan bien clasifica los datos el modelo."
   ]
  },
  {
   "cell_type": "code",
   "execution_count": 80,
   "id": "7436fd36",
   "metadata": {},
   "outputs": [
    {
     "name": "stdout",
     "output_type": "stream",
     "text": [
      "Predicciones guardadas en Resultados_prueba.xlsx\n"
     ]
    }
   ],
   "source": [
    "X_prueba = df_prueba[\"lematizados_str\"]\n",
    "y_pred = best_knn.predict(X_prueba)\n",
    "\n",
    "df_prueba[\"prediccion\"] = y_pred\n",
    "df_salida = df_prueba[[\"lematizados_str\", \"prediccion\"]]\n",
    "df_salida.to_excel(\"Resultados_prueba.xlsx\", index=False)\n",
    "\n",
    "print(\"Predicciones guardadas en Resultados_prueba.xlsx\")"
   ]
  }
 ],
 "metadata": {
  "kernelspec": {
   "display_name": "Python 3",
   "language": "python",
   "name": "python3"
  },
  "language_info": {
   "codemirror_mode": {
    "name": "ipython",
    "version": 3
   },
   "file_extension": ".py",
   "mimetype": "text/x-python",
   "name": "python",
   "nbconvert_exporter": "python",
   "pygments_lexer": "ipython3",
   "version": "3.13.3"
  }
 },
 "nbformat": 4,
 "nbformat_minor": 5
}
